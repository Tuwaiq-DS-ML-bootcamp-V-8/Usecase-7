{
 "cells": [
  {
   "cell_type": "code",
   "execution_count": 384,
   "id": "e69c4ba1-85f3-4a02-ae37-c64347a01803",
   "metadata": {},
   "outputs": [],
   "source": [
    "#Import all relevant libraries\n",
    "# To ignore warnings\n",
    "import warnings\n",
    "warnings.filterwarnings(\"ignore\")\n",
    "import pandas as pd\n",
    "import numpy as np\n",
    "import matplotlib.pyplot as plt\n",
    "import seaborn as sns\n",
    "\n",
    "from sklearn.model_selection import train_test_split\n",
    "from sklearn.metrics import mean_squared_error, r2_score, mean_absolute_error\n",
    "from sklearn.preprocessing import StandardScaler\n",
    "from sklearn.linear_model import LinearRegression, Ridge, Lasso\n",
    "from sklearn.model_selection import GridSearchCV\n",
    "from sklearn import metrics\n",
    "from ydata_profiling import ProfileReport\n",
    "import sweetviz as sv\n",
    " \n",
    "## This statement allows the visuals to render within your Jupyter Notebook.\n",
    "%matplotlib inline"
   ]
  },
  {
   "cell_type": "markdown",
   "id": "e395e8bf-b530-4720-8d0f-26811e927d6e",
   "metadata": {},
   "source": [
    "## Loading the data\n",
    "We can now load the dataset into pandas using the read_csv() function. This converts the CSV file into a Pandas dataframe."
   ]
  },
  {
   "cell_type": "code",
   "execution_count": 385,
   "id": "cf4030b0-aa7f-4bd7-8e9c-c1b7f4d202d0",
   "metadata": {},
   "outputs": [],
   "source": [
    "#Read in the csv file and convert to a Pandas dataframe\n",
    "df = pd.read_csv(\"Data/final_data.csv\")"
   ]
  },
  {
   "cell_type": "markdown",
   "id": "ca5ed983-0f72-43eb-8168-6fafd48c562e",
   "metadata": {},
   "source": [
    "### Viewing the dataframe\n",
    "We can get a quick sense of the size of our dataset by using the shape method. This returns a tuple with the number of rows and columns in the dataset."
   ]
  },
  {
   "cell_type": "code",
   "execution_count": 386,
   "id": "bfde0b69-613c-4dd1-8ebf-e4d2e570e653",
   "metadata": {},
   "outputs": [
    {
     "data": {
      "text/html": [
       "<div>\n",
       "<style scoped>\n",
       "    .dataframe tbody tr th:only-of-type {\n",
       "        vertical-align: middle;\n",
       "    }\n",
       "\n",
       "    .dataframe tbody tr th {\n",
       "        vertical-align: top;\n",
       "    }\n",
       "\n",
       "    .dataframe thead th {\n",
       "        text-align: right;\n",
       "    }\n",
       "</style>\n",
       "<table border=\"1\" class=\"dataframe\">\n",
       "  <thead>\n",
       "    <tr style=\"text-align: right;\">\n",
       "      <th></th>\n",
       "      <th>player</th>\n",
       "      <th>team</th>\n",
       "      <th>name</th>\n",
       "      <th>position</th>\n",
       "      <th>height</th>\n",
       "      <th>age</th>\n",
       "      <th>appearance</th>\n",
       "      <th>goals</th>\n",
       "      <th>assists</th>\n",
       "      <th>yellow cards</th>\n",
       "      <th>...</th>\n",
       "      <th>goals conceded</th>\n",
       "      <th>clean sheets</th>\n",
       "      <th>minutes played</th>\n",
       "      <th>days_injured</th>\n",
       "      <th>games_injured</th>\n",
       "      <th>award</th>\n",
       "      <th>current_value</th>\n",
       "      <th>highest_value</th>\n",
       "      <th>position_encoded</th>\n",
       "      <th>winger</th>\n",
       "    </tr>\n",
       "  </thead>\n",
       "  <tbody>\n",
       "    <tr>\n",
       "      <th>0</th>\n",
       "      <td>/david-de-gea/profil/spieler/59377</td>\n",
       "      <td>Manchester United</td>\n",
       "      <td>David de Gea</td>\n",
       "      <td>Goalkeeper</td>\n",
       "      <td>189.0</td>\n",
       "      <td>32.0</td>\n",
       "      <td>104</td>\n",
       "      <td>0.0</td>\n",
       "      <td>0.0</td>\n",
       "      <td>0.009585</td>\n",
       "      <td>...</td>\n",
       "      <td>1.217252</td>\n",
       "      <td>0.335463</td>\n",
       "      <td>9390</td>\n",
       "      <td>42</td>\n",
       "      <td>5</td>\n",
       "      <td>13</td>\n",
       "      <td>15000000</td>\n",
       "      <td>70000000</td>\n",
       "      <td>1</td>\n",
       "      <td>0</td>\n",
       "    </tr>\n",
       "    <tr>\n",
       "      <th>1</th>\n",
       "      <td>/jack-butland/profil/spieler/128899</td>\n",
       "      <td>Manchester United</td>\n",
       "      <td>Jack Butland</td>\n",
       "      <td>Goalkeeper</td>\n",
       "      <td>196.0</td>\n",
       "      <td>30.0</td>\n",
       "      <td>15</td>\n",
       "      <td>0.0</td>\n",
       "      <td>0.0</td>\n",
       "      <td>0.069018</td>\n",
       "      <td>...</td>\n",
       "      <td>1.242331</td>\n",
       "      <td>0.207055</td>\n",
       "      <td>1304</td>\n",
       "      <td>510</td>\n",
       "      <td>58</td>\n",
       "      <td>1</td>\n",
       "      <td>1500000</td>\n",
       "      <td>22000000</td>\n",
       "      <td>1</td>\n",
       "      <td>0</td>\n",
       "    </tr>\n",
       "  </tbody>\n",
       "</table>\n",
       "<p>2 rows × 22 columns</p>\n",
       "</div>"
      ],
      "text/plain": [
       "                                player               team          name  \\\n",
       "0   /david-de-gea/profil/spieler/59377  Manchester United  David de Gea   \n",
       "1  /jack-butland/profil/spieler/128899  Manchester United  Jack Butland   \n",
       "\n",
       "     position  height   age  appearance  goals  assists  yellow cards  ...  \\\n",
       "0  Goalkeeper   189.0  32.0         104    0.0      0.0      0.009585  ...   \n",
       "1  Goalkeeper   196.0  30.0          15    0.0      0.0      0.069018  ...   \n",
       "\n",
       "   goals conceded  clean sheets  minutes played  days_injured  games_injured  \\\n",
       "0        1.217252      0.335463            9390            42              5   \n",
       "1        1.242331      0.207055            1304           510             58   \n",
       "\n",
       "   award  current_value  highest_value  position_encoded  winger  \n",
       "0     13       15000000       70000000                 1       0  \n",
       "1      1        1500000       22000000                 1       0  \n",
       "\n",
       "[2 rows x 22 columns]"
      ]
     },
     "execution_count": 386,
     "metadata": {},
     "output_type": "execute_result"
    }
   ],
   "source": [
    "df.head(2)"
   ]
  },
  {
   "cell_type": "code",
   "execution_count": 387,
   "id": "51a075d8-9457-433a-9f90-80eecaabd9b8",
   "metadata": {},
   "outputs": [
    {
     "data": {
      "text/plain": [
       "(10754, 22)"
      ]
     },
     "execution_count": 387,
     "metadata": {},
     "output_type": "execute_result"
    }
   ],
   "source": [
    "df.shape"
   ]
  },
  {
   "cell_type": "code",
   "execution_count": 388,
   "id": "21e5dc45-5efe-4e81-a827-fe2ed0a87f10",
   "metadata": {},
   "outputs": [
    {
     "name": "stdout",
     "output_type": "stream",
     "text": [
      "<class 'pandas.core.frame.DataFrame'>\n",
      "RangeIndex: 10754 entries, 0 to 10753\n",
      "Data columns (total 22 columns):\n",
      " #   Column               Non-Null Count  Dtype  \n",
      "---  ------               --------------  -----  \n",
      " 0   player               10754 non-null  object \n",
      " 1   team                 10754 non-null  object \n",
      " 2   name                 10754 non-null  object \n",
      " 3   position             10754 non-null  object \n",
      " 4   height               10754 non-null  float64\n",
      " 5   age                  10754 non-null  float64\n",
      " 6   appearance           10754 non-null  int64  \n",
      " 7   goals                10754 non-null  float64\n",
      " 8   assists              10754 non-null  float64\n",
      " 9   yellow cards         10754 non-null  float64\n",
      " 10  second yellow cards  10754 non-null  float64\n",
      " 11  red cards            10754 non-null  float64\n",
      " 12  goals conceded       10754 non-null  float64\n",
      " 13  clean sheets         10754 non-null  float64\n",
      " 14  minutes played       10754 non-null  int64  \n",
      " 15  days_injured         10754 non-null  int64  \n",
      " 16  games_injured        10754 non-null  int64  \n",
      " 17  award                10754 non-null  int64  \n",
      " 18  current_value        10754 non-null  int64  \n",
      " 19  highest_value        10754 non-null  int64  \n",
      " 20  position_encoded     10754 non-null  int64  \n",
      " 21  winger               10754 non-null  int64  \n",
      "dtypes: float64(9), int64(9), object(4)\n",
      "memory usage: 1.8+ MB\n"
     ]
    }
   ],
   "source": [
    "df.info()"
   ]
  },
  {
   "cell_type": "markdown",
   "id": "bd2b5bc4-db37-4432-b666-0714afd0c4ca",
   "metadata": {},
   "source": [
    "## 1. Data Profiling:\n",
    "Data profiling is a comprehensive process of examining the data available in an existing dataset and collecting statistics and information about that data. "
   ]
  },
  {
   "cell_type": "code",
   "execution_count": 389,
   "id": "672f2081-5a2c-4908-8cbd-29519fb3cac5",
   "metadata": {},
   "outputs": [],
   "source": [
    "#ProfileReport(df, title=\"Profiling Report\")"
   ]
  },
  {
   "cell_type": "code",
   "execution_count": 390,
   "id": "a509a7aa-58f4-4d39-8eb8-e8298a21f2a7",
   "metadata": {},
   "outputs": [
    {
     "data": {
      "text/html": [
       "<div>\n",
       "<style scoped>\n",
       "    .dataframe tbody tr th:only-of-type {\n",
       "        vertical-align: middle;\n",
       "    }\n",
       "\n",
       "    .dataframe tbody tr th {\n",
       "        vertical-align: top;\n",
       "    }\n",
       "\n",
       "    .dataframe thead th {\n",
       "        text-align: right;\n",
       "    }\n",
       "</style>\n",
       "<table border=\"1\" class=\"dataframe\">\n",
       "  <thead>\n",
       "    <tr style=\"text-align: right;\">\n",
       "      <th></th>\n",
       "      <th>player</th>\n",
       "      <th>team</th>\n",
       "      <th>name</th>\n",
       "      <th>position</th>\n",
       "      <th>height</th>\n",
       "      <th>age</th>\n",
       "      <th>appearance</th>\n",
       "      <th>goals</th>\n",
       "      <th>assists</th>\n",
       "      <th>yellow cards</th>\n",
       "      <th>...</th>\n",
       "      <th>goals conceded</th>\n",
       "      <th>clean sheets</th>\n",
       "      <th>minutes played</th>\n",
       "      <th>days_injured</th>\n",
       "      <th>games_injured</th>\n",
       "      <th>award</th>\n",
       "      <th>current_value</th>\n",
       "      <th>highest_value</th>\n",
       "      <th>position_encoded</th>\n",
       "      <th>winger</th>\n",
       "    </tr>\n",
       "  </thead>\n",
       "  <tbody>\n",
       "  </tbody>\n",
       "</table>\n",
       "<p>0 rows × 22 columns</p>\n",
       "</div>"
      ],
      "text/plain": [
       "Empty DataFrame\n",
       "Columns: [player, team, name, position, height, age, appearance, goals, assists, yellow cards, second yellow cards, red cards, goals conceded, clean sheets, minutes played, days_injured, games_injured, award, current_value, highest_value, position_encoded, winger]\n",
       "Index: []\n",
       "\n",
       "[0 rows x 22 columns]"
      ]
     },
     "execution_count": 390,
     "metadata": {},
     "output_type": "execute_result"
    }
   ],
   "source": [
    "df[df.duplicated()]"
   ]
  },
  {
   "cell_type": "code",
   "execution_count": 391,
   "id": "48a4de54-a344-4b94-9908-9528c15c13f7",
   "metadata": {},
   "outputs": [
    {
     "data": {
      "text/plain": [
       "player                 0\n",
       "team                   0\n",
       "name                   0\n",
       "position               0\n",
       "height                 0\n",
       "age                    0\n",
       "appearance             0\n",
       "goals                  0\n",
       "assists                0\n",
       "yellow cards           0\n",
       "second yellow cards    0\n",
       "red cards              0\n",
       "goals conceded         0\n",
       "clean sheets           0\n",
       "minutes played         0\n",
       "days_injured           0\n",
       "games_injured          0\n",
       "award                  0\n",
       "current_value          0\n",
       "highest_value          0\n",
       "position_encoded       0\n",
       "winger                 0\n",
       "dtype: int64"
      ]
     },
     "execution_count": 391,
     "metadata": {},
     "output_type": "execute_result"
    }
   ],
   "source": [
    "#Display number missing values per column\n",
    "df.isnull().sum()"
   ]
  },
  {
   "cell_type": "markdown",
   "id": "21876b48-f5ec-4970-85a9-0520d45d8841",
   "metadata": {},
   "source": [
    "### Data Cleaning - Outliers"
   ]
  },
  {
   "cell_type": "code",
   "execution_count": 392,
   "id": "460fb295-54b5-4250-a0f7-bf947d24c0ab",
   "metadata": {},
   "outputs": [
    {
     "data": {
      "text/plain": [
       "Index(['player', 'team', 'name', 'position', 'height', 'age', 'appearance',\n",
       "       'goals', 'assists', 'yellow cards', 'second yellow cards', 'red cards',\n",
       "       'goals conceded', 'clean sheets', 'minutes played', 'days_injured',\n",
       "       'games_injured', 'award', 'current_value', 'highest_value',\n",
       "       'position_encoded', 'winger'],\n",
       "      dtype='object')"
      ]
     },
     "execution_count": 392,
     "metadata": {},
     "output_type": "execute_result"
    }
   ],
   "source": [
    "df.columns"
   ]
  },
  {
   "cell_type": "code",
   "execution_count": 393,
   "id": "5ad68354-22de-41a8-a23c-d0f015184cf6",
   "metadata": {},
   "outputs": [
    {
     "data": {
      "text/html": [
       "<div>\n",
       "<style scoped>\n",
       "    .dataframe tbody tr th:only-of-type {\n",
       "        vertical-align: middle;\n",
       "    }\n",
       "\n",
       "    .dataframe tbody tr th {\n",
       "        vertical-align: top;\n",
       "    }\n",
       "\n",
       "    .dataframe thead th {\n",
       "        text-align: right;\n",
       "    }\n",
       "</style>\n",
       "<table border=\"1\" class=\"dataframe\">\n",
       "  <thead>\n",
       "    <tr style=\"text-align: right;\">\n",
       "      <th></th>\n",
       "      <th>player</th>\n",
       "      <th>team</th>\n",
       "      <th>name</th>\n",
       "      <th>position</th>\n",
       "      <th>height</th>\n",
       "      <th>age</th>\n",
       "      <th>appearance</th>\n",
       "      <th>goals</th>\n",
       "      <th>assists</th>\n",
       "      <th>yellow cards</th>\n",
       "      <th>...</th>\n",
       "      <th>goals conceded</th>\n",
       "      <th>clean sheets</th>\n",
       "      <th>minutes played</th>\n",
       "      <th>days_injured</th>\n",
       "      <th>games_injured</th>\n",
       "      <th>award</th>\n",
       "      <th>current_value</th>\n",
       "      <th>highest_value</th>\n",
       "      <th>position_encoded</th>\n",
       "      <th>winger</th>\n",
       "    </tr>\n",
       "  </thead>\n",
       "  <tbody>\n",
       "    <tr>\n",
       "      <th>0</th>\n",
       "      <td>/david-de-gea/profil/spieler/59377</td>\n",
       "      <td>Manchester United</td>\n",
       "      <td>David de Gea</td>\n",
       "      <td>Goalkeeper</td>\n",
       "      <td>189.0</td>\n",
       "      <td>32.0</td>\n",
       "      <td>104</td>\n",
       "      <td>0.000000</td>\n",
       "      <td>0.000000</td>\n",
       "      <td>0.009585</td>\n",
       "      <td>...</td>\n",
       "      <td>1.217252</td>\n",
       "      <td>0.335463</td>\n",
       "      <td>9390</td>\n",
       "      <td>42</td>\n",
       "      <td>5</td>\n",
       "      <td>13</td>\n",
       "      <td>15000000</td>\n",
       "      <td>70000000</td>\n",
       "      <td>1</td>\n",
       "      <td>0</td>\n",
       "    </tr>\n",
       "    <tr>\n",
       "      <th>1</th>\n",
       "      <td>/jack-butland/profil/spieler/128899</td>\n",
       "      <td>Manchester United</td>\n",
       "      <td>Jack Butland</td>\n",
       "      <td>Goalkeeper</td>\n",
       "      <td>196.0</td>\n",
       "      <td>30.0</td>\n",
       "      <td>15</td>\n",
       "      <td>0.000000</td>\n",
       "      <td>0.000000</td>\n",
       "      <td>0.069018</td>\n",
       "      <td>...</td>\n",
       "      <td>1.242331</td>\n",
       "      <td>0.207055</td>\n",
       "      <td>1304</td>\n",
       "      <td>510</td>\n",
       "      <td>58</td>\n",
       "      <td>1</td>\n",
       "      <td>1500000</td>\n",
       "      <td>22000000</td>\n",
       "      <td>1</td>\n",
       "      <td>0</td>\n",
       "    </tr>\n",
       "    <tr>\n",
       "      <th>2</th>\n",
       "      <td>/tom-heaton/profil/spieler/34130</td>\n",
       "      <td>Manchester United</td>\n",
       "      <td>Tom Heaton</td>\n",
       "      <td>Goalkeeper</td>\n",
       "      <td>188.0</td>\n",
       "      <td>37.0</td>\n",
       "      <td>4</td>\n",
       "      <td>0.000000</td>\n",
       "      <td>0.000000</td>\n",
       "      <td>0.000000</td>\n",
       "      <td>...</td>\n",
       "      <td>0.616438</td>\n",
       "      <td>0.924658</td>\n",
       "      <td>292</td>\n",
       "      <td>697</td>\n",
       "      <td>84</td>\n",
       "      <td>4</td>\n",
       "      <td>600000</td>\n",
       "      <td>6000000</td>\n",
       "      <td>1</td>\n",
       "      <td>0</td>\n",
       "    </tr>\n",
       "    <tr>\n",
       "      <th>3</th>\n",
       "      <td>/lisandro-martinez/profil/spieler/480762</td>\n",
       "      <td>Manchester United</td>\n",
       "      <td>Lisandro Martínez</td>\n",
       "      <td>Defender Centre-Back</td>\n",
       "      <td>175.0</td>\n",
       "      <td>25.0</td>\n",
       "      <td>82</td>\n",
       "      <td>0.028090</td>\n",
       "      <td>0.056180</td>\n",
       "      <td>0.224719</td>\n",
       "      <td>...</td>\n",
       "      <td>0.000000</td>\n",
       "      <td>0.000000</td>\n",
       "      <td>6408</td>\n",
       "      <td>175</td>\n",
       "      <td>22</td>\n",
       "      <td>9</td>\n",
       "      <td>50000000</td>\n",
       "      <td>50000000</td>\n",
       "      <td>2</td>\n",
       "      <td>0</td>\n",
       "    </tr>\n",
       "    <tr>\n",
       "      <th>4</th>\n",
       "      <td>/raphael-varane/profil/spieler/164770</td>\n",
       "      <td>Manchester United</td>\n",
       "      <td>Raphaël Varane</td>\n",
       "      <td>Defender Centre-Back</td>\n",
       "      <td>191.0</td>\n",
       "      <td>30.0</td>\n",
       "      <td>63</td>\n",
       "      <td>0.017889</td>\n",
       "      <td>0.017889</td>\n",
       "      <td>0.053667</td>\n",
       "      <td>...</td>\n",
       "      <td>0.000000</td>\n",
       "      <td>0.000000</td>\n",
       "      <td>5031</td>\n",
       "      <td>238</td>\n",
       "      <td>51</td>\n",
       "      <td>21</td>\n",
       "      <td>40000000</td>\n",
       "      <td>80000000</td>\n",
       "      <td>2</td>\n",
       "      <td>0</td>\n",
       "    </tr>\n",
       "  </tbody>\n",
       "</table>\n",
       "<p>5 rows × 22 columns</p>\n",
       "</div>"
      ],
      "text/plain": [
       "                                     player               team  \\\n",
       "0        /david-de-gea/profil/spieler/59377  Manchester United   \n",
       "1       /jack-butland/profil/spieler/128899  Manchester United   \n",
       "2          /tom-heaton/profil/spieler/34130  Manchester United   \n",
       "3  /lisandro-martinez/profil/spieler/480762  Manchester United   \n",
       "4     /raphael-varane/profil/spieler/164770  Manchester United   \n",
       "\n",
       "                name              position  height   age  appearance  \\\n",
       "0       David de Gea            Goalkeeper   189.0  32.0         104   \n",
       "1       Jack Butland            Goalkeeper   196.0  30.0          15   \n",
       "2         Tom Heaton            Goalkeeper   188.0  37.0           4   \n",
       "3  Lisandro Martínez  Defender Centre-Back   175.0  25.0          82   \n",
       "4     Raphaël Varane  Defender Centre-Back   191.0  30.0          63   \n",
       "\n",
       "      goals   assists  yellow cards  ...  goals conceded  clean sheets  \\\n",
       "0  0.000000  0.000000      0.009585  ...        1.217252      0.335463   \n",
       "1  0.000000  0.000000      0.069018  ...        1.242331      0.207055   \n",
       "2  0.000000  0.000000      0.000000  ...        0.616438      0.924658   \n",
       "3  0.028090  0.056180      0.224719  ...        0.000000      0.000000   \n",
       "4  0.017889  0.017889      0.053667  ...        0.000000      0.000000   \n",
       "\n",
       "   minutes played  days_injured  games_injured  award  current_value  \\\n",
       "0            9390            42              5     13       15000000   \n",
       "1            1304           510             58      1        1500000   \n",
       "2             292           697             84      4         600000   \n",
       "3            6408           175             22      9       50000000   \n",
       "4            5031           238             51     21       40000000   \n",
       "\n",
       "   highest_value  position_encoded  winger  \n",
       "0       70000000                 1       0  \n",
       "1       22000000                 1       0  \n",
       "2        6000000                 1       0  \n",
       "3       50000000                 2       0  \n",
       "4       80000000                 2       0  \n",
       "\n",
       "[5 rows x 22 columns]"
      ]
     },
     "execution_count": 393,
     "metadata": {},
     "output_type": "execute_result"
    }
   ],
   "source": [
    "df.head()"
   ]
  },
  {
   "cell_type": "code",
   "execution_count": 394,
   "id": "57e741fb-71c1-46ad-a526-d8f0b1564dc3",
   "metadata": {},
   "outputs": [],
   "source": [
    "#made a new goalkeeper df\n",
    "df_goalkeeper = df[df['position'] == 'Goalkeeper']"
   ]
  },
  {
   "cell_type": "code",
   "execution_count": 395,
   "id": "9b6e930a-6cb5-440e-a7f5-044532879f0f",
   "metadata": {},
   "outputs": [],
   "source": [
    "df.drop('player', axis=1, inplace=True)\n",
    "df.drop('goals conceded', axis=1, inplace=True)\n",
    "df.drop('clean sheets', axis=1, inplace=True)\n",
    "df.drop('name', axis=1, inplace=True)\n",
    "\n",
    "# Drop rows where position is 'Goalkeeper'\n",
    "df = df[df['position'] != 'Goalkeeper']\n"
   ]
  },
  {
   "cell_type": "code",
   "execution_count": 396,
   "id": "d6d9aef7-7765-4569-874a-8dc791a041b4",
   "metadata": {},
   "outputs": [
    {
     "data": {
      "text/plain": [
       "team                    object\n",
       "position                object\n",
       "height                 float64\n",
       "age                    float64\n",
       "appearance               int64\n",
       "goals                  float64\n",
       "assists                float64\n",
       "yellow cards           float64\n",
       "second yellow cards    float64\n",
       "red cards              float64\n",
       "minutes played           int64\n",
       "days_injured             int64\n",
       "games_injured            int64\n",
       "award                    int64\n",
       "current_value            int64\n",
       "highest_value            int64\n",
       "position_encoded         int64\n",
       "winger                   int64\n",
       "dtype: object"
      ]
     },
     "execution_count": 396,
     "metadata": {},
     "output_type": "execute_result"
    }
   ],
   "source": [
    "# Accurecy types\n",
    "df.dtypes"
   ]
  },
  {
   "cell_type": "code",
   "execution_count": 397,
   "id": "b38cd7e7-88e9-4090-9271-6a32cd103e04",
   "metadata": {},
   "outputs": [],
   "source": [
    "# Select numerical columns\n",
    "numerical_columns = df.select_dtypes(include=['int64', 'float64']).columns.tolist()\n",
    "\n",
    "# Select categorical columns\n",
    "categorical_columns = df.select_dtypes(include=['object']).columns.tolist()"
   ]
  },
  {
   "cell_type": "code",
   "execution_count": 398,
   "id": "19f3bdea-b1eb-40f7-805a-f1d6fefbbe10",
   "metadata": {},
   "outputs": [],
   "source": [
    "# Accurecy - Outlier\n",
    "\n",
    "# Convert categorical variables using OneHotEncoding\n",
    "\n",
    "categorical_features = ['team', 'position']\n",
    "numeric_features = [\n",
    " 'height',\n",
    " 'age',\n",
    " 'appearance',\n",
    " 'goals',\n",
    " 'assists',\n",
    " 'yellow cards',\n",
    " 'second yellow cards',\n",
    " 'red cards',\n",
    " 'minutes played',\n",
    " 'games_injured',\n",
    " 'award',\n",
    " 'current_value',\n",
    " 'highest_value',\n",
    " 'position_encoded',\n",
    " 'winger']"
   ]
  },
  {
   "cell_type": "code",
   "execution_count": 399,
   "id": "b7ee1797-6029-4d09-bcc9-8de494283a64",
   "metadata": {},
   "outputs": [
    {
     "data": {
      "image/png": "[encoded data removed]",
      "text/plain": [
       "<Figure size 1500x800 with 1 Axes>"
      ]
     },
     "metadata": {},
     "output_type": "display_data"
    }
   ],
   "source": [
    "df = df[df['current_value']>2000]\n",
    "df = df[df['current_value']<=28000000]\n",
    "plt.figure(figsize=(15,8))\n",
    "\n",
    "plt.hist(df['current_value'], bins=100);"
   ]
  },
  {
   "cell_type": "code",
   "execution_count": 400,
   "id": "383e1836-2e1b-4c00-9038-c486ee2c55e2",
   "metadata": {},
   "outputs": [
    {
     "data": {
      "image/png": "[encoded data removed]",
      "text/plain": [
       "<Figure size 1500x800 with 1 Axes>"
      ]
     },
     "metadata": {},
     "output_type": "display_data"
    }
   ],
   "source": [
    "df = df[df['minutes played']>=100]\n",
    "df = df[df['minutes played']<=8000]\n",
    "plt.figure(figsize=(15,8))\n",
    "\n",
    "plt.hist(df['minutes played'], bins=100);"
   ]
  },
  {
   "cell_type": "code",
   "execution_count": 401,
   "id": "9ec73404-4ba1-49ea-90cc-b2ad4f06aa46",
   "metadata": {},
   "outputs": [
    {
     "data": {
      "image/png": "[encoded data removed]",
      "text/plain": [
       "<Figure size 1500x800 with 1 Axes>"
      ]
     },
     "metadata": {},
     "output_type": "display_data"
    }
   ],
   "source": [
    "df = df[df['height']>=164]\n",
    "df = df[df['height']<=200]\n",
    "plt.figure(figsize=(15,8))\n",
    "\n",
    "plt.hist(df['height'], bins=100);"
   ]
  },
  {
   "cell_type": "code",
   "execution_count": 402,
   "id": "9521fe04-0c60-48e8-8448-e89e6b380f07",
   "metadata": {},
   "outputs": [
    {
     "data": {
      "image/png": "[encoded data removed]",
      "text/plain": [
       "<Figure size 1500x800 with 1 Axes>"
      ]
     },
     "metadata": {},
     "output_type": "display_data"
    }
   ],
   "source": [
    "df = df[df['highest_value']>2000]\n",
    "df = df[df['highest_value']<=30000000]\n",
    "plt.figure(figsize=(15,8))\n",
    "\n",
    "plt.hist(df['highest_value'], bins=100);"
   ]
  },
  {
   "cell_type": "code",
   "execution_count": 403,
   "id": "cf0f8cfa-3307-4f6f-b093-5094f86d39bd",
   "metadata": {},
   "outputs": [
    {
     "data": {
      "image/png": "[encoded data removed]",
      "text/plain": [
       "<Figure size 1500x800 with 1 Axes>"
      ]
     },
     "metadata": {},
     "output_type": "display_data"
    }
   ],
   "source": [
    "df = df[df['age']>=18]\n",
    "df = df[df['age']<=35]\n",
    "plt.figure(figsize=(15,8))\n",
    "\n",
    "plt.hist(df['age'], bins=100);"
   ]
  },
  {
   "cell_type": "code",
   "execution_count": 404,
   "id": "86a12126-f176-4500-bd55-9b8d940add3d",
   "metadata": {},
   "outputs": [
    {
     "data": {
      "image/png": "[encoded data removed]",
      "text/plain": [
       "<Figure size 1500x800 with 1 Axes>"
      ]
     },
     "metadata": {},
     "output_type": "display_data"
    }
   ],
   "source": [
    "df= df[df['appearance']>0]\n",
    "df= df[df['appearance']<80]\n",
    "\n",
    "plt.figure(figsize=(15,8))\n",
    "\n",
    "plt.hist(df['appearance'], bins=100);"
   ]
  },
  {
   "cell_type": "code",
   "execution_count": 405,
   "id": "58d391a1-4a03-42bf-9438-c404b7876a53",
   "metadata": {},
   "outputs": [
    {
     "data": {
      "image/png": "[encoded data removed]",
      "text/plain": [
       "<Figure size 1500x800 with 1 Axes>"
      ]
     },
     "metadata": {},
     "output_type": "display_data"
    }
   ],
   "source": [
    "df = df[df['award']<=8]\n",
    "plt.figure(figsize=(15,8))\n",
    "\n",
    "plt.hist(df['award'], bins=100);"
   ]
  },
  {
   "cell_type": "code",
   "execution_count": 406,
   "id": "01287962-8077-4c01-8d1d-5f8aed6cb37a",
   "metadata": {},
   "outputs": [
    {
     "data": {
      "text/plain": [
       "Index(['team', 'position', 'height', 'age', 'appearance', 'goals', 'assists',\n",
       "       'yellow cards', 'second yellow cards', 'red cards', 'minutes played',\n",
       "       'days_injured', 'games_injured', 'award', 'current_value',\n",
       "       'highest_value', 'position_encoded', 'winger'],\n",
       "      dtype='object')"
      ]
     },
     "execution_count": 406,
     "metadata": {},
     "output_type": "execute_result"
    }
   ],
   "source": [
    "df.columns"
   ]
  },
  {
   "cell_type": "code",
   "execution_count": 407,
   "id": "326b566b-b749-4cb1-b554-5c39125e358d",
   "metadata": {},
   "outputs": [
    {
     "data": {
      "text/plain": [
       "(7460, 18)"
      ]
     },
     "execution_count": 407,
     "metadata": {},
     "output_type": "execute_result"
    }
   ],
   "source": [
    "df.shape"
   ]
  },
  {
   "cell_type": "code",
   "execution_count": 408,
   "id": "1272d9ea-2d93-4f0f-94fb-b6ef4b573787",
   "metadata": {},
   "outputs": [
    {
     "data": {
      "application/vnd.jupyter.widget-view+json": {
       "model_id": "badfd84454514c86b03096d046d0c556",
       "version_major": 2,
       "version_minor": 0
      },
      "text/plain": [
       "                                             |                                             | [  0%]   00:00 ->…"
      ]
     },
     "metadata": {},
     "output_type": "display_data"
    },
    {
     "name": "stdout",
     "output_type": "stream",
     "text": [
      "Report report.html was generated! NOTEBOOK/COLAB USERS: the web browser MAY not pop up, regardless, the report IS saved in your notebook/colab files.\n"
     ]
    }
   ],
   "source": [
    "report = sv.analyze(df)\n",
    "report.show_html('report.html')"
   ]
  },
  {
   "cell_type": "code",
   "execution_count": 350,
   "id": "fa1e4c79-5a1c-4dba-868a-a7e7061167fb",
   "metadata": {},
   "outputs": [],
   "source": [
    "# one hot coding\n",
    "df = pd.get_dummies(df, columns=categorical_features)"
   ]
  },
  {
   "cell_type": "code",
   "execution_count": 351,
   "id": "882e52d2-fb1b-492c-af87-a4429d358db1",
   "metadata": {},
   "outputs": [
    {
     "data": {
      "text/html": [
       "<div>\n",
       "<style scoped>\n",
       "    .dataframe tbody tr th:only-of-type {\n",
       "        vertical-align: middle;\n",
       "    }\n",
       "\n",
       "    .dataframe tbody tr th {\n",
       "        vertical-align: top;\n",
       "    }\n",
       "\n",
       "    .dataframe thead th {\n",
       "        text-align: right;\n",
       "    }\n",
       "</style>\n",
       "<table border=\"1\" class=\"dataframe\">\n",
       "  <thead>\n",
       "    <tr style=\"text-align: right;\">\n",
       "      <th></th>\n",
       "      <th>height</th>\n",
       "      <th>age</th>\n",
       "      <th>appearance</th>\n",
       "      <th>goals</th>\n",
       "      <th>assists</th>\n",
       "      <th>yellow cards</th>\n",
       "      <th>second yellow cards</th>\n",
       "      <th>red cards</th>\n",
       "      <th>minutes played</th>\n",
       "      <th>days_injured</th>\n",
       "      <th>...</th>\n",
       "      <th>position_Defender</th>\n",
       "      <th>position_Defender Centre-Back</th>\n",
       "      <th>position_Defender Left-Back</th>\n",
       "      <th>position_Defender Right-Back</th>\n",
       "      <th>position_midfield</th>\n",
       "      <th>position_midfield-AttackingMidfield</th>\n",
       "      <th>position_midfield-CentralMidfield</th>\n",
       "      <th>position_midfield-DefensiveMidfield</th>\n",
       "      <th>position_midfield-LeftMidfield</th>\n",
       "      <th>position_midfield-RightMidfield</th>\n",
       "    </tr>\n",
       "  </thead>\n",
       "  <tbody>\n",
       "    <tr>\n",
       "      <th>7</th>\n",
       "      <td>185.0</td>\n",
       "      <td>31.0</td>\n",
       "      <td>8</td>\n",
       "      <td>0.0</td>\n",
       "      <td>0.0</td>\n",
       "      <td>0.216346</td>\n",
       "      <td>0.0</td>\n",
       "      <td>0.0</td>\n",
       "      <td>416</td>\n",
       "      <td>932</td>\n",
       "      <td>...</td>\n",
       "      <td>False</td>\n",
       "      <td>True</td>\n",
       "      <td>False</td>\n",
       "      <td>False</td>\n",
       "      <td>False</td>\n",
       "      <td>False</td>\n",
       "      <td>False</td>\n",
       "      <td>False</td>\n",
       "      <td>False</td>\n",
       "      <td>False</td>\n",
       "    </tr>\n",
       "    <tr>\n",
       "      <th>8</th>\n",
       "      <td>186.0</td>\n",
       "      <td>21.0</td>\n",
       "      <td>34</td>\n",
       "      <td>0.0</td>\n",
       "      <td>0.0</td>\n",
       "      <td>0.130529</td>\n",
       "      <td>0.0</td>\n",
       "      <td>0.0</td>\n",
       "      <td>2758</td>\n",
       "      <td>47</td>\n",
       "      <td>...</td>\n",
       "      <td>False</td>\n",
       "      <td>True</td>\n",
       "      <td>False</td>\n",
       "      <td>False</td>\n",
       "      <td>False</td>\n",
       "      <td>False</td>\n",
       "      <td>False</td>\n",
       "      <td>False</td>\n",
       "      <td>False</td>\n",
       "      <td>False</td>\n",
       "    </tr>\n",
       "  </tbody>\n",
       "</table>\n",
       "<p>2 rows × 405 columns</p>\n",
       "</div>"
      ],
      "text/plain": [
       "   height   age  appearance  goals  assists  yellow cards  \\\n",
       "7   185.0  31.0           8    0.0      0.0      0.216346   \n",
       "8   186.0  21.0          34    0.0      0.0      0.130529   \n",
       "\n",
       "   second yellow cards  red cards  minutes played  days_injured  ...  \\\n",
       "7                  0.0        0.0             416           932  ...   \n",
       "8                  0.0        0.0            2758            47  ...   \n",
       "\n",
       "   position_Defender  position_Defender Centre-Back  \\\n",
       "7              False                           True   \n",
       "8              False                           True   \n",
       "\n",
       "   position_Defender Left-Back  position_Defender Right-Back  \\\n",
       "7                        False                         False   \n",
       "8                        False                         False   \n",
       "\n",
       "   position_midfield  position_midfield-AttackingMidfield  \\\n",
       "7              False                                False   \n",
       "8              False                                False   \n",
       "\n",
       "   position_midfield-CentralMidfield  position_midfield-DefensiveMidfield  \\\n",
       "7                              False                                False   \n",
       "8                              False                                False   \n",
       "\n",
       "   position_midfield-LeftMidfield  position_midfield-RightMidfield  \n",
       "7                           False                            False  \n",
       "8                           False                            False  \n",
       "\n",
       "[2 rows x 405 columns]"
      ]
     },
     "execution_count": 351,
     "metadata": {},
     "output_type": "execute_result"
    }
   ],
   "source": [
    "df.head(2)"
   ]
  },
  {
   "cell_type": "code",
   "execution_count": 352,
   "id": "8bf74f08-4b16-428a-9c32-6d4d0c9064de",
   "metadata": {},
   "outputs": [
    {
     "data": {
      "text/plain": [
       "(7460, 405)"
      ]
     },
     "execution_count": 352,
     "metadata": {},
     "output_type": "execute_result"
    }
   ],
   "source": [
    "df.shape"
   ]
  },
  {
   "cell_type": "markdown",
   "id": "8786a215-eb94-47c6-b114-2f82b0c23943",
   "metadata": {},
   "source": [
    "### correlation"
   ]
  },
  {
   "cell_type": "code",
   "execution_count": 353,
   "id": "69f75f73-006b-42eb-946a-2c8c59e3218a",
   "metadata": {},
   "outputs": [
    {
     "name": "stdout",
     "output_type": "stream",
     "text": [
      "current_value                1.000000\n",
      "highest_value                0.808147\n",
      "appearance                   0.366119\n",
      "minutes played               0.361053\n",
      "award                        0.177270\n",
      "                               ...   \n",
      "team_Daegu FC               -0.036656\n",
      "team_Marumo Gallants FC     -0.037914\n",
      "team_Gangwon FC             -0.038278\n",
      "team_Daejeon Hana Citizen   -0.038460\n",
      "age                         -0.107896\n",
      "Name: current_value, Length: 405, dtype: float64\n"
     ]
    }
   ],
   "source": [
    "correlation = df.corr(numeric_only=True)\n",
    "print(correlation['current_value'].sort_values(ascending=False))"
   ]
  },
  {
   "cell_type": "code",
   "execution_count": 354,
   "id": "dad24124-e5a2-4925-8756-453d6a81b8eb",
   "metadata": {},
   "outputs": [
    {
     "data": {
      "text/plain": [
       "Index(['age', 'appearance', 'goals', 'assists', 'minutes played',\n",
       "       'days_injured', 'games_injured', 'award', 'current_value',\n",
       "       'highest_value', 'team_AS Monaco', 'team_Arsenal FC',\n",
       "       'team_Brentford FC', 'team_Brighton &amp; Hove Albion',\n",
       "       'team_Chelsea FC', 'team_Everton FC', 'team_Leeds United',\n",
       "       'team_Leicester City', 'team_Olympique Lyon', 'team_Red Bull Salzburg',\n",
       "       'team_Southampton FC', 'team_Stade Rennais FC', 'team_VfL Wolfsburg',\n",
       "       'team_Wolverhampton Wanderers'],\n",
       "      dtype='object')"
      ]
     },
     "execution_count": 354,
     "metadata": {},
     "output_type": "execute_result"
    }
   ],
   "source": [
    "# Set the correlation threshold\n",
    "threshold = 0.09\n",
    "\n",
    "# Filter the correlations\n",
    "# We use `abs()` for absolute value to consider both strong positive and negative correlations\n",
    "selected_features = correlation[abs(correlation['current_value']) > threshold]['current_value'].index\n",
    "selected_features"
   ]
  },
  {
   "cell_type": "code",
   "execution_count": 355,
   "id": "c86b7a0a-e783-4b94-930a-15ae4287757d",
   "metadata": {},
   "outputs": [],
   "source": [
    "selected_features = ['age', 'appearance', 'goals', 'assists', 'minutes played',\n",
    "       'days_injured', 'games_injured', 'award', 'current_value',\n",
    "       'highest_value', 'team_AS Monaco', 'team_Arsenal FC',\n",
    "       'team_Atalanta BC', 'team_Brentford FC',\n",
    "       'team_Brighton &amp; Hove Albion', 'team_Chelsea FC',\n",
    "       'team_Crystal Palace', 'team_Everton FC', 'team_Leeds United',\n",
    "       'team_Leicester City', 'team_Olympique Lyon', 'team_Southampton FC',\n",
    "       'team_Stade Rennais FC', 'team_Wolverhampton Wanderers']\n"
   ]
  },
  {
   "cell_type": "code",
   "execution_count": 356,
   "id": "522a2fc2-c970-4ecf-aca1-cdce59d8eabc",
   "metadata": {},
   "outputs": [
    {
     "data": {
      "text/plain": [
       "Index(['height', 'age', 'appearance', 'goals', 'assists', 'yellow cards',\n",
       "       'second yellow cards', 'red cards', 'minutes played', 'days_injured',\n",
       "       ...\n",
       "       'position_Defender', 'position_Defender Centre-Back',\n",
       "       'position_Defender Left-Back', 'position_Defender Right-Back',\n",
       "       'position_midfield', 'position_midfield-AttackingMidfield',\n",
       "       'position_midfield-CentralMidfield',\n",
       "       'position_midfield-DefensiveMidfield', 'position_midfield-LeftMidfield',\n",
       "       'position_midfield-RightMidfield'],\n",
       "      dtype='object', length=405)"
      ]
     },
     "execution_count": 356,
     "metadata": {},
     "output_type": "execute_result"
    }
   ],
   "source": [
    "df.columns"
   ]
  },
  {
   "cell_type": "code",
   "execution_count": 357,
   "id": "e0f701c4-c608-4338-bf5e-cd56c77bd5c7",
   "metadata": {},
   "outputs": [
    {
     "data": {
      "text/html": [
       "<div>\n",
       "<style scoped>\n",
       "    .dataframe tbody tr th:only-of-type {\n",
       "        vertical-align: middle;\n",
       "    }\n",
       "\n",
       "    .dataframe tbody tr th {\n",
       "        vertical-align: top;\n",
       "    }\n",
       "\n",
       "    .dataframe thead th {\n",
       "        text-align: right;\n",
       "    }\n",
       "</style>\n",
       "<table border=\"1\" class=\"dataframe\">\n",
       "  <thead>\n",
       "    <tr style=\"text-align: right;\">\n",
       "      <th></th>\n",
       "      <th>age</th>\n",
       "      <th>appearance</th>\n",
       "      <th>goals</th>\n",
       "      <th>assists</th>\n",
       "      <th>minutes played</th>\n",
       "      <th>days_injured</th>\n",
       "      <th>games_injured</th>\n",
       "      <th>award</th>\n",
       "      <th>current_value</th>\n",
       "      <th>highest_value</th>\n",
       "      <th>...</th>\n",
       "      <th>team_Brighton &amp;amp; Hove Albion</th>\n",
       "      <th>team_Chelsea FC</th>\n",
       "      <th>team_Crystal Palace</th>\n",
       "      <th>team_Everton FC</th>\n",
       "      <th>team_Leeds United</th>\n",
       "      <th>team_Leicester City</th>\n",
       "      <th>team_Olympique Lyon</th>\n",
       "      <th>team_Southampton FC</th>\n",
       "      <th>team_Stade Rennais FC</th>\n",
       "      <th>team_Wolverhampton Wanderers</th>\n",
       "    </tr>\n",
       "  </thead>\n",
       "  <tbody>\n",
       "    <tr>\n",
       "      <th>7</th>\n",
       "      <td>31.0</td>\n",
       "      <td>8</td>\n",
       "      <td>0.000000</td>\n",
       "      <td>0.000000</td>\n",
       "      <td>416</td>\n",
       "      <td>932</td>\n",
       "      <td>169</td>\n",
       "      <td>7</td>\n",
       "      <td>2000000</td>\n",
       "      <td>20000000</td>\n",
       "      <td>...</td>\n",
       "      <td>False</td>\n",
       "      <td>False</td>\n",
       "      <td>False</td>\n",
       "      <td>False</td>\n",
       "      <td>False</td>\n",
       "      <td>False</td>\n",
       "      <td>False</td>\n",
       "      <td>False</td>\n",
       "      <td>False</td>\n",
       "      <td>False</td>\n",
       "    </tr>\n",
       "    <tr>\n",
       "      <th>8</th>\n",
       "      <td>21.0</td>\n",
       "      <td>34</td>\n",
       "      <td>0.000000</td>\n",
       "      <td>0.000000</td>\n",
       "      <td>2758</td>\n",
       "      <td>47</td>\n",
       "      <td>13</td>\n",
       "      <td>0</td>\n",
       "      <td>2000000</td>\n",
       "      <td>2000000</td>\n",
       "      <td>...</td>\n",
       "      <td>False</td>\n",
       "      <td>False</td>\n",
       "      <td>False</td>\n",
       "      <td>False</td>\n",
       "      <td>False</td>\n",
       "      <td>False</td>\n",
       "      <td>False</td>\n",
       "      <td>False</td>\n",
       "      <td>False</td>\n",
       "      <td>False</td>\n",
       "    </tr>\n",
       "    <tr>\n",
       "      <th>11</th>\n",
       "      <td>22.0</td>\n",
       "      <td>34</td>\n",
       "      <td>0.000000</td>\n",
       "      <td>0.033507</td>\n",
       "      <td>2686</td>\n",
       "      <td>175</td>\n",
       "      <td>28</td>\n",
       "      <td>1</td>\n",
       "      <td>10000000</td>\n",
       "      <td>12000000</td>\n",
       "      <td>...</td>\n",
       "      <td>False</td>\n",
       "      <td>False</td>\n",
       "      <td>False</td>\n",
       "      <td>False</td>\n",
       "      <td>False</td>\n",
       "      <td>False</td>\n",
       "      <td>False</td>\n",
       "      <td>False</td>\n",
       "      <td>False</td>\n",
       "      <td>False</td>\n",
       "    </tr>\n",
       "    <tr>\n",
       "      <th>20</th>\n",
       "      <td>20.0</td>\n",
       "      <td>39</td>\n",
       "      <td>0.129125</td>\n",
       "      <td>0.064562</td>\n",
       "      <td>2788</td>\n",
       "      <td>0</td>\n",
       "      <td>0</td>\n",
       "      <td>1</td>\n",
       "      <td>800000</td>\n",
       "      <td>800000</td>\n",
       "      <td>...</td>\n",
       "      <td>False</td>\n",
       "      <td>False</td>\n",
       "      <td>False</td>\n",
       "      <td>False</td>\n",
       "      <td>False</td>\n",
       "      <td>False</td>\n",
       "      <td>False</td>\n",
       "      <td>False</td>\n",
       "      <td>False</td>\n",
       "      <td>False</td>\n",
       "    </tr>\n",
       "    <tr>\n",
       "      <th>21</th>\n",
       "      <td>18.0</td>\n",
       "      <td>51</td>\n",
       "      <td>0.153759</td>\n",
       "      <td>0.102506</td>\n",
       "      <td>3512</td>\n",
       "      <td>0</td>\n",
       "      <td>0</td>\n",
       "      <td>1</td>\n",
       "      <td>800000</td>\n",
       "      <td>800000</td>\n",
       "      <td>...</td>\n",
       "      <td>False</td>\n",
       "      <td>False</td>\n",
       "      <td>False</td>\n",
       "      <td>False</td>\n",
       "      <td>False</td>\n",
       "      <td>False</td>\n",
       "      <td>False</td>\n",
       "      <td>False</td>\n",
       "      <td>False</td>\n",
       "      <td>False</td>\n",
       "    </tr>\n",
       "  </tbody>\n",
       "</table>\n",
       "<p>5 rows × 24 columns</p>\n",
       "</div>"
      ],
      "text/plain": [
       "     age  appearance     goals   assists  minutes played  days_injured  \\\n",
       "7   31.0           8  0.000000  0.000000             416           932   \n",
       "8   21.0          34  0.000000  0.000000            2758            47   \n",
       "11  22.0          34  0.000000  0.033507            2686           175   \n",
       "20  20.0          39  0.129125  0.064562            2788             0   \n",
       "21  18.0          51  0.153759  0.102506            3512             0   \n",
       "\n",
       "    games_injured  award  current_value  highest_value  ...  \\\n",
       "7             169      7        2000000       20000000  ...   \n",
       "8              13      0        2000000        2000000  ...   \n",
       "11             28      1       10000000       12000000  ...   \n",
       "20              0      1         800000         800000  ...   \n",
       "21              0      1         800000         800000  ...   \n",
       "\n",
       "    team_Brighton &amp; Hove Albion  team_Chelsea FC  team_Crystal Palace  \\\n",
       "7                             False            False                False   \n",
       "8                             False            False                False   \n",
       "11                            False            False                False   \n",
       "20                            False            False                False   \n",
       "21                            False            False                False   \n",
       "\n",
       "    team_Everton FC  team_Leeds United  team_Leicester City  \\\n",
       "7             False              False                False   \n",
       "8             False              False                False   \n",
       "11            False              False                False   \n",
       "20            False              False                False   \n",
       "21            False              False                False   \n",
       "\n",
       "    team_Olympique Lyon  team_Southampton FC  team_Stade Rennais FC  \\\n",
       "7                 False                False                  False   \n",
       "8                 False                False                  False   \n",
       "11                False                False                  False   \n",
       "20                False                False                  False   \n",
       "21                False                False                  False   \n",
       "\n",
       "    team_Wolverhampton Wanderers  \n",
       "7                          False  \n",
       "8                          False  \n",
       "11                         False  \n",
       "20                         False  \n",
       "21                         False  \n",
       "\n",
       "[5 rows x 24 columns]"
      ]
     },
     "execution_count": 357,
     "metadata": {},
     "output_type": "execute_result"
    }
   ],
   "source": [
    "df = df[selected_features]\n",
    "df.head()"
   ]
  },
  {
   "cell_type": "code",
   "execution_count": 358,
   "id": "42bb9ec4-81d5-4daf-a62a-ca8f405b9844",
   "metadata": {},
   "outputs": [],
   "source": [
    "# Prepare data\n",
    "X = df.drop(['current_value'], axis=1)\n",
    "y = df['current_value']\n",
    "\n",
    "# Split data into training and testing sets\n",
    "X_train, X_test, y_train, y_test = train_test_split(X, y,\n",
    "                                                    test_size=0.2,\n",
    "                                                    shuffle=True,\n",
    "                                                    random_state=42)\n",
    "\n",
    "# sacle the data\n",
    "scaler = StandardScaler()\n",
    "scaler.fit(X_train)\n",
    "X_train_scaled = scaler.transform(X_train)\n",
    "X_test_scaled = scaler.transform(X_test)"
   ]
  },
  {
   "cell_type": "code",
   "execution_count": 359,
   "id": "724e46b8-c893-451c-8f85-e32d45afae89",
   "metadata": {},
   "outputs": [
    {
     "data": {
      "text/plain": [
       "(7460, 23)"
      ]
     },
     "execution_count": 359,
     "metadata": {},
     "output_type": "execute_result"
    }
   ],
   "source": [
    "X.shape"
   ]
  },
  {
   "cell_type": "markdown",
   "id": "0648cf5b-75b7-4a03-a30d-82492a895a0d",
   "metadata": {},
   "source": [
    "### Buliding the Model"
   ]
  },
  {
   "cell_type": "code",
   "execution_count": 360,
   "id": "35557ecd-c007-40fa-a5bc-8c254ec8e638",
   "metadata": {},
   "outputs": [],
   "source": [
    "model = LinearRegression()"
   ]
  },
  {
   "cell_type": "code",
   "execution_count": 361,
   "id": "1d4b7d76-cbfd-4ff1-b216-8cd244483c2f",
   "metadata": {},
   "outputs": [],
   "source": [
    "ridge_model = Ridge()"
   ]
  },
  {
   "cell_type": "code",
   "execution_count": 362,
   "id": "31217211-f4d4-44dc-8122-963db964847b",
   "metadata": {},
   "outputs": [],
   "source": [
    "lasso_model = Lasso()"
   ]
  },
  {
   "cell_type": "code",
   "execution_count": 363,
   "id": "7e9bb364-9913-4dcd-8dcd-e6acbf9ca57d",
   "metadata": {},
   "outputs": [],
   "source": [
    "param_grid = {\n",
    "    'alpha': [0.1, 1, 10, 50, 100,1000]\n",
    "}\n",
    "\n",
    "\n",
    "grid_search = GridSearchCV(estimator=model,\n",
    "                           param_grid=param_grid,\n",
    "                           cv=10,\n",
    "                           scoring='neg_mean_squared_error', \n",
    "                           verbose=1)\n",
    "\n",
    "\n",
    "grid_search_ridge = GridSearchCV(estimator=ridge_model,\n",
    "                           param_grid=param_grid,\n",
    "                           cv=10,\n",
    "                           scoring='neg_mean_squared_error', \n",
    "                           verbose=1)\n",
    "\n",
    "grid_search_lasso = GridSearchCV(estimator=lasso_model,\n",
    "                           param_grid=param_grid,\n",
    "                           cv=10,\n",
    "                           scoring='neg_mean_squared_error', \n",
    "                           verbose=1)"
   ]
  },
  {
   "cell_type": "markdown",
   "id": "4e0c1fc2-d6b9-411d-84ce-d2da63755856",
   "metadata": {},
   "source": [
    "### Train the Model"
   ]
  },
  {
   "cell_type": "code",
   "execution_count": 364,
   "id": "283165da-1fcc-467d-ad12-0488bf1aa80b",
   "metadata": {},
   "outputs": [
    {
     "data": {
      "text/html": [
       "<style>#sk-container-id-7 {\n",
       "  /* Definition of color scheme common for light and dark mode */\n",
       "  --sklearn-color-text: black;\n",
       "  --sklearn-color-line: gray;\n",
       "  /* Definition of color scheme for unfitted estimators */\n",
       "  --sklearn-color-unfitted-level-0: #fff5e6;\n",
       "  --sklearn-color-unfitted-level-1: #f6e4d2;\n",
       "  --sklearn-color-unfitted-level-2: #ffe0b3;\n",
       "  --sklearn-color-unfitted-level-3: chocolate;\n",
       "  /* Definition of color scheme for fitted estimators */\n",
       "  --sklearn-color-fitted-level-0: #f0f8ff;\n",
       "  --sklearn-color-fitted-level-1: #d4ebff;\n",
       "  --sklearn-color-fitted-level-2: #b3dbfd;\n",
       "  --sklearn-color-fitted-level-3: cornflowerblue;\n",
       "\n",
       "  /* Specific color for light theme */\n",
       "  --sklearn-color-text-on-default-background: var(--sg-text-color, var(--theme-code-foreground, var(--jp-content-font-color1, black)));\n",
       "  --sklearn-color-background: var(--sg-background-color, var(--theme-background, var(--jp-layout-color0, white)));\n",
       "  --sklearn-color-border-box: var(--sg-text-color, var(--theme-code-foreground, var(--jp-content-font-color1, black)));\n",
       "  --sklearn-color-icon: #696969;\n",
       "\n",
       "  @media (prefers-color-scheme: dark) {\n",
       "    /* Redefinition of color scheme for dark theme */\n",
       "    --sklearn-color-text-on-default-background: var(--sg-text-color, var(--theme-code-foreground, var(--jp-content-font-color1, white)));\n",
       "    --sklearn-color-background: var(--sg-background-color, var(--theme-background, var(--jp-layout-color0, #111)));\n",
       "    --sklearn-color-border-box: var(--sg-text-color, var(--theme-code-foreground, var(--jp-content-font-color1, white)));\n",
       "    --sklearn-color-icon: #878787;\n",
       "  }\n",
       "}\n",
       "\n",
       "#sk-container-id-7 {\n",
       "  color: var(--sklearn-color-text);\n",
       "}\n",
       "\n",
       "#sk-container-id-7 pre {\n",
       "  padding: 0;\n",
       "}\n",
       "\n",
       "#sk-container-id-7 input.sk-hidden--visually {\n",
       "  border: 0;\n",
       "  clip: rect(1px 1px 1px 1px);\n",
       "  clip: rect(1px, 1px, 1px, 1px);\n",
       "  height: 1px;\n",
       "  margin: -1px;\n",
       "  overflow: hidden;\n",
       "  padding: 0;\n",
       "  position: absolute;\n",
       "  width: 1px;\n",
       "}\n",
       "\n",
       "#sk-container-id-7 div.sk-dashed-wrapped {\n",
       "  border: 1px dashed var(--sklearn-color-line);\n",
       "  margin: 0 0.4em 0.5em 0.4em;\n",
       "  box-sizing: border-box;\n",
       "  padding-bottom: 0.4em;\n",
       "  background-color: var(--sklearn-color-background);\n",
       "}\n",
       "\n",
       "#sk-container-id-7 div.sk-container {\n",
       "  /* jupyter's `normalize.less` sets `[hidden] { display: none; }`\n",
       "     but bootstrap.min.css set `[hidden] { display: none !important; }`\n",
       "     so we also need the `!important` here to be able to override the\n",
       "     default hidden behavior on the sphinx rendered scikit-learn.org.\n",
       "     See: https://github.com/scikit-learn/scikit-learn/issues/21755 */\n",
       "  display: inline-block !important;\n",
       "  position: relative;\n",
       "}\n",
       "\n",
       "#sk-container-id-7 div.sk-text-repr-fallback {\n",
       "  display: none;\n",
       "}\n",
       "\n",
       "div.sk-parallel-item,\n",
       "div.sk-serial,\n",
       "div.sk-item {\n",
       "  /* draw centered vertical line to link estimators */\n",
       "  background-image: linear-gradient(var(--sklearn-color-text-on-default-background), var(--sklearn-color-text-on-default-background));\n",
       "  background-size: 2px 100%;\n",
       "  background-repeat: no-repeat;\n",
       "  background-position: center center;\n",
       "}\n",
       "\n",
       "/* Parallel-specific style estimator block */\n",
       "\n",
       "#sk-container-id-7 div.sk-parallel-item::after {\n",
       "  content: \"\";\n",
       "  width: 100%;\n",
       "  border-bottom: 2px solid var(--sklearn-color-text-on-default-background);\n",
       "  flex-grow: 1;\n",
       "}\n",
       "\n",
       "#sk-container-id-7 div.sk-parallel {\n",
       "  display: flex;\n",
       "  align-items: stretch;\n",
       "  justify-content: center;\n",
       "  background-color: var(--sklearn-color-background);\n",
       "  position: relative;\n",
       "}\n",
       "\n",
       "#sk-container-id-7 div.sk-parallel-item {\n",
       "  display: flex;\n",
       "  flex-direction: column;\n",
       "}\n",
       "\n",
       "#sk-container-id-7 div.sk-parallel-item:first-child::after {\n",
       "  align-self: flex-end;\n",
       "  width: 50%;\n",
       "}\n",
       "\n",
       "#sk-container-id-7 div.sk-parallel-item:last-child::after {\n",
       "  align-self: flex-start;\n",
       "  width: 50%;\n",
       "}\n",
       "\n",
       "#sk-container-id-7 div.sk-parallel-item:only-child::after {\n",
       "  width: 0;\n",
       "}\n",
       "\n",
       "/* Serial-specific style estimator block */\n",
       "\n",
       "#sk-container-id-7 div.sk-serial {\n",
       "  display: flex;\n",
       "  flex-direction: column;\n",
       "  align-items: center;\n",
       "  background-color: var(--sklearn-color-background);\n",
       "  padding-right: 1em;\n",
       "  padding-left: 1em;\n",
       "}\n",
       "\n",
       "\n",
       "/* Toggleable style: style used for estimator/Pipeline/ColumnTransformer box that is\n",
       "clickable and can be expanded/collapsed.\n",
       "- Pipeline and ColumnTransformer use this feature and define the default style\n",
       "- Estimators will overwrite some part of the style using the `sk-estimator` class\n",
       "*/\n",
       "\n",
       "/* Pipeline and ColumnTransformer style (default) */\n",
       "\n",
       "#sk-container-id-7 div.sk-toggleable {\n",
       "  /* Default theme specific background. It is overwritten whether we have a\n",
       "  specific estimator or a Pipeline/ColumnTransformer */\n",
       "  background-color: var(--sklearn-color-background);\n",
       "}\n",
       "\n",
       "/* Toggleable label */\n",
       "#sk-container-id-7 label.sk-toggleable__label {\n",
       "  cursor: pointer;\n",
       "  display: block;\n",
       "  width: 100%;\n",
       "  margin-bottom: 0;\n",
       "  padding: 0.5em;\n",
       "  box-sizing: border-box;\n",
       "  text-align: center;\n",
       "}\n",
       "\n",
       "#sk-container-id-7 label.sk-toggleable__label-arrow:before {\n",
       "  /* Arrow on the left of the label */\n",
       "  content: \"▸\";\n",
       "  float: left;\n",
       "  margin-right: 0.25em;\n",
       "  color: var(--sklearn-color-icon);\n",
       "}\n",
       "\n",
       "#sk-container-id-7 label.sk-toggleable__label-arrow:hover:before {\n",
       "  color: var(--sklearn-color-text);\n",
       "}\n",
       "\n",
       "/* Toggleable content - dropdown */\n",
       "\n",
       "#sk-container-id-7 div.sk-toggleable__content {\n",
       "  max-height: 0;\n",
       "  max-width: 0;\n",
       "  overflow: hidden;\n",
       "  text-align: left;\n",
       "  /* unfitted */\n",
       "  background-color: var(--sklearn-color-unfitted-level-0);\n",
       "}\n",
       "\n",
       "#sk-container-id-7 div.sk-toggleable__content.fitted {\n",
       "  /* fitted */\n",
       "  background-color: var(--sklearn-color-fitted-level-0);\n",
       "}\n",
       "\n",
       "#sk-container-id-7 div.sk-toggleable__content pre {\n",
       "  margin: 0.2em;\n",
       "  border-radius: 0.25em;\n",
       "  color: var(--sklearn-color-text);\n",
       "  /* unfitted */\n",
       "  background-color: var(--sklearn-color-unfitted-level-0);\n",
       "}\n",
       "\n",
       "#sk-container-id-7 div.sk-toggleable__content.fitted pre {\n",
       "  /* unfitted */\n",
       "  background-color: var(--sklearn-color-fitted-level-0);\n",
       "}\n",
       "\n",
       "#sk-container-id-7 input.sk-toggleable__control:checked~div.sk-toggleable__content {\n",
       "  /* Expand drop-down */\n",
       "  max-height: 200px;\n",
       "  max-width: 100%;\n",
       "  overflow: auto;\n",
       "}\n",
       "\n",
       "#sk-container-id-7 input.sk-toggleable__control:checked~label.sk-toggleable__label-arrow:before {\n",
       "  content: \"▾\";\n",
       "}\n",
       "\n",
       "/* Pipeline/ColumnTransformer-specific style */\n",
       "\n",
       "#sk-container-id-7 div.sk-label input.sk-toggleable__control:checked~label.sk-toggleable__label {\n",
       "  color: var(--sklearn-color-text);\n",
       "  background-color: var(--sklearn-color-unfitted-level-2);\n",
       "}\n",
       "\n",
       "#sk-container-id-7 div.sk-label.fitted input.sk-toggleable__control:checked~label.sk-toggleable__label {\n",
       "  background-color: var(--sklearn-color-fitted-level-2);\n",
       "}\n",
       "\n",
       "/* Estimator-specific style */\n",
       "\n",
       "/* Colorize estimator box */\n",
       "#sk-container-id-7 div.sk-estimator input.sk-toggleable__control:checked~label.sk-toggleable__label {\n",
       "  /* unfitted */\n",
       "  background-color: var(--sklearn-color-unfitted-level-2);\n",
       "}\n",
       "\n",
       "#sk-container-id-7 div.sk-estimator.fitted input.sk-toggleable__control:checked~label.sk-toggleable__label {\n",
       "  /* fitted */\n",
       "  background-color: var(--sklearn-color-fitted-level-2);\n",
       "}\n",
       "\n",
       "#sk-container-id-7 div.sk-label label.sk-toggleable__label,\n",
       "#sk-container-id-7 div.sk-label label {\n",
       "  /* The background is the default theme color */\n",
       "  color: var(--sklearn-color-text-on-default-background);\n",
       "}\n",
       "\n",
       "/* On hover, darken the color of the background */\n",
       "#sk-container-id-7 div.sk-label:hover label.sk-toggleable__label {\n",
       "  color: var(--sklearn-color-text);\n",
       "  background-color: var(--sklearn-color-unfitted-level-2);\n",
       "}\n",
       "\n",
       "/* Label box, darken color on hover, fitted */\n",
       "#sk-container-id-7 div.sk-label.fitted:hover label.sk-toggleable__label.fitted {\n",
       "  color: var(--sklearn-color-text);\n",
       "  background-color: var(--sklearn-color-fitted-level-2);\n",
       "}\n",
       "\n",
       "/* Estimator label */\n",
       "\n",
       "#sk-container-id-7 div.sk-label label {\n",
       "  font-family: monospace;\n",
       "  font-weight: bold;\n",
       "  display: inline-block;\n",
       "  line-height: 1.2em;\n",
       "}\n",
       "\n",
       "#sk-container-id-7 div.sk-label-container {\n",
       "  text-align: center;\n",
       "}\n",
       "\n",
       "/* Estimator-specific */\n",
       "#sk-container-id-7 div.sk-estimator {\n",
       "  font-family: monospace;\n",
       "  border: 1px dotted var(--sklearn-color-border-box);\n",
       "  border-radius: 0.25em;\n",
       "  box-sizing: border-box;\n",
       "  margin-bottom: 0.5em;\n",
       "  /* unfitted */\n",
       "  background-color: var(--sklearn-color-unfitted-level-0);\n",
       "}\n",
       "\n",
       "#sk-container-id-7 div.sk-estimator.fitted {\n",
       "  /* fitted */\n",
       "  background-color: var(--sklearn-color-fitted-level-0);\n",
       "}\n",
       "\n",
       "/* on hover */\n",
       "#sk-container-id-7 div.sk-estimator:hover {\n",
       "  /* unfitted */\n",
       "  background-color: var(--sklearn-color-unfitted-level-2);\n",
       "}\n",
       "\n",
       "#sk-container-id-7 div.sk-estimator.fitted:hover {\n",
       "  /* fitted */\n",
       "  background-color: var(--sklearn-color-fitted-level-2);\n",
       "}\n",
       "\n",
       "/* Specification for estimator info (e.g. \"i\" and \"?\") */\n",
       "\n",
       "/* Common style for \"i\" and \"?\" */\n",
       "\n",
       ".sk-estimator-doc-link,\n",
       "a:link.sk-estimator-doc-link,\n",
       "a:visited.sk-estimator-doc-link {\n",
       "  float: right;\n",
       "  font-size: smaller;\n",
       "  line-height: 1em;\n",
       "  font-family: monospace;\n",
       "  background-color: var(--sklearn-color-background);\n",
       "  border-radius: 1em;\n",
       "  height: 1em;\n",
       "  width: 1em;\n",
       "  text-decoration: none !important;\n",
       "  margin-left: 1ex;\n",
       "  /* unfitted */\n",
       "  border: var(--sklearn-color-unfitted-level-1) 1pt solid;\n",
       "  color: var(--sklearn-color-unfitted-level-1);\n",
       "}\n",
       "\n",
       ".sk-estimator-doc-link.fitted,\n",
       "a:link.sk-estimator-doc-link.fitted,\n",
       "a:visited.sk-estimator-doc-link.fitted {\n",
       "  /* fitted */\n",
       "  border: var(--sklearn-color-fitted-level-1) 1pt solid;\n",
       "  color: var(--sklearn-color-fitted-level-1);\n",
       "}\n",
       "\n",
       "/* On hover */\n",
       "div.sk-estimator:hover .sk-estimator-doc-link:hover,\n",
       ".sk-estimator-doc-link:hover,\n",
       "div.sk-label-container:hover .sk-estimator-doc-link:hover,\n",
       ".sk-estimator-doc-link:hover {\n",
       "  /* unfitted */\n",
       "  background-color: var(--sklearn-color-unfitted-level-3);\n",
       "  color: var(--sklearn-color-background);\n",
       "  text-decoration: none;\n",
       "}\n",
       "\n",
       "div.sk-estimator.fitted:hover .sk-estimator-doc-link.fitted:hover,\n",
       ".sk-estimator-doc-link.fitted:hover,\n",
       "div.sk-label-container:hover .sk-estimator-doc-link.fitted:hover,\n",
       ".sk-estimator-doc-link.fitted:hover {\n",
       "  /* fitted */\n",
       "  background-color: var(--sklearn-color-fitted-level-3);\n",
       "  color: var(--sklearn-color-background);\n",
       "  text-decoration: none;\n",
       "}\n",
       "\n",
       "/* Span, style for the box shown on hovering the info icon */\n",
       ".sk-estimator-doc-link span {\n",
       "  display: none;\n",
       "  z-index: 9999;\n",
       "  position: relative;\n",
       "  font-weight: normal;\n",
       "  right: .2ex;\n",
       "  padding: .5ex;\n",
       "  margin: .5ex;\n",
       "  width: min-content;\n",
       "  min-width: 20ex;\n",
       "  max-width: 50ex;\n",
       "  color: var(--sklearn-color-text);\n",
       "  box-shadow: 2pt 2pt 4pt #999;\n",
       "  /* unfitted */\n",
       "  background: var(--sklearn-color-unfitted-level-0);\n",
       "  border: .5pt solid var(--sklearn-color-unfitted-level-3);\n",
       "}\n",
       "\n",
       ".sk-estimator-doc-link.fitted span {\n",
       "  /* fitted */\n",
       "  background: var(--sklearn-color-fitted-level-0);\n",
       "  border: var(--sklearn-color-fitted-level-3);\n",
       "}\n",
       "\n",
       ".sk-estimator-doc-link:hover span {\n",
       "  display: block;\n",
       "}\n",
       "\n",
       "/* \"?\"-specific style due to the `<a>` HTML tag */\n",
       "\n",
       "#sk-container-id-7 a.estimator_doc_link {\n",
       "  float: right;\n",
       "  font-size: 1rem;\n",
       "  line-height: 1em;\n",
       "  font-family: monospace;\n",
       "  background-color: var(--sklearn-color-background);\n",
       "  border-radius: 1rem;\n",
       "  height: 1rem;\n",
       "  width: 1rem;\n",
       "  text-decoration: none;\n",
       "  /* unfitted */\n",
       "  color: var(--sklearn-color-unfitted-level-1);\n",
       "  border: var(--sklearn-color-unfitted-level-1) 1pt solid;\n",
       "}\n",
       "\n",
       "#sk-container-id-7 a.estimator_doc_link.fitted {\n",
       "  /* fitted */\n",
       "  border: var(--sklearn-color-fitted-level-1) 1pt solid;\n",
       "  color: var(--sklearn-color-fitted-level-1);\n",
       "}\n",
       "\n",
       "/* On hover */\n",
       "#sk-container-id-7 a.estimator_doc_link:hover {\n",
       "  /* unfitted */\n",
       "  background-color: var(--sklearn-color-unfitted-level-3);\n",
       "  color: var(--sklearn-color-background);\n",
       "  text-decoration: none;\n",
       "}\n",
       "\n",
       "#sk-container-id-7 a.estimator_doc_link.fitted:hover {\n",
       "  /* fitted */\n",
       "  background-color: var(--sklearn-color-fitted-level-3);\n",
       "}\n",
       "</style><div id=\"sk-container-id-7\" class=\"sk-top-container\"><div class=\"sk-text-repr-fallback\"><pre>LinearRegression()</pre><b>In a Jupyter environment, please rerun this cell to show the HTML representation or trust the notebook. <br />On GitHub, the HTML representation is unable to render, please try loading this page with nbviewer.org.</b></div><div class=\"sk-container\" hidden><div class=\"sk-item\"><div class=\"sk-estimator fitted sk-toggleable\"><input class=\"sk-toggleable__control sk-hidden--visually\" id=\"sk-estimator-id-7\" type=\"checkbox\" checked><label for=\"sk-estimator-id-7\" class=\"sk-toggleable__label fitted sk-toggleable__label-arrow fitted\">&nbsp;&nbsp;LinearRegression<a class=\"sk-estimator-doc-link fitted\" rel=\"noreferrer\" target=\"_blank\" href=\"https://scikit-learn.org/1.4/modules/generated/sklearn.linear_model.LinearRegression.html\">?<span>Documentation for LinearRegression</span></a><span class=\"sk-estimator-doc-link fitted\">i<span>Fitted</span></span></label><div class=\"sk-toggleable__content fitted\"><pre>LinearRegression()</pre></div> </div></div></div></div>"
      ],
      "text/plain": [
       "LinearRegression()"
      ]
     },
     "execution_count": 364,
     "metadata": {},
     "output_type": "execute_result"
    }
   ],
   "source": [
    "# Fit the model on the training data\n",
    "model.fit(X_train_scaled, y_train)"
   ]
  },
  {
   "cell_type": "code",
   "execution_count": 365,
   "id": "e2d3fd07-8854-4400-98a4-431b5aead859",
   "metadata": {},
   "outputs": [
    {
     "name": "stdout",
     "output_type": "stream",
     "text": [
      "Fitting 10 folds for each of 6 candidates, totalling 60 fits\n",
      "Fitting 10 folds for each of 6 candidates, totalling 60 fits\n",
      "Best Parameters for ridge model: {'alpha': 1}\n",
      "Best Parameters for lasso model: {'alpha': 0.1}\n"
     ]
    }
   ],
   "source": [
    "# Fit GridSearchCV on the scaled training data\n",
    "grid_search_ridge.fit(X_train_scaled, y_train)\n",
    "grid_search_lasso.fit(X_train_scaled, y_train)\n",
    "\n",
    "# Get the best parameters and best model\n",
    "\n",
    "# Ridge\n",
    "best_params_ridge = grid_search_ridge.best_params_\n",
    "best_model_ridge = grid_search_ridge.best_estimator_\n",
    "\n",
    "# Lasso\n",
    "best_params_lasso = grid_search_lasso.best_params_\n",
    "best_model_lasso = grid_search_lasso.best_estimator_\n",
    "\n",
    "print(\"Best Parameters for ridge model:\", best_params_ridge)\n",
    "print(\"Best Parameters for lasso model:\", best_params_lasso)"
   ]
  },
  {
   "cell_type": "markdown",
   "id": "63c824b6-cc97-4e54-9436-0acd4553a018",
   "metadata": {},
   "source": [
    "### Test the Model"
   ]
  },
  {
   "cell_type": "code",
   "execution_count": 366,
   "id": "354146a9-930f-4221-ba1f-703f090bafd9",
   "metadata": {},
   "outputs": [],
   "source": [
    "# Predict and evaluate the model\n",
    "\n",
    "y_pred = model.predict(X_test_scaled) # Linear regression model\n",
    "y_pred_ridge = best_model_ridge.predict(X_test_scaled) # Ridge model\n",
    "y_pred_lasso = best_model_lasso.predict(X_test_scaled) # Lasso model"
   ]
  },
  {
   "cell_type": "markdown",
   "id": "36e10668-ea3a-4724-981f-45262e6badf7",
   "metadata": {},
   "source": [
    "### Interpretation of the Model"
   ]
  },
  {
   "cell_type": "code",
   "execution_count": 367,
   "id": "e826d808-2a90-499b-90ef-86ed7477acb1",
   "metadata": {},
   "outputs": [],
   "source": [
    "coeff_df = pd.DataFrame(model.coef_,X.columns,columns=['Coefficient']) # Linear model cofficients\n",
    "coeff_df_ridge = pd.DataFrame(best_model_ridge.coef_,X.columns,columns=['Coefficient']) # Ridge model cofficients\n",
    "coeff_df_lasso = pd.DataFrame(best_model_lasso.coef_,X.columns,columns=['Coefficient']) # Lasso model cofficients"
   ]
  },
  {
   "cell_type": "code",
   "execution_count": 368,
   "id": "16a00ebb-b4da-44c4-8aeb-b4b2c6af6fa1",
   "metadata": {},
   "outputs": [
    {
     "data": {
      "text/html": [
       "<div>\n",
       "<style scoped>\n",
       "    .dataframe tbody tr th:only-of-type {\n",
       "        vertical-align: middle;\n",
       "    }\n",
       "\n",
       "    .dataframe tbody tr th {\n",
       "        vertical-align: top;\n",
       "    }\n",
       "\n",
       "    .dataframe thead th {\n",
       "        text-align: right;\n",
       "    }\n",
       "</style>\n",
       "<table border=\"1\" class=\"dataframe\">\n",
       "  <thead>\n",
       "    <tr style=\"text-align: right;\">\n",
       "      <th></th>\n",
       "      <th>Coefficient</th>\n",
       "    </tr>\n",
       "  </thead>\n",
       "  <tbody>\n",
       "    <tr>\n",
       "      <th>age</th>\n",
       "      <td>-6.820630e+05</td>\n",
       "    </tr>\n",
       "    <tr>\n",
       "      <th>appearance</th>\n",
       "      <td>-6.863186e+05</td>\n",
       "    </tr>\n",
       "    <tr>\n",
       "      <th>goals</th>\n",
       "      <td>9.259983e+04</td>\n",
       "    </tr>\n",
       "    <tr>\n",
       "      <th>assists</th>\n",
       "      <td>9.867428e+04</td>\n",
       "    </tr>\n",
       "    <tr>\n",
       "      <th>minutes played</th>\n",
       "      <td>1.111404e+06</td>\n",
       "    </tr>\n",
       "    <tr>\n",
       "      <th>days_injured</th>\n",
       "      <td>3.344966e+05</td>\n",
       "    </tr>\n",
       "    <tr>\n",
       "      <th>games_injured</th>\n",
       "      <td>-6.873285e+05</td>\n",
       "    </tr>\n",
       "    <tr>\n",
       "      <th>award</th>\n",
       "      <td>3.371822e+04</td>\n",
       "    </tr>\n",
       "    <tr>\n",
       "      <th>highest_value</th>\n",
       "      <td>2.983734e+06</td>\n",
       "    </tr>\n",
       "    <tr>\n",
       "      <th>team_AS Monaco</th>\n",
       "      <td>1.558480e+05</td>\n",
       "    </tr>\n",
       "    <tr>\n",
       "      <th>team_Arsenal FC</th>\n",
       "      <td>1.759756e+05</td>\n",
       "    </tr>\n",
       "    <tr>\n",
       "      <th>team_Atalanta BC</th>\n",
       "      <td>8.882114e+04</td>\n",
       "    </tr>\n",
       "    <tr>\n",
       "      <th>team_Brentford FC</th>\n",
       "      <td>2.441368e+05</td>\n",
       "    </tr>\n",
       "    <tr>\n",
       "      <th>team_Brighton &amp;amp; Hove Albion</th>\n",
       "      <td>1.716476e+05</td>\n",
       "    </tr>\n",
       "    <tr>\n",
       "      <th>team_Chelsea FC</th>\n",
       "      <td>1.468427e+05</td>\n",
       "    </tr>\n",
       "    <tr>\n",
       "      <th>team_Crystal Palace</th>\n",
       "      <td>4.641055e+04</td>\n",
       "    </tr>\n",
       "    <tr>\n",
       "      <th>team_Everton FC</th>\n",
       "      <td>4.941036e+04</td>\n",
       "    </tr>\n",
       "    <tr>\n",
       "      <th>team_Leeds United</th>\n",
       "      <td>1.717193e+05</td>\n",
       "    </tr>\n",
       "    <tr>\n",
       "      <th>team_Leicester City</th>\n",
       "      <td>2.349699e+05</td>\n",
       "    </tr>\n",
       "    <tr>\n",
       "      <th>team_Olympique Lyon</th>\n",
       "      <td>2.018160e+05</td>\n",
       "    </tr>\n",
       "    <tr>\n",
       "      <th>team_Southampton FC</th>\n",
       "      <td>1.585848e+05</td>\n",
       "    </tr>\n",
       "    <tr>\n",
       "      <th>team_Stade Rennais FC</th>\n",
       "      <td>1.604799e+05</td>\n",
       "    </tr>\n",
       "    <tr>\n",
       "      <th>team_Wolverhampton Wanderers</th>\n",
       "      <td>1.726786e+05</td>\n",
       "    </tr>\n",
       "  </tbody>\n",
       "</table>\n",
       "</div>"
      ],
      "text/plain": [
       "                                  Coefficient\n",
       "age                             -6.820630e+05\n",
       "appearance                      -6.863186e+05\n",
       "goals                            9.259983e+04\n",
       "assists                          9.867428e+04\n",
       "minutes played                   1.111404e+06\n",
       "days_injured                     3.344966e+05\n",
       "games_injured                   -6.873285e+05\n",
       "award                            3.371822e+04\n",
       "highest_value                    2.983734e+06\n",
       "team_AS Monaco                   1.558480e+05\n",
       "team_Arsenal FC                  1.759756e+05\n",
       "team_Atalanta BC                 8.882114e+04\n",
       "team_Brentford FC                2.441368e+05\n",
       "team_Brighton &amp; Hove Albion  1.716476e+05\n",
       "team_Chelsea FC                  1.468427e+05\n",
       "team_Crystal Palace              4.641055e+04\n",
       "team_Everton FC                  4.941036e+04\n",
       "team_Leeds United                1.717193e+05\n",
       "team_Leicester City              2.349699e+05\n",
       "team_Olympique Lyon              2.018160e+05\n",
       "team_Southampton FC              1.585848e+05\n",
       "team_Stade Rennais FC            1.604799e+05\n",
       "team_Wolverhampton Wanderers     1.726786e+05"
      ]
     },
     "execution_count": 368,
     "metadata": {},
     "output_type": "execute_result"
    }
   ],
   "source": [
    "coeff_df"
   ]
  },
  {
   "cell_type": "code",
   "execution_count": 369,
   "id": "09e723d7-f737-4342-8437-f23c936ce8e2",
   "metadata": {},
   "outputs": [
    {
     "data": {
      "text/html": [
       "<div>\n",
       "<style scoped>\n",
       "    .dataframe tbody tr th:only-of-type {\n",
       "        vertical-align: middle;\n",
       "    }\n",
       "\n",
       "    .dataframe tbody tr th {\n",
       "        vertical-align: top;\n",
       "    }\n",
       "\n",
       "    .dataframe thead th {\n",
       "        text-align: right;\n",
       "    }\n",
       "</style>\n",
       "<table border=\"1\" class=\"dataframe\">\n",
       "  <thead>\n",
       "    <tr style=\"text-align: right;\">\n",
       "      <th></th>\n",
       "      <th>Coefficient</th>\n",
       "    </tr>\n",
       "  </thead>\n",
       "  <tbody>\n",
       "    <tr>\n",
       "      <th>age</th>\n",
       "      <td>-6.819011e+05</td>\n",
       "    </tr>\n",
       "    <tr>\n",
       "      <th>appearance</th>\n",
       "      <td>-6.837493e+05</td>\n",
       "    </tr>\n",
       "    <tr>\n",
       "      <th>goals</th>\n",
       "      <td>9.243360e+04</td>\n",
       "    </tr>\n",
       "    <tr>\n",
       "      <th>assists</th>\n",
       "      <td>9.857448e+04</td>\n",
       "    </tr>\n",
       "    <tr>\n",
       "      <th>minutes played</th>\n",
       "      <td>1.109037e+06</td>\n",
       "    </tr>\n",
       "    <tr>\n",
       "      <th>days_injured</th>\n",
       "      <td>3.326038e+05</td>\n",
       "    </tr>\n",
       "    <tr>\n",
       "      <th>games_injured</th>\n",
       "      <td>-6.852729e+05</td>\n",
       "    </tr>\n",
       "    <tr>\n",
       "      <th>award</th>\n",
       "      <td>3.375587e+04</td>\n",
       "    </tr>\n",
       "    <tr>\n",
       "      <th>highest_value</th>\n",
       "      <td>2.982924e+06</td>\n",
       "    </tr>\n",
       "    <tr>\n",
       "      <th>team_AS Monaco</th>\n",
       "      <td>1.558605e+05</td>\n",
       "    </tr>\n",
       "    <tr>\n",
       "      <th>team_Arsenal FC</th>\n",
       "      <td>1.759677e+05</td>\n",
       "    </tr>\n",
       "    <tr>\n",
       "      <th>team_Atalanta BC</th>\n",
       "      <td>8.884749e+04</td>\n",
       "    </tr>\n",
       "    <tr>\n",
       "      <th>team_Brentford FC</th>\n",
       "      <td>2.441185e+05</td>\n",
       "    </tr>\n",
       "    <tr>\n",
       "      <th>team_Brighton &amp;amp; Hove Albion</th>\n",
       "      <td>1.716731e+05</td>\n",
       "    </tr>\n",
       "    <tr>\n",
       "      <th>team_Chelsea FC</th>\n",
       "      <td>1.468450e+05</td>\n",
       "    </tr>\n",
       "    <tr>\n",
       "      <th>team_Crystal Palace</th>\n",
       "      <td>4.646743e+04</td>\n",
       "    </tr>\n",
       "    <tr>\n",
       "      <th>team_Everton FC</th>\n",
       "      <td>4.949800e+04</td>\n",
       "    </tr>\n",
       "    <tr>\n",
       "      <th>team_Leeds United</th>\n",
       "      <td>1.717711e+05</td>\n",
       "    </tr>\n",
       "    <tr>\n",
       "      <th>team_Leicester City</th>\n",
       "      <td>2.350154e+05</td>\n",
       "    </tr>\n",
       "    <tr>\n",
       "      <th>team_Olympique Lyon</th>\n",
       "      <td>2.018471e+05</td>\n",
       "    </tr>\n",
       "    <tr>\n",
       "      <th>team_Southampton FC</th>\n",
       "      <td>1.586147e+05</td>\n",
       "    </tr>\n",
       "    <tr>\n",
       "      <th>team_Stade Rennais FC</th>\n",
       "      <td>1.604846e+05</td>\n",
       "    </tr>\n",
       "    <tr>\n",
       "      <th>team_Wolverhampton Wanderers</th>\n",
       "      <td>1.726830e+05</td>\n",
       "    </tr>\n",
       "  </tbody>\n",
       "</table>\n",
       "</div>"
      ],
      "text/plain": [
       "                                  Coefficient\n",
       "age                             -6.819011e+05\n",
       "appearance                      -6.837493e+05\n",
       "goals                            9.243360e+04\n",
       "assists                          9.857448e+04\n",
       "minutes played                   1.109037e+06\n",
       "days_injured                     3.326038e+05\n",
       "games_injured                   -6.852729e+05\n",
       "award                            3.375587e+04\n",
       "highest_value                    2.982924e+06\n",
       "team_AS Monaco                   1.558605e+05\n",
       "team_Arsenal FC                  1.759677e+05\n",
       "team_Atalanta BC                 8.884749e+04\n",
       "team_Brentford FC                2.441185e+05\n",
       "team_Brighton &amp; Hove Albion  1.716731e+05\n",
       "team_Chelsea FC                  1.468450e+05\n",
       "team_Crystal Palace              4.646743e+04\n",
       "team_Everton FC                  4.949800e+04\n",
       "team_Leeds United                1.717711e+05\n",
       "team_Leicester City              2.350154e+05\n",
       "team_Olympique Lyon              2.018471e+05\n",
       "team_Southampton FC              1.586147e+05\n",
       "team_Stade Rennais FC            1.604846e+05\n",
       "team_Wolverhampton Wanderers     1.726830e+05"
      ]
     },
     "execution_count": 369,
     "metadata": {},
     "output_type": "execute_result"
    }
   ],
   "source": [
    "coeff_df_ridge"
   ]
  },
  {
   "cell_type": "code",
   "execution_count": 370,
   "id": "d99ae490-3f0c-4689-9ad4-a54870a61b64",
   "metadata": {},
   "outputs": [
    {
     "data": {
      "text/html": [
       "<div>\n",
       "<style scoped>\n",
       "    .dataframe tbody tr th:only-of-type {\n",
       "        vertical-align: middle;\n",
       "    }\n",
       "\n",
       "    .dataframe tbody tr th {\n",
       "        vertical-align: top;\n",
       "    }\n",
       "\n",
       "    .dataframe thead th {\n",
       "        text-align: right;\n",
       "    }\n",
       "</style>\n",
       "<table border=\"1\" class=\"dataframe\">\n",
       "  <thead>\n",
       "    <tr style=\"text-align: right;\">\n",
       "      <th></th>\n",
       "      <th>Coefficient</th>\n",
       "    </tr>\n",
       "  </thead>\n",
       "  <tbody>\n",
       "    <tr>\n",
       "      <th>age</th>\n",
       "      <td>-6.820629e+05</td>\n",
       "    </tr>\n",
       "    <tr>\n",
       "      <th>appearance</th>\n",
       "      <td>-6.863169e+05</td>\n",
       "    </tr>\n",
       "    <tr>\n",
       "      <th>goals</th>\n",
       "      <td>9.259963e+04</td>\n",
       "    </tr>\n",
       "    <tr>\n",
       "      <th>assists</th>\n",
       "      <td>9.867413e+04</td>\n",
       "    </tr>\n",
       "    <tr>\n",
       "      <th>minutes played</th>\n",
       "      <td>1.111402e+06</td>\n",
       "    </tr>\n",
       "    <tr>\n",
       "      <th>days_injured</th>\n",
       "      <td>3.344944e+05</td>\n",
       "    </tr>\n",
       "    <tr>\n",
       "      <th>games_injured</th>\n",
       "      <td>-6.873262e+05</td>\n",
       "    </tr>\n",
       "    <tr>\n",
       "      <th>award</th>\n",
       "      <td>3.371802e+04</td>\n",
       "    </tr>\n",
       "    <tr>\n",
       "      <th>highest_value</th>\n",
       "      <td>2.983734e+06</td>\n",
       "    </tr>\n",
       "    <tr>\n",
       "      <th>team_AS Monaco</th>\n",
       "      <td>1.558479e+05</td>\n",
       "    </tr>\n",
       "    <tr>\n",
       "      <th>team_Arsenal FC</th>\n",
       "      <td>1.759755e+05</td>\n",
       "    </tr>\n",
       "    <tr>\n",
       "      <th>team_Atalanta BC</th>\n",
       "      <td>8.882103e+04</td>\n",
       "    </tr>\n",
       "    <tr>\n",
       "      <th>team_Brentford FC</th>\n",
       "      <td>2.441367e+05</td>\n",
       "    </tr>\n",
       "    <tr>\n",
       "      <th>team_Brighton &amp;amp; Hove Albion</th>\n",
       "      <td>1.716475e+05</td>\n",
       "    </tr>\n",
       "    <tr>\n",
       "      <th>team_Chelsea FC</th>\n",
       "      <td>1.468426e+05</td>\n",
       "    </tr>\n",
       "    <tr>\n",
       "      <th>team_Crystal Palace</th>\n",
       "      <td>4.641046e+04</td>\n",
       "    </tr>\n",
       "    <tr>\n",
       "      <th>team_Everton FC</th>\n",
       "      <td>4.941026e+04</td>\n",
       "    </tr>\n",
       "    <tr>\n",
       "      <th>team_Leeds United</th>\n",
       "      <td>1.717192e+05</td>\n",
       "    </tr>\n",
       "    <tr>\n",
       "      <th>team_Leicester City</th>\n",
       "      <td>2.349698e+05</td>\n",
       "    </tr>\n",
       "    <tr>\n",
       "      <th>team_Olympique Lyon</th>\n",
       "      <td>2.018159e+05</td>\n",
       "    </tr>\n",
       "    <tr>\n",
       "      <th>team_Southampton FC</th>\n",
       "      <td>1.585847e+05</td>\n",
       "    </tr>\n",
       "    <tr>\n",
       "      <th>team_Stade Rennais FC</th>\n",
       "      <td>1.604798e+05</td>\n",
       "    </tr>\n",
       "    <tr>\n",
       "      <th>team_Wolverhampton Wanderers</th>\n",
       "      <td>1.726785e+05</td>\n",
       "    </tr>\n",
       "  </tbody>\n",
       "</table>\n",
       "</div>"
      ],
      "text/plain": [
       "                                  Coefficient\n",
       "age                             -6.820629e+05\n",
       "appearance                      -6.863169e+05\n",
       "goals                            9.259963e+04\n",
       "assists                          9.867413e+04\n",
       "minutes played                   1.111402e+06\n",
       "days_injured                     3.344944e+05\n",
       "games_injured                   -6.873262e+05\n",
       "award                            3.371802e+04\n",
       "highest_value                    2.983734e+06\n",
       "team_AS Monaco                   1.558479e+05\n",
       "team_Arsenal FC                  1.759755e+05\n",
       "team_Atalanta BC                 8.882103e+04\n",
       "team_Brentford FC                2.441367e+05\n",
       "team_Brighton &amp; Hove Albion  1.716475e+05\n",
       "team_Chelsea FC                  1.468426e+05\n",
       "team_Crystal Palace              4.641046e+04\n",
       "team_Everton FC                  4.941026e+04\n",
       "team_Leeds United                1.717192e+05\n",
       "team_Leicester City              2.349698e+05\n",
       "team_Olympique Lyon              2.018159e+05\n",
       "team_Southampton FC              1.585847e+05\n",
       "team_Stade Rennais FC            1.604798e+05\n",
       "team_Wolverhampton Wanderers     1.726785e+05"
      ]
     },
     "execution_count": 370,
     "metadata": {},
     "output_type": "execute_result"
    }
   ],
   "source": [
    "coeff_df_lasso"
   ]
  },
  {
   "cell_type": "code",
   "execution_count": 371,
   "id": "9dbd4dac-386d-4ca0-ace1-2d43a39f60ea",
   "metadata": {},
   "outputs": [
    {
     "name": "stdout",
     "output_type": "stream",
     "text": [
      " Linear regression intercept: 2354119.4705093843\n",
      " Ridge model intercept: 2354119.4705093843\n",
      " Lasso model intercept: 2354119.4705093843\n"
     ]
    }
   ],
   "source": [
    "print(f\" Linear regression intercept: {model.intercept_}\") \n",
    "print(f\" Ridge model intercept: {best_model_ridge.intercept_}\") \n",
    "print(f\" Lasso model intercept: {best_model_lasso.intercept_}\") "
   ]
  },
  {
   "cell_type": "markdown",
   "id": "22df02f3-ab01-47f9-9f84-9c2e26f8d46a",
   "metadata": {},
   "source": [
    "### Evaluating the Model"
   ]
  },
  {
   "cell_type": "markdown",
   "id": "478b230f-d335-41e3-adbe-4b7ca85ca5b0",
   "metadata": {},
   "source": [
    "#### Mean Square Error"
   ]
  },
  {
   "cell_type": "code",
   "execution_count": 372,
   "id": "720a9926-5630-40c1-883b-d146d57b3ba5",
   "metadata": {},
   "outputs": [],
   "source": [
    "y_base = [y_train.mean()] * len(y_test)"
   ]
  },
  {
   "cell_type": "code",
   "execution_count": 373,
   "id": "0b2dccf2-461f-4442-b28f-96aef64c39ea",
   "metadata": {},
   "outputs": [
    {
     "name": "stdout",
     "output_type": "stream",
     "text": [
      "Mean Squared Error of base model: 15873247473910.93\n"
     ]
    }
   ],
   "source": [
    "# our benchmark model\n",
    "mse_base = mean_squared_error(y_test, y_base )\n",
    "print(f'Mean Squared Error of base model: {mse_base}')"
   ]
  },
  {
   "cell_type": "code",
   "execution_count": 374,
   "id": "d9424863-1d33-424f-8b2a-b6962be755c6",
   "metadata": {},
   "outputs": [
    {
     "name": "stdout",
     "output_type": "stream",
     "text": [
      "Mean Squared Error for training: 3817487298990.1973\n",
      "Mean Squared Error for testing: 4141188874420.4946\n",
      "Mean Squared Error for training ridge model: 3817488795110.1167\n",
      "Mean Squared Error for testing ridge model: 4141474846834.2983\n",
      "Mean Squared Error for training lasso model: 3817487298991.2163\n",
      "Mean Squared Error for testing lasso model: 4141188956689.919\n"
     ]
    }
   ],
   "source": [
    "# MSE for Linear model\n",
    "mse_train = mean_squared_error(y_train, model.predict(X_train_scaled))\n",
    "mse_test = mean_squared_error(y_test, y_pred)\n",
    "print(f'Mean Squared Error for training: {mse_train}')\n",
    "print(f'Mean Squared Error for testing: {mse_test}')\n",
    "\n",
    "# MSE for Ridge model\n",
    "mse_train_ridge = mean_squared_error(y_train, best_model_ridge.predict(X_train_scaled))\n",
    "mse_test_ridge = mean_squared_error(y_test, y_pred_ridge)\n",
    "print(f'Mean Squared Error for training ridge model: {mse_train_ridge}')\n",
    "print(f'Mean Squared Error for testing ridge model: {mse_test_ridge}')\n",
    "\n",
    "# MSE Lasso model\n",
    "mse_train_lasso = mean_squared_error(y_train, best_model_lasso.predict(X_train_scaled))\n",
    "mse_test_lasso = mean_squared_error(y_test, y_pred_lasso)\n",
    "print(f'Mean Squared Error for training lasso model: {mse_train_lasso}')\n",
    "print(f'Mean Squared Error for testing lasso model: {mse_test_lasso}')"
   ]
  },
  {
   "cell_type": "markdown",
   "id": "bd5d2c1d-d79b-4870-8dd1-cc81f4ecf29e",
   "metadata": {},
   "source": [
    "#### Mean Absolute Error"
   ]
  },
  {
   "cell_type": "code",
   "execution_count": 375,
   "id": "b3390b27-c69b-4d3f-b6b6-446e62da4abb",
   "metadata": {},
   "outputs": [
    {
     "name": "stdout",
     "output_type": "stream",
     "text": [
      "Mean Absolute  Error of base model: 2419751.2403057595\n"
     ]
    }
   ],
   "source": [
    "# our benchmark model\n",
    "mae_base = mean_absolute_error(y_test, y_base )\n",
    "print(f'Mean Absolute  Error of base model: {mae_base}')"
   ]
  },
  {
   "cell_type": "code",
   "execution_count": 376,
   "id": "9071a465-b69b-4d7a-b5dc-f942ef97ff8c",
   "metadata": {},
   "outputs": [
    {
     "name": "stdout",
     "output_type": "stream",
     "text": [
      "Mean Absolute Error for training: 1187244.7553769283\n",
      "Mean Absolute Error for testing: 1233416.0900915915\n",
      "Mean Absolute Error for training ridge model: 1187143.5181598722\n",
      "Mean Absolute Error for testing ridge model: 1233344.0169452135\n",
      "Mean Absolute Error for training lasso model: 1187244.658549822\n",
      "Mean Absolute Error for testing lasso model: 1233416.0240804737\n"
     ]
    }
   ],
   "source": [
    "# Linear model\n",
    "mae_train = mean_absolute_error(y_train, model.predict(X_train_scaled))\n",
    "mae_test = mean_absolute_error(y_test, y_pred)\n",
    "print(f'Mean Absolute Error for training: {mae_train}')\n",
    "print(f'Mean Absolute Error for testing: {mae_test}')\n",
    "\n",
    "# MSE for Ridge model\n",
    "mae_train_ridge = mean_absolute_error(y_train, best_model_ridge.predict(X_train_scaled))\n",
    "mae_test_ridge = mean_absolute_error(y_test, y_pred_ridge)\n",
    "print(f'Mean Absolute Error for training ridge model: {mae_train_ridge}')\n",
    "print(f'Mean Absolute Error for testing ridge model: {mae_test_ridge}')\n",
    "\n",
    "# Lasso model\n",
    "mae_train_lasso = mean_absolute_error(y_train, best_model_lasso.predict(X_train_scaled))\n",
    "mae_test_lasso = mean_absolute_error(y_test, y_pred_lasso)\n",
    "print(f'Mean Absolute Error for training lasso model: {mae_train_lasso}')\n",
    "print(f'Mean Absolute Error for testing lasso model: {mae_test_lasso}')"
   ]
  },
  {
   "cell_type": "markdown",
   "id": "bebb5ebf-2e61-4f48-850d-0a9dd91a2094",
   "metadata": {},
   "source": [
    "#### Root Mean Squared Error"
   ]
  },
  {
   "cell_type": "code",
   "execution_count": 377,
   "id": "69d5b7e7-c564-4ad5-a97d-7425b8432f38",
   "metadata": {},
   "outputs": [
    {
     "name": "stdout",
     "output_type": "stream",
     "text": [
      "Root Mean Squared  Error of base model: 3984124.430023607\n"
     ]
    }
   ],
   "source": [
    "# our benchmark model\n",
    "print(f'Root Mean Squared  Error of base model: {np.sqrt(mse_base)}')"
   ]
  },
  {
   "cell_type": "code",
   "execution_count": 378,
   "id": "2dc51784-08e4-4866-9df4-f339f5044c09",
   "metadata": {},
   "outputs": [
    {
     "name": "stdout",
     "output_type": "stream",
     "text": [
      "Root Mean Squared Error for training: 1953839.1179905774\n",
      "Root Mean Squared Error for testing: 2034991.123916882\n",
      "Root Mean Squared Error for training ridge model: 1953839.5008572522\n",
      "Root Mean Squared Error for testing ridge model: 2035061.3865027016\n",
      "Root Mean Squared Error for training lasso model: 1953839.1179908381\n",
      "Root Mean Squared Error for testing lasso model: 2034991.1441305878\n"
     ]
    }
   ],
   "source": [
    "# RMSE for Linear model\n",
    "\n",
    "print(f'Root Mean Squared Error for training: {np.sqrt(mse_train)}')\n",
    "print(f'Root Mean Squared Error for testing: {np.sqrt(mse_test)}')\n",
    "\n",
    "# RMSE for Ridge model\n",
    "\n",
    "print(f'Root Mean Squared Error for training ridge model: {np.sqrt(mse_train_ridge)}')\n",
    "print(f'Root Mean Squared Error for testing ridge model: {np.sqrt(mse_test_ridge)}')\n",
    "\n",
    "# RMSE Lasso model\n",
    "\n",
    "print(f'Root Mean Squared Error for training lasso model: {np.sqrt(mse_train_lasso)}')\n",
    "print(f'Root Mean Squared Error for testing lasso model: {np.sqrt(mse_test_lasso)}')"
   ]
  },
  {
   "cell_type": "markdown",
   "id": "a52fdb0c-258b-487a-8bb1-dc7b5c4a78f3",
   "metadata": {},
   "source": [
    "#### R Square"
   ]
  },
  {
   "cell_type": "code",
   "execution_count": 379,
   "id": "ad0177f9-c6d5-4ac1-9332-3256a53b8809",
   "metadata": {},
   "outputs": [
    {
     "name": "stdout",
     "output_type": "stream",
     "text": [
      "R Square for training: 0.7438664177678682\n",
      "R Square for testing: 0.7390902227708103\n",
      "R Square for training ridge model: 0.7438663173859875\n",
      "R Square for testing ridge model: 0.7390722054813212\n",
      "R Square for training lasso model: 0.7438664177677998\n",
      "R Square for testing lasso model: 0.739090217587541\n"
     ]
    }
   ],
   "source": [
    "# Linear model r2 score\n",
    "r2_score_train = r2_score(y_train, model.predict(X_train_scaled))\n",
    "r2_score_test = r2_score(y_test, y_pred)\n",
    "print(f'R Square for training: {r2_score_train}')\n",
    "print(f'R Square for testing: {r2_score_test}')\n",
    "\n",
    "# Ridge model r2 score\n",
    "r2_score_train_ridge = r2_score(y_train, best_model_ridge.predict(X_train_scaled))\n",
    "r2_score_test_ridge = r2_score(y_test, y_pred_ridge)\n",
    "print(f'R Square for training ridge model: {r2_score_train_ridge}')\n",
    "print(f'R Square for testing ridge model: {r2_score_test_ridge}')\n",
    "\n",
    "# Lasso model r2 score\n",
    "r2_score_train_lasso = r2_score(y_train, best_model_lasso.predict(X_train_scaled))\n",
    "r2_score_test_lasso = r2_score(y_test, y_pred_lasso)\n",
    "print(f'R Square for training lasso model: {r2_score_train_lasso}')\n",
    "print(f'R Square for testing lasso model: {r2_score_test_lasso}')"
   ]
  },
  {
   "cell_type": "markdown",
   "id": "c31e6b20-3f22-4a17-810a-956c7e69de4b",
   "metadata": {},
   "source": [
    "### Predictions vs. Real Values"
   ]
  },
  {
   "cell_type": "code",
   "execution_count": 380,
   "id": "feb90dfe-6b97-46d8-96a5-af955fc84d40",
   "metadata": {},
   "outputs": [],
   "source": [
    "predictions = model.predict(X_test_scaled)"
   ]
  },
  {
   "cell_type": "code",
   "execution_count": 381,
   "id": "fec61395-41b7-420d-87aa-95f7b6cc20af",
   "metadata": {},
   "outputs": [],
   "source": [
    "#predictions\n",
    "Real_Values = np.array(y_test)"
   ]
  },
  {
   "cell_type": "code",
   "execution_count": 382,
   "id": "7c2e7b6f-6ba2-4d7d-ae18-51462f71b923",
   "metadata": {},
   "outputs": [
    {
     "data": {
      "image/png": "[encoded data removed]",
      "text/plain": [
       "<Figure size 640x480 with 1 Axes>"
      ]
     },
     "metadata": {},
     "output_type": "display_data"
    }
   ],
   "source": [
    "#Real_Values\n",
    "plt.scatter(Real_Values, predictions, color='pink')\n",
    "plt.xlabel(\"Real Values\")\n",
    "plt.ylabel(\"Predictions\")\n",
    "plt.title(\"Scatter Plot of Real Values vs Predictions\")\n",
    "plt.show()"
   ]
  },
  {
   "cell_type": "code",
   "execution_count": 383,
   "id": "2ea88b97-590d-48e7-8893-f43a7ebb4483",
   "metadata": {},
   "outputs": [
    {
     "data": {
      "image/png": "[encoded data removed]",
      "text/plain": [
       "<Figure size 640x480 with 1 Axes>"
      ]
     },
     "metadata": {},
     "output_type": "display_data"
    }
   ],
   "source": [
    "sns.distplot((y_test-predictions),bins=100); # it's good if we get normal distribution"
   ]
  },
  {
   "cell_type": "code",
   "execution_count": null,
   "id": "0a139980-a1cd-4439-bebd-6e037356af76",
   "metadata": {},
   "outputs": [],
   "source": []
  },
  {
   "cell_type": "code",
   "execution_count": null,
   "id": "8ac7097d-1cec-4c36-94ea-a90392c34c55",
   "metadata": {},
   "outputs": [],
   "source": []
  }
 ],
 "metadata": {
  "kernelspec": {
   "display_name": "Python 3 (ipykernel)",
   "language": "python",
   "name": "python3"
  },
  "language_info": {
   "codemirror_mode": {
    "name": "ipython",
    "version": 3
   },
   "file_extension": ".py",
   "mimetype": "text/x-python",
   "name": "python",
   "nbconvert_exporter": "python",
   "pygments_lexer": "ipython3",
   "version": "3.12.4"
  }
 },
 "nbformat": 4,
 "nbformat_minor": 5
}
