{
 "cells": [
  {
   "cell_type": "code",
   "execution_count": 79,
   "metadata": {},
   "outputs": [],
   "source": [
    "#Import all relevant libraries\n",
    "import numpy as np\n",
    "import pandas as pd\n",
    "import matplotlib.pyplot as plt\n",
    "import seaborn as sns\n",
    "from scipy.stats import zscore\n",
    "import plotly.express as px\n",
    "import plotly.graph_objects as go\n",
    "from sklearn.model_selection import train_test_split\n",
    "from sklearn.metrics import mean_squared_error, r2_score, mean_absolute_error\n",
    "from sklearn.preprocessing import StandardScaler\n",
    "from sklearn.linear_model import LinearRegression, Ridge, Lasso\n",
    "from sklearn.model_selection import GridSearchCV\n",
    "from sklearn import metrics\n",
    "from sklearn.model_selection import GridSearchCV\n",
    "import warnings\n",
    "warnings.filterwarnings(\"ignore\")\n",
    "\n",
    "\n",
    " \n",
    "## This statement allows the visuals to render within your Jupyter Notebook.\n",
    "%matplotlib inline"
   ]
  },
  {
   "cell_type": "markdown",
   "metadata": {},
   "source": [
    "## Loading the data\n"
   ]
  },
  {
   "cell_type": "code",
   "execution_count": 80,
   "metadata": {},
   "outputs": [],
   "source": [
    "#Read in the csv file and convert to a Pandas dataframe\n",
    "df_football = pd.read_csv('./final_data.csv')"
   ]
  },
  {
   "cell_type": "markdown",
   "metadata": {},
   "source": [
    "### Viewing the dataframe\n"
   ]
  },
  {
   "cell_type": "code",
   "execution_count": 81,
   "metadata": {},
   "outputs": [
    {
     "data": {
      "text/html": [
       "<div>\n",
       "<style scoped>\n",
       "    .dataframe tbody tr th:only-of-type {\n",
       "        vertical-align: middle;\n",
       "    }\n",
       "\n",
       "    .dataframe tbody tr th {\n",
       "        vertical-align: top;\n",
       "    }\n",
       "\n",
       "    .dataframe thead th {\n",
       "        text-align: right;\n",
       "    }\n",
       "</style>\n",
       "<table border=\"1\" class=\"dataframe\">\n",
       "  <thead>\n",
       "    <tr style=\"text-align: right;\">\n",
       "      <th></th>\n",
       "      <th>player</th>\n",
       "      <th>team</th>\n",
       "      <th>name</th>\n",
       "      <th>position</th>\n",
       "      <th>height</th>\n",
       "      <th>age</th>\n",
       "      <th>appearance</th>\n",
       "      <th>goals</th>\n",
       "      <th>assists</th>\n",
       "      <th>yellow cards</th>\n",
       "      <th>...</th>\n",
       "      <th>goals conceded</th>\n",
       "      <th>clean sheets</th>\n",
       "      <th>minutes played</th>\n",
       "      <th>days_injured</th>\n",
       "      <th>games_injured</th>\n",
       "      <th>award</th>\n",
       "      <th>current_value</th>\n",
       "      <th>highest_value</th>\n",
       "      <th>position_encoded</th>\n",
       "      <th>winger</th>\n",
       "    </tr>\n",
       "  </thead>\n",
       "  <tbody>\n",
       "    <tr>\n",
       "      <th>0</th>\n",
       "      <td>/david-de-gea/profil/spieler/59377</td>\n",
       "      <td>Manchester United</td>\n",
       "      <td>David de Gea</td>\n",
       "      <td>Goalkeeper</td>\n",
       "      <td>189.0</td>\n",
       "      <td>32.0</td>\n",
       "      <td>104</td>\n",
       "      <td>0.000000</td>\n",
       "      <td>0.000000</td>\n",
       "      <td>0.009585</td>\n",
       "      <td>...</td>\n",
       "      <td>1.217252</td>\n",
       "      <td>0.335463</td>\n",
       "      <td>9390</td>\n",
       "      <td>42</td>\n",
       "      <td>5</td>\n",
       "      <td>13</td>\n",
       "      <td>15000000</td>\n",
       "      <td>70000000</td>\n",
       "      <td>1</td>\n",
       "      <td>0</td>\n",
       "    </tr>\n",
       "    <tr>\n",
       "      <th>1</th>\n",
       "      <td>/jack-butland/profil/spieler/128899</td>\n",
       "      <td>Manchester United</td>\n",
       "      <td>Jack Butland</td>\n",
       "      <td>Goalkeeper</td>\n",
       "      <td>196.0</td>\n",
       "      <td>30.0</td>\n",
       "      <td>15</td>\n",
       "      <td>0.000000</td>\n",
       "      <td>0.000000</td>\n",
       "      <td>0.069018</td>\n",
       "      <td>...</td>\n",
       "      <td>1.242331</td>\n",
       "      <td>0.207055</td>\n",
       "      <td>1304</td>\n",
       "      <td>510</td>\n",
       "      <td>58</td>\n",
       "      <td>1</td>\n",
       "      <td>1500000</td>\n",
       "      <td>22000000</td>\n",
       "      <td>1</td>\n",
       "      <td>0</td>\n",
       "    </tr>\n",
       "    <tr>\n",
       "      <th>2</th>\n",
       "      <td>/tom-heaton/profil/spieler/34130</td>\n",
       "      <td>Manchester United</td>\n",
       "      <td>Tom Heaton</td>\n",
       "      <td>Goalkeeper</td>\n",
       "      <td>188.0</td>\n",
       "      <td>37.0</td>\n",
       "      <td>4</td>\n",
       "      <td>0.000000</td>\n",
       "      <td>0.000000</td>\n",
       "      <td>0.000000</td>\n",
       "      <td>...</td>\n",
       "      <td>0.616438</td>\n",
       "      <td>0.924658</td>\n",
       "      <td>292</td>\n",
       "      <td>697</td>\n",
       "      <td>84</td>\n",
       "      <td>4</td>\n",
       "      <td>600000</td>\n",
       "      <td>6000000</td>\n",
       "      <td>1</td>\n",
       "      <td>0</td>\n",
       "    </tr>\n",
       "    <tr>\n",
       "      <th>3</th>\n",
       "      <td>/lisandro-martinez/profil/spieler/480762</td>\n",
       "      <td>Manchester United</td>\n",
       "      <td>Lisandro Martínez</td>\n",
       "      <td>Defender Centre-Back</td>\n",
       "      <td>175.0</td>\n",
       "      <td>25.0</td>\n",
       "      <td>82</td>\n",
       "      <td>0.028090</td>\n",
       "      <td>0.056180</td>\n",
       "      <td>0.224719</td>\n",
       "      <td>...</td>\n",
       "      <td>0.000000</td>\n",
       "      <td>0.000000</td>\n",
       "      <td>6408</td>\n",
       "      <td>175</td>\n",
       "      <td>22</td>\n",
       "      <td>9</td>\n",
       "      <td>50000000</td>\n",
       "      <td>50000000</td>\n",
       "      <td>2</td>\n",
       "      <td>0</td>\n",
       "    </tr>\n",
       "    <tr>\n",
       "      <th>4</th>\n",
       "      <td>/raphael-varane/profil/spieler/164770</td>\n",
       "      <td>Manchester United</td>\n",
       "      <td>Raphaël Varane</td>\n",
       "      <td>Defender Centre-Back</td>\n",
       "      <td>191.0</td>\n",
       "      <td>30.0</td>\n",
       "      <td>63</td>\n",
       "      <td>0.017889</td>\n",
       "      <td>0.017889</td>\n",
       "      <td>0.053667</td>\n",
       "      <td>...</td>\n",
       "      <td>0.000000</td>\n",
       "      <td>0.000000</td>\n",
       "      <td>5031</td>\n",
       "      <td>238</td>\n",
       "      <td>51</td>\n",
       "      <td>21</td>\n",
       "      <td>40000000</td>\n",
       "      <td>80000000</td>\n",
       "      <td>2</td>\n",
       "      <td>0</td>\n",
       "    </tr>\n",
       "  </tbody>\n",
       "</table>\n",
       "<p>5 rows × 22 columns</p>\n",
       "</div>"
      ],
      "text/plain": [
       "                                     player               team  \\\n",
       "0        /david-de-gea/profil/spieler/59377  Manchester United   \n",
       "1       /jack-butland/profil/spieler/128899  Manchester United   \n",
       "2          /tom-heaton/profil/spieler/34130  Manchester United   \n",
       "3  /lisandro-martinez/profil/spieler/480762  Manchester United   \n",
       "4     /raphael-varane/profil/spieler/164770  Manchester United   \n",
       "\n",
       "                name              position  height   age  appearance  \\\n",
       "0       David de Gea            Goalkeeper   189.0  32.0         104   \n",
       "1       Jack Butland            Goalkeeper   196.0  30.0          15   \n",
       "2         Tom Heaton            Goalkeeper   188.0  37.0           4   \n",
       "3  Lisandro Martínez  Defender Centre-Back   175.0  25.0          82   \n",
       "4     Raphaël Varane  Defender Centre-Back   191.0  30.0          63   \n",
       "\n",
       "      goals   assists  yellow cards  ...  goals conceded  clean sheets  \\\n",
       "0  0.000000  0.000000      0.009585  ...        1.217252      0.335463   \n",
       "1  0.000000  0.000000      0.069018  ...        1.242331      0.207055   \n",
       "2  0.000000  0.000000      0.000000  ...        0.616438      0.924658   \n",
       "3  0.028090  0.056180      0.224719  ...        0.000000      0.000000   \n",
       "4  0.017889  0.017889      0.053667  ...        0.000000      0.000000   \n",
       "\n",
       "   minutes played  days_injured  games_injured  award  current_value  \\\n",
       "0            9390            42              5     13       15000000   \n",
       "1            1304           510             58      1        1500000   \n",
       "2             292           697             84      4         600000   \n",
       "3            6408           175             22      9       50000000   \n",
       "4            5031           238             51     21       40000000   \n",
       "\n",
       "   highest_value  position_encoded  winger  \n",
       "0       70000000                 1       0  \n",
       "1       22000000                 1       0  \n",
       "2        6000000                 1       0  \n",
       "3       50000000                 2       0  \n",
       "4       80000000                 2       0  \n",
       "\n",
       "[5 rows x 22 columns]"
      ]
     },
     "execution_count": 81,
     "metadata": {},
     "output_type": "execute_result"
    }
   ],
   "source": [
    "df_football.head()"
   ]
  },
  {
   "cell_type": "code",
   "execution_count": 82,
   "metadata": {},
   "outputs": [
    {
     "data": {
      "text/plain": [
       "(10754, 22)"
      ]
     },
     "execution_count": 82,
     "metadata": {},
     "output_type": "execute_result"
    }
   ],
   "source": [
    "df_football.shape"
   ]
  },
  {
   "cell_type": "code",
   "execution_count": 83,
   "metadata": {},
   "outputs": [
    {
     "data": {
      "text/plain": [
       "position_encoded\n",
       "2    3528\n",
       "3    3095\n",
       "4    2902\n",
       "1    1229\n",
       "Name: count, dtype: int64"
      ]
     },
     "execution_count": 83,
     "metadata": {},
     "output_type": "execute_result"
    }
   ],
   "source": [
    "df_football['position_encoded'].value_counts() "
   ]
  },
  {
   "cell_type": "code",
   "execution_count": 84,
   "metadata": {},
   "outputs": [
    {
     "data": {
      "text/plain": [
       "position\n",
       "Defender Centre-Back          1821\n",
       "Attack Centre-Forward         1353\n",
       "Goalkeeper                    1229\n",
       "midfield-CentralMidfield      1149\n",
       "midfield-DefensiveMidfield     900\n",
       "Defender Right-Back            867\n",
       "Defender Left-Back             807\n",
       "midfield-AttackingMidfield     769\n",
       "Attack-RightWinger             717\n",
       "Attack-LeftWinger              714\n",
       "midfield-RightMidfield         102\n",
       "midfield-LeftMidfield          100\n",
       "midfield                        75\n",
       "Attack-SecondStriker            65\n",
       "Attack                          53\n",
       "Defender                        33\n",
       "Name: count, dtype: int64"
      ]
     },
     "execution_count": 84,
     "metadata": {},
     "output_type": "execute_result"
    }
   ],
   "source": [
    "df_football['position'].value_counts()"
   ]
  },
  {
   "cell_type": "code",
   "execution_count": 85,
   "metadata": {},
   "outputs": [],
   "source": [
    "df_football.drop(['player'],axis=1,inplace=True) # -> drop unrelevent column\n",
    "df_football.drop(['name'],axis=1,inplace=True) # -> drop unrelevent column"
   ]
  },
  {
   "cell_type": "code",
   "execution_count": 86,
   "metadata": {},
   "outputs": [],
   "source": [
    "df_football['age'] = df_football['age'].astype('int') # change age Dtype"
   ]
  },
  {
   "cell_type": "markdown",
   "metadata": {},
   "source": [
    "### Split data into 4 subdataset based on position encoded"
   ]
  },
  {
   "cell_type": "code",
   "execution_count": 87,
   "metadata": {},
   "outputs": [],
   "source": [
    "# Filter players whose position are goalkeeper\n",
    "df_gk = df_football[df_football['position_encoded'] == 1]\n",
    "# Filter players whose position are defender\n",
    "df_def = df_football[df_football['position_encoded'] == 2]\n",
    "# Filter players whose position are midfield\n",
    "df_mid = df_football[df_football['position_encoded'] == 3]\n",
    "# Filter players whose position are attack\n",
    "df_att = df_football[df_football['position_encoded'] == 4]"
   ]
  },
  {
   "cell_type": "markdown",
   "metadata": {},
   "source": [
    "#### Goalkeeper Dataset"
   ]
  },
  {
   "cell_type": "code",
   "execution_count": 88,
   "metadata": {},
   "outputs": [
    {
     "data": {
      "text/html": [
       "<div>\n",
       "<style scoped>\n",
       "    .dataframe tbody tr th:only-of-type {\n",
       "        vertical-align: middle;\n",
       "    }\n",
       "\n",
       "    .dataframe tbody tr th {\n",
       "        vertical-align: top;\n",
       "    }\n",
       "\n",
       "    .dataframe thead th {\n",
       "        text-align: right;\n",
       "    }\n",
       "</style>\n",
       "<table border=\"1\" class=\"dataframe\">\n",
       "  <thead>\n",
       "    <tr style=\"text-align: right;\">\n",
       "      <th></th>\n",
       "      <th>team</th>\n",
       "      <th>position</th>\n",
       "      <th>height</th>\n",
       "      <th>age</th>\n",
       "      <th>appearance</th>\n",
       "      <th>goals</th>\n",
       "      <th>assists</th>\n",
       "      <th>yellow cards</th>\n",
       "      <th>second yellow cards</th>\n",
       "      <th>red cards</th>\n",
       "      <th>goals conceded</th>\n",
       "      <th>clean sheets</th>\n",
       "      <th>minutes played</th>\n",
       "      <th>days_injured</th>\n",
       "      <th>games_injured</th>\n",
       "      <th>award</th>\n",
       "      <th>current_value</th>\n",
       "      <th>highest_value</th>\n",
       "      <th>position_encoded</th>\n",
       "      <th>winger</th>\n",
       "    </tr>\n",
       "  </thead>\n",
       "  <tbody>\n",
       "    <tr>\n",
       "      <th>10698</th>\n",
       "      <td>Adelaide United</td>\n",
       "      <td>Goalkeeper</td>\n",
       "      <td>188.000000</td>\n",
       "      <td>23</td>\n",
       "      <td>6</td>\n",
       "      <td>0.0</td>\n",
       "      <td>0.0</td>\n",
       "      <td>0.000000</td>\n",
       "      <td>0.0</td>\n",
       "      <td>0.000000</td>\n",
       "      <td>1.122661</td>\n",
       "      <td>0.374220</td>\n",
       "      <td>481</td>\n",
       "      <td>209</td>\n",
       "      <td>25</td>\n",
       "      <td>0</td>\n",
       "      <td>250000</td>\n",
       "      <td>350000</td>\n",
       "      <td>1</td>\n",
       "      <td>0</td>\n",
       "    </tr>\n",
       "    <tr>\n",
       "      <th>10699</th>\n",
       "      <td>Adelaide United</td>\n",
       "      <td>Goalkeeper</td>\n",
       "      <td>181.240353</td>\n",
       "      <td>19</td>\n",
       "      <td>0</td>\n",
       "      <td>0.0</td>\n",
       "      <td>0.0</td>\n",
       "      <td>0.000000</td>\n",
       "      <td>0.0</td>\n",
       "      <td>0.000000</td>\n",
       "      <td>0.000000</td>\n",
       "      <td>0.000000</td>\n",
       "      <td>0</td>\n",
       "      <td>0</td>\n",
       "      <td>0</td>\n",
       "      <td>0</td>\n",
       "      <td>50000</td>\n",
       "      <td>50000</td>\n",
       "      <td>1</td>\n",
       "      <td>0</td>\n",
       "    </tr>\n",
       "    <tr>\n",
       "      <th>10700</th>\n",
       "      <td>Adelaide United</td>\n",
       "      <td>Goalkeeper</td>\n",
       "      <td>187.000000</td>\n",
       "      <td>18</td>\n",
       "      <td>3</td>\n",
       "      <td>0.0</td>\n",
       "      <td>0.0</td>\n",
       "      <td>0.000000</td>\n",
       "      <td>0.0</td>\n",
       "      <td>0.000000</td>\n",
       "      <td>1.706161</td>\n",
       "      <td>0.426540</td>\n",
       "      <td>211</td>\n",
       "      <td>0</td>\n",
       "      <td>0</td>\n",
       "      <td>0</td>\n",
       "      <td>50000</td>\n",
       "      <td>50000</td>\n",
       "      <td>1</td>\n",
       "      <td>0</td>\n",
       "    </tr>\n",
       "    <tr>\n",
       "      <th>10727</th>\n",
       "      <td>Western Sydney Wanderers</td>\n",
       "      <td>Goalkeeper</td>\n",
       "      <td>191.000000</td>\n",
       "      <td>31</td>\n",
       "      <td>51</td>\n",
       "      <td>0.0</td>\n",
       "      <td>0.0</td>\n",
       "      <td>0.019608</td>\n",
       "      <td>0.0</td>\n",
       "      <td>0.000000</td>\n",
       "      <td>1.431373</td>\n",
       "      <td>0.254902</td>\n",
       "      <td>4590</td>\n",
       "      <td>0</td>\n",
       "      <td>0</td>\n",
       "      <td>2</td>\n",
       "      <td>500000</td>\n",
       "      <td>1000000</td>\n",
       "      <td>1</td>\n",
       "      <td>0</td>\n",
       "    </tr>\n",
       "    <tr>\n",
       "      <th>10728</th>\n",
       "      <td>Western Sydney Wanderers</td>\n",
       "      <td>Goalkeeper</td>\n",
       "      <td>187.000000</td>\n",
       "      <td>25</td>\n",
       "      <td>14</td>\n",
       "      <td>0.0</td>\n",
       "      <td>0.0</td>\n",
       "      <td>0.142857</td>\n",
       "      <td>0.0</td>\n",
       "      <td>0.071429</td>\n",
       "      <td>1.285714</td>\n",
       "      <td>0.285714</td>\n",
       "      <td>1260</td>\n",
       "      <td>0</td>\n",
       "      <td>0</td>\n",
       "      <td>1</td>\n",
       "      <td>300000</td>\n",
       "      <td>400000</td>\n",
       "      <td>1</td>\n",
       "      <td>0</td>\n",
       "    </tr>\n",
       "  </tbody>\n",
       "</table>\n",
       "</div>"
      ],
      "text/plain": [
       "                           team    position      height  age  appearance  \\\n",
       "10698           Adelaide United  Goalkeeper  188.000000   23           6   \n",
       "10699           Adelaide United  Goalkeeper  181.240353   19           0   \n",
       "10700           Adelaide United  Goalkeeper  187.000000   18           3   \n",
       "10727  Western Sydney Wanderers  Goalkeeper  191.000000   31          51   \n",
       "10728  Western Sydney Wanderers  Goalkeeper  187.000000   25          14   \n",
       "\n",
       "       goals  assists  yellow cards  second yellow cards  red cards  \\\n",
       "10698    0.0      0.0      0.000000                  0.0   0.000000   \n",
       "10699    0.0      0.0      0.000000                  0.0   0.000000   \n",
       "10700    0.0      0.0      0.000000                  0.0   0.000000   \n",
       "10727    0.0      0.0      0.019608                  0.0   0.000000   \n",
       "10728    0.0      0.0      0.142857                  0.0   0.071429   \n",
       "\n",
       "       goals conceded  clean sheets  minutes played  days_injured  \\\n",
       "10698        1.122661      0.374220             481           209   \n",
       "10699        0.000000      0.000000               0             0   \n",
       "10700        1.706161      0.426540             211             0   \n",
       "10727        1.431373      0.254902            4590             0   \n",
       "10728        1.285714      0.285714            1260             0   \n",
       "\n",
       "       games_injured  award  current_value  highest_value  position_encoded  \\\n",
       "10698             25      0         250000         350000                 1   \n",
       "10699              0      0          50000          50000                 1   \n",
       "10700              0      0          50000          50000                 1   \n",
       "10727              0      2         500000        1000000                 1   \n",
       "10728              0      1         300000         400000                 1   \n",
       "\n",
       "       winger  \n",
       "10698       0  \n",
       "10699       0  \n",
       "10700       0  \n",
       "10727       0  \n",
       "10728       0  "
      ]
     },
     "execution_count": 88,
     "metadata": {},
     "output_type": "execute_result"
    }
   ],
   "source": [
    "df_gk.tail()"
   ]
  },
  {
   "cell_type": "code",
   "execution_count": 89,
   "metadata": {},
   "outputs": [
    {
     "data": {
      "text/plain": [
       "(1229, 20)"
      ]
     },
     "execution_count": 89,
     "metadata": {},
     "output_type": "execute_result"
    }
   ],
   "source": [
    "df_gk.shape"
   ]
  },
  {
   "cell_type": "code",
   "execution_count": 90,
   "metadata": {},
   "outputs": [],
   "source": [
    "# drop columns unrelevent for goalkeeper \n",
    "df_gk.drop(['assists', 'goals', 'yellow cards', 'second yellow cards', 'red cards'], axis=1, inplace=True)\n"
   ]
  },
  {
   "cell_type": "code",
   "execution_count": 91,
   "metadata": {},
   "outputs": [],
   "source": [
    "def plot_hist(df,cols):\n",
    "    for col in cols:\n",
    "        fig = px.histogram(df, x= col , title=f'Distribution of {col}', color_discrete_sequence=['lightskyblue'])\n",
    "        fig.update_layout(bargap=0.2)\n",
    "        fig.show()"
   ]
  },
  {
   "cell_type": "code",
   "execution_count": 92,
   "metadata": {},
   "outputs": [
    {
     "data": {
      "application/vnd.plotly.v1+json": {
       "config": {
        "plotlyServerURL": "https://plot.ly"
       },
       "data": [
        {
         "alignmentgroup": "True",
         "bingroup": "x",
         "hovertemplate": "height=%{x}<br>count=%{y}<extra></extra>",
         "legendgroup": "",
         "marker": {
          "color": "lightskyblue",
          "pattern": {
           "shape": ""
          }
         },
         "name": "",
         "offsetgroup": "",
         "orientation": "v",
         "showlegend": false,
         "type": "histogram",
         "x": [
          189,
          196,
          188,
          195,
          190,
          191,
          191,
          189,
          195,
          196,
          183,
          190,
          192,
          193,
          190,
          188,
          193,
          186,
          197,
          188,
          185,
          185,
          199,
          193,
          188,
          185,
          198,
          197,
          189,
          197,
          193,
          190,
          179,
          190,
          194,
          190,
          191,
          187,
          183,
          193,
          183,
          193,
          188,
          190,
          198,
          191,
          191,
          191,
          188,
          185,
          188,
          190,
          191,
          188,
          200,
          188,
          188,
          194,
          186,
          193,
          193,
          190,
          184,
          183,
          197,
          194,
          190,
          187,
          187,
          191,
          192,
          188,
          188,
          192,
          189,
          190,
          197,
          193,
          195,
          190,
          190,
          200,
          192,
          195,
          188,
          191,
          190,
          192,
          192,
          196,
          190,
          193,
          192,
          190,
          197,
          196,
          195,
          186,
          194,
          198,
          193,
          196,
          187,
          194,
          196,
          190,
          189,
          189,
          192,
          194,
          195,
          190,
          192,
          194,
          190,
          195,
          185,
          192,
          182,
          190,
          186,
          193,
          183,
          192,
          191,
          190,
          193,
          192,
          190,
          195,
          187,
          191,
          189,
          190,
          188,
          191,
          187,
          184,
          190,
          187,
          188,
          197,
          185,
          187,
          188,
          192,
          189,
          188,
          186,
          192,
          182,
          195,
          187,
          195,
          188,
          195,
          196,
          192,
          197,
          189,
          183,
          187,
          188,
          189,
          180,
          186,
          186,
          180,
          191,
          187,
          186,
          191,
          192,
          190,
          188,
          188,
          195,
          200,
          191,
          187,
          184,
          185,
          190,
          189,
          193,
          194,
          190,
          191,
          193,
          192,
          188,
          189,
          193,
          183,
          202,
          194,
          190,
          195,
          191,
          191,
          198,
          187,
          188,
          196,
          193,
          187,
          184,
          190,
          187,
          194,
          192,
          186,
          191,
          184,
          192,
          189,
          187,
          189,
          192,
          188,
          183,
          195,
          185,
          191,
          190,
          184,
          186,
          191,
          190,
          179,
          192,
          185,
          190,
          188,
          193,
          194,
          190,
          188,
          182,
          190,
          192,
          188,
          188,
          190,
          195,
          193,
          185,
          182,
          194,
          188,
          190,
          193,
          193,
          192,
          187,
          186,
          186,
          185,
          188,
          186,
          182,
          199,
          185,
          190,
          180,
          180,
          192,
          190,
          196,
          187,
          187,
          180,
          195,
          186,
          193,
          181.2403529,
          195,
          189,
          178,
          188,
          191,
          187,
          186,
          192,
          184,
          193,
          193,
          188,
          190,
          194,
          187,
          181.2403529,
          188,
          187,
          185,
          190,
          195,
          188,
          194,
          184,
          182,
          182,
          184,
          191,
          191,
          189,
          188,
          188,
          184,
          193,
          185,
          187,
          188,
          185,
          190,
          193,
          196,
          196,
          193,
          195,
          184,
          192,
          190,
          181.2403529,
          198,
          195,
          187,
          186,
          206,
          187,
          187,
          188,
          181.2403529,
          196,
          196,
          199,
          187,
          183,
          186,
          187,
          192,
          193,
          189,
          188,
          185,
          186,
          195,
          192,
          196,
          192,
          186,
          186,
          194,
          187,
          187,
          199,
          189,
          189,
          196,
          181.2403529,
          188,
          193,
          187,
          190,
          190,
          193,
          189,
          192,
          196,
          193,
          197,
          188,
          202,
          188,
          186,
          189,
          187,
          197,
          191,
          192,
          194,
          188,
          188,
          188,
          193,
          187,
          190,
          191,
          194,
          195,
          190,
          190,
          191,
          189,
          192,
          188,
          186,
          188,
          196,
          198,
          192,
          188,
          194,
          193,
          196,
          193,
          196,
          188,
          194,
          188,
          190,
          192,
          195,
          196,
          194,
          188,
          191,
          191,
          186,
          191,
          191,
          186,
          197,
          190,
          184,
          186,
          190,
          188,
          191,
          188,
          197,
          191,
          188,
          190,
          192,
          191,
          189,
          186,
          192,
          187,
          190,
          192,
          192,
          187,
          189,
          195,
          188,
          188,
          199,
          193,
          187,
          195,
          204,
          190,
          194,
          186,
          192,
          191,
          199,
          191,
          188,
          193,
          188,
          193,
          184,
          187,
          189,
          189,
          185,
          192,
          185,
          188,
          185,
          191,
          199,
          194,
          192,
          188,
          192,
          193,
          192,
          192,
          192,
          186,
          190,
          185,
          188,
          185,
          194,
          198,
          194,
          190,
          197,
          195,
          198,
          194,
          189,
          192,
          189,
          186,
          183,
          188,
          190,
          190,
          188,
          191,
          190,
          182,
          184,
          189,
          180,
          183,
          182,
          188,
          183,
          181,
          183,
          184,
          178,
          182,
          192,
          197,
          184,
          186,
          190,
          185,
          184,
          184,
          181,
          182,
          187,
          179,
          182,
          179,
          182,
          183,
          194,
          183,
          184,
          185,
          182,
          187,
          182,
          181,
          189,
          183,
          183,
          193,
          193,
          182,
          190,
          184,
          188,
          183,
          183,
          190,
          178,
          193,
          187,
          193,
          194,
          194,
          195,
          194,
          199,
          192,
          190,
          189,
          194,
          194,
          188,
          184,
          190,
          191,
          194,
          195,
          200,
          194,
          199,
          197,
          190,
          189,
          194,
          186,
          192,
          186,
          191,
          187,
          193,
          190,
          192,
          190,
          187,
          190,
          186,
          189,
          192,
          189,
          190,
          191,
          190,
          185,
          191,
          191,
          188,
          191,
          190,
          191,
          189,
          189,
          188,
          186,
          194,
          192,
          185,
          195,
          193,
          190,
          193,
          188,
          192,
          189,
          187,
          181.2403529,
          194,
          186,
          181.2403529,
          190,
          189,
          185,
          185,
          187,
          185,
          181.2403529,
          189,
          191,
          183,
          194,
          186,
          193,
          181.2403529,
          193,
          181.2403529,
          191,
          195,
          195,
          186,
          191,
          195,
          184,
          181.2403529,
          189,
          192,
          188,
          198,
          194,
          189,
          191,
          197,
          193,
          185,
          185,
          190,
          185,
          195,
          196,
          193,
          190,
          191,
          186,
          193,
          192,
          195,
          196,
          188,
          192,
          192,
          192,
          194,
          198,
          196,
          190,
          186,
          187,
          196,
          185,
          186,
          195,
          190,
          193,
          187,
          194,
          191,
          190,
          187,
          190,
          190,
          181.2403529,
          193,
          188,
          190,
          191,
          190,
          187,
          190,
          186,
          198,
          185,
          194,
          190,
          192,
          190,
          190,
          186,
          187,
          195,
          192,
          189,
          190,
          184,
          190,
          195,
          194,
          195,
          192,
          191,
          181.2403529,
          186,
          190,
          198,
          193,
          188,
          190,
          187,
          188,
          198,
          183,
          184,
          183,
          184,
          195,
          193,
          191,
          195,
          192,
          195,
          185,
          190,
          181.2403529,
          198,
          194,
          192,
          191,
          196,
          189,
          184,
          189,
          183,
          187,
          181.2403529,
          188,
          188,
          187,
          190,
          193,
          183,
          186,
          192,
          192,
          189,
          181.2403529,
          194,
          192,
          187,
          190,
          189,
          193,
          189,
          188,
          191,
          188,
          181.2403529,
          190,
          193,
          190,
          191,
          188,
          193,
          189,
          188,
          188,
          193,
          190,
          194,
          194,
          188,
          191,
          193,
          191,
          190,
          192,
          192,
          191,
          188,
          188,
          200,
          190,
          188,
          187,
          193,
          188,
          193,
          185,
          193,
          188,
          185,
          180,
          191,
          188,
          173,
          182,
          188,
          188,
          191,
          190,
          187,
          185,
          191,
          188,
          194,
          195,
          191,
          196,
          191,
          195,
          190,
          190,
          195,
          187,
          198,
          188,
          191,
          183,
          190,
          185,
          188,
          196,
          193,
          195,
          198,
          188,
          185,
          188,
          195,
          188,
          188,
          193,
          185,
          183,
          193,
          188,
          193,
          183,
          191,
          185,
          185,
          185,
          190,
          189,
          191,
          190,
          188,
          184,
          190,
          188,
          186,
          186,
          191,
          187,
          187,
          191,
          188,
          194,
          193,
          187,
          183,
          195,
          184,
          190,
          185,
          190,
          185,
          184,
          185,
          179,
          186,
          183,
          193,
          184,
          185,
          188,
          185,
          185,
          188,
          181.2403529,
          185,
          193,
          185,
          185,
          180,
          189,
          181.2403529,
          191,
          192,
          190,
          183,
          180,
          192,
          182,
          185,
          187,
          181,
          188,
          187,
          181.2403529,
          185,
          185,
          189,
          190,
          191,
          189,
          179,
          195,
          189,
          184,
          187,
          192,
          191,
          180,
          182,
          188,
          191,
          189,
          194,
          181,
          191,
          185,
          184,
          182,
          193,
          180,
          181,
          195,
          193,
          183,
          184,
          190,
          190,
          185,
          196,
          190,
          190,
          193,
          183,
          190,
          191,
          193,
          187,
          190,
          188,
          185,
          191,
          191,
          184,
          185,
          188,
          184,
          188,
          190,
          185,
          191,
          184,
          186,
          186,
          180,
          181,
          192,
          191,
          184,
          185,
          191,
          183,
          186,
          183,
          197,
          185,
          183,
          178,
          194,
          183,
          187,
          188,
          183,
          186,
          187,
          187,
          189,
          184,
          186,
          184,
          192,
          188,
          187,
          192,
          188,
          183,
          190,
          193,
          185,
          190,
          184,
          185,
          194,
          187,
          188,
          185,
          184,
          184,
          187,
          185,
          186,
          181.2403529,
          197,
          188,
          172,
          179,
          190,
          186,
          188,
          190,
          186,
          178,
          184,
          181.2403529,
          193,
          182,
          180,
          181.2403529,
          180,
          196,
          184,
          189,
          180,
          182,
          186,
          194,
          188,
          181.2403529,
          181.2403529,
          189,
          189,
          188,
          181,
          186,
          175,
          181.2403529,
          181.2403529,
          181.2403529,
          190,
          187,
          178,
          181,
          188,
          183,
          181.2403529,
          187,
          191,
          184,
          185,
          189,
          183,
          181.2403529,
          193,
          183,
          186,
          194,
          196,
          186,
          189,
          187,
          192,
          189,
          188,
          187,
          181.2403529,
          186,
          188,
          187,
          188,
          194,
          184,
          184,
          193,
          186,
          186,
          190,
          186,
          189,
          190,
          188,
          194,
          185,
          192,
          189,
          192,
          196,
          193,
          191,
          185,
          197,
          183,
          189,
          187,
          189,
          186,
          194,
          190,
          188,
          190,
          190,
          188,
          190,
          191,
          186,
          189,
          187,
          190,
          188,
          183,
          181,
          181.2403529,
          182,
          180,
          181.2403529,
          176,
          185,
          189,
          187,
          180,
          181,
          182,
          186,
          190,
          177,
          177,
          181.2403529,
          184,
          189,
          187,
          180,
          183,
          181,
          193,
          194,
          181,
          181.2403529,
          185,
          181.2403529,
          181.2403529,
          181.2403529,
          180,
          181.2403529,
          183,
          180,
          181.2403529,
          190,
          181.2403529,
          175,
          183,
          181,
          195,
          178,
          181.2403529,
          181.2403529,
          196,
          181.2403529,
          188,
          184,
          185,
          192,
          186,
          185,
          186,
          181,
          190,
          185,
          184,
          188,
          180,
          184,
          189,
          200,
          189,
          188,
          194,
          181.2403529,
          192,
          197,
          181.2403529,
          188,
          193,
          181.2403529,
          181.2403529,
          187,
          189,
          197,
          183,
          196,
          194,
          181.2403529,
          194,
          192,
          189,
          194,
          188,
          181.2403529,
          187,
          191,
          187
         ],
         "xaxis": "x",
         "yaxis": "y"
        }
       ],
       "layout": {
        "bargap": 0.2,
        "barmode": "relative",
        "legend": {
         "tracegroupgap": 0
        },
        "template": {
         "data": {
          "bar": [
           {
            "error_x": {
             "color": "#2a3f5f"
            },
            "error_y": {
             "color": "#2a3f5f"
            },
            "marker": {
             "line": {
              "color": "#E5ECF6",
              "width": 0.5
             },
             "pattern": {
              "fillmode": "overlay",
              "size": 10,
              "solidity": 0.2
             }
            },
            "type": "bar"
           }
          ],
          "barpolar": [
           {
            "marker": {
             "line": {
              "color": "#E5ECF6",
              "width": 0.5
             },
             "pattern": {
              "fillmode": "overlay",
              "size": 10,
              "solidity": 0.2
             }
            },
            "type": "barpolar"
           }
          ],
          "carpet": [
           {
            "aaxis": {
             "endlinecolor": "#2a3f5f",
             "gridcolor": "white",
             "linecolor": "white",
             "minorgridcolor": "white",
             "startlinecolor": "#2a3f5f"
            },
            "baxis": {
             "endlinecolor": "#2a3f5f",
             "gridcolor": "white",
             "linecolor": "white",
             "minorgridcolor": "white",
             "startlinecolor": "#2a3f5f"
            },
            "type": "carpet"
           }
          ],
          "choropleth": [
           {
            "colorbar": {
             "outlinewidth": 0,
             "ticks": ""
            },
            "type": "choropleth"
           }
          ],
          "contour": [
           {
            "colorbar": {
             "outlinewidth": 0,
             "ticks": ""
            },
            "colorscale": [
             [
              0,
              "#0d0887"
             ],
             [
              0.1111111111111111,
              "#46039f"
             ],
             [
              0.2222222222222222,
              "#7201a8"
             ],
             [
              0.3333333333333333,
              "#9c179e"
             ],
             [
              0.4444444444444444,
              "#bd3786"
             ],
             [
              0.5555555555555556,
              "#d8576b"
             ],
             [
              0.6666666666666666,
              "#ed7953"
             ],
             [
              0.7777777777777778,
              "#fb9f3a"
             ],
             [
              0.8888888888888888,
              "#fdca26"
             ],
             [
              1,
              "#f0f921"
             ]
            ],
            "type": "contour"
           }
          ],
          "contourcarpet": [
           {
            "colorbar": {
             "outlinewidth": 0,
             "ticks": ""
            },
            "type": "contourcarpet"
           }
          ],
          "heatmap": [
           {
            "colorbar": {
             "outlinewidth": 0,
             "ticks": ""
            },
            "colorscale": [
             [
              0,
              "#0d0887"
             ],
             [
              0.1111111111111111,
              "#46039f"
             ],
             [
              0.2222222222222222,
              "#7201a8"
             ],
             [
              0.3333333333333333,
              "#9c179e"
             ],
             [
              0.4444444444444444,
              "#bd3786"
             ],
             [
              0.5555555555555556,
              "#d8576b"
             ],
             [
              0.6666666666666666,
              "#ed7953"
             ],
             [
              0.7777777777777778,
              "#fb9f3a"
             ],
             [
              0.8888888888888888,
              "#fdca26"
             ],
             [
              1,
              "#f0f921"
             ]
            ],
            "type": "heatmap"
           }
          ],
          "heatmapgl": [
           {
            "colorbar": {
             "outlinewidth": 0,
             "ticks": ""
            },
            "colorscale": [
             [
              0,
              "#0d0887"
             ],
             [
              0.1111111111111111,
              "#46039f"
             ],
             [
              0.2222222222222222,
              "#7201a8"
             ],
             [
              0.3333333333333333,
              "#9c179e"
             ],
             [
              0.4444444444444444,
              "#bd3786"
             ],
             [
              0.5555555555555556,
              "#d8576b"
             ],
             [
              0.6666666666666666,
              "#ed7953"
             ],
             [
              0.7777777777777778,
              "#fb9f3a"
             ],
             [
              0.8888888888888888,
              "#fdca26"
             ],
             [
              1,
              "#f0f921"
             ]
            ],
            "type": "heatmapgl"
           }
          ],
          "histogram": [
           {
            "marker": {
             "pattern": {
              "fillmode": "overlay",
              "size": 10,
              "solidity": 0.2
             }
            },
            "type": "histogram"
           }
          ],
          "histogram2d": [
           {
            "colorbar": {
             "outlinewidth": 0,
             "ticks": ""
            },
            "colorscale": [
             [
              0,
              "#0d0887"
             ],
             [
              0.1111111111111111,
              "#46039f"
             ],
             [
              0.2222222222222222,
              "#7201a8"
             ],
             [
              0.3333333333333333,
              "#9c179e"
             ],
             [
              0.4444444444444444,
              "#bd3786"
             ],
             [
              0.5555555555555556,
              "#d8576b"
             ],
             [
              0.6666666666666666,
              "#ed7953"
             ],
             [
              0.7777777777777778,
              "#fb9f3a"
             ],
             [
              0.8888888888888888,
              "#fdca26"
             ],
             [
              1,
              "#f0f921"
             ]
            ],
            "type": "histogram2d"
           }
          ],
          "histogram2dcontour": [
           {
            "colorbar": {
             "outlinewidth": 0,
             "ticks": ""
            },
            "colorscale": [
             [
              0,
              "#0d0887"
             ],
             [
              0.1111111111111111,
              "#46039f"
             ],
             [
              0.2222222222222222,
              "#7201a8"
             ],
             [
              0.3333333333333333,
              "#9c179e"
             ],
             [
              0.4444444444444444,
              "#bd3786"
             ],
             [
              0.5555555555555556,
              "#d8576b"
             ],
             [
              0.6666666666666666,
              "#ed7953"
             ],
             [
              0.7777777777777778,
              "#fb9f3a"
             ],
             [
              0.8888888888888888,
              "#fdca26"
             ],
             [
              1,
              "#f0f921"
             ]
            ],
            "type": "histogram2dcontour"
           }
          ],
          "mesh3d": [
           {
            "colorbar": {
             "outlinewidth": 0,
             "ticks": ""
            },
            "type": "mesh3d"
           }
          ],
          "parcoords": [
           {
            "line": {
             "colorbar": {
              "outlinewidth": 0,
              "ticks": ""
             }
            },
            "type": "parcoords"
           }
          ],
          "pie": [
           {
            "automargin": true,
            "type": "pie"
           }
          ],
          "scatter": [
           {
            "fillpattern": {
             "fillmode": "overlay",
             "size": 10,
             "solidity": 0.2
            },
            "type": "scatter"
           }
          ],
          "scatter3d": [
           {
            "line": {
             "colorbar": {
              "outlinewidth": 0,
              "ticks": ""
             }
            },
            "marker": {
             "colorbar": {
              "outlinewidth": 0,
              "ticks": ""
             }
            },
            "type": "scatter3d"
           }
          ],
          "scattercarpet": [
           {
            "marker": {
             "colorbar": {
              "outlinewidth": 0,
              "ticks": ""
             }
            },
            "type": "scattercarpet"
           }
          ],
          "scattergeo": [
           {
            "marker": {
             "colorbar": {
              "outlinewidth": 0,
              "ticks": ""
             }
            },
            "type": "scattergeo"
           }
          ],
          "scattergl": [
           {
            "marker": {
             "colorbar": {
              "outlinewidth": 0,
              "ticks": ""
             }
            },
            "type": "scattergl"
           }
          ],
          "scattermapbox": [
           {
            "marker": {
             "colorbar": {
              "outlinewidth": 0,
              "ticks": ""
             }
            },
            "type": "scattermapbox"
           }
          ],
          "scatterpolar": [
           {
            "marker": {
             "colorbar": {
              "outlinewidth": 0,
              "ticks": ""
             }
            },
            "type": "scatterpolar"
           }
          ],
          "scatterpolargl": [
           {
            "marker": {
             "colorbar": {
              "outlinewidth": 0,
              "ticks": ""
             }
            },
            "type": "scatterpolargl"
           }
          ],
          "scatterternary": [
           {
            "marker": {
             "colorbar": {
              "outlinewidth": 0,
              "ticks": ""
             }
            },
            "type": "scatterternary"
           }
          ],
          "surface": [
           {
            "colorbar": {
             "outlinewidth": 0,
             "ticks": ""
            },
            "colorscale": [
             [
              0,
              "#0d0887"
             ],
             [
              0.1111111111111111,
              "#46039f"
             ],
             [
              0.2222222222222222,
              "#7201a8"
             ],
             [
              0.3333333333333333,
              "#9c179e"
             ],
             [
              0.4444444444444444,
              "#bd3786"
             ],
             [
              0.5555555555555556,
              "#d8576b"
             ],
             [
              0.6666666666666666,
              "#ed7953"
             ],
             [
              0.7777777777777778,
              "#fb9f3a"
             ],
             [
              0.8888888888888888,
              "#fdca26"
             ],
             [
              1,
              "#f0f921"
             ]
            ],
            "type": "surface"
           }
          ],
          "table": [
           {
            "cells": {
             "fill": {
              "color": "#EBF0F8"
             },
             "line": {
              "color": "white"
             }
            },
            "header": {
             "fill": {
              "color": "#C8D4E3"
             },
             "line": {
              "color": "white"
             }
            },
            "type": "table"
           }
          ]
         },
         "layout": {
          "annotationdefaults": {
           "arrowcolor": "#2a3f5f",
           "arrowhead": 0,
           "arrowwidth": 1
          },
          "autotypenumbers": "strict",
          "coloraxis": {
           "colorbar": {
            "outlinewidth": 0,
            "ticks": ""
           }
          },
          "colorscale": {
           "diverging": [
            [
             0,
             "#8e0152"
            ],
            [
             0.1,
             "#c51b7d"
            ],
            [
             0.2,
             "#de77ae"
            ],
            [
             0.3,
             "#f1b6da"
            ],
            [
             0.4,
             "#fde0ef"
            ],
            [
             0.5,
             "#f7f7f7"
            ],
            [
             0.6,
             "#e6f5d0"
            ],
            [
             0.7,
             "#b8e186"
            ],
            [
             0.8,
             "#7fbc41"
            ],
            [
             0.9,
             "#4d9221"
            ],
            [
             1,
             "#276419"
            ]
           ],
           "sequential": [
            [
             0,
             "#0d0887"
            ],
            [
             0.1111111111111111,
             "#46039f"
            ],
            [
             0.2222222222222222,
             "#7201a8"
            ],
            [
             0.3333333333333333,
             "#9c179e"
            ],
            [
             0.4444444444444444,
             "#bd3786"
            ],
            [
             0.5555555555555556,
             "#d8576b"
            ],
            [
             0.6666666666666666,
             "#ed7953"
            ],
            [
             0.7777777777777778,
             "#fb9f3a"
            ],
            [
             0.8888888888888888,
             "#fdca26"
            ],
            [
             1,
             "#f0f921"
            ]
           ],
           "sequentialminus": [
            [
             0,
             "#0d0887"
            ],
            [
             0.1111111111111111,
             "#46039f"
            ],
            [
             0.2222222222222222,
             "#7201a8"
            ],
            [
             0.3333333333333333,
             "#9c179e"
            ],
            [
             0.4444444444444444,
             "#bd3786"
            ],
            [
             0.5555555555555556,
             "#d8576b"
            ],
            [
             0.6666666666666666,
             "#ed7953"
            ],
            [
             0.7777777777777778,
             "#fb9f3a"
            ],
            [
             0.8888888888888888,
             "#fdca26"
            ],
            [
             1,
             "#f0f921"
            ]
           ]
          },
          "colorway": [
           "#636efa",
           "#EF553B",
           "#00cc96",
           "#ab63fa",
           "#FFA15A",
           "#19d3f3",
           "#FF6692",
           "#B6E880",
           "#FF97FF",
           "#FECB52"
          ],
          "font": {
           "color": "#2a3f5f"
          },
          "geo": {
           "bgcolor": "white",
           "lakecolor": "white",
           "landcolor": "#E5ECF6",
           "showlakes": true,
           "showland": true,
           "subunitcolor": "white"
          },
          "hoverlabel": {
           "align": "left"
          },
          "hovermode": "closest",
          "mapbox": {
           "style": "light"
          },
          "paper_bgcolor": "white",
          "plot_bgcolor": "#E5ECF6",
          "polar": {
           "angularaxis": {
            "gridcolor": "white",
            "linecolor": "white",
            "ticks": ""
           },
           "bgcolor": "#E5ECF6",
           "radialaxis": {
            "gridcolor": "white",
            "linecolor": "white",
            "ticks": ""
           }
          },
          "scene": {
           "xaxis": {
            "backgroundcolor": "#E5ECF6",
            "gridcolor": "white",
            "gridwidth": 2,
            "linecolor": "white",
            "showbackground": true,
            "ticks": "",
            "zerolinecolor": "white"
           },
           "yaxis": {
            "backgroundcolor": "#E5ECF6",
            "gridcolor": "white",
            "gridwidth": 2,
            "linecolor": "white",
            "showbackground": true,
            "ticks": "",
            "zerolinecolor": "white"
           },
           "zaxis": {
            "backgroundcolor": "#E5ECF6",
            "gridcolor": "white",
            "gridwidth": 2,
            "linecolor": "white",
            "showbackground": true,
            "ticks": "",
            "zerolinecolor": "white"
           }
          },
          "shapedefaults": {
           "line": {
            "color": "#2a3f5f"
           }
          },
          "ternary": {
           "aaxis": {
            "gridcolor": "white",
            "linecolor": "white",
            "ticks": ""
           },
           "baxis": {
            "gridcolor": "white",
            "linecolor": "white",
            "ticks": ""
           },
           "bgcolor": "#E5ECF6",
           "caxis": {
            "gridcolor": "white",
            "linecolor": "white",
            "ticks": ""
           }
          },
          "title": {
           "x": 0.05
          },
          "xaxis": {
           "automargin": true,
           "gridcolor": "white",
           "linecolor": "white",
           "ticks": "",
           "title": {
            "standoff": 15
           },
           "zerolinecolor": "white",
           "zerolinewidth": 2
          },
          "yaxis": {
           "automargin": true,
           "gridcolor": "white",
           "linecolor": "white",
           "ticks": "",
           "title": {
            "standoff": 15
           },
           "zerolinecolor": "white",
           "zerolinewidth": 2
          }
         }
        },
        "title": {
         "text": "Distribution of height"
        },
        "xaxis": {
         "anchor": "y",
         "domain": [
          0,
          1
         ],
         "title": {
          "text": "height"
         }
        },
        "yaxis": {
         "anchor": "x",
         "domain": [
          0,
          1
         ],
         "title": {
          "text": "count"
         }
        }
       }
      }
     },
     "metadata": {},
     "output_type": "display_data"
    },
    {
     "data": {
      "application/vnd.plotly.v1+json": {
       "config": {
        "plotlyServerURL": "https://plot.ly"
       },
       "data": [
        {
         "alignmentgroup": "True",
         "bingroup": "x",
         "hovertemplate": "age=%{x}<br>count=%{y}<extra></extra>",
         "legendgroup": "",
         "marker": {
          "color": "lightskyblue",
          "pattern": {
           "shape": ""
          }
         },
         "name": "",
         "offsetgroup": "",
         "orientation": "v",
         "showlegend": false,
         "type": "histogram",
         "x": [
          32,
          30,
          37,
          30,
          38,
          29,
          25,
          33,
          30,
          33,
          30,
          21,
          30,
          29,
          21,
          21,
          33,
          41,
          25,
          32,
          23,
          29,
          35,
          39,
          26,
          36,
          36,
          23,
          22,
          32,
          30,
          36,
          19,
          31,
          26,
          33,
          24,
          36,
          27,
          28,
          20,
          30,
          24,
          36,
          31,
          34,
          29,
          31,
          29,
          30,
          37,
          25,
          28,
          36,
          35,
          24,
          24,
          31,
          28,
          19,
          31,
          29,
          21,
          35,
          30,
          35,
          20,
          27,
          32,
          38,
          22,
          20,
          30,
          24,
          29,
          35,
          30,
          22,
          24,
          25,
          28,
          22,
          17,
          28,
          25,
          21,
          28,
          30,
          22,
          26,
          24,
          20,
          38,
          30,
          34,
          22,
          38,
          34,
          24,
          35,
          22,
          31,
          27,
          19,
          24,
          19,
          32,
          21,
          34,
          18,
          29,
          21,
          29,
          25,
          22,
          32,
          22,
          33,
          26,
          31,
          29,
          37,
          34,
          34,
          20,
          33,
          32,
          32,
          19,
          17,
          19,
          28,
          26,
          21,
          40,
          29,
          24,
          40,
          25,
          22,
          24,
          22,
          32,
          35,
          25,
          32,
          31,
          35,
          25,
          29,
          32,
          31,
          35,
          22,
          29,
          22,
          41,
          27,
          26,
          22,
          32,
          33,
          25,
          33,
          34,
          30,
          29,
          31,
          27,
          31,
          25,
          22,
          30,
          36,
          24,
          30,
          27,
          31,
          24,
          31,
          24,
          21,
          35,
          23,
          21,
          29,
          24,
          26,
          33,
          36,
          24,
          36,
          22,
          42,
          26,
          34,
          22,
          19,
          32,
          37,
          19,
          32,
          31,
          23,
          19,
          25,
          28,
          21,
          33,
          26,
          25,
          34,
          18,
          28,
          27,
          21,
          19,
          25,
          32,
          21,
          40,
          27,
          28,
          32,
          26,
          19,
          34,
          22,
          26,
          22,
          22,
          37,
          32,
          33,
          29,
          31,
          32,
          26,
          28,
          21,
          23,
          27,
          38,
          40,
          27,
          37,
          25,
          39,
          33,
          30,
          33,
          26,
          27,
          20,
          20,
          38,
          38,
          20,
          28,
          27,
          20,
          36,
          23,
          22,
          29,
          25,
          37,
          22,
          24,
          26,
          35,
          32,
          24,
          26,
          24,
          28,
          28,
          35,
          25,
          30,
          24,
          22,
          30,
          26,
          37,
          32,
          22,
          24,
          26,
          22,
          21,
          20,
          26,
          30,
          22,
          21,
          29,
          25,
          22,
          34,
          29,
          20,
          32,
          35,
          21,
          21,
          35,
          26,
          23,
          27,
          42,
          22,
          31,
          40,
          22,
          18,
          24,
          29,
          32,
          20,
          31,
          30,
          20,
          18,
          32,
          36,
          23,
          20,
          23,
          24,
          21,
          27,
          19,
          26,
          29,
          23,
          23,
          26,
          21,
          34,
          29,
          20,
          21,
          27,
          31,
          32,
          23,
          23,
          36,
          21,
          26,
          28,
          19,
          21,
          23,
          19,
          27,
          26,
          26,
          22,
          28,
          27,
          23,
          21,
          25,
          34,
          23,
          18,
          29,
          23,
          24,
          21,
          29,
          27,
          27,
          31,
          39,
          40,
          30,
          26,
          19,
          39,
          25,
          27,
          33,
          21,
          23,
          19,
          22,
          20,
          25,
          22,
          24,
          27,
          33,
          22,
          22,
          28,
          25,
          23,
          22,
          42,
          24,
          26,
          27,
          21,
          23,
          27,
          28,
          35,
          24,
          23,
          22,
          23,
          30,
          30,
          23,
          20,
          34,
          31,
          38,
          33,
          24,
          25,
          31,
          35,
          28,
          35,
          35,
          24,
          25,
          35,
          33,
          21,
          32,
          24,
          20,
          30,
          33,
          35,
          27,
          30,
          36,
          22,
          35,
          29,
          36,
          33,
          24,
          22,
          21,
          35,
          24,
          31,
          20,
          28,
          22,
          26,
          18,
          28,
          22,
          19,
          24,
          28,
          36,
          37,
          24,
          26,
          20,
          31,
          42,
          22,
          28,
          25,
          21,
          33,
          24,
          33,
          21,
          25,
          25,
          36,
          25,
          21,
          36,
          26,
          26,
          23,
          26,
          26,
          20,
          32,
          23,
          34,
          27,
          23,
          21,
          32,
          23,
          23,
          31,
          29,
          36,
          23,
          26,
          29,
          20,
          18,
          27,
          29,
          22,
          35,
          35,
          40,
          34,
          26,
          30,
          37,
          27,
          39,
          25,
          27,
          32,
          30,
          39,
          30,
          22,
          39,
          25,
          22,
          30,
          30,
          22,
          25,
          26,
          34,
          32,
          29,
          22,
          34,
          26,
          23,
          32,
          36,
          32,
          30,
          26,
          37,
          28,
          33,
          23,
          42,
          25,
          26,
          36,
          25,
          19,
          36,
          27,
          21,
          19,
          27,
          37,
          23,
          34,
          28,
          24,
          24,
          35,
          25,
          36,
          33,
          34,
          30,
          19,
          26,
          28,
          21,
          24,
          25,
          24,
          24,
          32,
          30,
          28,
          27,
          29,
          22,
          36,
          22,
          29,
          29,
          25,
          23,
          37,
          19,
          24,
          21,
          20,
          36,
          28,
          21,
          26,
          34,
          23,
          25,
          32,
          29,
          24,
          20,
          26,
          32,
          25,
          29,
          35,
          21,
          28,
          30,
          21,
          33,
          36,
          30,
          29,
          29,
          35,
          27,
          24,
          28,
          32,
          25,
          32,
          28,
          26,
          21,
          34,
          30,
          28,
          20,
          24,
          27,
          21,
          33,
          34,
          28,
          28,
          35,
          30,
          33,
          27,
          25,
          31,
          25,
          24,
          22,
          24,
          26,
          20,
          28,
          23,
          35,
          32,
          30,
          30,
          25,
          23,
          27,
          35,
          38,
          27,
          22,
          20,
          20,
          22,
          34,
          19,
          25,
          26,
          34,
          17,
          17,
          32,
          29,
          23,
          33,
          26,
          25,
          28,
          23,
          25,
          26,
          31,
          22,
          33,
          20,
          22,
          34,
          28,
          18,
          18,
          28,
          27,
          23,
          19,
          32,
          32,
          20,
          26,
          24,
          18,
          35,
          19,
          28,
          34,
          20,
          25,
          31,
          27,
          25,
          18,
          29,
          24,
          29,
          24,
          37,
          23,
          23,
          28,
          38,
          26,
          25,
          24,
          20,
          36,
          27,
          18,
          21,
          33,
          20,
          26,
          27,
          22,
          19,
          40,
          21,
          27,
          21,
          28,
          24,
          18,
          30,
          30,
          22,
          20,
          27,
          24,
          34,
          21,
          32,
          23,
          19,
          24,
          22,
          26,
          24,
          23,
          26,
          27,
          24,
          36,
          21,
          19,
          29,
          22,
          21,
          25,
          21,
          19,
          39,
          32,
          34,
          23,
          22,
          27,
          32,
          19,
          25,
          34,
          19,
          33,
          25,
          31,
          30,
          21,
          26,
          23,
          23,
          31,
          30,
          29,
          24,
          26,
          32,
          23,
          29,
          33,
          21,
          34,
          37,
          23,
          22,
          30,
          27,
          23,
          22,
          22,
          37,
          29,
          25,
          34,
          20,
          27,
          23,
          21,
          18,
          19,
          30,
          31,
          25,
          32,
          22,
          22,
          26,
          28,
          34,
          19,
          37,
          29,
          19,
          32,
          27,
          25,
          26,
          21,
          29,
          31,
          30,
          18,
          34,
          26,
          20,
          29,
          26,
          18,
          37,
          29,
          24,
          23,
          29,
          37,
          38,
          26,
          24,
          31,
          32,
          30,
          21,
          29,
          30,
          25,
          38,
          34,
          29,
          22,
          27,
          39,
          27,
          27,
          22,
          23,
          28,
          28,
          41,
          39,
          28,
          21,
          34,
          24,
          26,
          36,
          31,
          37,
          26,
          22,
          24,
          28,
          27,
          33,
          29,
          33,
          25,
          32,
          26,
          31,
          36,
          22,
          23,
          33,
          42,
          23,
          23,
          27,
          21,
          26,
          27,
          19,
          33,
          29,
          25,
          36,
          24,
          31,
          32,
          30,
          32,
          23,
          30,
          30,
          21,
          32,
          23,
          27,
          34,
          19,
          36,
          26,
          24,
          36,
          20,
          36,
          27,
          26,
          31,
          35,
          25,
          33,
          38,
          32,
          24,
          31,
          25,
          26,
          37,
          31,
          35,
          34,
          24,
          17,
          30,
          23,
          24,
          32,
          31,
          20,
          35,
          17,
          17,
          34,
          29,
          35,
          22,
          21,
          32,
          24,
          18,
          26,
          26,
          28,
          36,
          24,
          30,
          27,
          28,
          24,
          21,
          33,
          29,
          20,
          21,
          40,
          24,
          28,
          23,
          33,
          15,
          28,
          34,
          30,
          39,
          25,
          33,
          28,
          26,
          26,
          25,
          34,
          20,
          16,
          23,
          24,
          38,
          19,
          23,
          27,
          32,
          40,
          36,
          20,
          29,
          26,
          22,
          37,
          30,
          18,
          32,
          26,
          31,
          34,
          32,
          36,
          35,
          27,
          18,
          26,
          26,
          27,
          23,
          34,
          26,
          33,
          32,
          24,
          25,
          22,
          26,
          31,
          23,
          25,
          21,
          35,
          39,
          30,
          30,
          28,
          31,
          37,
          34,
          27,
          24,
          18,
          33,
          28,
          24,
          21,
          34,
          28,
          26,
          17,
          19,
          35,
          27,
          28,
          29,
          36,
          32,
          19,
          29,
          26,
          37,
          31,
          36,
          26,
          21,
          27,
          34,
          23,
          26,
          37,
          31,
          23,
          25,
          24,
          28,
          29,
          36,
          19,
          26,
          28,
          23,
          22,
          34,
          25,
          23,
          20,
          29,
          25,
          34,
          22,
          20,
          31,
          25,
          20,
          21,
          34,
          27,
          29,
          18,
          19,
          31,
          33,
          34,
          22,
          31,
          29,
          25,
          20,
          28,
          22,
          31,
          23,
          27,
          22,
          22,
          18,
          22,
          31,
          36,
          21,
          22,
          29,
          37,
          27,
          27,
          32,
          22,
          29,
          26,
          34,
          32,
          36,
          25,
          26,
          36,
          27,
          25,
          34,
          26,
          30,
          27,
          25,
          24,
          37,
          29,
          25,
          28,
          33,
          28,
          27,
          33,
          20,
          28,
          37,
          27,
          33,
          30,
          19,
          29,
          26,
          23,
          37,
          29,
          32,
          33,
          22,
          22,
          26,
          27,
          34,
          31,
          38,
          31,
          38,
          28,
          28,
          35,
          20,
          28,
          30,
          20,
          37,
          27,
          30,
          26,
          22,
          21,
          41,
          25,
          31,
          23,
          18,
          26,
          24,
          18,
          26,
          38,
          26,
          27,
          20,
          25,
          23,
          19,
          34,
          26,
          20,
          22,
          23,
          19,
          18,
          31,
          25
         ],
         "xaxis": "x",
         "yaxis": "y"
        }
       ],
       "layout": {
        "bargap": 0.2,
        "barmode": "relative",
        "legend": {
         "tracegroupgap": 0
        },
        "template": {
         "data": {
          "bar": [
           {
            "error_x": {
             "color": "#2a3f5f"
            },
            "error_y": {
             "color": "#2a3f5f"
            },
            "marker": {
             "line": {
              "color": "#E5ECF6",
              "width": 0.5
             },
             "pattern": {
              "fillmode": "overlay",
              "size": 10,
              "solidity": 0.2
             }
            },
            "type": "bar"
           }
          ],
          "barpolar": [
           {
            "marker": {
             "line": {
              "color": "#E5ECF6",
              "width": 0.5
             },
             "pattern": {
              "fillmode": "overlay",
              "size": 10,
              "solidity": 0.2
             }
            },
            "type": "barpolar"
           }
          ],
          "carpet": [
           {
            "aaxis": {
             "endlinecolor": "#2a3f5f",
             "gridcolor": "white",
             "linecolor": "white",
             "minorgridcolor": "white",
             "startlinecolor": "#2a3f5f"
            },
            "baxis": {
             "endlinecolor": "#2a3f5f",
             "gridcolor": "white",
             "linecolor": "white",
             "minorgridcolor": "white",
             "startlinecolor": "#2a3f5f"
            },
            "type": "carpet"
           }
          ],
          "choropleth": [
           {
            "colorbar": {
             "outlinewidth": 0,
             "ticks": ""
            },
            "type": "choropleth"
           }
          ],
          "contour": [
           {
            "colorbar": {
             "outlinewidth": 0,
             "ticks": ""
            },
            "colorscale": [
             [
              0,
              "#0d0887"
             ],
             [
              0.1111111111111111,
              "#46039f"
             ],
             [
              0.2222222222222222,
              "#7201a8"
             ],
             [
              0.3333333333333333,
              "#9c179e"
             ],
             [
              0.4444444444444444,
              "#bd3786"
             ],
             [
              0.5555555555555556,
              "#d8576b"
             ],
             [
              0.6666666666666666,
              "#ed7953"
             ],
             [
              0.7777777777777778,
              "#fb9f3a"
             ],
             [
              0.8888888888888888,
              "#fdca26"
             ],
             [
              1,
              "#f0f921"
             ]
            ],
            "type": "contour"
           }
          ],
          "contourcarpet": [
           {
            "colorbar": {
             "outlinewidth": 0,
             "ticks": ""
            },
            "type": "contourcarpet"
           }
          ],
          "heatmap": [
           {
            "colorbar": {
             "outlinewidth": 0,
             "ticks": ""
            },
            "colorscale": [
             [
              0,
              "#0d0887"
             ],
             [
              0.1111111111111111,
              "#46039f"
             ],
             [
              0.2222222222222222,
              "#7201a8"
             ],
             [
              0.3333333333333333,
              "#9c179e"
             ],
             [
              0.4444444444444444,
              "#bd3786"
             ],
             [
              0.5555555555555556,
              "#d8576b"
             ],
             [
              0.6666666666666666,
              "#ed7953"
             ],
             [
              0.7777777777777778,
              "#fb9f3a"
             ],
             [
              0.8888888888888888,
              "#fdca26"
             ],
             [
              1,
              "#f0f921"
             ]
            ],
            "type": "heatmap"
           }
          ],
          "heatmapgl": [
           {
            "colorbar": {
             "outlinewidth": 0,
             "ticks": ""
            },
            "colorscale": [
             [
              0,
              "#0d0887"
             ],
             [
              0.1111111111111111,
              "#46039f"
             ],
             [
              0.2222222222222222,
              "#7201a8"
             ],
             [
              0.3333333333333333,
              "#9c179e"
             ],
             [
              0.4444444444444444,
              "#bd3786"
             ],
             [
              0.5555555555555556,
              "#d8576b"
             ],
             [
              0.6666666666666666,
              "#ed7953"
             ],
             [
              0.7777777777777778,
              "#fb9f3a"
             ],
             [
              0.8888888888888888,
              "#fdca26"
             ],
             [
              1,
              "#f0f921"
             ]
            ],
            "type": "heatmapgl"
           }
          ],
          "histogram": [
           {
            "marker": {
             "pattern": {
              "fillmode": "overlay",
              "size": 10,
              "solidity": 0.2
             }
            },
            "type": "histogram"
           }
          ],
          "histogram2d": [
           {
            "colorbar": {
             "outlinewidth": 0,
             "ticks": ""
            },
            "colorscale": [
             [
              0,
              "#0d0887"
             ],
             [
              0.1111111111111111,
              "#46039f"
             ],
             [
              0.2222222222222222,
              "#7201a8"
             ],
             [
              0.3333333333333333,
              "#9c179e"
             ],
             [
              0.4444444444444444,
              "#bd3786"
             ],
             [
              0.5555555555555556,
              "#d8576b"
             ],
             [
              0.6666666666666666,
              "#ed7953"
             ],
             [
              0.7777777777777778,
              "#fb9f3a"
             ],
             [
              0.8888888888888888,
              "#fdca26"
             ],
             [
              1,
              "#f0f921"
             ]
            ],
            "type": "histogram2d"
           }
          ],
          "histogram2dcontour": [
           {
            "colorbar": {
             "outlinewidth": 0,
             "ticks": ""
            },
            "colorscale": [
             [
              0,
              "#0d0887"
             ],
             [
              0.1111111111111111,
              "#46039f"
             ],
             [
              0.2222222222222222,
              "#7201a8"
             ],
             [
              0.3333333333333333,
              "#9c179e"
             ],
             [
              0.4444444444444444,
              "#bd3786"
             ],
             [
              0.5555555555555556,
              "#d8576b"
             ],
             [
              0.6666666666666666,
              "#ed7953"
             ],
             [
              0.7777777777777778,
              "#fb9f3a"
             ],
             [
              0.8888888888888888,
              "#fdca26"
             ],
             [
              1,
              "#f0f921"
             ]
            ],
            "type": "histogram2dcontour"
           }
          ],
          "mesh3d": [
           {
            "colorbar": {
             "outlinewidth": 0,
             "ticks": ""
            },
            "type": "mesh3d"
           }
          ],
          "parcoords": [
           {
            "line": {
             "colorbar": {
              "outlinewidth": 0,
              "ticks": ""
             }
            },
            "type": "parcoords"
           }
          ],
          "pie": [
           {
            "automargin": true,
            "type": "pie"
           }
          ],
          "scatter": [
           {
            "fillpattern": {
             "fillmode": "overlay",
             "size": 10,
             "solidity": 0.2
            },
            "type": "scatter"
           }
          ],
          "scatter3d": [
           {
            "line": {
             "colorbar": {
              "outlinewidth": 0,
              "ticks": ""
             }
            },
            "marker": {
             "colorbar": {
              "outlinewidth": 0,
              "ticks": ""
             }
            },
            "type": "scatter3d"
           }
          ],
          "scattercarpet": [
           {
            "marker": {
             "colorbar": {
              "outlinewidth": 0,
              "ticks": ""
             }
            },
            "type": "scattercarpet"
           }
          ],
          "scattergeo": [
           {
            "marker": {
             "colorbar": {
              "outlinewidth": 0,
              "ticks": ""
             }
            },
            "type": "scattergeo"
           }
          ],
          "scattergl": [
           {
            "marker": {
             "colorbar": {
              "outlinewidth": 0,
              "ticks": ""
             }
            },
            "type": "scattergl"
           }
          ],
          "scattermapbox": [
           {
            "marker": {
             "colorbar": {
              "outlinewidth": 0,
              "ticks": ""
             }
            },
            "type": "scattermapbox"
           }
          ],
          "scatterpolar": [
           {
            "marker": {
             "colorbar": {
              "outlinewidth": 0,
              "ticks": ""
             }
            },
            "type": "scatterpolar"
           }
          ],
          "scatterpolargl": [
           {
            "marker": {
             "colorbar": {
              "outlinewidth": 0,
              "ticks": ""
             }
            },
            "type": "scatterpolargl"
           }
          ],
          "scatterternary": [
           {
            "marker": {
             "colorbar": {
              "outlinewidth": 0,
              "ticks": ""
             }
            },
            "type": "scatterternary"
           }
          ],
          "surface": [
           {
            "colorbar": {
             "outlinewidth": 0,
             "ticks": ""
            },
            "colorscale": [
             [
              0,
              "#0d0887"
             ],
             [
              0.1111111111111111,
              "#46039f"
             ],
             [
              0.2222222222222222,
              "#7201a8"
             ],
             [
              0.3333333333333333,
              "#9c179e"
             ],
             [
              0.4444444444444444,
              "#bd3786"
             ],
             [
              0.5555555555555556,
              "#d8576b"
             ],
             [
              0.6666666666666666,
              "#ed7953"
             ],
             [
              0.7777777777777778,
              "#fb9f3a"
             ],
             [
              0.8888888888888888,
              "#fdca26"
             ],
             [
              1,
              "#f0f921"
             ]
            ],
            "type": "surface"
           }
          ],
          "table": [
           {
            "cells": {
             "fill": {
              "color": "#EBF0F8"
             },
             "line": {
              "color": "white"
             }
            },
            "header": {
             "fill": {
              "color": "#C8D4E3"
             },
             "line": {
              "color": "white"
             }
            },
            "type": "table"
           }
          ]
         },
         "layout": {
          "annotationdefaults": {
           "arrowcolor": "#2a3f5f",
           "arrowhead": 0,
           "arrowwidth": 1
          },
          "autotypenumbers": "strict",
          "coloraxis": {
           "colorbar": {
            "outlinewidth": 0,
            "ticks": ""
           }
          },
          "colorscale": {
           "diverging": [
            [
             0,
             "#8e0152"
            ],
            [
             0.1,
             "#c51b7d"
            ],
            [
             0.2,
             "#de77ae"
            ],
            [
             0.3,
             "#f1b6da"
            ],
            [
             0.4,
             "#fde0ef"
            ],
            [
             0.5,
             "#f7f7f7"
            ],
            [
             0.6,
             "#e6f5d0"
            ],
            [
             0.7,
             "#b8e186"
            ],
            [
             0.8,
             "#7fbc41"
            ],
            [
             0.9,
             "#4d9221"
            ],
            [
             1,
             "#276419"
            ]
           ],
           "sequential": [
            [
             0,
             "#0d0887"
            ],
            [
             0.1111111111111111,
             "#46039f"
            ],
            [
             0.2222222222222222,
             "#7201a8"
            ],
            [
             0.3333333333333333,
             "#9c179e"
            ],
            [
             0.4444444444444444,
             "#bd3786"
            ],
            [
             0.5555555555555556,
             "#d8576b"
            ],
            [
             0.6666666666666666,
             "#ed7953"
            ],
            [
             0.7777777777777778,
             "#fb9f3a"
            ],
            [
             0.8888888888888888,
             "#fdca26"
            ],
            [
             1,
             "#f0f921"
            ]
           ],
           "sequentialminus": [
            [
             0,
             "#0d0887"
            ],
            [
             0.1111111111111111,
             "#46039f"
            ],
            [
             0.2222222222222222,
             "#7201a8"
            ],
            [
             0.3333333333333333,
             "#9c179e"
            ],
            [
             0.4444444444444444,
             "#bd3786"
            ],
            [
             0.5555555555555556,
             "#d8576b"
            ],
            [
             0.6666666666666666,
             "#ed7953"
            ],
            [
             0.7777777777777778,
             "#fb9f3a"
            ],
            [
             0.8888888888888888,
             "#fdca26"
            ],
            [
             1,
             "#f0f921"
            ]
           ]
          },
          "colorway": [
           "#636efa",
           "#EF553B",
           "#00cc96",
           "#ab63fa",
           "#FFA15A",
           "#19d3f3",
           "#FF6692",
           "#B6E880",
           "#FF97FF",
           "#FECB52"
          ],
          "font": {
           "color": "#2a3f5f"
          },
          "geo": {
           "bgcolor": "white",
           "lakecolor": "white",
           "landcolor": "#E5ECF6",
           "showlakes": true,
           "showland": true,
           "subunitcolor": "white"
          },
          "hoverlabel": {
           "align": "left"
          },
          "hovermode": "closest",
          "mapbox": {
           "style": "light"
          },
          "paper_bgcolor": "white",
          "plot_bgcolor": "#E5ECF6",
          "polar": {
           "angularaxis": {
            "gridcolor": "white",
            "linecolor": "white",
            "ticks": ""
           },
           "bgcolor": "#E5ECF6",
           "radialaxis": {
            "gridcolor": "white",
            "linecolor": "white",
            "ticks": ""
           }
          },
          "scene": {
           "xaxis": {
            "backgroundcolor": "#E5ECF6",
            "gridcolor": "white",
            "gridwidth": 2,
            "linecolor": "white",
            "showbackground": true,
            "ticks": "",
            "zerolinecolor": "white"
           },
           "yaxis": {
            "backgroundcolor": "#E5ECF6",
            "gridcolor": "white",
            "gridwidth": 2,
            "linecolor": "white",
            "showbackground": true,
            "ticks": "",
            "zerolinecolor": "white"
           },
           "zaxis": {
            "backgroundcolor": "#E5ECF6",
            "gridcolor": "white",
            "gridwidth": 2,
            "linecolor": "white",
            "showbackground": true,
            "ticks": "",
            "zerolinecolor": "white"
           }
          },
          "shapedefaults": {
           "line": {
            "color": "#2a3f5f"
           }
          },
          "ternary": {
           "aaxis": {
            "gridcolor": "white",
            "linecolor": "white",
            "ticks": ""
           },
           "baxis": {
            "gridcolor": "white",
            "linecolor": "white",
            "ticks": ""
           },
           "bgcolor": "#E5ECF6",
           "caxis": {
            "gridcolor": "white",
            "linecolor": "white",
            "ticks": ""
           }
          },
          "title": {
           "x": 0.05
          },
          "xaxis": {
           "automargin": true,
           "gridcolor": "white",
           "linecolor": "white",
           "ticks": "",
           "title": {
            "standoff": 15
           },
           "zerolinecolor": "white",
           "zerolinewidth": 2
          },
          "yaxis": {
           "automargin": true,
           "gridcolor": "white",
           "linecolor": "white",
           "ticks": "",
           "title": {
            "standoff": 15
           },
           "zerolinecolor": "white",
           "zerolinewidth": 2
          }
         }
        },
        "title": {
         "text": "Distribution of age"
        },
        "xaxis": {
         "anchor": "y",
         "domain": [
          0,
          1
         ],
         "title": {
          "text": "age"
         }
        },
        "yaxis": {
         "anchor": "x",
         "domain": [
          0,
          1
         ],
         "title": {
          "text": "count"
         }
        }
       }
      }
     },
     "metadata": {},
     "output_type": "display_data"
    },
    {
     "data": {
      "application/vnd.plotly.v1+json": {
       "config": {
        "plotlyServerURL": "https://plot.ly"
       },
       "data": [
        {
         "alignmentgroup": "True",
         "bingroup": "x",
         "hovertemplate": "appearance=%{x}<br>count=%{y}<extra></extra>",
         "legendgroup": "",
         "marker": {
          "color": "lightskyblue",
          "pattern": {
           "shape": ""
          }
         },
         "name": "",
         "offsetgroup": "",
         "orientation": "v",
         "showlegend": false,
         "type": "histogram",
         "x": [
          104,
          15,
          4,
          41,
          75,
          33,
          65,
          31,
          74,
          18,
          8,
          17,
          76,
          55,
          60,
          83,
          29,
          5,
          63,
          25,
          23,
          75,
          10,
          0,
          25,
          45,
          12,
          80,
          32,
          11,
          47,
          58,
          36,
          45,
          42,
          32,
          61,
          0,
          64,
          33,
          0,
          101,
          13,
          2,
          81,
          32,
          1,
          3,
          97,
          49,
          1,
          80,
          7,
          74,
          44,
          2,
          1,
          61,
          54,
          8,
          2,
          59,
          32,
          8,
          70,
          8,
          18,
          0,
          72,
          3,
          25,
          54,
          54,
          9,
          0,
          60,
          12,
          20,
          10,
          52,
          25,
          33,
          42,
          62,
          12,
          45,
          66,
          14,
          30,
          1,
          47,
          26,
          0,
          53,
          20,
          52,
          2,
          72,
          7,
          4,
          0,
          58,
          14,
          46,
          8,
          41,
          94,
          5,
          2,
          41,
          81,
          59,
          6,
          75,
          48,
          44,
          28,
          89,
          43,
          3,
          0,
          55,
          72,
          16,
          36,
          59,
          59,
          16,
          37,
          27,
          0,
          92,
          22,
          38,
          49,
          60,
          28,
          44,
          67,
          51,
          10,
          65,
          9,
          14,
          3,
          77,
          34,
          30,
          33,
          61,
          36,
          43,
          55,
          24,
          70,
          16,
          43,
          74,
          6,
          7,
          79,
          57,
          4,
          20,
          53,
          72,
          10,
          62,
          5,
          51,
          28,
          8,
          77,
          18,
          1,
          89,
          42,
          101,
          16,
          99,
          22,
          48,
          105,
          17,
          4,
          76,
          41,
          0,
          80,
          39,
          6,
          73,
          5,
          5,
          70,
          11,
          1,
          9,
          76,
          5,
          21,
          76,
          4,
          33,
          54,
          79,
          40,
          32,
          2,
          71,
          40,
          2,
          19,
          51,
          7,
          0,
          16,
          44,
          16,
          7,
          2,
          73,
          3,
          1,
          56,
          27,
          10,
          65,
          9,
          8,
          1,
          77,
          34,
          3,
          73,
          20,
          2,
          60,
          23,
          32,
          1,
          51,
          66,
          1,
          68,
          32,
          2,
          1,
          80,
          30,
          1,
          97,
          30,
          11,
          26,
          62,
          5,
          19,
          78,
          9,
          24,
          99,
          12,
          2,
          82,
          15,
          33,
          33,
          87,
          17,
          5,
          29,
          18,
          17,
          29,
          32,
          9,
          22,
          11,
          76,
          7,
          15,
          61,
          47,
          8,
          75,
          3,
          18,
          67,
          46,
          10,
          43,
          29,
          46,
          31,
          6,
          65,
          28,
          33,
          64,
          21,
          19,
          79,
          40,
          15,
          67,
          44,
          4,
          43,
          44,
          0,
          30,
          77,
          2,
          14,
          11,
          72,
          16,
          2,
          20,
          45,
          41,
          36,
          49,
          78,
          1,
          5,
          22,
          39,
          34,
          21,
          32,
          14,
          30,
          44,
          16,
          36,
          38,
          0,
          49,
          39,
          21,
          25,
          81,
          24,
          4,
          19,
          26,
          18,
          3,
          78,
          42,
          16,
          64,
          28,
          39,
          63,
          5,
          0,
          2,
          51,
          16,
          3,
          36,
          38,
          22,
          9,
          19,
          40,
          44,
          28,
          24,
          40,
          39,
          1,
          85,
          50,
          8,
          79,
          58,
          30,
          11,
          69,
          46,
          20,
          20,
          10,
          7,
          0,
          0,
          6,
          4,
          0,
          10,
          0,
          0,
          0,
          37,
          4,
          0,
          0,
          10,
          24,
          6,
          4,
          0,
          0,
          10,
          0,
          0,
          0,
          8,
          2,
          0,
          42,
          1,
          0,
          0,
          6,
          1,
          7,
          17,
          0,
          0,
          7,
          3,
          0,
          10,
          0,
          0,
          10,
          0,
          0,
          0,
          10,
          0,
          0,
          0,
          10,
          0,
          0,
          33,
          5,
          0,
          12,
          0,
          0,
          8,
          0,
          6,
          0,
          10,
          0,
          90,
          16,
          14,
          79,
          7,
          4,
          61,
          10,
          12,
          29,
          16,
          42,
          0,
          59,
          28,
          35,
          6,
          61,
          4,
          38,
          0,
          7,
          17,
          19,
          16,
          5,
          9,
          5,
          67,
          22,
          4,
          37,
          32,
          16,
          10,
          55,
          40,
          32,
          71,
          32,
          66,
          28,
          2,
          39,
          32,
          4,
          84,
          16,
          35,
          91,
          47,
          1,
          102,
          47,
          41,
          69,
          20,
          29,
          83,
          9,
          73,
          13,
          40,
          36,
          44,
          25,
          67,
          24,
          25,
          46,
          56,
          71,
          14,
          33,
          57,
          18,
          17,
          41,
          41,
          14,
          10,
          62,
          30,
          71,
          16,
          42,
          82,
          19,
          31,
          50,
          12,
          41,
          28,
          25,
          91,
          29,
          54,
          33,
          48,
          42,
          42,
          78,
          23,
          37,
          52,
          24,
          35,
          36,
          62,
          29,
          7,
          65,
          6,
          56,
          15,
          3,
          36,
          27,
          16,
          50,
          41,
          16,
          66,
          19,
          30,
          34,
          31,
          13,
          23,
          50,
          3,
          25,
          18,
          28,
          41,
          17,
          54,
          24,
          46,
          39,
          2,
          66,
          25,
          63,
          37,
          17,
          52,
          7,
          74,
          35,
          29,
          87,
          33,
          21,
          56,
          30,
          20,
          55,
          33,
          37,
          45,
          2,
          23,
          78,
          3,
          19,
          36,
          50,
          77,
          46,
          41,
          57,
          6,
          18,
          81,
          61,
          47,
          52,
          3,
          48,
          9,
          70,
          77,
          4,
          10,
          77,
          30,
          3,
          79,
          30,
          54,
          56,
          14,
          54,
          46,
          62,
          19,
          22,
          72,
          41,
          17,
          73,
          63,
          9,
          58,
          33,
          24,
          80,
          25,
          75,
          32,
          27,
          45,
          48,
          2,
          87,
          6,
          25,
          21,
          52,
          29,
          13,
          2,
          29,
          63,
          1,
          41,
          25,
          50,
          3,
          62,
          23,
          8,
          52,
          11,
          3,
          3,
          68,
          17,
          47,
          27,
          29,
          70,
          28,
          21,
          39,
          52,
          26,
          3,
          25,
          76,
          24,
          45,
          3,
          38,
          17,
          14,
          9,
          31,
          23,
          4,
          4,
          59,
          35,
          7,
          28,
          25,
          2,
          3,
          54,
          58,
          4,
          26,
          28,
          30,
          3,
          71,
          46,
          11,
          71,
          37,
          42,
          51,
          69,
          48,
          2,
          78,
          15,
          32,
          1,
          10,
          55,
          17,
          64,
          6,
          36,
          64,
          19,
          24,
          49,
          28,
          48,
          3,
          0,
          57,
          21,
          29,
          9,
          60,
          32,
          3,
          52,
          13,
          6,
          61,
          26,
          26,
          20,
          72,
          34,
          42,
          83,
          27,
          46,
          2,
          20,
          4,
          5,
          17,
          0,
          0,
          7,
          34,
          3,
          6,
          17,
          1,
          0,
          9,
          34,
          8,
          44,
          4,
          2,
          18,
          0,
          0,
          17,
          0,
          10,
          12,
          5,
          0,
          3,
          0,
          7,
          14,
          32,
          3,
          7,
          7,
          5,
          7,
          7,
          52,
          17,
          3,
          25,
          4,
          0,
          5,
          14,
          2,
          4,
          17,
          0,
          0,
          2,
          16,
          0,
          1,
          12,
          16,
          0,
          7,
          17,
          0,
          2,
          2,
          16,
          0,
          14,
          0,
          4,
          17,
          0,
          7,
          6,
          11,
          8,
          27,
          0,
          9,
          1,
          2,
          6,
          11,
          16,
          1,
          0,
          19,
          0,
          15,
          3,
          20,
          5,
          2,
          24,
          1,
          0,
          8,
          12,
          0,
          5,
          0,
          2,
          17,
          5,
          0,
          4,
          2,
          0,
          20,
          0,
          19,
          0,
          4,
          16,
          20,
          0,
          4,
          1,
          19,
          0,
          0,
          27,
          16,
          3,
          15,
          1,
          0,
          0,
          4,
          0,
          17,
          1,
          20,
          0,
          0,
          18,
          1,
          0,
          17,
          0,
          3,
          20,
          0,
          20,
          0,
          18,
          2,
          0,
          7,
          13,
          0,
          20,
          0,
          0,
          20,
          0,
          19,
          0,
          1,
          33,
          0,
          5,
          5,
          0,
          0,
          6,
          1,
          8,
          14,
          0,
          0,
          14,
          2,
          0,
          4,
          2,
          14,
          2,
          0,
          4,
          25,
          14,
          14,
          3,
          17,
          0,
          1,
          8,
          0,
          17,
          0,
          0,
          0,
          3,
          3,
          0,
          7,
          11,
          9,
          5,
          0,
          2,
          7,
          10,
          0,
          1,
          1,
          17,
          0,
          0,
          0,
          1,
          2,
          22,
          0,
          0,
          5,
          8,
          0,
          0,
          9,
          16,
          2,
          0,
          0,
          13,
          4,
          0,
          0,
          1,
          0,
          17,
          2,
          0,
          17,
          0,
          0,
          0,
          23,
          4,
          1,
          0,
          10,
          7,
          0,
          6,
          33,
          1,
          36,
          3,
          3,
          61,
          0,
          0,
          0,
          29,
          3,
          0,
          2,
          60,
          9,
          0,
          54,
          7,
          0,
          0,
          1,
          58,
          6,
          7,
          0,
          7,
          65,
          0,
          54,
          1,
          8,
          0,
          21,
          11,
          0,
          0,
          61,
          21,
          0,
          0,
          54,
          2,
          10,
          0,
          0,
          61,
          0,
          0,
          0,
          66,
          1,
          0,
          62,
          1,
          27,
          17,
          77,
          2,
          1,
          8,
          47,
          23,
          11,
          22,
          17,
          1,
          0,
          0,
          18,
          1,
          0,
          0,
          6,
          6,
          5,
          0,
          13,
          4,
          4,
          12,
          18,
          0,
          0,
          1,
          7,
          14,
          5,
          0,
          0,
          13,
          14,
          5,
          11,
          2,
          12,
          4,
          2,
          0,
          0,
          17,
          0,
          0,
          5,
          12,
          0,
          0,
          3,
          14,
          0,
          7,
          6,
          24,
          1,
          0,
          0,
          34,
          24,
          3,
          27,
          66,
          0,
          28,
          29,
          4,
          52,
          11,
          0,
          1,
          20,
          24,
          4,
          8,
          0,
          24,
          4,
          15,
          7,
          45,
          17,
          32,
          21,
          4,
          27,
          5,
          2,
          0,
          14,
          65,
          2,
          35,
          0,
          0,
          32,
          24,
          0,
          32,
          26,
          6,
          8,
          0,
          2,
          31,
          0,
          32,
          64,
          28,
          11,
          11,
          27,
          12,
          14,
          0,
          48,
          9,
          0,
          58,
          1,
          36,
          17,
          0,
          24,
          5,
          1,
          51,
          8,
          14,
          37,
          21,
          0,
          0,
          33,
          2,
          55,
          4,
          64,
          2,
          0,
          55,
          10,
          18,
          54,
          6,
          0,
          3,
          51,
          14
         ],
         "xaxis": "x",
         "yaxis": "y"
        }
       ],
       "layout": {
        "bargap": 0.2,
        "barmode": "relative",
        "legend": {
         "tracegroupgap": 0
        },
        "template": {
         "data": {
          "bar": [
           {
            "error_x": {
             "color": "#2a3f5f"
            },
            "error_y": {
             "color": "#2a3f5f"
            },
            "marker": {
             "line": {
              "color": "#E5ECF6",
              "width": 0.5
             },
             "pattern": {
              "fillmode": "overlay",
              "size": 10,
              "solidity": 0.2
             }
            },
            "type": "bar"
           }
          ],
          "barpolar": [
           {
            "marker": {
             "line": {
              "color": "#E5ECF6",
              "width": 0.5
             },
             "pattern": {
              "fillmode": "overlay",
              "size": 10,
              "solidity": 0.2
             }
            },
            "type": "barpolar"
           }
          ],
          "carpet": [
           {
            "aaxis": {
             "endlinecolor": "#2a3f5f",
             "gridcolor": "white",
             "linecolor": "white",
             "minorgridcolor": "white",
             "startlinecolor": "#2a3f5f"
            },
            "baxis": {
             "endlinecolor": "#2a3f5f",
             "gridcolor": "white",
             "linecolor": "white",
             "minorgridcolor": "white",
             "startlinecolor": "#2a3f5f"
            },
            "type": "carpet"
           }
          ],
          "choropleth": [
           {
            "colorbar": {
             "outlinewidth": 0,
             "ticks": ""
            },
            "type": "choropleth"
           }
          ],
          "contour": [
           {
            "colorbar": {
             "outlinewidth": 0,
             "ticks": ""
            },
            "colorscale": [
             [
              0,
              "#0d0887"
             ],
             [
              0.1111111111111111,
              "#46039f"
             ],
             [
              0.2222222222222222,
              "#7201a8"
             ],
             [
              0.3333333333333333,
              "#9c179e"
             ],
             [
              0.4444444444444444,
              "#bd3786"
             ],
             [
              0.5555555555555556,
              "#d8576b"
             ],
             [
              0.6666666666666666,
              "#ed7953"
             ],
             [
              0.7777777777777778,
              "#fb9f3a"
             ],
             [
              0.8888888888888888,
              "#fdca26"
             ],
             [
              1,
              "#f0f921"
             ]
            ],
            "type": "contour"
           }
          ],
          "contourcarpet": [
           {
            "colorbar": {
             "outlinewidth": 0,
             "ticks": ""
            },
            "type": "contourcarpet"
           }
          ],
          "heatmap": [
           {
            "colorbar": {
             "outlinewidth": 0,
             "ticks": ""
            },
            "colorscale": [
             [
              0,
              "#0d0887"
             ],
             [
              0.1111111111111111,
              "#46039f"
             ],
             [
              0.2222222222222222,
              "#7201a8"
             ],
             [
              0.3333333333333333,
              "#9c179e"
             ],
             [
              0.4444444444444444,
              "#bd3786"
             ],
             [
              0.5555555555555556,
              "#d8576b"
             ],
             [
              0.6666666666666666,
              "#ed7953"
             ],
             [
              0.7777777777777778,
              "#fb9f3a"
             ],
             [
              0.8888888888888888,
              "#fdca26"
             ],
             [
              1,
              "#f0f921"
             ]
            ],
            "type": "heatmap"
           }
          ],
          "heatmapgl": [
           {
            "colorbar": {
             "outlinewidth": 0,
             "ticks": ""
            },
            "colorscale": [
             [
              0,
              "#0d0887"
             ],
             [
              0.1111111111111111,
              "#46039f"
             ],
             [
              0.2222222222222222,
              "#7201a8"
             ],
             [
              0.3333333333333333,
              "#9c179e"
             ],
             [
              0.4444444444444444,
              "#bd3786"
             ],
             [
              0.5555555555555556,
              "#d8576b"
             ],
             [
              0.6666666666666666,
              "#ed7953"
             ],
             [
              0.7777777777777778,
              "#fb9f3a"
             ],
             [
              0.8888888888888888,
              "#fdca26"
             ],
             [
              1,
              "#f0f921"
             ]
            ],
            "type": "heatmapgl"
           }
          ],
          "histogram": [
           {
            "marker": {
             "pattern": {
              "fillmode": "overlay",
              "size": 10,
              "solidity": 0.2
             }
            },
            "type": "histogram"
           }
          ],
          "histogram2d": [
           {
            "colorbar": {
             "outlinewidth": 0,
             "ticks": ""
            },
            "colorscale": [
             [
              0,
              "#0d0887"
             ],
             [
              0.1111111111111111,
              "#46039f"
             ],
             [
              0.2222222222222222,
              "#7201a8"
             ],
             [
              0.3333333333333333,
              "#9c179e"
             ],
             [
              0.4444444444444444,
              "#bd3786"
             ],
             [
              0.5555555555555556,
              "#d8576b"
             ],
             [
              0.6666666666666666,
              "#ed7953"
             ],
             [
              0.7777777777777778,
              "#fb9f3a"
             ],
             [
              0.8888888888888888,
              "#fdca26"
             ],
             [
              1,
              "#f0f921"
             ]
            ],
            "type": "histogram2d"
           }
          ],
          "histogram2dcontour": [
           {
            "colorbar": {
             "outlinewidth": 0,
             "ticks": ""
            },
            "colorscale": [
             [
              0,
              "#0d0887"
             ],
             [
              0.1111111111111111,
              "#46039f"
             ],
             [
              0.2222222222222222,
              "#7201a8"
             ],
             [
              0.3333333333333333,
              "#9c179e"
             ],
             [
              0.4444444444444444,
              "#bd3786"
             ],
             [
              0.5555555555555556,
              "#d8576b"
             ],
             [
              0.6666666666666666,
              "#ed7953"
             ],
             [
              0.7777777777777778,
              "#fb9f3a"
             ],
             [
              0.8888888888888888,
              "#fdca26"
             ],
             [
              1,
              "#f0f921"
             ]
            ],
            "type": "histogram2dcontour"
           }
          ],
          "mesh3d": [
           {
            "colorbar": {
             "outlinewidth": 0,
             "ticks": ""
            },
            "type": "mesh3d"
           }
          ],
          "parcoords": [
           {
            "line": {
             "colorbar": {
              "outlinewidth": 0,
              "ticks": ""
             }
            },
            "type": "parcoords"
           }
          ],
          "pie": [
           {
            "automargin": true,
            "type": "pie"
           }
          ],
          "scatter": [
           {
            "fillpattern": {
             "fillmode": "overlay",
             "size": 10,
             "solidity": 0.2
            },
            "type": "scatter"
           }
          ],
          "scatter3d": [
           {
            "line": {
             "colorbar": {
              "outlinewidth": 0,
              "ticks": ""
             }
            },
            "marker": {
             "colorbar": {
              "outlinewidth": 0,
              "ticks": ""
             }
            },
            "type": "scatter3d"
           }
          ],
          "scattercarpet": [
           {
            "marker": {
             "colorbar": {
              "outlinewidth": 0,
              "ticks": ""
             }
            },
            "type": "scattercarpet"
           }
          ],
          "scattergeo": [
           {
            "marker": {
             "colorbar": {
              "outlinewidth": 0,
              "ticks": ""
             }
            },
            "type": "scattergeo"
           }
          ],
          "scattergl": [
           {
            "marker": {
             "colorbar": {
              "outlinewidth": 0,
              "ticks": ""
             }
            },
            "type": "scattergl"
           }
          ],
          "scattermapbox": [
           {
            "marker": {
             "colorbar": {
              "outlinewidth": 0,
              "ticks": ""
             }
            },
            "type": "scattermapbox"
           }
          ],
          "scatterpolar": [
           {
            "marker": {
             "colorbar": {
              "outlinewidth": 0,
              "ticks": ""
             }
            },
            "type": "scatterpolar"
           }
          ],
          "scatterpolargl": [
           {
            "marker": {
             "colorbar": {
              "outlinewidth": 0,
              "ticks": ""
             }
            },
            "type": "scatterpolargl"
           }
          ],
          "scatterternary": [
           {
            "marker": {
             "colorbar": {
              "outlinewidth": 0,
              "ticks": ""
             }
            },
            "type": "scatterternary"
           }
          ],
          "surface": [
           {
            "colorbar": {
             "outlinewidth": 0,
             "ticks": ""
            },
            "colorscale": [
             [
              0,
              "#0d0887"
             ],
             [
              0.1111111111111111,
              "#46039f"
             ],
             [
              0.2222222222222222,
              "#7201a8"
             ],
             [
              0.3333333333333333,
              "#9c179e"
             ],
             [
              0.4444444444444444,
              "#bd3786"
             ],
             [
              0.5555555555555556,
              "#d8576b"
             ],
             [
              0.6666666666666666,
              "#ed7953"
             ],
             [
              0.7777777777777778,
              "#fb9f3a"
             ],
             [
              0.8888888888888888,
              "#fdca26"
             ],
             [
              1,
              "#f0f921"
             ]
            ],
            "type": "surface"
           }
          ],
          "table": [
           {
            "cells": {
             "fill": {
              "color": "#EBF0F8"
             },
             "line": {
              "color": "white"
             }
            },
            "header": {
             "fill": {
              "color": "#C8D4E3"
             },
             "line": {
              "color": "white"
             }
            },
            "type": "table"
           }
          ]
         },
         "layout": {
          "annotationdefaults": {
           "arrowcolor": "#2a3f5f",
           "arrowhead": 0,
           "arrowwidth": 1
          },
          "autotypenumbers": "strict",
          "coloraxis": {
           "colorbar": {
            "outlinewidth": 0,
            "ticks": ""
           }
          },
          "colorscale": {
           "diverging": [
            [
             0,
             "#8e0152"
            ],
            [
             0.1,
             "#c51b7d"
            ],
            [
             0.2,
             "#de77ae"
            ],
            [
             0.3,
             "#f1b6da"
            ],
            [
             0.4,
             "#fde0ef"
            ],
            [
             0.5,
             "#f7f7f7"
            ],
            [
             0.6,
             "#e6f5d0"
            ],
            [
             0.7,
             "#b8e186"
            ],
            [
             0.8,
             "#7fbc41"
            ],
            [
             0.9,
             "#4d9221"
            ],
            [
             1,
             "#276419"
            ]
           ],
           "sequential": [
            [
             0,
             "#0d0887"
            ],
            [
             0.1111111111111111,
             "#46039f"
            ],
            [
             0.2222222222222222,
             "#7201a8"
            ],
            [
             0.3333333333333333,
             "#9c179e"
            ],
            [
             0.4444444444444444,
             "#bd3786"
            ],
            [
             0.5555555555555556,
             "#d8576b"
            ],
            [
             0.6666666666666666,
             "#ed7953"
            ],
            [
             0.7777777777777778,
             "#fb9f3a"
            ],
            [
             0.8888888888888888,
             "#fdca26"
            ],
            [
             1,
             "#f0f921"
            ]
           ],
           "sequentialminus": [
            [
             0,
             "#0d0887"
            ],
            [
             0.1111111111111111,
             "#46039f"
            ],
            [
             0.2222222222222222,
             "#7201a8"
            ],
            [
             0.3333333333333333,
             "#9c179e"
            ],
            [
             0.4444444444444444,
             "#bd3786"
            ],
            [
             0.5555555555555556,
             "#d8576b"
            ],
            [
             0.6666666666666666,
             "#ed7953"
            ],
            [
             0.7777777777777778,
             "#fb9f3a"
            ],
            [
             0.8888888888888888,
             "#fdca26"
            ],
            [
             1,
             "#f0f921"
            ]
           ]
          },
          "colorway": [
           "#636efa",
           "#EF553B",
           "#00cc96",
           "#ab63fa",
           "#FFA15A",
           "#19d3f3",
           "#FF6692",
           "#B6E880",
           "#FF97FF",
           "#FECB52"
          ],
          "font": {
           "color": "#2a3f5f"
          },
          "geo": {
           "bgcolor": "white",
           "lakecolor": "white",
           "landcolor": "#E5ECF6",
           "showlakes": true,
           "showland": true,
           "subunitcolor": "white"
          },
          "hoverlabel": {
           "align": "left"
          },
          "hovermode": "closest",
          "mapbox": {
           "style": "light"
          },
          "paper_bgcolor": "white",
          "plot_bgcolor": "#E5ECF6",
          "polar": {
           "angularaxis": {
            "gridcolor": "white",
            "linecolor": "white",
            "ticks": ""
           },
           "bgcolor": "#E5ECF6",
           "radialaxis": {
            "gridcolor": "white",
            "linecolor": "white",
            "ticks": ""
           }
          },
          "scene": {
           "xaxis": {
            "backgroundcolor": "#E5ECF6",
            "gridcolor": "white",
            "gridwidth": 2,
            "linecolor": "white",
            "showbackground": true,
            "ticks": "",
            "zerolinecolor": "white"
           },
           "yaxis": {
            "backgroundcolor": "#E5ECF6",
            "gridcolor": "white",
            "gridwidth": 2,
            "linecolor": "white",
            "showbackground": true,
            "ticks": "",
            "zerolinecolor": "white"
           },
           "zaxis": {
            "backgroundcolor": "#E5ECF6",
            "gridcolor": "white",
            "gridwidth": 2,
            "linecolor": "white",
            "showbackground": true,
            "ticks": "",
            "zerolinecolor": "white"
           }
          },
          "shapedefaults": {
           "line": {
            "color": "#2a3f5f"
           }
          },
          "ternary": {
           "aaxis": {
            "gridcolor": "white",
            "linecolor": "white",
            "ticks": ""
           },
           "baxis": {
            "gridcolor": "white",
            "linecolor": "white",
            "ticks": ""
           },
           "bgcolor": "#E5ECF6",
           "caxis": {
            "gridcolor": "white",
            "linecolor": "white",
            "ticks": ""
           }
          },
          "title": {
           "x": 0.05
          },
          "xaxis": {
           "automargin": true,
           "gridcolor": "white",
           "linecolor": "white",
           "ticks": "",
           "title": {
            "standoff": 15
           },
           "zerolinecolor": "white",
           "zerolinewidth": 2
          },
          "yaxis": {
           "automargin": true,
           "gridcolor": "white",
           "linecolor": "white",
           "ticks": "",
           "title": {
            "standoff": 15
           },
           "zerolinecolor": "white",
           "zerolinewidth": 2
          }
         }
        },
        "title": {
         "text": "Distribution of appearance"
        },
        "xaxis": {
         "anchor": "y",
         "domain": [
          0,
          1
         ],
         "title": {
          "text": "appearance"
         }
        },
        "yaxis": {
         "anchor": "x",
         "domain": [
          0,
          1
         ],
         "title": {
          "text": "count"
         }
        }
       }
      }
     },
     "metadata": {},
     "output_type": "display_data"
    },
    {
     "data": {
      "application/vnd.plotly.v1+json": {
       "config": {
        "plotlyServerURL": "https://plot.ly"
       },
       "data": [
        {
         "alignmentgroup": "True",
         "bingroup": "x",
         "hovertemplate": "goals conceded=%{x}<br>count=%{y}<extra></extra>",
         "legendgroup": "",
         "marker": {
          "color": "lightskyblue",
          "pattern": {
           "shape": ""
          }
         },
         "name": "",
         "offsetgroup": "",
         "orientation": "v",
         "showlegend": false,
         "type": "histogram",
         "x": [
          1.217252396,
          1.242331288,
          0.616438356,
          0.898502496,
          1.331722784,
          1.696969697,
          1.257883075,
          1.483870968,
          1.207317073,
          1.988304094,
          0.698757764,
          1.470588235,
          1.284768212,
          1.510128913,
          1.213114754,
          1.373493976,
          1.704545455,
          1.5,
          1.184210526,
          1.2,
          1.391304348,
          1.64,
          1.64516129,
          0,
          1.594331267,
          1.276754604,
          1.818181818,
          1.94696441,
          2.166371681,
          1.764705882,
          0.914893617,
          1.2,
          1.76146789,
          1.444444444,
          0.785714286,
          1.46031746,
          1.272961058,
          0,
          1.21875,
          1.121212121,
          0,
          0.986842105,
          1.125,
          0.5,
          1.04680144,
          1.292016807,
          2,
          2.333333333,
          0.817523284,
          1.351535836,
          0,
          1.095435685,
          0.571428571,
          1.246049661,
          1.643002028,
          1.5,
          0,
          0.917217951,
          1.060865838,
          1.625,
          1.5,
          1.488906189,
          1.40625,
          1.99704142,
          1.414285714,
          2.25,
          1.690909091,
          0,
          1.700460829,
          1.8,
          1.52,
          1.293211162,
          0.886153846,
          1.767015707,
          0,
          1.674033149,
          2.25,
          1.973456434,
          0.8,
          1.692307692,
          1.4,
          1.242424242,
          0.910785619,
          1.404255319,
          1.916666667,
          0.986792923,
          1.41,
          1.604651163,
          1.266666667,
          2,
          1.814946619,
          0.769230769,
          0,
          2.278969957,
          1.237113402,
          1.019230769,
          1.5,
          1.716013021,
          0.714285714,
          2.082262211,
          0,
          1.560994411,
          1.608448416,
          1.575539568,
          2.00317965,
          1.414634146,
          1.404929577,
          1.2,
          1,
          0.975609756,
          1.207317073,
          0.994382022,
          1.578947368,
          1.324324324,
          1.421933086,
          1.414807302,
          1.357142857,
          1.354477612,
          1.315384615,
          1.333333333,
          0,
          0.947176685,
          1.518038419,
          1.125,
          1.361111111,
          1.33460076,
          1.189352464,
          1.5625,
          1.555423123,
          1.333333333,
          0,
          0.869565217,
          1.226826609,
          1.110776641,
          1.429530201,
          1.12900206,
          1.428571429,
          1.113917656,
          1.067669173,
          1.016507385,
          1.3,
          1.113936928,
          0.766423358,
          1.827411168,
          2,
          1.211989574,
          0.661764706,
          1.295454545,
          1.41,
          1.28342246,
          1.404958678,
          1.338461538,
          1.138554217,
          1.356164384,
          1.261950287,
          1.408163265,
          1.403647898,
          1.135135135,
          1.05,
          1,
          1.219338277,
          1.189735614,
          1.071428571,
          1.62295082,
          1.172761665,
          1.375,
          0.967741935,
          1.596774194,
          1.3125,
          1.865183246,
          1.642857143,
          1.462333826,
          1.117689531,
          1.2,
          0,
          0.988270527,
          1.217895609,
          0.925324675,
          1.040816327,
          0.967741935,
          1.230931089,
          1,
          1.003154574,
          1.294117647,
          1,
          1.256613757,
          1.452824937,
          0,
          1.238359972,
          1.564102564,
          1,
          1.659302148,
          2.285714286,
          1.6,
          1.075471698,
          0.909090909,
          0,
          1.888888889,
          1.323144105,
          2.2,
          1.317073171,
          1.421052632,
          0.502793296,
          1.11,
          1.424406497,
          1.18487395,
          1.825,
          1.060714286,
          1,
          1.585594013,
          1.780936455,
          3.75,
          1.397014925,
          1.337997376,
          0.721442886,
          0,
          1.4375,
          1.64075067,
          1.903323263,
          2.123411978,
          2.432432432,
          1.561643836,
          0.782608696,
          3,
          1.6048888,
          1.111111111,
          2.653562654,
          1.339835729,
          0.992647059,
          2,
          2,
          1.168831169,
          1.582614466,
          2.666666667,
          1.311424585,
          1.307993292,
          2.307692308,
          0.949296817,
          1,
          1.46875,
          0,
          0.935064935,
          0.90376569,
          0,
          0.86355505,
          1.329896907,
          3,
          0,
          0.996216898,
          0.993150685,
          2.045454545,
          1.285714286,
          1.266666667,
          1.636363636,
          1.296468401,
          0.895603401,
          0.913705584,
          1.684210526,
          1.13078241,
          0.79245283,
          1.47333957,
          1.264214047,
          0.833333333,
          1.5,
          0.814314652,
          1.192517537,
          1.324456903,
          1.303030303,
          1.454405541,
          0.898203593,
          0.4,
          1.24137931,
          1.663244353,
          1.598360656,
          1.192982456,
          1.34855512,
          1.278409091,
          1.28113879,
          0.818181818,
          1.184210526,
          0.714285714,
          0.933333333,
          1.813851228,
          1.489208633,
          1.203566122,
          1.48,
          1,
          1.444444444,
          1.832512315,
          1.188264059,
          0.9,
          1.11627907,
          1.534090909,
          1.028571429,
          1.161290323,
          1,
          1.584615385,
          1.437125749,
          1.666666667,
          1.233766234,
          1.073170732,
          0.846560847,
          1.226509826,
          1.123404255,
          1.333333333,
          1.074626866,
          2.340909091,
          2,
          1,
          1.149425287,
          0,
          1.5,
          1.331896552,
          0,
          0.930047695,
          1,
          1.043276662,
          2.033527697,
          0,
          1.015228426,
          1.152173913,
          0.975609756,
          1.305555556,
          1.006619493,
          0.893617021,
          0,
          1.6875,
          1.545454545,
          1.288290867,
          1.418779986,
          1.521984216,
          1.865284974,
          1.571428571,
          2.033333333,
          1.605065909,
          2.00148258,
          1.722222222,
          2.052631579,
          0,
          1.493775934,
          1.525423729,
          1.714285714,
          1.72,
          1.187755102,
          1.732394366,
          1.5,
          1.947368421,
          1.391155002,
          2.277777778,
          1.333333333,
          1.765960472,
          1.675794085,
          1.285714286,
          1.793018336,
          1.901913876,
          1.871794872,
          1.587301587,
          2.8,
          0,
          2,
          1.334070796,
          1.957894737,
          2,
          2.361111111,
          1.631578947,
          1.627906977,
          0.777777778,
          0.947368421,
          1.475409836,
          1.361538462,
          2.25,
          1.984321411,
          1.1,
          1.545506583,
          0,
          0.953190377,
          0.96,
          0.625,
          1.071428571,
          1.097142857,
          1.531631521,
          1.636363636,
          0.948730235,
          1.597122302,
          1.257275902,
          1.4,
          1.3,
          1.571428571,
          0,
          0,
          1.020793951,
          2,
          0,
          0.8,
          0,
          0,
          0,
          1.540540541,
          1.25,
          0,
          0,
          1.1,
          1.333333333,
          1.833333333,
          0.5,
          0,
          0,
          1.6,
          0,
          0,
          0,
          1.75,
          0.5,
          0,
          1.109622085,
          2,
          0,
          0,
          0.833333333,
          0,
          1,
          1.647058824,
          0,
          0,
          1.428571429,
          2.666666667,
          0,
          1.4,
          0,
          0,
          0.7,
          0,
          0,
          0,
          0.8,
          0,
          0,
          0,
          1.1,
          0,
          0,
          1.696969697,
          2.80623608,
          0,
          0.810810811,
          0,
          0,
          1.746268657,
          0,
          0.660146699,
          0,
          1.5,
          0,
          1.011730205,
          0.842433697,
          1.328125,
          1.3125,
          1.142857143,
          1,
          1.06557377,
          1.741935484,
          1.416666667,
          1.896551724,
          2.010424423,
          1.268292683,
          0,
          1.208853575,
          1.688417618,
          1.103773585,
          1.833333333,
          1.438280676,
          1,
          1.394736842,
          0,
          2,
          1.477347341,
          1.118343195,
          1.653061224,
          0.6,
          1.555555556,
          1,
          0.861386139,
          1.289256198,
          2.5,
          1.439147172,
          1.066573719,
          1.5,
          1.117241379,
          1.499074645,
          1.412719892,
          1.468605889,
          1.042253521,
          1.546391753,
          1.075757576,
          1.407899883,
          2,
          1.215517241,
          1.276595745,
          1.25,
          0.810381356,
          0.306330837,
          1.114285714,
          0.938304918,
          0.999055267,
          0,
          0.879669852,
          1.1244488,
          1.197393429,
          1.434782609,
          1.55,
          1.380368098,
          1.128,
          0.666666667,
          1.301369863,
          1.523988711,
          1.175,
          1.666666667,
          1.581395349,
          1.20498615,
          1.365682841,
          1.744008159,
          1.056433409,
          1.438406688,
          1.197822142,
          1.535211268,
          1.071428571,
          1.787878788,
          1.557522124,
          2.115628971,
          1.922563418,
          1.392508143,
          1.393188854,
          1.537835639,
          1.5,
          1.199342826,
          0.933333333,
          0.836879433,
          1.032258065,
          1.25,
          0.982800983,
          1.482352941,
          1.258064516,
          1.46,
          2,
          1.43902439,
          1.378136963,
          1.259593679,
          0.946788991,
          1,
          0.949327818,
          1.212121212,
          1.25,
          1.180722892,
          0.952380952,
          1.122580645,
          0.921187308,
          1.351351351,
          1.365384615,
          1.25,
          1.514285714,
          1.836158192,
          1.455525606,
          1.216699801,
          0.903010033,
          1.524105754,
          1.063829787,
          1.357875679,
          1.066666667,
          0.722891566,
          1.442489001,
          1.632743363,
          1.214392804,
          1.201357466,
          1.364402021,
          1.769041769,
          1.287878788,
          0.947368421,
          1.678151601,
          1.313432836,
          1.409836066,
          1.692307692,
          1.235383833,
          1.4,
          2.4,
          1.960072595,
          2.222222222,
          2.142857143,
          0.979626012,
          1.174450549,
          1.20754717,
          1.375,
          1.304347826,
          1.256410256,
          0.5,
          0.939393939,
          1.002785515,
          1.253968254,
          1.056592414,
          0.911546253,
          0.79594478,
          1.142857143,
          1.351351351,
          1.257142857,
          1.534090909,
          1.172413793,
          1.151515152,
          1.428571429,
          1.273669524,
          1.384615385,
          0.8,
          1.4,
          1.787878788,
          1.058823529,
          1.101398601,
          1,
          1.652173913,
          1.393548387,
          0.6,
          1.842105263,
          1.693399136,
          1.267605634,
          1.264822134,
          1.316431009,
          1.073170732,
          1.052631579,
          0.957446809,
          1.257142857,
          1.261508864,
          1.212801797,
          1.211538462,
          1.593264249,
          1.730769231,
          1.323225362,
          1,
          1.032856469,
          1.060344828,
          1.5,
          2.140175219,
          1.163793103,
          0.670391061,
          2.410714286,
          1.06870229,
          1.34529148,
          1.222222222,
          1.017857143,
          1.571428571,
          0.938650307,
          1.446043165,
          0.945652174,
          1.993006993,
          0.930232558,
          1.444667387,
          1.475006829,
          1.411764706,
          0.957594449,
          1.063056515,
          1.111111111,
          1.431034483,
          1.363636364,
          1.315068493,
          0.869139258,
          0.927835052,
          1.232876712,
          1.19831815,
          1.185185185,
          1.533333333,
          1.729166667,
          1.5,
          1.238216561,
          1.691022965,
          1.2,
          0.95,
          1.335483871,
          1.227272727,
          1.230769231,
          0,
          1.112359551,
          0.947368421,
          1,
          1.476190476,
          1.363636364,
          1.143302875,
          0.807174888,
          1.488673139,
          0.782608696,
          0.6,
          1.757049892,
          1.790575916,
          1.666666667,
          1.062992126,
          1.365415987,
          1.92,
          1.535319558,
          1.214028777,
          0.804821151,
          1.143038578,
          1.534883721,
          1.105769231,
          1.03926097,
          1.706161137,
          1.210956271,
          2,
          1.726907631,
          1.444201313,
          1.490066225,
          1.133333333,
          1,
          1.62067964,
          1.882352941,
          1.268656716,
          1.294117647,
          1.805450416,
          1.592920354,
          3.5,
          2.448979592,
          1.457627119,
          0.867609254,
          1.428571429,
          1.329341317,
          1.741133118,
          0.756302521,
          1.2,
          1.632950991,
          1.525423729,
          0.328467153,
          1.491495857,
          1.576971214,
          1.506849315,
          2.333333333,
          1.11059044,
          1.424460432,
          1.093922652,
          1.021598613,
          1.137134052,
          1.110515021,
          1.266233766,
          1.197115385,
          1.242686637,
          0.5,
          1.161702128,
          1.666666667,
          1.580645161,
          0,
          1.4,
          1.619490497,
          1.588235294,
          1.29015544,
          2,
          1.987381703,
          1.565217391,
          1.229946524,
          1.291666667,
          1.888686131,
          1.471291866,
          1.524715711,
          0.989010989,
          0,
          1.815866797,
          1.37755102,
          2.034482759,
          2.352941176,
          1.221794166,
          1.390937829,
          5.294117647,
          1.660079051,
          1.921708185,
          2,
          1.849541284,
          1.61487965,
          1.346153846,
          3.4,
          1.437788018,
          0.778846154,
          1.530777538,
          0.816326531,
          1.444444444,
          1.648351648,
          0.731707317,
          0.929432014,
          1.376146789,
          2.117647059,
          0.941176471,
          0,
          0,
          2.608695652,
          1.205882353,
          1.333333333,
          1.833333333,
          1,
          1,
          0,
          1.691275168,
          1.240336134,
          1.683453237,
          1.068181818,
          2.076923077,
          1.5,
          1.333333333,
          0,
          0,
          0.941176471,
          0,
          0.909090909,
          1.583333333,
          1,
          0,
          1,
          0,
          1.363636364,
          1.571428571,
          1.237113402,
          2.333333333,
          1.714285714,
          1.363636364,
          1.4,
          1.330049261,
          1.443850267,
          1.538461538,
          1.352941176,
          0.857142857,
          1.08,
          1.716621253,
          0,
          1.5,
          1.725,
          3,
          1.090909091,
          1.411764706,
          0,
          0,
          3,
          1.3125,
          0,
          1,
          2.384615385,
          1.3125,
          0,
          1.142857143,
          1.058823529,
          0,
          1.125,
          2.601156069,
          1.459100958,
          0,
          1.407407407,
          0,
          2.292993631,
          0.705882353,
          0,
          2.181818182,
          0.833333333,
          1.363636364,
          1.153846154,
          0.851851852,
          0,
          1.3,
          0.75,
          2.686567164,
          1.818181818,
          1.363636364,
          1.1875,
          3,
          0,
          1.578947368,
          0,
          0.5625,
          1.216216216,
          0.95,
          0.967741935,
          0.5,
          1.25,
          0.75,
          0,
          1.201780415,
          0.956521739,
          0,
          1,
          0,
          0.520231214,
          0.891089109,
          1.4,
          0,
          0.255681818,
          0,
          0,
          0.8,
          0,
          1.052631579,
          0,
          1.5,
          1.0625,
          1.3,
          0,
          0.75,
          2,
          1.157894737,
          0,
          0,
          1.094339623,
          0.9375,
          2.666666667,
          0.866666667,
          0,
          0,
          0,
          1.97080292,
          0,
          1.181877873,
          0,
          0.85,
          0,
          0,
          1.166666667,
          0,
          0,
          1.176470588,
          0,
          2,
          1.35,
          0,
          0.85,
          0,
          0.743801653,
          1.333333333,
          0,
          0.714285714,
          0.923076923,
          0,
          1.15,
          0,
          0,
          1.15,
          0,
          0.631578947,
          0,
          0,
          1.454545455,
          0,
          1,
          1.2,
          0,
          0,
          1.166666667,
          1,
          0.75,
          1.142857143,
          0,
          0,
          1.357142857,
          0.5,
          0,
          1.176470588,
          0.671641791,
          1.037037037,
          2,
          0,
          4.205607477,
          1.72,
          1.5,
          2.118506494,
          2.333333333,
          1.647058824,
          0,
          1,
          1.75,
          0,
          0.823529412,
          0,
          0,
          0,
          1.333333333,
          2.333333333,
          0,
          1.857142857,
          1.545454545,
          1.444444444,
          2.374100719,
          0,
          2,
          1.428571429,
          1.2,
          0,
          0,
          2.25,
          1.235294118,
          0,
          0,
          0,
          1,
          3.5,
          0.940298507,
          0,
          0,
          1,
          2.25,
          0,
          0,
          1.555555556,
          1.6875,
          1.5,
          0,
          0,
          1.692307692,
          1.5,
          0,
          0,
          2.045454545,
          0,
          0.941176471,
          0.5,
          0,
          0.941176471,
          0,
          0,
          0,
          0.651544402,
          0.5,
          0,
          0,
          2.1,
          1.714285714,
          0,
          1.333333333,
          1.08,
          0,
          1.067748985,
          0,
          1.333333333,
          1.295081967,
          0,
          0,
          0,
          1.251448436,
          0.779220779,
          0,
          0.5,
          1.342541436,
          1.666666667,
          0,
          1.388888889,
          2.142857143,
          0,
          0,
          3,
          1.489034244,
          2.231404959,
          2.142857143,
          0,
          1.778656126,
          0.963630184,
          0,
          1.490797546,
          0,
          1.884057971,
          0,
          1.619047619,
          1.363636364,
          0,
          0,
          1.597826087,
          1.285714286,
          0,
          0,
          1.54914973,
          2,
          2.260273973,
          0,
          0,
          1.655737705,
          0,
          0,
          0,
          0.695798319,
          0,
          0,
          1.415549598,
          9,
          1.043245653,
          1.575757576,
          0.915254237,
          1,
          4.090909091,
          1.285714286,
          0.731182796,
          0.739130435,
          1.384615385,
          1.082558775,
          1.764705882,
          0,
          0,
          0,
          1.277777778,
          3,
          0,
          0,
          2,
          1.166666667,
          0.8,
          0,
          1.307692308,
          3.941605839,
          1,
          1.736040609,
          1.666666667,
          0,
          0,
          2,
          2.571428571,
          1.086956522,
          1.666666667,
          0,
          0,
          1.063291139,
          1.037891269,
          1.086956522,
          1.174377224,
          1.956521739,
          2,
          2.5,
          1,
          0,
          0,
          1.176470588,
          0,
          0,
          0.8,
          1.333333333,
          0,
          0,
          1,
          0.785714286,
          0,
          1.142857143,
          1.821862348,
          1.125,
          0,
          0,
          0,
          0.832232497,
          0.780821918,
          2.213114754,
          1.173402868,
          0.868020305,
          0,
          0.757818765,
          0.908385093,
          1,
          1.03654485,
          0.989010989,
          0,
          0,
          0.6,
          1.166666667,
          1.5,
          1.546875,
          0,
          0.984095427,
          2,
          1.086792453,
          1.460446247,
          0.994475138,
          1.636363636,
          0.733782347,
          1.113501883,
          2.25,
          0.801186944,
          1.264637002,
          2.5,
          0,
          1.357142857,
          1.096807415,
          1.818181818,
          0.877358491,
          0,
          0,
          0.626086957,
          0.8,
          0,
          0.828318584,
          0.758988016,
          0.833333333,
          1.357466063,
          0,
          3.529411765,
          1.171790235,
          0,
          0.958466454,
          0.797290255,
          0.530451866,
          0.729483283,
          0.870032223,
          0.940635452,
          1.166666667,
          1.206624606,
          0,
          0.884210526,
          1.821428571,
          0,
          1.400576369,
          0,
          1.666666667,
          1.764705882,
          0,
          1.575212867,
          1.6,
          2,
          1.638543517,
          2.163461538,
          2,
          1.335394127,
          1.499193982,
          0,
          0,
          1.242424242,
          1.888111888,
          1.67587477,
          2.702702703,
          1.212435233,
          1.5,
          0,
          1.481927711,
          1.8,
          1.555555556,
          1.445336628,
          1.122661123,
          0,
          1.706161137,
          1.431372549,
          1.285714286
         ],
         "xaxis": "x",
         "yaxis": "y"
        }
       ],
       "layout": {
        "bargap": 0.2,
        "barmode": "relative",
        "legend": {
         "tracegroupgap": 0
        },
        "template": {
         "data": {
          "bar": [
           {
            "error_x": {
             "color": "#2a3f5f"
            },
            "error_y": {
             "color": "#2a3f5f"
            },
            "marker": {
             "line": {
              "color": "#E5ECF6",
              "width": 0.5
             },
             "pattern": {
              "fillmode": "overlay",
              "size": 10,
              "solidity": 0.2
             }
            },
            "type": "bar"
           }
          ],
          "barpolar": [
           {
            "marker": {
             "line": {
              "color": "#E5ECF6",
              "width": 0.5
             },
             "pattern": {
              "fillmode": "overlay",
              "size": 10,
              "solidity": 0.2
             }
            },
            "type": "barpolar"
           }
          ],
          "carpet": [
           {
            "aaxis": {
             "endlinecolor": "#2a3f5f",
             "gridcolor": "white",
             "linecolor": "white",
             "minorgridcolor": "white",
             "startlinecolor": "#2a3f5f"
            },
            "baxis": {
             "endlinecolor": "#2a3f5f",
             "gridcolor": "white",
             "linecolor": "white",
             "minorgridcolor": "white",
             "startlinecolor": "#2a3f5f"
            },
            "type": "carpet"
           }
          ],
          "choropleth": [
           {
            "colorbar": {
             "outlinewidth": 0,
             "ticks": ""
            },
            "type": "choropleth"
           }
          ],
          "contour": [
           {
            "colorbar": {
             "outlinewidth": 0,
             "ticks": ""
            },
            "colorscale": [
             [
              0,
              "#0d0887"
             ],
             [
              0.1111111111111111,
              "#46039f"
             ],
             [
              0.2222222222222222,
              "#7201a8"
             ],
             [
              0.3333333333333333,
              "#9c179e"
             ],
             [
              0.4444444444444444,
              "#bd3786"
             ],
             [
              0.5555555555555556,
              "#d8576b"
             ],
             [
              0.6666666666666666,
              "#ed7953"
             ],
             [
              0.7777777777777778,
              "#fb9f3a"
             ],
             [
              0.8888888888888888,
              "#fdca26"
             ],
             [
              1,
              "#f0f921"
             ]
            ],
            "type": "contour"
           }
          ],
          "contourcarpet": [
           {
            "colorbar": {
             "outlinewidth": 0,
             "ticks": ""
            },
            "type": "contourcarpet"
           }
          ],
          "heatmap": [
           {
            "colorbar": {
             "outlinewidth": 0,
             "ticks": ""
            },
            "colorscale": [
             [
              0,
              "#0d0887"
             ],
             [
              0.1111111111111111,
              "#46039f"
             ],
             [
              0.2222222222222222,
              "#7201a8"
             ],
             [
              0.3333333333333333,
              "#9c179e"
             ],
             [
              0.4444444444444444,
              "#bd3786"
             ],
             [
              0.5555555555555556,
              "#d8576b"
             ],
             [
              0.6666666666666666,
              "#ed7953"
             ],
             [
              0.7777777777777778,
              "#fb9f3a"
             ],
             [
              0.8888888888888888,
              "#fdca26"
             ],
             [
              1,
              "#f0f921"
             ]
            ],
            "type": "heatmap"
           }
          ],
          "heatmapgl": [
           {
            "colorbar": {
             "outlinewidth": 0,
             "ticks": ""
            },
            "colorscale": [
             [
              0,
              "#0d0887"
             ],
             [
              0.1111111111111111,
              "#46039f"
             ],
             [
              0.2222222222222222,
              "#7201a8"
             ],
             [
              0.3333333333333333,
              "#9c179e"
             ],
             [
              0.4444444444444444,
              "#bd3786"
             ],
             [
              0.5555555555555556,
              "#d8576b"
             ],
             [
              0.6666666666666666,
              "#ed7953"
             ],
             [
              0.7777777777777778,
              "#fb9f3a"
             ],
             [
              0.8888888888888888,
              "#fdca26"
             ],
             [
              1,
              "#f0f921"
             ]
            ],
            "type": "heatmapgl"
           }
          ],
          "histogram": [
           {
            "marker": {
             "pattern": {
              "fillmode": "overlay",
              "size": 10,
              "solidity": 0.2
             }
            },
            "type": "histogram"
           }
          ],
          "histogram2d": [
           {
            "colorbar": {
             "outlinewidth": 0,
             "ticks": ""
            },
            "colorscale": [
             [
              0,
              "#0d0887"
             ],
             [
              0.1111111111111111,
              "#46039f"
             ],
             [
              0.2222222222222222,
              "#7201a8"
             ],
             [
              0.3333333333333333,
              "#9c179e"
             ],
             [
              0.4444444444444444,
              "#bd3786"
             ],
             [
              0.5555555555555556,
              "#d8576b"
             ],
             [
              0.6666666666666666,
              "#ed7953"
             ],
             [
              0.7777777777777778,
              "#fb9f3a"
             ],
             [
              0.8888888888888888,
              "#fdca26"
             ],
             [
              1,
              "#f0f921"
             ]
            ],
            "type": "histogram2d"
           }
          ],
          "histogram2dcontour": [
           {
            "colorbar": {
             "outlinewidth": 0,
             "ticks": ""
            },
            "colorscale": [
             [
              0,
              "#0d0887"
             ],
             [
              0.1111111111111111,
              "#46039f"
             ],
             [
              0.2222222222222222,
              "#7201a8"
             ],
             [
              0.3333333333333333,
              "#9c179e"
             ],
             [
              0.4444444444444444,
              "#bd3786"
             ],
             [
              0.5555555555555556,
              "#d8576b"
             ],
             [
              0.6666666666666666,
              "#ed7953"
             ],
             [
              0.7777777777777778,
              "#fb9f3a"
             ],
             [
              0.8888888888888888,
              "#fdca26"
             ],
             [
              1,
              "#f0f921"
             ]
            ],
            "type": "histogram2dcontour"
           }
          ],
          "mesh3d": [
           {
            "colorbar": {
             "outlinewidth": 0,
             "ticks": ""
            },
            "type": "mesh3d"
           }
          ],
          "parcoords": [
           {
            "line": {
             "colorbar": {
              "outlinewidth": 0,
              "ticks": ""
             }
            },
            "type": "parcoords"
           }
          ],
          "pie": [
           {
            "automargin": true,
            "type": "pie"
           }
          ],
          "scatter": [
           {
            "fillpattern": {
             "fillmode": "overlay",
             "size": 10,
             "solidity": 0.2
            },
            "type": "scatter"
           }
          ],
          "scatter3d": [
           {
            "line": {
             "colorbar": {
              "outlinewidth": 0,
              "ticks": ""
             }
            },
            "marker": {
             "colorbar": {
              "outlinewidth": 0,
              "ticks": ""
             }
            },
            "type": "scatter3d"
           }
          ],
          "scattercarpet": [
           {
            "marker": {
             "colorbar": {
              "outlinewidth": 0,
              "ticks": ""
             }
            },
            "type": "scattercarpet"
           }
          ],
          "scattergeo": [
           {
            "marker": {
             "colorbar": {
              "outlinewidth": 0,
              "ticks": ""
             }
            },
            "type": "scattergeo"
           }
          ],
          "scattergl": [
           {
            "marker": {
             "colorbar": {
              "outlinewidth": 0,
              "ticks": ""
             }
            },
            "type": "scattergl"
           }
          ],
          "scattermapbox": [
           {
            "marker": {
             "colorbar": {
              "outlinewidth": 0,
              "ticks": ""
             }
            },
            "type": "scattermapbox"
           }
          ],
          "scatterpolar": [
           {
            "marker": {
             "colorbar": {
              "outlinewidth": 0,
              "ticks": ""
             }
            },
            "type": "scatterpolar"
           }
          ],
          "scatterpolargl": [
           {
            "marker": {
             "colorbar": {
              "outlinewidth": 0,
              "ticks": ""
             }
            },
            "type": "scatterpolargl"
           }
          ],
          "scatterternary": [
           {
            "marker": {
             "colorbar": {
              "outlinewidth": 0,
              "ticks": ""
             }
            },
            "type": "scatterternary"
           }
          ],
          "surface": [
           {
            "colorbar": {
             "outlinewidth": 0,
             "ticks": ""
            },
            "colorscale": [
             [
              0,
              "#0d0887"
             ],
             [
              0.1111111111111111,
              "#46039f"
             ],
             [
              0.2222222222222222,
              "#7201a8"
             ],
             [
              0.3333333333333333,
              "#9c179e"
             ],
             [
              0.4444444444444444,
              "#bd3786"
             ],
             [
              0.5555555555555556,
              "#d8576b"
             ],
             [
              0.6666666666666666,
              "#ed7953"
             ],
             [
              0.7777777777777778,
              "#fb9f3a"
             ],
             [
              0.8888888888888888,
              "#fdca26"
             ],
             [
              1,
              "#f0f921"
             ]
            ],
            "type": "surface"
           }
          ],
          "table": [
           {
            "cells": {
             "fill": {
              "color": "#EBF0F8"
             },
             "line": {
              "color": "white"
             }
            },
            "header": {
             "fill": {
              "color": "#C8D4E3"
             },
             "line": {
              "color": "white"
             }
            },
            "type": "table"
           }
          ]
         },
         "layout": {
          "annotationdefaults": {
           "arrowcolor": "#2a3f5f",
           "arrowhead": 0,
           "arrowwidth": 1
          },
          "autotypenumbers": "strict",
          "coloraxis": {
           "colorbar": {
            "outlinewidth": 0,
            "ticks": ""
           }
          },
          "colorscale": {
           "diverging": [
            [
             0,
             "#8e0152"
            ],
            [
             0.1,
             "#c51b7d"
            ],
            [
             0.2,
             "#de77ae"
            ],
            [
             0.3,
             "#f1b6da"
            ],
            [
             0.4,
             "#fde0ef"
            ],
            [
             0.5,
             "#f7f7f7"
            ],
            [
             0.6,
             "#e6f5d0"
            ],
            [
             0.7,
             "#b8e186"
            ],
            [
             0.8,
             "#7fbc41"
            ],
            [
             0.9,
             "#4d9221"
            ],
            [
             1,
             "#276419"
            ]
           ],
           "sequential": [
            [
             0,
             "#0d0887"
            ],
            [
             0.1111111111111111,
             "#46039f"
            ],
            [
             0.2222222222222222,
             "#7201a8"
            ],
            [
             0.3333333333333333,
             "#9c179e"
            ],
            [
             0.4444444444444444,
             "#bd3786"
            ],
            [
             0.5555555555555556,
             "#d8576b"
            ],
            [
             0.6666666666666666,
             "#ed7953"
            ],
            [
             0.7777777777777778,
             "#fb9f3a"
            ],
            [
             0.8888888888888888,
             "#fdca26"
            ],
            [
             1,
             "#f0f921"
            ]
           ],
           "sequentialminus": [
            [
             0,
             "#0d0887"
            ],
            [
             0.1111111111111111,
             "#46039f"
            ],
            [
             0.2222222222222222,
             "#7201a8"
            ],
            [
             0.3333333333333333,
             "#9c179e"
            ],
            [
             0.4444444444444444,
             "#bd3786"
            ],
            [
             0.5555555555555556,
             "#d8576b"
            ],
            [
             0.6666666666666666,
             "#ed7953"
            ],
            [
             0.7777777777777778,
             "#fb9f3a"
            ],
            [
             0.8888888888888888,
             "#fdca26"
            ],
            [
             1,
             "#f0f921"
            ]
           ]
          },
          "colorway": [
           "#636efa",
           "#EF553B",
           "#00cc96",
           "#ab63fa",
           "#FFA15A",
           "#19d3f3",
           "#FF6692",
           "#B6E880",
           "#FF97FF",
           "#FECB52"
          ],
          "font": {
           "color": "#2a3f5f"
          },
          "geo": {
           "bgcolor": "white",
           "lakecolor": "white",
           "landcolor": "#E5ECF6",
           "showlakes": true,
           "showland": true,
           "subunitcolor": "white"
          },
          "hoverlabel": {
           "align": "left"
          },
          "hovermode": "closest",
          "mapbox": {
           "style": "light"
          },
          "paper_bgcolor": "white",
          "plot_bgcolor": "#E5ECF6",
          "polar": {
           "angularaxis": {
            "gridcolor": "white",
            "linecolor": "white",
            "ticks": ""
           },
           "bgcolor": "#E5ECF6",
           "radialaxis": {
            "gridcolor": "white",
            "linecolor": "white",
            "ticks": ""
           }
          },
          "scene": {
           "xaxis": {
            "backgroundcolor": "#E5ECF6",
            "gridcolor": "white",
            "gridwidth": 2,
            "linecolor": "white",
            "showbackground": true,
            "ticks": "",
            "zerolinecolor": "white"
           },
           "yaxis": {
            "backgroundcolor": "#E5ECF6",
            "gridcolor": "white",
            "gridwidth": 2,
            "linecolor": "white",
            "showbackground": true,
            "ticks": "",
            "zerolinecolor": "white"
           },
           "zaxis": {
            "backgroundcolor": "#E5ECF6",
            "gridcolor": "white",
            "gridwidth": 2,
            "linecolor": "white",
            "showbackground": true,
            "ticks": "",
            "zerolinecolor": "white"
           }
          },
          "shapedefaults": {
           "line": {
            "color": "#2a3f5f"
           }
          },
          "ternary": {
           "aaxis": {
            "gridcolor": "white",
            "linecolor": "white",
            "ticks": ""
           },
           "baxis": {
            "gridcolor": "white",
            "linecolor": "white",
            "ticks": ""
           },
           "bgcolor": "#E5ECF6",
           "caxis": {
            "gridcolor": "white",
            "linecolor": "white",
            "ticks": ""
           }
          },
          "title": {
           "x": 0.05
          },
          "xaxis": {
           "automargin": true,
           "gridcolor": "white",
           "linecolor": "white",
           "ticks": "",
           "title": {
            "standoff": 15
           },
           "zerolinecolor": "white",
           "zerolinewidth": 2
          },
          "yaxis": {
           "automargin": true,
           "gridcolor": "white",
           "linecolor": "white",
           "ticks": "",
           "title": {
            "standoff": 15
           },
           "zerolinecolor": "white",
           "zerolinewidth": 2
          }
         }
        },
        "title": {
         "text": "Distribution of goals conceded"
        },
        "xaxis": {
         "anchor": "y",
         "domain": [
          0,
          1
         ],
         "title": {
          "text": "goals conceded"
         }
        },
        "yaxis": {
         "anchor": "x",
         "domain": [
          0,
          1
         ],
         "title": {
          "text": "count"
         }
        }
       }
      }
     },
     "metadata": {},
     "output_type": "display_data"
    },
    {
     "data": {
      "application/vnd.plotly.v1+json": {
       "config": {
        "plotlyServerURL": "https://plot.ly"
       },
       "data": [
        {
         "alignmentgroup": "True",
         "bingroup": "x",
         "hovertemplate": "clean sheets=%{x}<br>count=%{y}<extra></extra>",
         "legendgroup": "",
         "marker": {
          "color": "lightskyblue",
          "pattern": {
           "shape": ""
          }
         },
         "name": "",
         "offsetgroup": "",
         "orientation": "v",
         "showlegend": false,
         "type": "histogram",
         "x": [
          0.335463259,
          0.207055215,
          0.924657534,
          0.449251248,
          0.27178016,
          0.242424242,
          0.291460712,
          0.161290323,
          0.329268293,
          0.116959064,
          0.698757764,
          0.352941176,
          0.304635762,
          0.184162063,
          0.245901639,
          0.265060241,
          0.238636364,
          0,
          0.3,
          0.44,
          0.086956522,
          0.2,
          0.387096774,
          0,
          0.23914969,
          0.291189647,
          0.363636364,
          0.150732729,
          0.159292035,
          0.176470588,
          0.425531915,
          0.313043478,
          0.110091743,
          0.244444444,
          0.452380952,
          0.19047619,
          0.380235121,
          0,
          0.3125,
          0.363636364,
          0,
          0.434210526,
          0.45,
          0.5,
          0.336471891,
          0.31512605,
          0,
          0,
          0.455329424,
          0.307167235,
          5.294117647,
          0.373443983,
          0.571428571,
          0.338600451,
          0.228194726,
          0.5,
          1,
          0.386197032,
          0.385769396,
          0.375,
          0,
          0.315297781,
          0.21875,
          0.133136095,
          0.342857143,
          0.125,
          0.109090909,
          0,
          0.193548387,
          0,
          0.2,
          0.374843815,
          0.369230769,
          0.471204188,
          0,
          0.248618785,
          0.083333333,
          0.207732256,
          0.5,
          0.115384615,
          0.2,
          0.303030303,
          0.383488682,
          0.287234043,
          0.083333333,
          0.448542238,
          0.18,
          0.069767442,
          0.266666667,
          0,
          0.149466192,
          0.5,
          0,
          0.173819742,
          0.360824742,
          0.307692308,
          0.5,
          0.209269881,
          0.285714286,
          0,
          0,
          0.173443823,
          0.292445167,
          0.237410072,
          0.143084261,
          0.341463415,
          0.190140845,
          0.4,
          0.5,
          0.365853659,
          0.329268293,
          0.438202247,
          0.315789474,
          0.351351351,
          0.292750929,
          0.251014199,
          0.178571429,
          0.279850746,
          0.161538462,
          0,
          0,
          0.382513661,
          0.267062315,
          0.4375,
          0.277777778,
          0.307984791,
          0.305833491,
          0.1875,
          0.2681764,
          0.259259259,
          0,
          0.489130435,
          0.34351145,
          0.352197471,
          0.22147651,
          0.353866317,
          0.321428571,
          0.295529174,
          0.315789474,
          0.293223284,
          0.4,
          0.289928789,
          0.437956204,
          0.228426396,
          0,
          0.299739357,
          0.601604278,
          0.375,
          0.18,
          0.256684492,
          0.303030303,
          0.184615385,
          0.289156627,
          0.246575342,
          0.272466539,
          0.367346939,
          0.285487708,
          0.310810811,
          0.45,
          0.428571429,
          0.269537935,
          0.227449456,
          0,
          0.098360656,
          0.378310214,
          0.347222222,
          0.483870968,
          0.161290323,
          0.1875,
          0.176701571,
          0.178571429,
          0.132939439,
          0.363898917,
          0.272727273,
          18,
          0.359371101,
          0.198840099,
          0.37987013,
          0.244897959,
          0.433467742,
          0.284061021,
          0.395833333,
          0.397476341,
          0.294117647,
          0.25,
          0.383597884,
          0.30058447,
          0,
          0.262682418,
          0.282051282,
          0.333333333,
          0.164558891,
          0,
          0.2,
          0.268867925,
          0.363636364,
          1,
          0.333333333,
          0.222707424,
          0.4,
          0.292682927,
          0.263157895,
          0.754189944,
          0.27,
          0.299875052,
          0.31512605,
          0.05,
          0.321428571,
          0,
          0.196445276,
          0.100334448,
          0,
          0.268656716,
          0.177087888,
          0.541082164,
          0,
          0.125,
          0.241286863,
          0.135951662,
          0.163339383,
          0,
          0.123287671,
          0.391304348,
          0,
          0.198357043,
          0.296296296,
          0,
          0.215605749,
          0.441176471,
          0.125,
          0,
          0.363636364,
          0.119442601,
          0,
          0.279026508,
          0.201229737,
          2.307692308,
          0.399703923,
          0.347826087,
          0.15625,
          9,
          0.409090909,
          0.391631799,
          3.6,
          0.424459262,
          0.278350515,
          0,
          90,
          0.428751576,
          0.410958904,
          0,
          0.244897959,
          0.233333333,
          0,
          0.250929368,
          0.407092455,
          0.685279188,
          0.157894737,
          0.308395203,
          0.339622642,
          0.252572498,
          0.230769231,
          0.333333333,
          0,
          0.376772451,
          0.280592362,
          0.220742817,
          0.212121212,
          0.253943825,
          0.538922156,
          0.8,
          0.310344828,
          0.431211499,
          0.245901639,
          0.350877193,
          0.192650731,
          0.383522727,
          0.274529741,
          0.181818182,
          0.328947368,
          0.285714286,
          0.333333333,
          0.131916453,
          0.215827338,
          0.133729569,
          0.2,
          0.666666667,
          0.277777778,
          0.192118227,
          0.33007335,
          0.5,
          0.325581395,
          0.204545455,
          0.342857143,
          0.322580645,
          0.333333333,
          0.184615385,
          0.251497006,
          0.121212121,
          0.405844156,
          0.43902439,
          0.317460317,
          0.284033855,
          0.255319149,
          0.266666667,
          0.313432836,
          0.045454545,
          0.25,
          0.488372093,
          0.344827586,
          0,
          0.233333333,
          0.25862069,
          1,
          0.214626391,
          0.363636364,
          0.319938176,
          0.065597668,
          10.58823529,
          0.203045685,
          0.347826087,
          0.317073171,
          0.25,
          0.410865099,
          0.408510638,
          1,
          0.375,
          0.272727273,
          0.283423991,
          0.277587389,
          0.304396843,
          0.266469282,
          0.214285714,
          0.133333333,
          0.162832773,
          0.200148258,
          0.222222222,
          0.236842105,
          0,
          0.248962656,
          0.279661017,
          0.142857143,
          0.2,
          0.342857143,
          0.338028169,
          0.25,
          0.105263158,
          0.309145556,
          0.222222222,
          0.666666667,
          0.268733115,
          0.172508215,
          0.128571429,
          0.190409027,
          0.251196172,
          0.205128205,
          0.174603175,
          0.2,
          0,
          0,
          0.338495575,
          0.189473684,
          0,
          0.138888889,
          0.263157895,
          0.23255814,
          0.333333333,
          0.315789474,
          0.295081967,
          0.230769231,
          0.142857143,
          0.132288094,
          0.375,
          0.180309101,
          1,
          0.411872385,
          0.52,
          0.625,
          0.340336134,
          0.308571429,
          0.099889012,
          0.272727273,
          0.416866315,
          0.172661871,
          0.314318976,
          0.3,
          0.3,
          0.285714286,
          0,
          0,
          0.34026465,
          0,
          0,
          0.5,
          0,
          0,
          0,
          0.243243243,
          0.5,
          0,
          0,
          0.4,
          0.25,
          0,
          0.5,
          0,
          0,
          0.2,
          0,
          0,
          0,
          0.125,
          0.5,
          0,
          0.361833289,
          0,
          0,
          0,
          0.5,
          1,
          0.285714286,
          0.176470588,
          0,
          0,
          0,
          0,
          0,
          0.2,
          0,
          0,
          0.5,
          0,
          0,
          0,
          0.4,
          0,
          0,
          0,
          0.3,
          0,
          0,
          0.090909091,
          0,
          0,
          0.324324324,
          0,
          0,
          0.268656716,
          0,
          0.660146699,
          0,
          0.1,
          0,
          0.42888563,
          0.491419657,
          0.46875,
          0.2875,
          0.285714286,
          0.25,
          0.37704918,
          0.193548387,
          0.083333333,
          0.137931034,
          0.201042442,
          0.317073171,
          0,
          0.306469921,
          0.110114192,
          0.367924528,
          0.166666667,
          0.214915503,
          0.25,
          0.263157895,
          0,
          0.285714286,
          0.177281681,
          0.372781065,
          0.12244898,
          0.6,
          0.222222222,
          0.2,
          0.430693069,
          0.396694215,
          0,
          0.213206988,
          0.439177414,
          0.25,
          0.620689655,
          0.277606416,
          0.194857916,
          0.223483505,
          0.352112676,
          0.278350515,
          0.287878788,
          0.140789988,
          1,
          0.336206897,
          0.255319149,
          0.25,
          0.440942797,
          0.796460177,
          0.314285714,
          0.408438612,
          0.318847426,
          8.181818182,
          0.449609036,
          0.485056345,
          0.268802607,
          0.246376812,
          0.25,
          0.241564417,
          0.348,
          0.555555556,
          0.260273973,
          0.169332079,
          0.375,
          0.194444444,
          0.23255814,
          0.332409972,
          0.300150075,
          0.091789903,
          0.325056433,
          0.221293337,
          0.272232305,
          0.169014085,
          0.214285714,
          0.121212121,
          0.17699115,
          0.114358323,
          0.18024032,
          0.219869707,
          0.303968477,
          0.073230269,
          0.1,
          0.295728368,
          0.4,
          0.425531915,
          0.322580645,
          0.240384615,
          0.368550369,
          0.211764706,
          0.290322581,
          0.22,
          0.083333333,
          0.195121951,
          0.267971076,
          0.325056433,
          0.418348624,
          0.310344828,
          0.39089969,
          0.333333333,
          0.3125,
          0.361445783,
          0.380952381,
          0.309677419,
          0.552712385,
          0.297297297,
          0.288461538,
          0.375,
          0.257142857,
          0.169491525,
          0.291105121,
          0.21471173,
          0.301003344,
          0.139968896,
          0.85106383,
          0.253470127,
          0.333333333,
          0.722891566,
          0.254556882,
          0.318584071,
          0.202398801,
          0.285067873,
          0.277933745,
          0.294840295,
          0.257575758,
          0.421052632,
          0.218889339,
          0.328358209,
          0.327868852,
          0.230769231,
          0.411794611,
          0.28,
          0.4,
          0.163339383,
          0.111111111,
          0.178571429,
          0.452135082,
          0.247252747,
          0.377358491,
          0.25,
          0.195652174,
          0.307692308,
          0.5,
          0.363636364,
          0.501392758,
          0.301587302,
          0.406381698,
          0.486158001,
          0.446505608,
          0.285714286,
          0.189189189,
          0.371428571,
          0.238636364,
          0.310344828,
          0.272727273,
          0.238095238,
          0.322902133,
          0.263736264,
          0.45,
          0.327272727,
          0.151515152,
          0.43438914,
          0.292207792,
          0,
          0.304347826,
          0.24516129,
          0.3,
          0.263157895,
          0.166563849,
          0.327124035,
          0.276679842,
          0.351048269,
          0.292682927,
          0.298245614,
          0.382978723,
          0.457142857,
          0.259722413,
          0.404267266,
          0.346153846,
          0.174870466,
          0.432692308,
          0.186078567,
          0.222222222,
          0.311271813,
          0.362068966,
          0.5,
          0.112640801,
          0.336206897,
          0.502793296,
          0,
          0.305343511,
          0.269058296,
          0.222222222,
          0.392857143,
          0.214285714,
          0.441717791,
          0.194244604,
          0.391304348,
          0.157342657,
          0.465116279,
          0.250038586,
          0.245834471,
          0.470588235,
          0.402467232,
          0.40886789,
          0.333333333,
          0.275862069,
          0.247933884,
          0.369863014,
          0.466060182,
          0.36306589,
          0.308219178,
          0.34688157,
          0.259259259,
          0.2,
          0.229166667,
          0.5,
          0.355414013,
          0.375782881,
          0.44,
          0.5,
          0.290322581,
          0.238636364,
          0.307692308,
          1,
          0.337078652,
          0.315789474,
          0,
          0.261904762,
          0.272727273,
          0.320927123,
          0.807174888,
          0.226537217,
          0.47826087,
          0.48,
          0.156182213,
          0.282722513,
          0.666666667,
          0,
          0.24959217,
          0.12,
          0.23786641,
          0.445143885,
          0.34992224,
          0.314335609,
          0.209302326,
          0.240384615,
          0.415704388,
          0.135717363,
          0.475732821,
          0,
          0.240963855,
          0.223194748,
          0.255439924,
          0.4,
          0.333333333,
          0.261399942,
          0.176470588,
          0.447761194,
          0.235294118,
          0.102195307,
          0.281103592,
          0.25,
          0,
          0.288135593,
          0.433804627,
          0.428571429,
          0.28742515,
          0.248733303,
          0.756302521,
          0.8,
          0.150156413,
          0.274233479,
          0.656934307,
          0.196249455,
          0.187734668,
          0.239726027,
          0.333333333,
          0.351452671,
          0.151079137,
          0.397790055,
          0.425666089,
          0.305084746,
          0.362124464,
          0.331168831,
          0.317307692,
          0.315937281,
          0.5,
          0.268085106,
          0.2,
          0.258064516,
          1,
          0.2,
          0.181965224,
          0.294117647,
          0.264248705,
          0,
          0.141955836,
          0.156521739,
          0.267379679,
          0.291666667,
          0.246350365,
          0.251196172,
          0.1253191,
          0.494505495,
          0,
          0.211557297,
          0.255102041,
          0.103448276,
          0.117647059,
          0.24766098,
          0.158061117,
          0,
          0.217391304,
          0.240213523,
          0,
          0.148623853,
          0.236323851,
          0.269230769,
          0.15,
          0.235023041,
          0.461538462,
          0.218682505,
          0.420168067,
          0.259259259,
          0.21978022,
          0.731707317,
          0.464716007,
          0.550458716,
          0,
          0.470588235,
          0,
          0,
          0,
          0.294117647,
          0,
          0.166666667,
          0.352941176,
          0,
          0,
          0.120805369,
          0.423529412,
          0.388489209,
          0.340909091,
          0.230769231,
          0.5,
          0.277777778,
          0,
          0,
          0.235294118,
          0,
          0.363636364,
          0.166666667,
          0.6,
          0,
          0.333333333,
          0,
          0.409090909,
          0.214285714,
          0.309278351,
          0,
          0.142857143,
          0.136363636,
          0.4,
          0.295566502,
          0.160427807,
          0.230769231,
          0.294117647,
          0.428571429,
          0.36,
          0.245231608,
          0,
          0.1875,
          0.225,
          0,
          0.272727273,
          0.117647059,
          0,
          0,
          0,
          0.3125,
          0,
          0,
          0.076923077,
          0.375,
          0,
          0.142857143,
          0.235294118,
          0,
          0,
          0,
          0.464259396,
          0,
          0.296296296,
          0,
          0.286624204,
          0.352941176,
          0,
          0,
          0.333333333,
          0.272727273,
          0.230769231,
          0.481481481,
          0,
          0.1,
          0,
          0,
          0.363636364,
          0.272727273,
          0.1875,
          0,
          0,
          0.210526316,
          0,
          0.3125,
          0.304054054,
          0.45,
          0.193548387,
          0.5,
          0.333333333,
          0,
          0,
          0.400593472,
          0.347826087,
          0,
          0.6,
          0,
          0.520231214,
          0.415841584,
          0.2,
          0,
          0.767045455,
          1.914893617,
          0,
          0.5,
          0,
          0.263157895,
          0,
          0.25,
          0.4375,
          0.4,
          0,
          0.5,
          0,
          0.263157895,
          0,
          0,
          0.377358491,
          0.4375,
          0,
          0.466666667,
          1,
          0,
          0,
          0.328467153,
          0,
          0.295469468,
          18,
          0.5,
          0,
          0,
          0.277777778,
          1,
          0,
          0.352941176,
          0,
          0.333333333,
          0.1,
          0,
          0.35,
          0,
          0.629370629,
          0.666666667,
          0,
          0.428571429,
          0.461538462,
          0,
          0.3,
          0,
          0,
          0.25,
          0,
          0.578947368,
          0,
          1,
          0.272727273,
          0,
          0.4,
          0,
          0,
          0,
          0.166666667,
          0,
          0.5,
          0.357142857,
          0,
          0,
          0.142857143,
          0.5,
          0,
          0.588235294,
          0.671641791,
          0.37037037,
          0,
          0,
          1.682242991,
          0.24,
          0.142857143,
          0.073051948,
          0,
          0.117647059,
          0,
          0,
          0.25,
          0,
          0.352941176,
          0,
          0,
          0,
          0,
          0,
          0,
          0.142857143,
          0.181818182,
          0.333333333,
          0,
          0,
          0,
          0.285714286,
          0.3,
          0,
          1,
          0,
          0.294117647,
          0,
          0,
          0,
          0,
          0,
          0.447761194,
          0,
          0,
          0.4,
          0.125,
          0,
          0,
          0.111111111,
          0,
          0,
          0,
          0,
          0.153846154,
          0.25,
          0,
          0,
          0,
          0,
          0.529411765,
          0.5,
          0,
          0.352941176,
          0,
          0,
          0,
          0.521235521,
          0.5,
          3.214285714,
          0,
          0.1,
          0,
          0,
          0.333333333,
          0.36,
          1,
          0.421479863,
          1.730769231,
          0.333333333,
          0.31147541,
          0,
          0,
          0,
          0.243337196,
          0.38961039,
          0,
          0.5,
          0.232044199,
          0.111111111,
          0,
          0.296296296,
          0.142857143,
          0,
          0,
          0,
          0.225086572,
          0,
          0.142857143,
          0,
          0.355731225,
          0.38239293,
          0,
          0.202453988,
          2.045454545,
          0.144927536,
          0,
          0.238095238,
          0.181818182,
          0,
          0,
          0.195652174,
          0.333333333,
          0,
          0,
          0.24263791,
          0,
          0.102739726,
          0,
          0,
          0.213114754,
          0,
          0,
          0,
          0.484033613,
          2.571428571,
          0,
          0.321715818,
          0,
          0.441373161,
          0.181818182,
          0.394067797,
          0.5,
          0,
          0.428571429,
          0.47311828,
          0.391304348,
          0.461538462,
          0.393657736,
          0.117647059,
          1.058823529,
          0,
          0,
          0.333333333,
          0,
          0,
          0,
          0.166666667,
          0.333333333,
          0.4,
          0,
          0.076923077,
          0.656934307,
          0.5,
          0.091370558,
          0.166666667,
          0,
          0,
          0,
          0.142857143,
          0.434782609,
          0.238095238,
          0,
          0,
          0.379746835,
          0.444810544,
          0.434782609,
          0.427046263,
          0,
          0.166666667,
          0,
          0.5,
          0,
          0,
          0.294117647,
          0,
          0,
          0.4,
          0.166666667,
          0,
          0,
          0.333333333,
          0.428571429,
          0,
          0.285714286,
          0,
          0.291666667,
          1,
          0,
          0,
          0.386393659,
          0.493150685,
          0.737704918,
          0.312907432,
          0.38071066,
          0,
          0.288692863,
          0.244565217,
          0.5,
          0.318936877,
          0.395604396,
          0,
          1,
          0.5,
          0.25,
          0,
          0.140625,
          0,
          0.357852883,
          0.25,
          0.339622642,
          0.365111562,
          0.384229031,
          0.261818182,
          0.542360865,
          0.338891877,
          0,
          0.457821111,
          0.632318501,
          0,
          0,
          0.285714286,
          0.308959835,
          0.909090909,
          0.396226415,
          0,
          0,
          0.43826087,
          0.28,
          0,
          0.477876106,
          0.439414115,
          0.333333333,
          0.407239819,
          0,
          0,
          0.227848101,
          0,
          0.319488818,
          0.500260552,
          0.565815324,
          0.455927052,
          0.580021482,
          0.451505017,
          0.25,
          0.141955836,
          0,
          0.505263158,
          0,
          0,
          0.276657061,
          2.045454545,
          0.194444444,
          0.117647059,
          0,
          0.170293283,
          0.2,
          0,
          0.259769094,
          0.288461538,
          0.142857143,
          0.27820711,
          0.241805481,
          0,
          0,
          0.181818182,
          0.629370629,
          0.202578269,
          0,
          0.264248705,
          0,
          0,
          0.198795181,
          0.1,
          0.222222222,
          0.203829524,
          0.374220374,
          0,
          0.426540284,
          0.254901961,
          0.285714286
         ],
         "xaxis": "x",
         "yaxis": "y"
        }
       ],
       "layout": {
        "bargap": 0.2,
        "barmode": "relative",
        "legend": {
         "tracegroupgap": 0
        },
        "template": {
         "data": {
          "bar": [
           {
            "error_x": {
             "color": "#2a3f5f"
            },
            "error_y": {
             "color": "#2a3f5f"
            },
            "marker": {
             "line": {
              "color": "#E5ECF6",
              "width": 0.5
             },
             "pattern": {
              "fillmode": "overlay",
              "size": 10,
              "solidity": 0.2
             }
            },
            "type": "bar"
           }
          ],
          "barpolar": [
           {
            "marker": {
             "line": {
              "color": "#E5ECF6",
              "width": 0.5
             },
             "pattern": {
              "fillmode": "overlay",
              "size": 10,
              "solidity": 0.2
             }
            },
            "type": "barpolar"
           }
          ],
          "carpet": [
           {
            "aaxis": {
             "endlinecolor": "#2a3f5f",
             "gridcolor": "white",
             "linecolor": "white",
             "minorgridcolor": "white",
             "startlinecolor": "#2a3f5f"
            },
            "baxis": {
             "endlinecolor": "#2a3f5f",
             "gridcolor": "white",
             "linecolor": "white",
             "minorgridcolor": "white",
             "startlinecolor": "#2a3f5f"
            },
            "type": "carpet"
           }
          ],
          "choropleth": [
           {
            "colorbar": {
             "outlinewidth": 0,
             "ticks": ""
            },
            "type": "choropleth"
           }
          ],
          "contour": [
           {
            "colorbar": {
             "outlinewidth": 0,
             "ticks": ""
            },
            "colorscale": [
             [
              0,
              "#0d0887"
             ],
             [
              0.1111111111111111,
              "#46039f"
             ],
             [
              0.2222222222222222,
              "#7201a8"
             ],
             [
              0.3333333333333333,
              "#9c179e"
             ],
             [
              0.4444444444444444,
              "#bd3786"
             ],
             [
              0.5555555555555556,
              "#d8576b"
             ],
             [
              0.6666666666666666,
              "#ed7953"
             ],
             [
              0.7777777777777778,
              "#fb9f3a"
             ],
             [
              0.8888888888888888,
              "#fdca26"
             ],
             [
              1,
              "#f0f921"
             ]
            ],
            "type": "contour"
           }
          ],
          "contourcarpet": [
           {
            "colorbar": {
             "outlinewidth": 0,
             "ticks": ""
            },
            "type": "contourcarpet"
           }
          ],
          "heatmap": [
           {
            "colorbar": {
             "outlinewidth": 0,
             "ticks": ""
            },
            "colorscale": [
             [
              0,
              "#0d0887"
             ],
             [
              0.1111111111111111,
              "#46039f"
             ],
             [
              0.2222222222222222,
              "#7201a8"
             ],
             [
              0.3333333333333333,
              "#9c179e"
             ],
             [
              0.4444444444444444,
              "#bd3786"
             ],
             [
              0.5555555555555556,
              "#d8576b"
             ],
             [
              0.6666666666666666,
              "#ed7953"
             ],
             [
              0.7777777777777778,
              "#fb9f3a"
             ],
             [
              0.8888888888888888,
              "#fdca26"
             ],
             [
              1,
              "#f0f921"
             ]
            ],
            "type": "heatmap"
           }
          ],
          "heatmapgl": [
           {
            "colorbar": {
             "outlinewidth": 0,
             "ticks": ""
            },
            "colorscale": [
             [
              0,
              "#0d0887"
             ],
             [
              0.1111111111111111,
              "#46039f"
             ],
             [
              0.2222222222222222,
              "#7201a8"
             ],
             [
              0.3333333333333333,
              "#9c179e"
             ],
             [
              0.4444444444444444,
              "#bd3786"
             ],
             [
              0.5555555555555556,
              "#d8576b"
             ],
             [
              0.6666666666666666,
              "#ed7953"
             ],
             [
              0.7777777777777778,
              "#fb9f3a"
             ],
             [
              0.8888888888888888,
              "#fdca26"
             ],
             [
              1,
              "#f0f921"
             ]
            ],
            "type": "heatmapgl"
           }
          ],
          "histogram": [
           {
            "marker": {
             "pattern": {
              "fillmode": "overlay",
              "size": 10,
              "solidity": 0.2
             }
            },
            "type": "histogram"
           }
          ],
          "histogram2d": [
           {
            "colorbar": {
             "outlinewidth": 0,
             "ticks": ""
            },
            "colorscale": [
             [
              0,
              "#0d0887"
             ],
             [
              0.1111111111111111,
              "#46039f"
             ],
             [
              0.2222222222222222,
              "#7201a8"
             ],
             [
              0.3333333333333333,
              "#9c179e"
             ],
             [
              0.4444444444444444,
              "#bd3786"
             ],
             [
              0.5555555555555556,
              "#d8576b"
             ],
             [
              0.6666666666666666,
              "#ed7953"
             ],
             [
              0.7777777777777778,
              "#fb9f3a"
             ],
             [
              0.8888888888888888,
              "#fdca26"
             ],
             [
              1,
              "#f0f921"
             ]
            ],
            "type": "histogram2d"
           }
          ],
          "histogram2dcontour": [
           {
            "colorbar": {
             "outlinewidth": 0,
             "ticks": ""
            },
            "colorscale": [
             [
              0,
              "#0d0887"
             ],
             [
              0.1111111111111111,
              "#46039f"
             ],
             [
              0.2222222222222222,
              "#7201a8"
             ],
             [
              0.3333333333333333,
              "#9c179e"
             ],
             [
              0.4444444444444444,
              "#bd3786"
             ],
             [
              0.5555555555555556,
              "#d8576b"
             ],
             [
              0.6666666666666666,
              "#ed7953"
             ],
             [
              0.7777777777777778,
              "#fb9f3a"
             ],
             [
              0.8888888888888888,
              "#fdca26"
             ],
             [
              1,
              "#f0f921"
             ]
            ],
            "type": "histogram2dcontour"
           }
          ],
          "mesh3d": [
           {
            "colorbar": {
             "outlinewidth": 0,
             "ticks": ""
            },
            "type": "mesh3d"
           }
          ],
          "parcoords": [
           {
            "line": {
             "colorbar": {
              "outlinewidth": 0,
              "ticks": ""
             }
            },
            "type": "parcoords"
           }
          ],
          "pie": [
           {
            "automargin": true,
            "type": "pie"
           }
          ],
          "scatter": [
           {
            "fillpattern": {
             "fillmode": "overlay",
             "size": 10,
             "solidity": 0.2
            },
            "type": "scatter"
           }
          ],
          "scatter3d": [
           {
            "line": {
             "colorbar": {
              "outlinewidth": 0,
              "ticks": ""
             }
            },
            "marker": {
             "colorbar": {
              "outlinewidth": 0,
              "ticks": ""
             }
            },
            "type": "scatter3d"
           }
          ],
          "scattercarpet": [
           {
            "marker": {
             "colorbar": {
              "outlinewidth": 0,
              "ticks": ""
             }
            },
            "type": "scattercarpet"
           }
          ],
          "scattergeo": [
           {
            "marker": {
             "colorbar": {
              "outlinewidth": 0,
              "ticks": ""
             }
            },
            "type": "scattergeo"
           }
          ],
          "scattergl": [
           {
            "marker": {
             "colorbar": {
              "outlinewidth": 0,
              "ticks": ""
             }
            },
            "type": "scattergl"
           }
          ],
          "scattermapbox": [
           {
            "marker": {
             "colorbar": {
              "outlinewidth": 0,
              "ticks": ""
             }
            },
            "type": "scattermapbox"
           }
          ],
          "scatterpolar": [
           {
            "marker": {
             "colorbar": {
              "outlinewidth": 0,
              "ticks": ""
             }
            },
            "type": "scatterpolar"
           }
          ],
          "scatterpolargl": [
           {
            "marker": {
             "colorbar": {
              "outlinewidth": 0,
              "ticks": ""
             }
            },
            "type": "scatterpolargl"
           }
          ],
          "scatterternary": [
           {
            "marker": {
             "colorbar": {
              "outlinewidth": 0,
              "ticks": ""
             }
            },
            "type": "scatterternary"
           }
          ],
          "surface": [
           {
            "colorbar": {
             "outlinewidth": 0,
             "ticks": ""
            },
            "colorscale": [
             [
              0,
              "#0d0887"
             ],
             [
              0.1111111111111111,
              "#46039f"
             ],
             [
              0.2222222222222222,
              "#7201a8"
             ],
             [
              0.3333333333333333,
              "#9c179e"
             ],
             [
              0.4444444444444444,
              "#bd3786"
             ],
             [
              0.5555555555555556,
              "#d8576b"
             ],
             [
              0.6666666666666666,
              "#ed7953"
             ],
             [
              0.7777777777777778,
              "#fb9f3a"
             ],
             [
              0.8888888888888888,
              "#fdca26"
             ],
             [
              1,
              "#f0f921"
             ]
            ],
            "type": "surface"
           }
          ],
          "table": [
           {
            "cells": {
             "fill": {
              "color": "#EBF0F8"
             },
             "line": {
              "color": "white"
             }
            },
            "header": {
             "fill": {
              "color": "#C8D4E3"
             },
             "line": {
              "color": "white"
             }
            },
            "type": "table"
           }
          ]
         },
         "layout": {
          "annotationdefaults": {
           "arrowcolor": "#2a3f5f",
           "arrowhead": 0,
           "arrowwidth": 1
          },
          "autotypenumbers": "strict",
          "coloraxis": {
           "colorbar": {
            "outlinewidth": 0,
            "ticks": ""
           }
          },
          "colorscale": {
           "diverging": [
            [
             0,
             "#8e0152"
            ],
            [
             0.1,
             "#c51b7d"
            ],
            [
             0.2,
             "#de77ae"
            ],
            [
             0.3,
             "#f1b6da"
            ],
            [
             0.4,
             "#fde0ef"
            ],
            [
             0.5,
             "#f7f7f7"
            ],
            [
             0.6,
             "#e6f5d0"
            ],
            [
             0.7,
             "#b8e186"
            ],
            [
             0.8,
             "#7fbc41"
            ],
            [
             0.9,
             "#4d9221"
            ],
            [
             1,
             "#276419"
            ]
           ],
           "sequential": [
            [
             0,
             "#0d0887"
            ],
            [
             0.1111111111111111,
             "#46039f"
            ],
            [
             0.2222222222222222,
             "#7201a8"
            ],
            [
             0.3333333333333333,
             "#9c179e"
            ],
            [
             0.4444444444444444,
             "#bd3786"
            ],
            [
             0.5555555555555556,
             "#d8576b"
            ],
            [
             0.6666666666666666,
             "#ed7953"
            ],
            [
             0.7777777777777778,
             "#fb9f3a"
            ],
            [
             0.8888888888888888,
             "#fdca26"
            ],
            [
             1,
             "#f0f921"
            ]
           ],
           "sequentialminus": [
            [
             0,
             "#0d0887"
            ],
            [
             0.1111111111111111,
             "#46039f"
            ],
            [
             0.2222222222222222,
             "#7201a8"
            ],
            [
             0.3333333333333333,
             "#9c179e"
            ],
            [
             0.4444444444444444,
             "#bd3786"
            ],
            [
             0.5555555555555556,
             "#d8576b"
            ],
            [
             0.6666666666666666,
             "#ed7953"
            ],
            [
             0.7777777777777778,
             "#fb9f3a"
            ],
            [
             0.8888888888888888,
             "#fdca26"
            ],
            [
             1,
             "#f0f921"
            ]
           ]
          },
          "colorway": [
           "#636efa",
           "#EF553B",
           "#00cc96",
           "#ab63fa",
           "#FFA15A",
           "#19d3f3",
           "#FF6692",
           "#B6E880",
           "#FF97FF",
           "#FECB52"
          ],
          "font": {
           "color": "#2a3f5f"
          },
          "geo": {
           "bgcolor": "white",
           "lakecolor": "white",
           "landcolor": "#E5ECF6",
           "showlakes": true,
           "showland": true,
           "subunitcolor": "white"
          },
          "hoverlabel": {
           "align": "left"
          },
          "hovermode": "closest",
          "mapbox": {
           "style": "light"
          },
          "paper_bgcolor": "white",
          "plot_bgcolor": "#E5ECF6",
          "polar": {
           "angularaxis": {
            "gridcolor": "white",
            "linecolor": "white",
            "ticks": ""
           },
           "bgcolor": "#E5ECF6",
           "radialaxis": {
            "gridcolor": "white",
            "linecolor": "white",
            "ticks": ""
           }
          },
          "scene": {
           "xaxis": {
            "backgroundcolor": "#E5ECF6",
            "gridcolor": "white",
            "gridwidth": 2,
            "linecolor": "white",
            "showbackground": true,
            "ticks": "",
            "zerolinecolor": "white"
           },
           "yaxis": {
            "backgroundcolor": "#E5ECF6",
            "gridcolor": "white",
            "gridwidth": 2,
            "linecolor": "white",
            "showbackground": true,
            "ticks": "",
            "zerolinecolor": "white"
           },
           "zaxis": {
            "backgroundcolor": "#E5ECF6",
            "gridcolor": "white",
            "gridwidth": 2,
            "linecolor": "white",
            "showbackground": true,
            "ticks": "",
            "zerolinecolor": "white"
           }
          },
          "shapedefaults": {
           "line": {
            "color": "#2a3f5f"
           }
          },
          "ternary": {
           "aaxis": {
            "gridcolor": "white",
            "linecolor": "white",
            "ticks": ""
           },
           "baxis": {
            "gridcolor": "white",
            "linecolor": "white",
            "ticks": ""
           },
           "bgcolor": "#E5ECF6",
           "caxis": {
            "gridcolor": "white",
            "linecolor": "white",
            "ticks": ""
           }
          },
          "title": {
           "x": 0.05
          },
          "xaxis": {
           "automargin": true,
           "gridcolor": "white",
           "linecolor": "white",
           "ticks": "",
           "title": {
            "standoff": 15
           },
           "zerolinecolor": "white",
           "zerolinewidth": 2
          },
          "yaxis": {
           "automargin": true,
           "gridcolor": "white",
           "linecolor": "white",
           "ticks": "",
           "title": {
            "standoff": 15
           },
           "zerolinecolor": "white",
           "zerolinewidth": 2
          }
         }
        },
        "title": {
         "text": "Distribution of clean sheets"
        },
        "xaxis": {
         "anchor": "y",
         "domain": [
          0,
          1
         ],
         "title": {
          "text": "clean sheets"
         }
        },
        "yaxis": {
         "anchor": "x",
         "domain": [
          0,
          1
         ],
         "title": {
          "text": "count"
         }
        }
       }
      }
     },
     "metadata": {},
     "output_type": "display_data"
    },
    {
     "data": {
      "application/vnd.plotly.v1+json": {
       "config": {
        "plotlyServerURL": "https://plot.ly"
       },
       "data": [
        {
         "alignmentgroup": "True",
         "bingroup": "x",
         "hovertemplate": "minutes played=%{x}<br>count=%{y}<extra></extra>",
         "legendgroup": "",
         "marker": {
          "color": "lightskyblue",
          "pattern": {
           "shape": ""
          }
         },
         "name": "",
         "offsetgroup": "",
         "orientation": "v",
         "showlegend": false,
         "type": "histogram",
         "x": [
          9390,
          1304,
          292,
          3606,
          6623,
          2970,
          5867,
          2790,
          6560,
          1539,
          644,
          1530,
          6795,
          4887,
          5490,
          7470,
          2640,
          480,
          5700,
          2250,
          2070,
          6750,
          930,
          0,
          2258,
          4018,
          990,
          7165,
          2825,
          1020,
          4230,
          5175,
          3270,
          4050,
          3780,
          2835,
          5444,
          0,
          5760,
          2970,
          0,
          9120,
          1200,
          180,
          7222,
          2856,
          90,
          270,
          8697,
          4395,
          17,
          7230,
          630,
          6645,
          3944,
          180,
          90,
          5593,
          4666,
          720,
          180,
          5138,
          2880,
          676,
          6300,
          720,
          1650,
          0,
          6510,
          300,
          2250,
          4802,
          4875,
          764,
          0,
          5430,
          1080,
          1733,
          900,
          4680,
          2250,
          2970,
          3755,
          5640,
          1080,
          4013,
          6000,
          1290,
          2700,
          90,
          4215,
          2340,
          0,
          4660,
          1746,
          4680,
          180,
          6451,
          630,
          389,
          0,
          5189,
          1231,
          4170,
          629,
          3690,
          8520,
          450,
          180,
          3690,
          7380,
          5340,
          570,
          6660,
          4304,
          3944,
          2520,
          8040,
          3900,
          270,
          0,
          4941,
          6403,
          1440,
          3240,
          5260,
          5297,
          1440,
          3356,
          2430,
          0,
          8280,
          1834,
          3322,
          4470,
          5341,
          2520,
          3959,
          5985,
          4604,
          900,
          5898,
          822,
          1182,
          270,
          6906,
          2992,
          2640,
          3000,
          5610,
          3267,
          3900,
          4980,
          2190,
          6276,
          1470,
          3783,
          6660,
          600,
          630,
          7012,
          5144,
          420,
          1830,
          4758,
          6480,
          930,
          5580,
          480,
          4584,
          2520,
          677,
          6925,
          1650,
          5,
          8014,
          3621,
          9240,
          1470,
          8928,
          1901,
          4320,
          9510,
          1530,
          360,
          6804,
          3593,
          0,
          7195,
          3510,
          540,
          6563,
          315,
          450,
          6360,
          990,
          90,
          810,
          6870,
          450,
          1845,
          6840,
          358,
          3000,
          4802,
          7140,
          3600,
          2800,
          180,
          6414,
          3588,
          96,
          1675,
          4574,
          499,
          0,
          1440,
          3730,
          1324,
          551,
          148,
          6570,
          230,
          90,
          4991,
          2430,
          814,
          5844,
          816,
          720,
          90,
          6930,
          3014,
          270,
          6451,
          1789,
          39,
          5404,
          2070,
          2880,
          10,
          4620,
          5975,
          25,
          6149,
          2910,
          180,
          1,
          7137,
          2628,
          44,
          8820,
          2700,
          990,
          2152,
          5527,
          394,
          1710,
          7004,
          795,
          2138,
          8970,
          1080,
          180,
          7405,
          1283,
          2854,
          2970,
          7797,
          1503,
          450,
          2610,
          1461,
          1464,
          2565,
          2803,
          704,
          1967,
          990,
          6840,
          630,
          1350,
          5458,
          4170,
          673,
          6750,
          270,
          1620,
          6090,
          4090,
          900,
          3870,
          2640,
          4200,
          2790,
          540,
          5850,
          2505,
          2970,
          5544,
          1845,
          1701,
          6971,
          3525,
          1350,
          6030,
          3960,
          360,
          3870,
          3915,
          0,
          2700,
          6960,
          180,
          1258,
          990,
          6470,
          1372,
          17,
          1773,
          4140,
          3690,
          3240,
          4381,
          7050,
          90,
          480,
          1980,
          3493,
          2918,
          1774,
          2702,
          1260,
          2700,
          3869,
          1349,
          3240,
          3420,
          0,
          4338,
          3540,
          1890,
          2250,
          7350,
          2130,
          360,
          1710,
          2329,
          1620,
          270,
          7033,
          3652,
          1400,
          5672,
          2508,
          3510,
          5670,
          450,
          0,
          180,
          4520,
          1425,
          270,
          3240,
          3420,
          1935,
          810,
          1710,
          3660,
          3900,
          2520,
          2041,
          3600,
          3494,
          0,
          7648,
          4500,
          720,
          7140,
          5250,
          2703,
          990,
          6261,
          4170,
          1718,
          1800,
          900,
          630,
          0,
          0,
          529,
          360,
          0,
          900,
          0,
          0,
          0,
          3330,
          360,
          0,
          0,
          900,
          2160,
          540,
          360,
          0,
          0,
          900,
          0,
          0,
          0,
          720,
          180,
          0,
          3731,
          90,
          0,
          0,
          540,
          90,
          630,
          1530,
          0,
          0,
          630,
          270,
          0,
          900,
          0,
          0,
          900,
          0,
          0,
          0,
          900,
          0,
          0,
          0,
          900,
          0,
          0,
          2970,
          449,
          0,
          1110,
          0,
          0,
          670,
          0,
          409,
          0,
          900,
          0,
          8184,
          1282,
          1152,
          7200,
          630,
          360,
          5490,
          930,
          1080,
          2610,
          1343,
          3690,
          0,
          5286,
          2452,
          3180,
          540,
          5444,
          360,
          3420,
          0,
          630,
          1523,
          1690,
          1470,
          450,
          810,
          450,
          6060,
          1815,
          360,
          3377,
          2869,
          1440,
          725,
          4863,
          3695,
          2819,
          6390,
          2910,
          5940,
          2557,
          90,
          3480,
          2820,
          360,
          7552,
          1469,
          3150,
          8153,
          4234,
          11,
          9208,
          4082,
          3683,
          6210,
          1800,
          2608,
          7500,
          810,
          6570,
          1063,
          3600,
          3240,
          3870,
          2166,
          5997,
          1961,
          2215,
          4067,
          4959,
          6390,
          1260,
          2970,
          5085,
          1574,
          1498,
          3684,
          3553,
          1229,
          900,
          5478,
          2700,
          6345,
          1395,
          3744,
          7326,
          1700,
          2790,
          4500,
          1080,
          3690,
          2351,
          2215,
          8175,
          2610,
          4835,
          2970,
          4320,
          3735,
          3780,
          6975,
          1954,
          3330,
          4680,
          2160,
          3150,
          3186,
          5565,
          2515,
          598,
          5787,
          423,
          4971,
          1350,
          249,
          3182,
          2260,
          1334,
          4420,
          3562,
          1221,
          5940,
          1710,
          2467,
          3015,
          2745,
          1170,
          1967,
          4500,
          225,
          2204,
          1620,
          2520,
          3583,
          1456,
          4770,
          2160,
          4140,
          3510,
          180,
          5940,
          2154,
          5670,
          3322,
          1481,
          4636,
          630,
          6660,
          3150,
          2640,
          7830,
          2970,
          1890,
          5017,
          2730,
          1800,
          4950,
          2970,
          3315,
          4004,
          180,
          2070,
          6975,
          300,
          1710,
          3242,
          4402,
          6831,
          4102,
          3690,
          5130,
          470,
          1575,
          7277,
          5343,
          4160,
          4632,
          208,
          4353,
          810,
          6361,
          6960,
          360,
          799,
          6960,
          2685,
          224,
          7074,
          2676,
          4860,
          5040,
          1260,
          4890,
          4170,
          5520,
          1716,
          1935,
          6479,
          3661,
          1530,
          6485,
          5503,
          810,
          5220,
          2904,
          2190,
          7145,
          2231,
          6716,
          2854,
          2430,
          4050,
          4320,
          180,
          7850,
          479,
          2250,
          1800,
          4650,
          2640,
          1170,
          180,
          2670,
          5700,
          90,
          3780,
          2310,
          4487,
          223,
          5562,
          2070,
          750,
          4610,
          955,
          270,
          254,
          6130,
          1500,
          4162,
          2224,
          2572,
          6299,
          2580,
          1872,
          3464,
          4642,
          2081,
          270,
          2241,
          6855,
          2114,
          4050,
          270,
          3443,
          1530,
          1206,
          765,
          2642,
          1921,
          360,
          294,
          5310,
          3112,
          630,
          2505,
          2171,
          119,
          225,
          4795,
          5251,
          274,
          2293,
          2397,
          2628,
          270,
          6402,
          4170,
          905,
          6343,
          3245,
          3728,
          4620,
          6240,
          4273,
          180,
          7050,
          1350,
          2790,
          90,
          900,
          4946,
          1530,
          5790,
          540,
          3170,
          5750,
          1683,
          2160,
          4384,
          2508,
          4309,
          182,
          0,
          5105,
          1764,
          2610,
          765,
          5451,
          2847,
          187,
          4554,
          1124,
          540,
          5450,
          2285,
          2340,
          1800,
          6510,
          3120,
          3704,
          7497,
          2430,
          4095,
          123,
          1743,
          327,
          510,
          1530,
          0,
          0,
          690,
          3060,
          270,
          540,
          1530,
          90,
          0,
          745,
          2975,
          695,
          3960,
          390,
          180,
          1620,
          0,
          0,
          1530,
          0,
          990,
          1080,
          450,
          0,
          270,
          0,
          660,
          1260,
          2910,
          270,
          630,
          660,
          450,
          609,
          561,
          4680,
          1530,
          210,
          2250,
          367,
          0,
          480,
          1200,
          180,
          330,
          1530,
          0,
          0,
          180,
          1440,
          0,
          90,
          1170,
          1440,
          0,
          630,
          1530,
          0,
          240,
          173,
          1357,
          0,
          1215,
          0,
          314,
          1530,
          0,
          660,
          540,
          990,
          780,
          2430,
          0,
          900,
          120,
          134,
          495,
          990,
          1440,
          90,
          0,
          1710,
          0,
          1440,
          296,
          1800,
          465,
          180,
          2160,
          120,
          0,
          674,
          1035,
          0,
          450,
          0,
          173,
          1515,
          450,
          0,
          352,
          94,
          0,
          1800,
          0,
          1710,
          0,
          360,
          1440,
          1800,
          0,
          360,
          90,
          1710,
          0,
          0,
          2385,
          1440,
          270,
          1350,
          90,
          0,
          0,
          274,
          0,
          1523,
          5,
          1800,
          0,
          0,
          1620,
          90,
          0,
          1530,
          0,
          270,
          1800,
          0,
          1800,
          0,
          1573,
          135,
          0,
          630,
          1170,
          0,
          1800,
          0,
          0,
          1800,
          0,
          1710,
          0,
          90,
          2970,
          0,
          450,
          450,
          0,
          0,
          540,
          90,
          720,
          1260,
          0,
          0,
          1260,
          180,
          0,
          306,
          134,
          1215,
          180,
          0,
          107,
          2250,
          1260,
          1232,
          270,
          1530,
          0,
          90,
          720,
          0,
          1530,
          0,
          0,
          0,
          270,
          270,
          0,
          630,
          990,
          810,
          417,
          0,
          180,
          630,
          900,
          0,
          90,
          120,
          1530,
          0,
          0,
          0,
          90,
          180,
          2010,
          0,
          0,
          450,
          720,
          0,
          0,
          810,
          1440,
          180,
          0,
          0,
          1170,
          360,
          0,
          0,
          44,
          0,
          1530,
          180,
          0,
          1530,
          0,
          0,
          0,
          2072,
          360,
          28,
          0,
          900,
          630,
          0,
          540,
          3000,
          90,
          3203,
          156,
          270,
          5490,
          0,
          0,
          0,
          2589,
          231,
          0,
          180,
          5430,
          810,
          0,
          4860,
          630,
          0,
          0,
          90,
          5198,
          484,
          630,
          0,
          506,
          5884,
          0,
          4890,
          44,
          621,
          0,
          1890,
          990,
          0,
          0,
          5520,
          1890,
          0,
          0,
          4822,
          180,
          876,
          0,
          0,
          5490,
          0,
          0,
          0,
          5950,
          35,
          0,
          5595,
          10,
          2243,
          1485,
          7080,
          180,
          44,
          630,
          4185,
          2070,
          780,
          1829,
          1530,
          85,
          0,
          0,
          1620,
          90,
          0,
          0,
          540,
          540,
          450,
          0,
          1170,
          137,
          360,
          985,
          1620,
          0,
          0,
          90,
          630,
          1242,
          378,
          0,
          0,
          1185,
          1214,
          414,
          843,
          92,
          1080,
          360,
          180,
          0,
          0,
          1530,
          0,
          0,
          450,
          1080,
          0,
          0,
          270,
          1260,
          0,
          630,
          494,
          2160,
          90,
          0,
          0,
          3028,
          2190,
          122,
          2301,
          5910,
          0,
          2494,
          2576,
          360,
          4515,
          910,
          0,
          90,
          1800,
          2160,
          360,
          640,
          0,
          2012,
          360,
          1325,
          493,
          3982,
          1375,
          2821,
          1859,
          360,
          2359,
          427,
          180,
          0,
          1260,
          5826,
          99,
          3180,
          0,
          0,
          2875,
          2250,
          0,
          2825,
          2253,
          540,
          663,
          0,
          153,
          2765,
          0,
          2817,
          5757,
          2545,
          987,
          931,
          2392,
          1080,
          1268,
          0,
          4275,
          840,
          0,
          5205,
          44,
          3240,
          1530,
          0,
          2114,
          450,
          90,
          4504,
          624,
          1260,
          3235,
          1861,
          0,
          0,
          2970,
          143,
          4887,
          333,
          5790,
          180,
          0,
          4980,
          900,
          1620,
          4857,
          481,
          0,
          211,
          4590,
          1260
         ],
         "xaxis": "x",
         "yaxis": "y"
        }
       ],
       "layout": {
        "bargap": 0.2,
        "barmode": "relative",
        "legend": {
         "tracegroupgap": 0
        },
        "template": {
         "data": {
          "bar": [
           {
            "error_x": {
             "color": "#2a3f5f"
            },
            "error_y": {
             "color": "#2a3f5f"
            },
            "marker": {
             "line": {
              "color": "#E5ECF6",
              "width": 0.5
             },
             "pattern": {
              "fillmode": "overlay",
              "size": 10,
              "solidity": 0.2
             }
            },
            "type": "bar"
           }
          ],
          "barpolar": [
           {
            "marker": {
             "line": {
              "color": "#E5ECF6",
              "width": 0.5
             },
             "pattern": {
              "fillmode": "overlay",
              "size": 10,
              "solidity": 0.2
             }
            },
            "type": "barpolar"
           }
          ],
          "carpet": [
           {
            "aaxis": {
             "endlinecolor": "#2a3f5f",
             "gridcolor": "white",
             "linecolor": "white",
             "minorgridcolor": "white",
             "startlinecolor": "#2a3f5f"
            },
            "baxis": {
             "endlinecolor": "#2a3f5f",
             "gridcolor": "white",
             "linecolor": "white",
             "minorgridcolor": "white",
             "startlinecolor": "#2a3f5f"
            },
            "type": "carpet"
           }
          ],
          "choropleth": [
           {
            "colorbar": {
             "outlinewidth": 0,
             "ticks": ""
            },
            "type": "choropleth"
           }
          ],
          "contour": [
           {
            "colorbar": {
             "outlinewidth": 0,
             "ticks": ""
            },
            "colorscale": [
             [
              0,
              "#0d0887"
             ],
             [
              0.1111111111111111,
              "#46039f"
             ],
             [
              0.2222222222222222,
              "#7201a8"
             ],
             [
              0.3333333333333333,
              "#9c179e"
             ],
             [
              0.4444444444444444,
              "#bd3786"
             ],
             [
              0.5555555555555556,
              "#d8576b"
             ],
             [
              0.6666666666666666,
              "#ed7953"
             ],
             [
              0.7777777777777778,
              "#fb9f3a"
             ],
             [
              0.8888888888888888,
              "#fdca26"
             ],
             [
              1,
              "#f0f921"
             ]
            ],
            "type": "contour"
           }
          ],
          "contourcarpet": [
           {
            "colorbar": {
             "outlinewidth": 0,
             "ticks": ""
            },
            "type": "contourcarpet"
           }
          ],
          "heatmap": [
           {
            "colorbar": {
             "outlinewidth": 0,
             "ticks": ""
            },
            "colorscale": [
             [
              0,
              "#0d0887"
             ],
             [
              0.1111111111111111,
              "#46039f"
             ],
             [
              0.2222222222222222,
              "#7201a8"
             ],
             [
              0.3333333333333333,
              "#9c179e"
             ],
             [
              0.4444444444444444,
              "#bd3786"
             ],
             [
              0.5555555555555556,
              "#d8576b"
             ],
             [
              0.6666666666666666,
              "#ed7953"
             ],
             [
              0.7777777777777778,
              "#fb9f3a"
             ],
             [
              0.8888888888888888,
              "#fdca26"
             ],
             [
              1,
              "#f0f921"
             ]
            ],
            "type": "heatmap"
           }
          ],
          "heatmapgl": [
           {
            "colorbar": {
             "outlinewidth": 0,
             "ticks": ""
            },
            "colorscale": [
             [
              0,
              "#0d0887"
             ],
             [
              0.1111111111111111,
              "#46039f"
             ],
             [
              0.2222222222222222,
              "#7201a8"
             ],
             [
              0.3333333333333333,
              "#9c179e"
             ],
             [
              0.4444444444444444,
              "#bd3786"
             ],
             [
              0.5555555555555556,
              "#d8576b"
             ],
             [
              0.6666666666666666,
              "#ed7953"
             ],
             [
              0.7777777777777778,
              "#fb9f3a"
             ],
             [
              0.8888888888888888,
              "#fdca26"
             ],
             [
              1,
              "#f0f921"
             ]
            ],
            "type": "heatmapgl"
           }
          ],
          "histogram": [
           {
            "marker": {
             "pattern": {
              "fillmode": "overlay",
              "size": 10,
              "solidity": 0.2
             }
            },
            "type": "histogram"
           }
          ],
          "histogram2d": [
           {
            "colorbar": {
             "outlinewidth": 0,
             "ticks": ""
            },
            "colorscale": [
             [
              0,
              "#0d0887"
             ],
             [
              0.1111111111111111,
              "#46039f"
             ],
             [
              0.2222222222222222,
              "#7201a8"
             ],
             [
              0.3333333333333333,
              "#9c179e"
             ],
             [
              0.4444444444444444,
              "#bd3786"
             ],
             [
              0.5555555555555556,
              "#d8576b"
             ],
             [
              0.6666666666666666,
              "#ed7953"
             ],
             [
              0.7777777777777778,
              "#fb9f3a"
             ],
             [
              0.8888888888888888,
              "#fdca26"
             ],
             [
              1,
              "#f0f921"
             ]
            ],
            "type": "histogram2d"
           }
          ],
          "histogram2dcontour": [
           {
            "colorbar": {
             "outlinewidth": 0,
             "ticks": ""
            },
            "colorscale": [
             [
              0,
              "#0d0887"
             ],
             [
              0.1111111111111111,
              "#46039f"
             ],
             [
              0.2222222222222222,
              "#7201a8"
             ],
             [
              0.3333333333333333,
              "#9c179e"
             ],
             [
              0.4444444444444444,
              "#bd3786"
             ],
             [
              0.5555555555555556,
              "#d8576b"
             ],
             [
              0.6666666666666666,
              "#ed7953"
             ],
             [
              0.7777777777777778,
              "#fb9f3a"
             ],
             [
              0.8888888888888888,
              "#fdca26"
             ],
             [
              1,
              "#f0f921"
             ]
            ],
            "type": "histogram2dcontour"
           }
          ],
          "mesh3d": [
           {
            "colorbar": {
             "outlinewidth": 0,
             "ticks": ""
            },
            "type": "mesh3d"
           }
          ],
          "parcoords": [
           {
            "line": {
             "colorbar": {
              "outlinewidth": 0,
              "ticks": ""
             }
            },
            "type": "parcoords"
           }
          ],
          "pie": [
           {
            "automargin": true,
            "type": "pie"
           }
          ],
          "scatter": [
           {
            "fillpattern": {
             "fillmode": "overlay",
             "size": 10,
             "solidity": 0.2
            },
            "type": "scatter"
           }
          ],
          "scatter3d": [
           {
            "line": {
             "colorbar": {
              "outlinewidth": 0,
              "ticks": ""
             }
            },
            "marker": {
             "colorbar": {
              "outlinewidth": 0,
              "ticks": ""
             }
            },
            "type": "scatter3d"
           }
          ],
          "scattercarpet": [
           {
            "marker": {
             "colorbar": {
              "outlinewidth": 0,
              "ticks": ""
             }
            },
            "type": "scattercarpet"
           }
          ],
          "scattergeo": [
           {
            "marker": {
             "colorbar": {
              "outlinewidth": 0,
              "ticks": ""
             }
            },
            "type": "scattergeo"
           }
          ],
          "scattergl": [
           {
            "marker": {
             "colorbar": {
              "outlinewidth": 0,
              "ticks": ""
             }
            },
            "type": "scattergl"
           }
          ],
          "scattermapbox": [
           {
            "marker": {
             "colorbar": {
              "outlinewidth": 0,
              "ticks": ""
             }
            },
            "type": "scattermapbox"
           }
          ],
          "scatterpolar": [
           {
            "marker": {
             "colorbar": {
              "outlinewidth": 0,
              "ticks": ""
             }
            },
            "type": "scatterpolar"
           }
          ],
          "scatterpolargl": [
           {
            "marker": {
             "colorbar": {
              "outlinewidth": 0,
              "ticks": ""
             }
            },
            "type": "scatterpolargl"
           }
          ],
          "scatterternary": [
           {
            "marker": {
             "colorbar": {
              "outlinewidth": 0,
              "ticks": ""
             }
            },
            "type": "scatterternary"
           }
          ],
          "surface": [
           {
            "colorbar": {
             "outlinewidth": 0,
             "ticks": ""
            },
            "colorscale": [
             [
              0,
              "#0d0887"
             ],
             [
              0.1111111111111111,
              "#46039f"
             ],
             [
              0.2222222222222222,
              "#7201a8"
             ],
             [
              0.3333333333333333,
              "#9c179e"
             ],
             [
              0.4444444444444444,
              "#bd3786"
             ],
             [
              0.5555555555555556,
              "#d8576b"
             ],
             [
              0.6666666666666666,
              "#ed7953"
             ],
             [
              0.7777777777777778,
              "#fb9f3a"
             ],
             [
              0.8888888888888888,
              "#fdca26"
             ],
             [
              1,
              "#f0f921"
             ]
            ],
            "type": "surface"
           }
          ],
          "table": [
           {
            "cells": {
             "fill": {
              "color": "#EBF0F8"
             },
             "line": {
              "color": "white"
             }
            },
            "header": {
             "fill": {
              "color": "#C8D4E3"
             },
             "line": {
              "color": "white"
             }
            },
            "type": "table"
           }
          ]
         },
         "layout": {
          "annotationdefaults": {
           "arrowcolor": "#2a3f5f",
           "arrowhead": 0,
           "arrowwidth": 1
          },
          "autotypenumbers": "strict",
          "coloraxis": {
           "colorbar": {
            "outlinewidth": 0,
            "ticks": ""
           }
          },
          "colorscale": {
           "diverging": [
            [
             0,
             "#8e0152"
            ],
            [
             0.1,
             "#c51b7d"
            ],
            [
             0.2,
             "#de77ae"
            ],
            [
             0.3,
             "#f1b6da"
            ],
            [
             0.4,
             "#fde0ef"
            ],
            [
             0.5,
             "#f7f7f7"
            ],
            [
             0.6,
             "#e6f5d0"
            ],
            [
             0.7,
             "#b8e186"
            ],
            [
             0.8,
             "#7fbc41"
            ],
            [
             0.9,
             "#4d9221"
            ],
            [
             1,
             "#276419"
            ]
           ],
           "sequential": [
            [
             0,
             "#0d0887"
            ],
            [
             0.1111111111111111,
             "#46039f"
            ],
            [
             0.2222222222222222,
             "#7201a8"
            ],
            [
             0.3333333333333333,
             "#9c179e"
            ],
            [
             0.4444444444444444,
             "#bd3786"
            ],
            [
             0.5555555555555556,
             "#d8576b"
            ],
            [
             0.6666666666666666,
             "#ed7953"
            ],
            [
             0.7777777777777778,
             "#fb9f3a"
            ],
            [
             0.8888888888888888,
             "#fdca26"
            ],
            [
             1,
             "#f0f921"
            ]
           ],
           "sequentialminus": [
            [
             0,
             "#0d0887"
            ],
            [
             0.1111111111111111,
             "#46039f"
            ],
            [
             0.2222222222222222,
             "#7201a8"
            ],
            [
             0.3333333333333333,
             "#9c179e"
            ],
            [
             0.4444444444444444,
             "#bd3786"
            ],
            [
             0.5555555555555556,
             "#d8576b"
            ],
            [
             0.6666666666666666,
             "#ed7953"
            ],
            [
             0.7777777777777778,
             "#fb9f3a"
            ],
            [
             0.8888888888888888,
             "#fdca26"
            ],
            [
             1,
             "#f0f921"
            ]
           ]
          },
          "colorway": [
           "#636efa",
           "#EF553B",
           "#00cc96",
           "#ab63fa",
           "#FFA15A",
           "#19d3f3",
           "#FF6692",
           "#B6E880",
           "#FF97FF",
           "#FECB52"
          ],
          "font": {
           "color": "#2a3f5f"
          },
          "geo": {
           "bgcolor": "white",
           "lakecolor": "white",
           "landcolor": "#E5ECF6",
           "showlakes": true,
           "showland": true,
           "subunitcolor": "white"
          },
          "hoverlabel": {
           "align": "left"
          },
          "hovermode": "closest",
          "mapbox": {
           "style": "light"
          },
          "paper_bgcolor": "white",
          "plot_bgcolor": "#E5ECF6",
          "polar": {
           "angularaxis": {
            "gridcolor": "white",
            "linecolor": "white",
            "ticks": ""
           },
           "bgcolor": "#E5ECF6",
           "radialaxis": {
            "gridcolor": "white",
            "linecolor": "white",
            "ticks": ""
           }
          },
          "scene": {
           "xaxis": {
            "backgroundcolor": "#E5ECF6",
            "gridcolor": "white",
            "gridwidth": 2,
            "linecolor": "white",
            "showbackground": true,
            "ticks": "",
            "zerolinecolor": "white"
           },
           "yaxis": {
            "backgroundcolor": "#E5ECF6",
            "gridcolor": "white",
            "gridwidth": 2,
            "linecolor": "white",
            "showbackground": true,
            "ticks": "",
            "zerolinecolor": "white"
           },
           "zaxis": {
            "backgroundcolor": "#E5ECF6",
            "gridcolor": "white",
            "gridwidth": 2,
            "linecolor": "white",
            "showbackground": true,
            "ticks": "",
            "zerolinecolor": "white"
           }
          },
          "shapedefaults": {
           "line": {
            "color": "#2a3f5f"
           }
          },
          "ternary": {
           "aaxis": {
            "gridcolor": "white",
            "linecolor": "white",
            "ticks": ""
           },
           "baxis": {
            "gridcolor": "white",
            "linecolor": "white",
            "ticks": ""
           },
           "bgcolor": "#E5ECF6",
           "caxis": {
            "gridcolor": "white",
            "linecolor": "white",
            "ticks": ""
           }
          },
          "title": {
           "x": 0.05
          },
          "xaxis": {
           "automargin": true,
           "gridcolor": "white",
           "linecolor": "white",
           "ticks": "",
           "title": {
            "standoff": 15
           },
           "zerolinecolor": "white",
           "zerolinewidth": 2
          },
          "yaxis": {
           "automargin": true,
           "gridcolor": "white",
           "linecolor": "white",
           "ticks": "",
           "title": {
            "standoff": 15
           },
           "zerolinecolor": "white",
           "zerolinewidth": 2
          }
         }
        },
        "title": {
         "text": "Distribution of minutes played"
        },
        "xaxis": {
         "anchor": "y",
         "domain": [
          0,
          1
         ],
         "title": {
          "text": "minutes played"
         }
        },
        "yaxis": {
         "anchor": "x",
         "domain": [
          0,
          1
         ],
         "title": {
          "text": "count"
         }
        }
       }
      }
     },
     "metadata": {},
     "output_type": "display_data"
    },
    {
     "data": {
      "application/vnd.plotly.v1+json": {
       "config": {
        "plotlyServerURL": "https://plot.ly"
       },
       "data": [
        {
         "alignmentgroup": "True",
         "bingroup": "x",
         "hovertemplate": "days_injured=%{x}<br>count=%{y}<extra></extra>",
         "legendgroup": "",
         "marker": {
          "color": "lightskyblue",
          "pattern": {
           "shape": ""
          }
         },
         "name": "",
         "offsetgroup": "",
         "orientation": "v",
         "showlegend": false,
         "type": "histogram",
         "x": [
          42,
          510,
          697,
          34,
          554,
          127,
          0,
          89,
          9,
          84,
          718,
          42,
          151,
          4,
          9,
          0,
          647,
          296,
          0,
          158,
          0,
          116,
          42,
          255,
          197,
          161,
          370,
          22,
          28,
          0,
          74,
          182,
          0,
          126,
          55,
          263,
          0,
          103,
          102,
          256,
          0,
          216,
          115,
          40,
          266,
          237,
          138,
          268,
          77,
          108,
          91,
          11,
          83,
          318,
          321,
          0,
          0,
          183,
          200,
          0,
          343,
          373,
          54,
          220,
          455,
          125,
          0,
          132,
          114,
          285,
          65,
          0,
          231,
          42,
          134,
          101,
          66,
          372,
          58,
          271,
          46,
          126,
          5,
          363,
          0,
          0,
          39,
          226,
          22,
          0,
          71,
          11,
          415,
          251,
          291,
          143,
          223,
          374,
          0,
          282,
          365,
          115,
          778,
          0,
          247,
          180,
          316,
          382,
          443,
          46,
          498,
          17,
          20,
          135,
          28,
          841,
          315,
          101,
          158,
          517,
          65,
          724,
          84,
          244,
          129,
          340,
          689,
          303,
          0,
          124,
          0,
          37,
          0,
          0,
          204,
          11,
          240,
          579,
          99,
          86,
          0,
          0,
          238,
          91,
          0,
          66,
          141,
          354,
          70,
          285,
          274,
          19,
          54,
          0,
          12,
          0,
          269,
          4,
          66,
          0,
          0,
          72,
          0,
          1070,
          125,
          0,
          0,
          0,
          0,
          290,
          0,
          182,
          129,
          31,
          0,
          87,
          0,
          183,
          28,
          301,
          167,
          38,
          75,
          62,
          40,
          154,
          33,
          0,
          264,
          211,
          338,
          79,
          18,
          376,
          63,
          209,
          0,
          321,
          22,
          41,
          37,
          209,
          131,
          20,
          92,
          0,
          274,
          8,
          213,
          96,
          0,
          127,
          0,
          7,
          43,
          0,
          0,
          298,
          269,
          53,
          348,
          16,
          13,
          129,
          136,
          3,
          78,
          213,
          14,
          0,
          0,
          47,
          153,
          123,
          110,
          40,
          42,
          423,
          106,
          0,
          6,
          86,
          87,
          45,
          312,
          38,
          0,
          266,
          248,
          734,
          16,
          51,
          197,
          0,
          14,
          355,
          205,
          0,
          207,
          589,
          24,
          156,
          171,
          0,
          0,
          396,
          194,
          14,
          16,
          47,
          0,
          242,
          207,
          0,
          0,
          219,
          227,
          94,
          0,
          0,
          33,
          0,
          0,
          0,
          0,
          85,
          0,
          0,
          79,
          99,
          0,
          0,
          351,
          0,
          0,
          0,
          34,
          0,
          0,
          20,
          11,
          0,
          46,
          198,
          0,
          67,
          61,
          0,
          0,
          148,
          206,
          101,
          189,
          35,
          0,
          0,
          115,
          35,
          307,
          0,
          241,
          16,
          152,
          0,
          238,
          302,
          0,
          0,
          78,
          196,
          203,
          72,
          0,
          244,
          377,
          43,
          135,
          546,
          0,
          387,
          279,
          152,
          0,
          131,
          0,
          841,
          106,
          59,
          645,
          0,
          26,
          1169,
          0,
          56,
          14,
          0,
          123,
          216,
          0,
          0,
          263,
          204,
          86,
          0,
          0,
          430,
          253,
          0,
          153,
          294,
          4,
          13,
          507,
          304,
          0,
          125,
          198,
          723,
          112,
          76,
          292,
          42,
          560,
          96,
          181,
          84,
          0,
          0,
          0,
          0,
          0,
          0,
          0,
          0,
          89,
          0,
          0,
          0,
          65,
          0,
          0,
          244,
          0,
          0,
          127,
          0,
          0,
          0,
          35,
          259,
          8,
          0,
          0,
          0,
          73,
          0,
          0,
          0,
          61,
          0,
          195,
          152,
          0,
          0,
          18,
          0,
          0,
          154,
          0,
          0,
          0,
          134,
          0,
          0,
          0,
          0,
          0,
          68,
          0,
          0,
          0,
          57,
          127,
          0,
          0,
          100,
          0,
          16,
          0,
          0,
          0,
          8,
          0,
          236,
          0,
          91,
          0,
          13,
          0,
          230,
          46,
          0,
          0,
          0,
          367,
          0,
          0,
          140,
          0,
          0,
          102,
          0,
          499,
          0,
          0,
          107,
          42,
          0,
          267,
          0,
          0,
          42,
          0,
          0,
          447,
          12,
          0,
          0,
          4,
          30,
          0,
          385,
          0,
          0,
          0,
          0,
          32,
          806,
          0,
          92,
          105,
          16,
          64,
          121,
          0,
          54,
          6,
          0,
          35,
          0,
          0,
          0,
          0,
          0,
          0,
          32,
          0,
          178,
          0,
          0,
          0,
          2,
          19,
          0,
          0,
          0,
          0,
          0,
          0,
          0,
          0,
          0,
          0,
          0,
          49,
          0,
          161,
          45,
          0,
          0,
          0,
          0,
          10,
          107,
          0,
          0,
          0,
          0,
          0,
          0,
          0,
          92,
          48,
          0,
          768,
          0,
          0,
          223,
          14,
          0,
          0,
          57,
          1141,
          0,
          79,
          220,
          56,
          0,
          0,
          26,
          565,
          33,
          30,
          31,
          0,
          362,
          532,
          0,
          120,
          0,
          0,
          0,
          22,
          112,
          173,
          616,
          234,
          154,
          20,
          0,
          69,
          641,
          0,
          0,
          437,
          27,
          168,
          0,
          152,
          123,
          233,
          0,
          0,
          41,
          0,
          0,
          350,
          0,
          121,
          0,
          98,
          0,
          246,
          0,
          400,
          0,
          0,
          0,
          0,
          184,
          140,
          44,
          113,
          0,
          123,
          0,
          0,
          0,
          0,
          62,
          192,
          0,
          0,
          0,
          307,
          147,
          0,
          0,
          0,
          0,
          0,
          90,
          0,
          346,
          0,
          174,
          0,
          111,
          0,
          0,
          0,
          0,
          228,
          0,
          26,
          38,
          0,
          0,
          133,
          267,
          17,
          88,
          15,
          0,
          0,
          72,
          795,
          96,
          119,
          118,
          54,
          10,
          44,
          365,
          0,
          25,
          234,
          46,
          0,
          0,
          216,
          0,
          18,
          141,
          165,
          0,
          199,
          12,
          0,
          0,
          192,
          10,
          237,
          10,
          0,
          104,
          86,
          0,
          0,
          169,
          11,
          0,
          0,
          255,
          174,
          0,
          13,
          13,
          0,
          276,
          84,
          0,
          21,
          0,
          0,
          53,
          0,
          0,
          0,
          64,
          69,
          389,
          4,
          540,
          0,
          83,
          0,
          258,
          0,
          240,
          56,
          0,
          423,
          97,
          0,
          0,
          124,
          0,
          44,
          126,
          268,
          0,
          186,
          35,
          124,
          141,
          35,
          0,
          0,
          412,
          384,
          116,
          0,
          0,
          38,
          0,
          0,
          132,
          5,
          0,
          0,
          23,
          309,
          122,
          301,
          17,
          456,
          14,
          214,
          3,
          0,
          508,
          103,
          0,
          307,
          0,
          0,
          361,
          171,
          57,
          0,
          0,
          0,
          279,
          0,
          248,
          18,
          0,
          120,
          0,
          28,
          50,
          0,
          229,
          0,
          290,
          14,
          212,
          175,
          0,
          0,
          386,
          0,
          216,
          40,
          0,
          85,
          12,
          0,
          0,
          87,
          261,
          23,
          0,
          0,
          358,
          123,
          16,
          0,
          0,
          8,
          509,
          0,
          0,
          18,
          0,
          92,
          0,
          235,
          0,
          0,
          8,
          0,
          98,
          0,
          45,
          0,
          0,
          122,
          0,
          0,
          513,
          0,
          0,
          30,
          89,
          0,
          28,
          0,
          0,
          52,
          0,
          0,
          346,
          0,
          139,
          0,
          30,
          73,
          337,
          0,
          83,
          0,
          62,
          0,
          82,
          497,
          24,
          0,
          0,
          93,
          0,
          0,
          265,
          25,
          12,
          14,
          0,
          0,
          306,
          45,
          190,
          71,
          0,
          0,
          0,
          0,
          0,
          0,
          0,
          0,
          0,
          15,
          0,
          0,
          0,
          0,
          99,
          0,
          50,
          0,
          231,
          0,
          0,
          0,
          0,
          0,
          0,
          0,
          0,
          26,
          0,
          0,
          0,
          0,
          0,
          0,
          0,
          0,
          0,
          0,
          78,
          0,
          0,
          0,
          0,
          227,
          0,
          0,
          0,
          0,
          165,
          0,
          57,
          0,
          14,
          394,
          0,
          35,
          106,
          0,
          0,
          292,
          0,
          0,
          92,
          53,
          0,
          469,
          0,
          0,
          211,
          0,
          247,
          0,
          0,
          0,
          645,
          47,
          137,
          0,
          55,
          0,
          0,
          0,
          0,
          261,
          103,
          35,
          0,
          0,
          14,
          0,
          0,
          91,
          236,
          56,
          306,
          0,
          42,
          358,
          0,
          0,
          0,
          127,
          92,
          122,
          0,
          0,
          0,
          0,
          0,
          0,
          0,
          171,
          77,
          0,
          104,
          14,
          50,
          0,
          62,
          195,
          0,
          31,
          0,
          0,
          0,
          0,
          183,
          0,
          0,
          0,
          0,
          153,
          91,
          0,
          247,
          77,
          139,
          678,
          0,
          0,
          74,
          0,
          179,
          0,
          0,
          15,
          0,
          0,
          0,
          76,
          0,
          0,
          0,
          0,
          0,
          0,
          54,
          0,
          0,
          0,
          0,
          0,
          0,
          0,
          0,
          0,
          93,
          0,
          16,
          0,
          0,
          0,
          0,
          0,
          0,
          0,
          229,
          0,
          0,
          0,
          0,
          0,
          0,
          0,
          0,
          0,
          0,
          0,
          0,
          0,
          14,
          0,
          13,
          0,
          0,
          155,
          30,
          0,
          0,
          26,
          274,
          0,
          0,
          225,
          45,
          0,
          0,
          0,
          661,
          0,
          0,
          0,
          35,
          0,
          176,
          0,
          7,
          7,
          265,
          0,
          0,
          364,
          155,
          0,
          0,
          0,
          0,
          0,
          0,
          0,
          0,
          0,
          0,
          0,
          93,
          62,
          212,
          0,
          186,
          71,
          0,
          0,
          0,
          213,
          0,
          0,
          0,
          14,
          0,
          0,
          0,
          38,
          0,
          0,
          0,
          0,
          0,
          0,
          0,
          0,
          0,
          0,
          0,
          93,
          0,
          22,
          650,
          0,
          18,
          0,
          0,
          277,
          0,
          0,
          0,
          0,
          230,
          84,
          0,
          80,
          0,
          0,
          0,
          0,
          0,
          0,
          16,
          0,
          0,
          292,
          0,
          0,
          314,
          0,
          0,
          82,
          0,
          57,
          0,
          0,
          0,
          0,
          0,
          11,
          252,
          188,
          21,
          31,
          443,
          0,
          674,
          0,
          73,
          64,
          0,
          0,
          0,
          0,
          0,
          0,
          0,
          751,
          0,
          320,
          0,
          0,
          47,
          0,
          0,
          0,
          381,
          30,
          46,
          0,
          0,
          0,
          0,
          0,
          0,
          0,
          0,
          209,
          0,
          0,
          0,
          0
         ],
         "xaxis": "x",
         "yaxis": "y"
        }
       ],
       "layout": {
        "bargap": 0.2,
        "barmode": "relative",
        "legend": {
         "tracegroupgap": 0
        },
        "template": {
         "data": {
          "bar": [
           {
            "error_x": {
             "color": "#2a3f5f"
            },
            "error_y": {
             "color": "#2a3f5f"
            },
            "marker": {
             "line": {
              "color": "#E5ECF6",
              "width": 0.5
             },
             "pattern": {
              "fillmode": "overlay",
              "size": 10,
              "solidity": 0.2
             }
            },
            "type": "bar"
           }
          ],
          "barpolar": [
           {
            "marker": {
             "line": {
              "color": "#E5ECF6",
              "width": 0.5
             },
             "pattern": {
              "fillmode": "overlay",
              "size": 10,
              "solidity": 0.2
             }
            },
            "type": "barpolar"
           }
          ],
          "carpet": [
           {
            "aaxis": {
             "endlinecolor": "#2a3f5f",
             "gridcolor": "white",
             "linecolor": "white",
             "minorgridcolor": "white",
             "startlinecolor": "#2a3f5f"
            },
            "baxis": {
             "endlinecolor": "#2a3f5f",
             "gridcolor": "white",
             "linecolor": "white",
             "minorgridcolor": "white",
             "startlinecolor": "#2a3f5f"
            },
            "type": "carpet"
           }
          ],
          "choropleth": [
           {
            "colorbar": {
             "outlinewidth": 0,
             "ticks": ""
            },
            "type": "choropleth"
           }
          ],
          "contour": [
           {
            "colorbar": {
             "outlinewidth": 0,
             "ticks": ""
            },
            "colorscale": [
             [
              0,
              "#0d0887"
             ],
             [
              0.1111111111111111,
              "#46039f"
             ],
             [
              0.2222222222222222,
              "#7201a8"
             ],
             [
              0.3333333333333333,
              "#9c179e"
             ],
             [
              0.4444444444444444,
              "#bd3786"
             ],
             [
              0.5555555555555556,
              "#d8576b"
             ],
             [
              0.6666666666666666,
              "#ed7953"
             ],
             [
              0.7777777777777778,
              "#fb9f3a"
             ],
             [
              0.8888888888888888,
              "#fdca26"
             ],
             [
              1,
              "#f0f921"
             ]
            ],
            "type": "contour"
           }
          ],
          "contourcarpet": [
           {
            "colorbar": {
             "outlinewidth": 0,
             "ticks": ""
            },
            "type": "contourcarpet"
           }
          ],
          "heatmap": [
           {
            "colorbar": {
             "outlinewidth": 0,
             "ticks": ""
            },
            "colorscale": [
             [
              0,
              "#0d0887"
             ],
             [
              0.1111111111111111,
              "#46039f"
             ],
             [
              0.2222222222222222,
              "#7201a8"
             ],
             [
              0.3333333333333333,
              "#9c179e"
             ],
             [
              0.4444444444444444,
              "#bd3786"
             ],
             [
              0.5555555555555556,
              "#d8576b"
             ],
             [
              0.6666666666666666,
              "#ed7953"
             ],
             [
              0.7777777777777778,
              "#fb9f3a"
             ],
             [
              0.8888888888888888,
              "#fdca26"
             ],
             [
              1,
              "#f0f921"
             ]
            ],
            "type": "heatmap"
           }
          ],
          "heatmapgl": [
           {
            "colorbar": {
             "outlinewidth": 0,
             "ticks": ""
            },
            "colorscale": [
             [
              0,
              "#0d0887"
             ],
             [
              0.1111111111111111,
              "#46039f"
             ],
             [
              0.2222222222222222,
              "#7201a8"
             ],
             [
              0.3333333333333333,
              "#9c179e"
             ],
             [
              0.4444444444444444,
              "#bd3786"
             ],
             [
              0.5555555555555556,
              "#d8576b"
             ],
             [
              0.6666666666666666,
              "#ed7953"
             ],
             [
              0.7777777777777778,
              "#fb9f3a"
             ],
             [
              0.8888888888888888,
              "#fdca26"
             ],
             [
              1,
              "#f0f921"
             ]
            ],
            "type": "heatmapgl"
           }
          ],
          "histogram": [
           {
            "marker": {
             "pattern": {
              "fillmode": "overlay",
              "size": 10,
              "solidity": 0.2
             }
            },
            "type": "histogram"
           }
          ],
          "histogram2d": [
           {
            "colorbar": {
             "outlinewidth": 0,
             "ticks": ""
            },
            "colorscale": [
             [
              0,
              "#0d0887"
             ],
             [
              0.1111111111111111,
              "#46039f"
             ],
             [
              0.2222222222222222,
              "#7201a8"
             ],
             [
              0.3333333333333333,
              "#9c179e"
             ],
             [
              0.4444444444444444,
              "#bd3786"
             ],
             [
              0.5555555555555556,
              "#d8576b"
             ],
             [
              0.6666666666666666,
              "#ed7953"
             ],
             [
              0.7777777777777778,
              "#fb9f3a"
             ],
             [
              0.8888888888888888,
              "#fdca26"
             ],
             [
              1,
              "#f0f921"
             ]
            ],
            "type": "histogram2d"
           }
          ],
          "histogram2dcontour": [
           {
            "colorbar": {
             "outlinewidth": 0,
             "ticks": ""
            },
            "colorscale": [
             [
              0,
              "#0d0887"
             ],
             [
              0.1111111111111111,
              "#46039f"
             ],
             [
              0.2222222222222222,
              "#7201a8"
             ],
             [
              0.3333333333333333,
              "#9c179e"
             ],
             [
              0.4444444444444444,
              "#bd3786"
             ],
             [
              0.5555555555555556,
              "#d8576b"
             ],
             [
              0.6666666666666666,
              "#ed7953"
             ],
             [
              0.7777777777777778,
              "#fb9f3a"
             ],
             [
              0.8888888888888888,
              "#fdca26"
             ],
             [
              1,
              "#f0f921"
             ]
            ],
            "type": "histogram2dcontour"
           }
          ],
          "mesh3d": [
           {
            "colorbar": {
             "outlinewidth": 0,
             "ticks": ""
            },
            "type": "mesh3d"
           }
          ],
          "parcoords": [
           {
            "line": {
             "colorbar": {
              "outlinewidth": 0,
              "ticks": ""
             }
            },
            "type": "parcoords"
           }
          ],
          "pie": [
           {
            "automargin": true,
            "type": "pie"
           }
          ],
          "scatter": [
           {
            "fillpattern": {
             "fillmode": "overlay",
             "size": 10,
             "solidity": 0.2
            },
            "type": "scatter"
           }
          ],
          "scatter3d": [
           {
            "line": {
             "colorbar": {
              "outlinewidth": 0,
              "ticks": ""
             }
            },
            "marker": {
             "colorbar": {
              "outlinewidth": 0,
              "ticks": ""
             }
            },
            "type": "scatter3d"
           }
          ],
          "scattercarpet": [
           {
            "marker": {
             "colorbar": {
              "outlinewidth": 0,
              "ticks": ""
             }
            },
            "type": "scattercarpet"
           }
          ],
          "scattergeo": [
           {
            "marker": {
             "colorbar": {
              "outlinewidth": 0,
              "ticks": ""
             }
            },
            "type": "scattergeo"
           }
          ],
          "scattergl": [
           {
            "marker": {
             "colorbar": {
              "outlinewidth": 0,
              "ticks": ""
             }
            },
            "type": "scattergl"
           }
          ],
          "scattermapbox": [
           {
            "marker": {
             "colorbar": {
              "outlinewidth": 0,
              "ticks": ""
             }
            },
            "type": "scattermapbox"
           }
          ],
          "scatterpolar": [
           {
            "marker": {
             "colorbar": {
              "outlinewidth": 0,
              "ticks": ""
             }
            },
            "type": "scatterpolar"
           }
          ],
          "scatterpolargl": [
           {
            "marker": {
             "colorbar": {
              "outlinewidth": 0,
              "ticks": ""
             }
            },
            "type": "scatterpolargl"
           }
          ],
          "scatterternary": [
           {
            "marker": {
             "colorbar": {
              "outlinewidth": 0,
              "ticks": ""
             }
            },
            "type": "scatterternary"
           }
          ],
          "surface": [
           {
            "colorbar": {
             "outlinewidth": 0,
             "ticks": ""
            },
            "colorscale": [
             [
              0,
              "#0d0887"
             ],
             [
              0.1111111111111111,
              "#46039f"
             ],
             [
              0.2222222222222222,
              "#7201a8"
             ],
             [
              0.3333333333333333,
              "#9c179e"
             ],
             [
              0.4444444444444444,
              "#bd3786"
             ],
             [
              0.5555555555555556,
              "#d8576b"
             ],
             [
              0.6666666666666666,
              "#ed7953"
             ],
             [
              0.7777777777777778,
              "#fb9f3a"
             ],
             [
              0.8888888888888888,
              "#fdca26"
             ],
             [
              1,
              "#f0f921"
             ]
            ],
            "type": "surface"
           }
          ],
          "table": [
           {
            "cells": {
             "fill": {
              "color": "#EBF0F8"
             },
             "line": {
              "color": "white"
             }
            },
            "header": {
             "fill": {
              "color": "#C8D4E3"
             },
             "line": {
              "color": "white"
             }
            },
            "type": "table"
           }
          ]
         },
         "layout": {
          "annotationdefaults": {
           "arrowcolor": "#2a3f5f",
           "arrowhead": 0,
           "arrowwidth": 1
          },
          "autotypenumbers": "strict",
          "coloraxis": {
           "colorbar": {
            "outlinewidth": 0,
            "ticks": ""
           }
          },
          "colorscale": {
           "diverging": [
            [
             0,
             "#8e0152"
            ],
            [
             0.1,
             "#c51b7d"
            ],
            [
             0.2,
             "#de77ae"
            ],
            [
             0.3,
             "#f1b6da"
            ],
            [
             0.4,
             "#fde0ef"
            ],
            [
             0.5,
             "#f7f7f7"
            ],
            [
             0.6,
             "#e6f5d0"
            ],
            [
             0.7,
             "#b8e186"
            ],
            [
             0.8,
             "#7fbc41"
            ],
            [
             0.9,
             "#4d9221"
            ],
            [
             1,
             "#276419"
            ]
           ],
           "sequential": [
            [
             0,
             "#0d0887"
            ],
            [
             0.1111111111111111,
             "#46039f"
            ],
            [
             0.2222222222222222,
             "#7201a8"
            ],
            [
             0.3333333333333333,
             "#9c179e"
            ],
            [
             0.4444444444444444,
             "#bd3786"
            ],
            [
             0.5555555555555556,
             "#d8576b"
            ],
            [
             0.6666666666666666,
             "#ed7953"
            ],
            [
             0.7777777777777778,
             "#fb9f3a"
            ],
            [
             0.8888888888888888,
             "#fdca26"
            ],
            [
             1,
             "#f0f921"
            ]
           ],
           "sequentialminus": [
            [
             0,
             "#0d0887"
            ],
            [
             0.1111111111111111,
             "#46039f"
            ],
            [
             0.2222222222222222,
             "#7201a8"
            ],
            [
             0.3333333333333333,
             "#9c179e"
            ],
            [
             0.4444444444444444,
             "#bd3786"
            ],
            [
             0.5555555555555556,
             "#d8576b"
            ],
            [
             0.6666666666666666,
             "#ed7953"
            ],
            [
             0.7777777777777778,
             "#fb9f3a"
            ],
            [
             0.8888888888888888,
             "#fdca26"
            ],
            [
             1,
             "#f0f921"
            ]
           ]
          },
          "colorway": [
           "#636efa",
           "#EF553B",
           "#00cc96",
           "#ab63fa",
           "#FFA15A",
           "#19d3f3",
           "#FF6692",
           "#B6E880",
           "#FF97FF",
           "#FECB52"
          ],
          "font": {
           "color": "#2a3f5f"
          },
          "geo": {
           "bgcolor": "white",
           "lakecolor": "white",
           "landcolor": "#E5ECF6",
           "showlakes": true,
           "showland": true,
           "subunitcolor": "white"
          },
          "hoverlabel": {
           "align": "left"
          },
          "hovermode": "closest",
          "mapbox": {
           "style": "light"
          },
          "paper_bgcolor": "white",
          "plot_bgcolor": "#E5ECF6",
          "polar": {
           "angularaxis": {
            "gridcolor": "white",
            "linecolor": "white",
            "ticks": ""
           },
           "bgcolor": "#E5ECF6",
           "radialaxis": {
            "gridcolor": "white",
            "linecolor": "white",
            "ticks": ""
           }
          },
          "scene": {
           "xaxis": {
            "backgroundcolor": "#E5ECF6",
            "gridcolor": "white",
            "gridwidth": 2,
            "linecolor": "white",
            "showbackground": true,
            "ticks": "",
            "zerolinecolor": "white"
           },
           "yaxis": {
            "backgroundcolor": "#E5ECF6",
            "gridcolor": "white",
            "gridwidth": 2,
            "linecolor": "white",
            "showbackground": true,
            "ticks": "",
            "zerolinecolor": "white"
           },
           "zaxis": {
            "backgroundcolor": "#E5ECF6",
            "gridcolor": "white",
            "gridwidth": 2,
            "linecolor": "white",
            "showbackground": true,
            "ticks": "",
            "zerolinecolor": "white"
           }
          },
          "shapedefaults": {
           "line": {
            "color": "#2a3f5f"
           }
          },
          "ternary": {
           "aaxis": {
            "gridcolor": "white",
            "linecolor": "white",
            "ticks": ""
           },
           "baxis": {
            "gridcolor": "white",
            "linecolor": "white",
            "ticks": ""
           },
           "bgcolor": "#E5ECF6",
           "caxis": {
            "gridcolor": "white",
            "linecolor": "white",
            "ticks": ""
           }
          },
          "title": {
           "x": 0.05
          },
          "xaxis": {
           "automargin": true,
           "gridcolor": "white",
           "linecolor": "white",
           "ticks": "",
           "title": {
            "standoff": 15
           },
           "zerolinecolor": "white",
           "zerolinewidth": 2
          },
          "yaxis": {
           "automargin": true,
           "gridcolor": "white",
           "linecolor": "white",
           "ticks": "",
           "title": {
            "standoff": 15
           },
           "zerolinecolor": "white",
           "zerolinewidth": 2
          }
         }
        },
        "title": {
         "text": "Distribution of days_injured"
        },
        "xaxis": {
         "anchor": "y",
         "domain": [
          0,
          1
         ],
         "title": {
          "text": "days_injured"
         }
        },
        "yaxis": {
         "anchor": "x",
         "domain": [
          0,
          1
         ],
         "title": {
          "text": "count"
         }
        }
       }
      }
     },
     "metadata": {},
     "output_type": "display_data"
    },
    {
     "data": {
      "application/vnd.plotly.v1+json": {
       "config": {
        "plotlyServerURL": "https://plot.ly"
       },
       "data": [
        {
         "alignmentgroup": "True",
         "bingroup": "x",
         "hovertemplate": "games_injured=%{x}<br>count=%{y}<extra></extra>",
         "legendgroup": "",
         "marker": {
          "color": "lightskyblue",
          "pattern": {
           "shape": ""
          }
         },
         "name": "",
         "offsetgroup": "",
         "orientation": "v",
         "showlegend": false,
         "type": "histogram",
         "x": [
          5,
          58,
          84,
          4,
          99,
          29,
          0,
          14,
          1,
          14,
          84,
          10,
          5,
          1,
          2,
          0,
          96,
          32,
          0,
          25,
          0,
          22,
          7,
          32,
          3,
          28,
          50,
          2,
          6,
          0,
          22,
          34,
          0,
          15,
          9,
          33,
          0,
          18,
          17,
          30,
          0,
          28,
          12,
          11,
          35,
          23,
          14,
          50,
          10,
          12,
          23,
          1,
          12,
          53,
          38,
          0,
          0,
          25,
          38,
          0,
          51,
          40,
          10,
          26,
          58,
          20,
          0,
          24,
          13,
          30,
          6,
          0,
          31,
          3,
          22,
          14,
          9,
          15,
          11,
          22,
          7,
          7,
          1,
          43,
          0,
          0,
          6,
          28,
          4,
          0,
          13,
          1,
          45,
          35,
          40,
          19,
          26,
          30,
          0,
          31,
          44,
          10,
          76,
          0,
          23,
          13,
          47,
          52,
          45,
          8,
          69,
          4,
          4,
          18,
          4,
          97,
          45,
          10,
          17,
          89,
          10,
          109,
          11,
          33,
          10,
          53,
          95,
          42,
          0,
          7,
          0,
          7,
          0,
          0,
          36,
          3,
          37,
          108,
          11,
          9,
          0,
          0,
          34,
          11,
          0,
          14,
          17,
          27,
          11,
          27,
          32,
          2,
          7,
          0,
          0,
          0,
          41,
          2,
          7,
          0,
          0,
          9,
          0,
          113,
          20,
          0,
          0,
          0,
          0,
          39,
          0,
          0,
          20,
          3,
          0,
          20,
          0,
          24,
          4,
          24,
          7,
          5,
          9,
          11,
          1,
          23,
          2,
          0,
          48,
          38,
          52,
          15,
          3,
          50,
          15,
          33,
          0,
          13,
          3,
          8,
          4,
          23,
          21,
          3,
          14,
          0,
          39,
          2,
          21,
          9,
          0,
          20,
          0,
          1,
          10,
          0,
          0,
          39,
          49,
          9,
          53,
          3,
          3,
          22,
          18,
          1,
          12,
          17,
          2,
          0,
          0,
          9,
          13,
          17,
          12,
          8,
          6,
          48,
          10,
          0,
          1,
          11,
          17,
          8,
          51,
          11,
          0,
          47,
          38,
          74,
          4,
          11,
          6,
          0,
          4,
          44,
          32,
          0,
          12,
          74,
          1,
          30,
          21,
          0,
          0,
          43,
          26,
          2,
          2,
          6,
          0,
          30,
          26,
          0,
          0,
          30,
          23,
          13,
          0,
          0,
          2,
          0,
          0,
          0,
          0,
          18,
          0,
          0,
          10,
          14,
          0,
          0,
          54,
          0,
          0,
          0,
          5,
          0,
          0,
          4,
          3,
          0,
          7,
          3,
          0,
          8,
          10,
          0,
          0,
          16,
          28,
          10,
          20,
          7,
          0,
          0,
          14,
          7,
          53,
          0,
          30,
          0,
          28,
          0,
          38,
          26,
          0,
          0,
          9,
          24,
          31,
          7,
          0,
          25,
          51,
          6,
          14,
          58,
          0,
          62,
          28,
          22,
          0,
          4,
          0,
          74,
          18,
          0,
          74,
          0,
          3,
          139,
          0,
          7,
          2,
          0,
          16,
          29,
          0,
          0,
          36,
          27,
          7,
          0,
          0,
          46,
          42,
          0,
          27,
          34,
          1,
          2,
          27,
          43,
          0,
          19,
          17,
          123,
          19,
          7,
          47,
          7,
          87,
          12,
          32,
          7,
          0,
          0,
          0,
          0,
          0,
          0,
          0,
          0,
          5,
          0,
          0,
          0,
          14,
          0,
          0,
          20,
          0,
          0,
          30,
          0,
          0,
          0,
          13,
          43,
          1,
          0,
          0,
          0,
          11,
          0,
          0,
          0,
          18,
          0,
          39,
          21,
          0,
          0,
          5,
          0,
          0,
          13,
          0,
          0,
          0,
          14,
          0,
          0,
          0,
          0,
          0,
          20,
          0,
          0,
          0,
          4,
          21,
          0,
          0,
          8,
          0,
          4,
          0,
          0,
          0,
          3,
          0,
          37,
          0,
          18,
          0,
          3,
          0,
          27,
          7,
          0,
          0,
          0,
          40,
          0,
          0,
          13,
          0,
          0,
          10,
          0,
          66,
          0,
          0,
          16,
          8,
          0,
          24,
          0,
          0,
          5,
          0,
          0,
          61,
          4,
          0,
          0,
          2,
          4,
          0,
          56,
          0,
          0,
          0,
          0,
          6,
          92,
          0,
          10,
          8,
          3,
          9,
          20,
          0,
          8,
          1,
          0,
          5,
          0,
          0,
          0,
          0,
          0,
          0,
          4,
          0,
          12,
          0,
          0,
          0,
          1,
          4,
          0,
          0,
          0,
          0,
          0,
          0,
          0,
          0,
          0,
          0,
          0,
          7,
          0,
          28,
          7,
          0,
          0,
          0,
          0,
          2,
          14,
          0,
          0,
          0,
          0,
          0,
          0,
          0,
          15,
          8,
          0,
          93,
          0,
          0,
          18,
          2,
          0,
          0,
          2,
          115,
          0,
          16,
          23,
          6,
          0,
          0,
          5,
          46,
          3,
          5,
          7,
          0,
          30,
          69,
          0,
          18,
          0,
          0,
          0,
          5,
          11,
          21,
          69,
          25,
          20,
          4,
          0,
          8,
          65,
          0,
          0,
          59,
          3,
          17,
          0,
          25,
          6,
          26,
          0,
          0,
          5,
          0,
          0,
          47,
          0,
          17,
          0,
          14,
          0,
          67,
          0,
          51,
          0,
          0,
          0,
          0,
          19,
          24,
          7,
          5,
          0,
          12,
          0,
          0,
          0,
          0,
          12,
          30,
          0,
          0,
          0,
          57,
          22,
          0,
          0,
          0,
          0,
          0,
          17,
          0,
          35,
          0,
          5,
          0,
          17,
          0,
          0,
          1,
          0,
          39,
          0,
          8,
          5,
          0,
          0,
          16,
          36,
          3,
          17,
          4,
          0,
          0,
          16,
          76,
          20,
          22,
          18,
          12,
          2,
          2,
          53,
          0,
          4,
          42,
          6,
          0,
          0,
          21,
          0,
          3,
          24,
          21,
          0,
          16,
          3,
          0,
          0,
          20,
          2,
          38,
          0,
          0,
          20,
          11,
          0,
          0,
          28,
          2,
          0,
          0,
          39,
          31,
          0,
          2,
          4,
          0,
          53,
          14,
          0,
          3,
          0,
          0,
          8,
          0,
          0,
          0,
          13,
          12,
          42,
          1,
          49,
          0,
          13,
          0,
          39,
          0,
          42,
          8,
          0,
          60,
          13,
          0,
          0,
          17,
          0,
          3,
          13,
          44,
          0,
          20,
          4,
          14,
          13,
          4,
          0,
          0,
          44,
          57,
          6,
          0,
          0,
          4,
          0,
          0,
          28,
          1,
          0,
          0,
          6,
          66,
          14,
          30,
          2,
          50,
          1,
          25,
          1,
          0,
          74,
          14,
          0,
          11,
          0,
          0,
          50,
          21,
          7,
          0,
          0,
          0,
          14,
          0,
          26,
          3,
          0,
          21,
          0,
          4,
          7,
          0,
          30,
          0,
          26,
          0,
          24,
          7,
          0,
          0,
          41,
          0,
          29,
          7,
          0,
          16,
          2,
          0,
          0,
          7,
          21,
          6,
          0,
          0,
          35,
          16,
          2,
          0,
          0,
          2,
          43,
          0,
          0,
          1,
          0,
          12,
          0,
          29,
          0,
          0,
          2,
          0,
          7,
          0,
          10,
          0,
          0,
          19,
          0,
          0,
          13,
          0,
          0,
          5,
          8,
          0,
          3,
          0,
          0,
          9,
          0,
          0,
          59,
          0,
          19,
          0,
          4,
          14,
          38,
          0,
          11,
          0,
          10,
          0,
          10,
          57,
          2,
          0,
          0,
          12,
          0,
          0,
          25,
          5,
          2,
          3,
          0,
          0,
          0,
          5,
          24,
          1,
          0,
          0,
          0,
          0,
          0,
          0,
          0,
          0,
          0,
          0,
          0,
          0,
          0,
          0,
          16,
          0,
          9,
          0,
          45,
          0,
          0,
          0,
          0,
          0,
          0,
          0,
          0,
          3,
          0,
          0,
          0,
          0,
          0,
          0,
          0,
          0,
          0,
          0,
          11,
          0,
          0,
          0,
          0,
          19,
          0,
          0,
          0,
          0,
          19,
          0,
          10,
          0,
          1,
          48,
          0,
          8,
          16,
          0,
          0,
          43,
          0,
          0,
          17,
          9,
          0,
          71,
          0,
          0,
          34,
          0,
          39,
          0,
          0,
          0,
          84,
          8,
          10,
          0,
          8,
          0,
          0,
          0,
          0,
          29,
          16,
          7,
          0,
          0,
          3,
          0,
          0,
          4,
          33,
          11,
          47,
          0,
          8,
          82,
          0,
          0,
          0,
          18,
          12,
          15,
          0,
          0,
          0,
          0,
          0,
          0,
          0,
          12,
          13,
          0,
          21,
          3,
          10,
          0,
          8,
          26,
          0,
          5,
          0,
          0,
          0,
          0,
          38,
          0,
          0,
          0,
          0,
          26,
          13,
          0,
          23,
          18,
          26,
          92,
          0,
          0,
          12,
          0,
          13,
          0,
          0,
          4,
          0,
          0,
          0,
          9,
          0,
          0,
          0,
          0,
          0,
          0,
          6,
          0,
          0,
          0,
          0,
          0,
          0,
          0,
          0,
          0,
          16,
          0,
          5,
          0,
          0,
          0,
          0,
          0,
          0,
          0,
          44,
          0,
          0,
          0,
          0,
          0,
          0,
          0,
          0,
          0,
          0,
          0,
          0,
          0,
          2,
          0,
          3,
          0,
          0,
          22,
          5,
          0,
          0,
          8,
          47,
          0,
          0,
          16,
          9,
          0,
          0,
          0,
          62,
          0,
          0,
          0,
          5,
          0,
          37,
          0,
          0,
          0,
          32,
          0,
          0,
          2,
          2,
          0,
          0,
          0,
          0,
          0,
          0,
          0,
          0,
          0,
          0,
          0,
          7,
          5,
          30,
          0,
          21,
          11,
          0,
          0,
          0,
          27,
          0,
          0,
          0,
          3,
          0,
          0,
          0,
          7,
          0,
          0,
          0,
          0,
          0,
          0,
          0,
          0,
          0,
          0,
          0,
          9,
          0,
          2,
          66,
          0,
          1,
          0,
          0,
          1,
          0,
          0,
          0,
          0,
          13,
          8,
          0,
          11,
          0,
          0,
          0,
          0,
          0,
          0,
          4,
          0,
          0,
          34,
          0,
          0,
          48,
          0,
          0,
          12,
          0,
          5,
          0,
          0,
          0,
          0,
          0,
          1,
          37,
          36,
          5,
          5,
          41,
          0,
          86,
          0,
          11,
          9,
          0,
          0,
          0,
          0,
          0,
          0,
          0,
          91,
          0,
          34,
          0,
          0,
          2,
          0,
          0,
          0,
          38,
          3,
          4,
          0,
          0,
          0,
          0,
          0,
          0,
          0,
          0,
          25,
          0,
          0,
          0,
          0
         ],
         "xaxis": "x",
         "yaxis": "y"
        }
       ],
       "layout": {
        "bargap": 0.2,
        "barmode": "relative",
        "legend": {
         "tracegroupgap": 0
        },
        "template": {
         "data": {
          "bar": [
           {
            "error_x": {
             "color": "#2a3f5f"
            },
            "error_y": {
             "color": "#2a3f5f"
            },
            "marker": {
             "line": {
              "color": "#E5ECF6",
              "width": 0.5
             },
             "pattern": {
              "fillmode": "overlay",
              "size": 10,
              "solidity": 0.2
             }
            },
            "type": "bar"
           }
          ],
          "barpolar": [
           {
            "marker": {
             "line": {
              "color": "#E5ECF6",
              "width": 0.5
             },
             "pattern": {
              "fillmode": "overlay",
              "size": 10,
              "solidity": 0.2
             }
            },
            "type": "barpolar"
           }
          ],
          "carpet": [
           {
            "aaxis": {
             "endlinecolor": "#2a3f5f",
             "gridcolor": "white",
             "linecolor": "white",
             "minorgridcolor": "white",
             "startlinecolor": "#2a3f5f"
            },
            "baxis": {
             "endlinecolor": "#2a3f5f",
             "gridcolor": "white",
             "linecolor": "white",
             "minorgridcolor": "white",
             "startlinecolor": "#2a3f5f"
            },
            "type": "carpet"
           }
          ],
          "choropleth": [
           {
            "colorbar": {
             "outlinewidth": 0,
             "ticks": ""
            },
            "type": "choropleth"
           }
          ],
          "contour": [
           {
            "colorbar": {
             "outlinewidth": 0,
             "ticks": ""
            },
            "colorscale": [
             [
              0,
              "#0d0887"
             ],
             [
              0.1111111111111111,
              "#46039f"
             ],
             [
              0.2222222222222222,
              "#7201a8"
             ],
             [
              0.3333333333333333,
              "#9c179e"
             ],
             [
              0.4444444444444444,
              "#bd3786"
             ],
             [
              0.5555555555555556,
              "#d8576b"
             ],
             [
              0.6666666666666666,
              "#ed7953"
             ],
             [
              0.7777777777777778,
              "#fb9f3a"
             ],
             [
              0.8888888888888888,
              "#fdca26"
             ],
             [
              1,
              "#f0f921"
             ]
            ],
            "type": "contour"
           }
          ],
          "contourcarpet": [
           {
            "colorbar": {
             "outlinewidth": 0,
             "ticks": ""
            },
            "type": "contourcarpet"
           }
          ],
          "heatmap": [
           {
            "colorbar": {
             "outlinewidth": 0,
             "ticks": ""
            },
            "colorscale": [
             [
              0,
              "#0d0887"
             ],
             [
              0.1111111111111111,
              "#46039f"
             ],
             [
              0.2222222222222222,
              "#7201a8"
             ],
             [
              0.3333333333333333,
              "#9c179e"
             ],
             [
              0.4444444444444444,
              "#bd3786"
             ],
             [
              0.5555555555555556,
              "#d8576b"
             ],
             [
              0.6666666666666666,
              "#ed7953"
             ],
             [
              0.7777777777777778,
              "#fb9f3a"
             ],
             [
              0.8888888888888888,
              "#fdca26"
             ],
             [
              1,
              "#f0f921"
             ]
            ],
            "type": "heatmap"
           }
          ],
          "heatmapgl": [
           {
            "colorbar": {
             "outlinewidth": 0,
             "ticks": ""
            },
            "colorscale": [
             [
              0,
              "#0d0887"
             ],
             [
              0.1111111111111111,
              "#46039f"
             ],
             [
              0.2222222222222222,
              "#7201a8"
             ],
             [
              0.3333333333333333,
              "#9c179e"
             ],
             [
              0.4444444444444444,
              "#bd3786"
             ],
             [
              0.5555555555555556,
              "#d8576b"
             ],
             [
              0.6666666666666666,
              "#ed7953"
             ],
             [
              0.7777777777777778,
              "#fb9f3a"
             ],
             [
              0.8888888888888888,
              "#fdca26"
             ],
             [
              1,
              "#f0f921"
             ]
            ],
            "type": "heatmapgl"
           }
          ],
          "histogram": [
           {
            "marker": {
             "pattern": {
              "fillmode": "overlay",
              "size": 10,
              "solidity": 0.2
             }
            },
            "type": "histogram"
           }
          ],
          "histogram2d": [
           {
            "colorbar": {
             "outlinewidth": 0,
             "ticks": ""
            },
            "colorscale": [
             [
              0,
              "#0d0887"
             ],
             [
              0.1111111111111111,
              "#46039f"
             ],
             [
              0.2222222222222222,
              "#7201a8"
             ],
             [
              0.3333333333333333,
              "#9c179e"
             ],
             [
              0.4444444444444444,
              "#bd3786"
             ],
             [
              0.5555555555555556,
              "#d8576b"
             ],
             [
              0.6666666666666666,
              "#ed7953"
             ],
             [
              0.7777777777777778,
              "#fb9f3a"
             ],
             [
              0.8888888888888888,
              "#fdca26"
             ],
             [
              1,
              "#f0f921"
             ]
            ],
            "type": "histogram2d"
           }
          ],
          "histogram2dcontour": [
           {
            "colorbar": {
             "outlinewidth": 0,
             "ticks": ""
            },
            "colorscale": [
             [
              0,
              "#0d0887"
             ],
             [
              0.1111111111111111,
              "#46039f"
             ],
             [
              0.2222222222222222,
              "#7201a8"
             ],
             [
              0.3333333333333333,
              "#9c179e"
             ],
             [
              0.4444444444444444,
              "#bd3786"
             ],
             [
              0.5555555555555556,
              "#d8576b"
             ],
             [
              0.6666666666666666,
              "#ed7953"
             ],
             [
              0.7777777777777778,
              "#fb9f3a"
             ],
             [
              0.8888888888888888,
              "#fdca26"
             ],
             [
              1,
              "#f0f921"
             ]
            ],
            "type": "histogram2dcontour"
           }
          ],
          "mesh3d": [
           {
            "colorbar": {
             "outlinewidth": 0,
             "ticks": ""
            },
            "type": "mesh3d"
           }
          ],
          "parcoords": [
           {
            "line": {
             "colorbar": {
              "outlinewidth": 0,
              "ticks": ""
             }
            },
            "type": "parcoords"
           }
          ],
          "pie": [
           {
            "automargin": true,
            "type": "pie"
           }
          ],
          "scatter": [
           {
            "fillpattern": {
             "fillmode": "overlay",
             "size": 10,
             "solidity": 0.2
            },
            "type": "scatter"
           }
          ],
          "scatter3d": [
           {
            "line": {
             "colorbar": {
              "outlinewidth": 0,
              "ticks": ""
             }
            },
            "marker": {
             "colorbar": {
              "outlinewidth": 0,
              "ticks": ""
             }
            },
            "type": "scatter3d"
           }
          ],
          "scattercarpet": [
           {
            "marker": {
             "colorbar": {
              "outlinewidth": 0,
              "ticks": ""
             }
            },
            "type": "scattercarpet"
           }
          ],
          "scattergeo": [
           {
            "marker": {
             "colorbar": {
              "outlinewidth": 0,
              "ticks": ""
             }
            },
            "type": "scattergeo"
           }
          ],
          "scattergl": [
           {
            "marker": {
             "colorbar": {
              "outlinewidth": 0,
              "ticks": ""
             }
            },
            "type": "scattergl"
           }
          ],
          "scattermapbox": [
           {
            "marker": {
             "colorbar": {
              "outlinewidth": 0,
              "ticks": ""
             }
            },
            "type": "scattermapbox"
           }
          ],
          "scatterpolar": [
           {
            "marker": {
             "colorbar": {
              "outlinewidth": 0,
              "ticks": ""
             }
            },
            "type": "scatterpolar"
           }
          ],
          "scatterpolargl": [
           {
            "marker": {
             "colorbar": {
              "outlinewidth": 0,
              "ticks": ""
             }
            },
            "type": "scatterpolargl"
           }
          ],
          "scatterternary": [
           {
            "marker": {
             "colorbar": {
              "outlinewidth": 0,
              "ticks": ""
             }
            },
            "type": "scatterternary"
           }
          ],
          "surface": [
           {
            "colorbar": {
             "outlinewidth": 0,
             "ticks": ""
            },
            "colorscale": [
             [
              0,
              "#0d0887"
             ],
             [
              0.1111111111111111,
              "#46039f"
             ],
             [
              0.2222222222222222,
              "#7201a8"
             ],
             [
              0.3333333333333333,
              "#9c179e"
             ],
             [
              0.4444444444444444,
              "#bd3786"
             ],
             [
              0.5555555555555556,
              "#d8576b"
             ],
             [
              0.6666666666666666,
              "#ed7953"
             ],
             [
              0.7777777777777778,
              "#fb9f3a"
             ],
             [
              0.8888888888888888,
              "#fdca26"
             ],
             [
              1,
              "#f0f921"
             ]
            ],
            "type": "surface"
           }
          ],
          "table": [
           {
            "cells": {
             "fill": {
              "color": "#EBF0F8"
             },
             "line": {
              "color": "white"
             }
            },
            "header": {
             "fill": {
              "color": "#C8D4E3"
             },
             "line": {
              "color": "white"
             }
            },
            "type": "table"
           }
          ]
         },
         "layout": {
          "annotationdefaults": {
           "arrowcolor": "#2a3f5f",
           "arrowhead": 0,
           "arrowwidth": 1
          },
          "autotypenumbers": "strict",
          "coloraxis": {
           "colorbar": {
            "outlinewidth": 0,
            "ticks": ""
           }
          },
          "colorscale": {
           "diverging": [
            [
             0,
             "#8e0152"
            ],
            [
             0.1,
             "#c51b7d"
            ],
            [
             0.2,
             "#de77ae"
            ],
            [
             0.3,
             "#f1b6da"
            ],
            [
             0.4,
             "#fde0ef"
            ],
            [
             0.5,
             "#f7f7f7"
            ],
            [
             0.6,
             "#e6f5d0"
            ],
            [
             0.7,
             "#b8e186"
            ],
            [
             0.8,
             "#7fbc41"
            ],
            [
             0.9,
             "#4d9221"
            ],
            [
             1,
             "#276419"
            ]
           ],
           "sequential": [
            [
             0,
             "#0d0887"
            ],
            [
             0.1111111111111111,
             "#46039f"
            ],
            [
             0.2222222222222222,
             "#7201a8"
            ],
            [
             0.3333333333333333,
             "#9c179e"
            ],
            [
             0.4444444444444444,
             "#bd3786"
            ],
            [
             0.5555555555555556,
             "#d8576b"
            ],
            [
             0.6666666666666666,
             "#ed7953"
            ],
            [
             0.7777777777777778,
             "#fb9f3a"
            ],
            [
             0.8888888888888888,
             "#fdca26"
            ],
            [
             1,
             "#f0f921"
            ]
           ],
           "sequentialminus": [
            [
             0,
             "#0d0887"
            ],
            [
             0.1111111111111111,
             "#46039f"
            ],
            [
             0.2222222222222222,
             "#7201a8"
            ],
            [
             0.3333333333333333,
             "#9c179e"
            ],
            [
             0.4444444444444444,
             "#bd3786"
            ],
            [
             0.5555555555555556,
             "#d8576b"
            ],
            [
             0.6666666666666666,
             "#ed7953"
            ],
            [
             0.7777777777777778,
             "#fb9f3a"
            ],
            [
             0.8888888888888888,
             "#fdca26"
            ],
            [
             1,
             "#f0f921"
            ]
           ]
          },
          "colorway": [
           "#636efa",
           "#EF553B",
           "#00cc96",
           "#ab63fa",
           "#FFA15A",
           "#19d3f3",
           "#FF6692",
           "#B6E880",
           "#FF97FF",
           "#FECB52"
          ],
          "font": {
           "color": "#2a3f5f"
          },
          "geo": {
           "bgcolor": "white",
           "lakecolor": "white",
           "landcolor": "#E5ECF6",
           "showlakes": true,
           "showland": true,
           "subunitcolor": "white"
          },
          "hoverlabel": {
           "align": "left"
          },
          "hovermode": "closest",
          "mapbox": {
           "style": "light"
          },
          "paper_bgcolor": "white",
          "plot_bgcolor": "#E5ECF6",
          "polar": {
           "angularaxis": {
            "gridcolor": "white",
            "linecolor": "white",
            "ticks": ""
           },
           "bgcolor": "#E5ECF6",
           "radialaxis": {
            "gridcolor": "white",
            "linecolor": "white",
            "ticks": ""
           }
          },
          "scene": {
           "xaxis": {
            "backgroundcolor": "#E5ECF6",
            "gridcolor": "white",
            "gridwidth": 2,
            "linecolor": "white",
            "showbackground": true,
            "ticks": "",
            "zerolinecolor": "white"
           },
           "yaxis": {
            "backgroundcolor": "#E5ECF6",
            "gridcolor": "white",
            "gridwidth": 2,
            "linecolor": "white",
            "showbackground": true,
            "ticks": "",
            "zerolinecolor": "white"
           },
           "zaxis": {
            "backgroundcolor": "#E5ECF6",
            "gridcolor": "white",
            "gridwidth": 2,
            "linecolor": "white",
            "showbackground": true,
            "ticks": "",
            "zerolinecolor": "white"
           }
          },
          "shapedefaults": {
           "line": {
            "color": "#2a3f5f"
           }
          },
          "ternary": {
           "aaxis": {
            "gridcolor": "white",
            "linecolor": "white",
            "ticks": ""
           },
           "baxis": {
            "gridcolor": "white",
            "linecolor": "white",
            "ticks": ""
           },
           "bgcolor": "#E5ECF6",
           "caxis": {
            "gridcolor": "white",
            "linecolor": "white",
            "ticks": ""
           }
          },
          "title": {
           "x": 0.05
          },
          "xaxis": {
           "automargin": true,
           "gridcolor": "white",
           "linecolor": "white",
           "ticks": "",
           "title": {
            "standoff": 15
           },
           "zerolinecolor": "white",
           "zerolinewidth": 2
          },
          "yaxis": {
           "automargin": true,
           "gridcolor": "white",
           "linecolor": "white",
           "ticks": "",
           "title": {
            "standoff": 15
           },
           "zerolinecolor": "white",
           "zerolinewidth": 2
          }
         }
        },
        "title": {
         "text": "Distribution of games_injured"
        },
        "xaxis": {
         "anchor": "y",
         "domain": [
          0,
          1
         ],
         "title": {
          "text": "games_injured"
         }
        },
        "yaxis": {
         "anchor": "x",
         "domain": [
          0,
          1
         ],
         "title": {
          "text": "count"
         }
        }
       }
      }
     },
     "metadata": {},
     "output_type": "display_data"
    },
    {
     "data": {
      "application/vnd.plotly.v1+json": {
       "config": {
        "plotlyServerURL": "https://plot.ly"
       },
       "data": [
        {
         "alignmentgroup": "True",
         "bingroup": "x",
         "hovertemplate": "award=%{x}<br>count=%{y}<extra></extra>",
         "legendgroup": "",
         "marker": {
          "color": "lightskyblue",
          "pattern": {
           "shape": ""
          }
         },
         "name": "",
         "offsetgroup": "",
         "orientation": "v",
         "showlegend": false,
         "type": "histogram",
         "x": [
          13,
          1,
          4,
          16,
          4,
          2,
          0,
          0,
          8,
          7,
          1,
          0,
          6,
          0,
          1,
          0,
          1,
          9,
          0,
          0,
          0,
          2,
          5,
          3,
          2,
          26,
          2,
          1,
          0,
          6,
          6,
          0,
          0,
          5,
          1,
          7,
          0,
          1,
          0,
          6,
          0,
          7,
          5,
          6,
          0,
          5,
          0,
          0,
          20,
          6,
          9,
          2,
          2,
          5,
          9,
          0,
          0,
          5,
          5,
          0,
          1,
          1,
          0,
          2,
          3,
          4,
          0,
          3,
          2,
          5,
          0,
          0,
          1,
          4,
          2,
          3,
          1,
          0,
          2,
          0,
          2,
          1,
          1,
          1,
          1,
          0,
          3,
          2,
          0,
          0,
          0,
          0,
          2,
          4,
          3,
          0,
          5,
          2,
          3,
          0,
          1,
          1,
          2,
          0,
          0,
          0,
          17,
          1,
          2,
          0,
          3,
          2,
          3,
          1,
          0,
          2,
          4,
          7,
          1,
          4,
          1,
          36,
          11,
          20,
          1,
          7,
          4,
          6,
          1,
          0,
          0,
          2,
          0,
          0,
          9,
          1,
          1,
          22,
          3,
          0,
          0,
          0,
          1,
          1,
          0,
          2,
          2,
          13,
          0,
          1,
          0,
          1,
          0,
          4,
          0,
          0,
          4,
          6,
          5,
          0,
          1,
          2,
          0,
          6,
          8,
          0,
          0,
          1,
          2,
          3,
          1,
          1,
          2,
          11,
          0,
          12,
          1,
          18,
          7,
          19,
          4,
          4,
          8,
          3,
          1,
          1,
          4,
          0,
          1,
          14,
          0,
          1,
          0,
          0,
          2,
          2,
          2,
          0,
          0,
          1,
          0,
          0,
          1,
          0,
          0,
          3,
          2,
          1,
          2,
          2,
          0,
          3,
          0,
          0,
          1,
          2,
          0,
          0,
          5,
          0,
          2,
          3,
          0,
          1,
          6,
          1,
          3,
          0,
          0,
          0,
          2,
          7,
          0,
          2,
          1,
          0,
          0,
          4,
          2,
          1,
          1,
          8,
          8,
          7,
          3,
          6,
          0,
          2,
          10,
          7,
          10,
          5,
          0,
          0,
          0,
          8,
          3,
          0,
          0,
          0,
          0,
          5,
          6,
          0,
          0,
          0,
          0,
          0,
          1,
          7,
          1,
          0,
          1,
          1,
          0,
          2,
          1,
          0,
          0,
          2,
          1,
          0,
          0,
          0,
          1,
          1,
          0,
          0,
          1,
          0,
          0,
          0,
          6,
          0,
          0,
          0,
          4,
          0,
          0,
          0,
          0,
          0,
          2,
          0,
          0,
          1,
          2,
          0,
          0,
          0,
          0,
          0,
          5,
          2,
          0,
          0,
          6,
          10,
          5,
          0,
          3,
          0,
          0,
          2,
          1,
          3,
          2,
          0,
          2,
          4,
          4,
          2,
          0,
          2,
          5,
          2,
          2,
          1,
          0,
          9,
          1,
          0,
          0,
          1,
          2,
          0,
          0,
          4,
          0,
          1,
          0,
          1,
          0,
          3,
          0,
          0,
          0,
          2,
          0,
          0,
          5,
          3,
          2,
          0,
          3,
          2,
          0,
          0,
          2,
          0,
          1,
          3,
          0,
          2,
          3,
          3,
          6,
          11,
          2,
          5,
          1,
          8,
          5,
          2,
          2,
          2,
          1,
          1,
          0,
          0,
          0,
          2,
          0,
          0,
          0,
          0,
          0,
          3,
          1,
          0,
          0,
          6,
          1,
          0,
          0,
          0,
          0,
          0,
          0,
          5,
          1,
          0,
          0,
          0,
          6,
          0,
          0,
          0,
          2,
          0,
          0,
          6,
          1,
          0,
          0,
          0,
          0,
          2,
          0,
          0,
          0,
          0,
          0,
          0,
          4,
          2,
          0,
          0,
          7,
          1,
          0,
          1,
          0,
          0,
          16,
          6,
          4,
          6,
          5,
          1,
          1,
          8,
          0,
          3,
          0,
          2,
          0,
          2,
          0,
          6,
          1,
          0,
          4,
          1,
          1,
          3,
          1,
          0,
          2,
          7,
          3,
          0,
          1,
          0,
          1,
          2,
          0,
          0,
          0,
          1,
          0,
          0,
          0,
          0,
          2,
          0,
          1,
          0,
          0,
          0,
          0,
          1,
          0,
          0,
          0,
          0,
          0,
          2,
          0,
          10,
          5,
          1,
          10,
          0,
          3,
          4,
          2,
          1,
          1,
          1,
          0,
          9,
          3,
          3,
          2,
          0,
          4,
          9,
          0,
          8,
          0,
          2,
          9,
          1,
          0,
          1,
          0,
          0,
          0,
          0,
          0,
          2,
          0,
          0,
          0,
          3,
          5,
          4,
          0,
          6,
          2,
          0,
          4,
          8,
          2,
          0,
          0,
          10,
          5,
          3,
          0,
          9,
          1,
          2,
          3,
          1,
          0,
          1,
          0,
          0,
          0,
          1,
          6,
          1,
          2,
          4,
          2,
          1,
          1,
          0,
          0,
          0,
          0,
          1,
          0,
          2,
          0,
          0,
          0,
          0,
          0,
          0,
          0,
          0,
          0,
          2,
          1,
          1,
          1,
          1,
          0,
          3,
          1,
          1,
          25,
          3,
          0,
          0,
          7,
          11,
          5,
          1,
          0,
          0,
          1,
          2,
          1,
          1,
          2,
          0,
          2,
          1,
          1,
          0,
          2,
          0,
          1,
          0,
          0,
          0,
          1,
          2,
          0,
          2,
          1,
          0,
          0,
          0,
          1,
          1,
          0,
          0,
          0,
          0,
          9,
          1,
          0,
          0,
          2,
          3,
          0,
          8,
          2,
          6,
          0,
          0,
          1,
          1,
          7,
          0,
          1,
          0,
          1,
          0,
          4,
          1,
          3,
          1,
          1,
          1,
          3,
          1,
          7,
          0,
          1,
          0,
          5,
          4,
          4,
          2,
          3,
          2,
          4,
          8,
          3,
          3,
          1,
          5,
          1,
          1,
          1,
          2,
          0,
          0,
          1,
          1,
          1,
          0,
          0,
          0,
          1,
          0,
          1,
          0,
          0,
          10,
          0,
          0,
          0,
          1,
          1,
          0,
          0,
          2,
          1,
          0,
          1,
          1,
          0,
          3,
          0,
          0,
          0,
          0,
          0,
          2,
          0,
          1,
          0,
          3,
          0,
          3,
          4,
          0,
          0,
          0,
          0,
          5,
          0,
          1,
          2,
          1,
          18,
          2,
          2,
          1,
          3,
          2,
          2,
          3,
          0,
          0,
          2,
          0,
          1,
          0,
          5,
          0,
          0,
          0,
          2,
          0,
          0,
          1,
          0,
          1,
          0,
          4,
          0,
          0,
          1,
          0,
          0,
          2,
          11,
          0,
          1,
          3,
          1,
          0,
          0,
          4,
          0,
          0,
          3,
          2,
          3,
          19,
          1,
          1,
          0,
          0,
          2,
          4,
          0,
          0,
          7,
          0,
          2,
          1,
          3,
          0,
          0,
          0,
          0,
          0,
          0,
          2,
          6,
          0,
          5,
          3,
          0,
          3,
          1,
          0,
          4,
          4,
          1,
          0,
          3,
          1,
          0,
          0,
          0,
          2,
          1,
          0,
          2,
          0,
          2,
          2,
          2,
          0,
          0,
          0,
          1,
          0,
          1,
          0,
          0,
          0,
          0,
          5,
          0,
          1,
          1,
          0,
          4,
          1,
          0,
          2,
          0,
          0,
          0,
          0,
          0,
          2,
          0,
          0,
          0,
          0,
          0,
          8,
          1,
          0,
          0,
          1,
          1,
          6,
          2,
          1,
          2,
          0,
          0,
          1,
          4,
          2,
          0,
          2,
          5,
          2,
          2,
          1,
          4,
          1,
          7,
          0,
          0,
          0,
          2,
          11,
          2,
          0,
          0,
          0,
          0,
          1,
          1,
          0,
          2,
          0,
          0,
          0,
          0,
          0,
          0,
          0,
          0,
          1,
          0,
          0,
          0,
          0,
          0,
          0,
          0,
          0,
          0,
          0,
          1,
          0,
          2,
          1,
          0,
          0,
          0,
          0,
          0,
          0,
          0,
          0,
          1,
          1,
          1,
          0,
          0,
          0,
          3,
          0,
          0,
          2,
          0,
          17,
          0,
          0,
          10,
          1,
          9,
          0,
          0,
          0,
          4,
          2,
          2,
          10,
          6,
          0,
          1,
          3,
          2,
          3,
          1,
          4,
          0,
          0,
          0,
          3,
          0,
          2,
          0,
          0,
          1,
          1,
          0,
          0,
          10,
          2,
          1,
          0,
          1,
          1,
          0,
          0,
          0,
          0,
          0,
          1,
          0,
          0,
          0,
          4,
          0,
          0,
          2,
          1,
          0,
          0,
          2,
          0,
          2,
          0,
          3,
          0,
          4,
          2,
          0,
          6,
          7,
          1,
          0,
          0,
          1,
          1,
          1,
          1,
          0,
          0,
          0,
          7,
          0,
          2,
          1,
          1,
          5,
          11,
          4,
          1,
          0,
          1,
          5,
          0,
          0,
          4,
          0,
          3,
          2,
          2,
          4,
          0,
          0,
          0,
          0,
          0,
          0,
          0,
          0,
          0,
          1,
          1,
          0,
          7,
          0,
          0,
          0,
          0,
          0,
          0,
          1,
          11,
          0,
          0,
          0,
          0,
          1,
          0,
          0,
          0,
          0,
          4,
          1,
          0,
          0,
          1,
          0,
          0,
          0,
          0,
          4,
          0,
          1,
          0,
          6,
          5,
          1,
          1,
          0,
          1,
          2,
          19,
          3,
          0,
          7,
          7,
          1,
          0,
          7,
          3,
          1,
          0,
          0,
          1,
          0,
          1,
          0,
          0,
          0,
          0,
          0,
          2,
          0,
          0,
          0,
          1,
          0,
          1,
          0,
          0,
          1,
          1,
          1,
          0,
          1,
          1,
          1,
          0,
          0,
          2,
          2,
          4,
          0,
          2,
          1,
          0,
          1,
          1,
          0,
          2,
          1,
          0,
          4,
          0,
          0,
          0,
          6,
          6,
          1,
          1,
          0,
          1,
          0,
          2,
          0,
          0,
          0,
          0,
          0,
          1,
          0,
          0,
          0,
          0,
          0,
          0,
          3,
          0,
          0,
          0,
          0,
          0,
          0,
          0,
          0,
          0,
          0,
          0,
          0,
          0,
          0,
          0,
          1,
          1,
          2,
          0,
          0,
          1,
          0,
          0,
          1,
          4,
          1,
          2,
          0,
          0,
          1,
          1,
          0,
          5,
          16,
          12,
          15,
          0,
          0,
          8,
          0,
          2,
          4,
          1,
          1,
          1,
          0,
          0,
          0,
          0,
          9,
          0,
          2,
          1,
          0,
          0,
          0,
          0,
          0,
          5,
          1,
          3,
          1,
          2,
          2,
          0,
          6,
          4,
          0,
          0,
          0,
          0,
          0,
          2,
          1
         ],
         "xaxis": "x",
         "yaxis": "y"
        }
       ],
       "layout": {
        "bargap": 0.2,
        "barmode": "relative",
        "legend": {
         "tracegroupgap": 0
        },
        "template": {
         "data": {
          "bar": [
           {
            "error_x": {
             "color": "#2a3f5f"
            },
            "error_y": {
             "color": "#2a3f5f"
            },
            "marker": {
             "line": {
              "color": "#E5ECF6",
              "width": 0.5
             },
             "pattern": {
              "fillmode": "overlay",
              "size": 10,
              "solidity": 0.2
             }
            },
            "type": "bar"
           }
          ],
          "barpolar": [
           {
            "marker": {
             "line": {
              "color": "#E5ECF6",
              "width": 0.5
             },
             "pattern": {
              "fillmode": "overlay",
              "size": 10,
              "solidity": 0.2
             }
            },
            "type": "barpolar"
           }
          ],
          "carpet": [
           {
            "aaxis": {
             "endlinecolor": "#2a3f5f",
             "gridcolor": "white",
             "linecolor": "white",
             "minorgridcolor": "white",
             "startlinecolor": "#2a3f5f"
            },
            "baxis": {
             "endlinecolor": "#2a3f5f",
             "gridcolor": "white",
             "linecolor": "white",
             "minorgridcolor": "white",
             "startlinecolor": "#2a3f5f"
            },
            "type": "carpet"
           }
          ],
          "choropleth": [
           {
            "colorbar": {
             "outlinewidth": 0,
             "ticks": ""
            },
            "type": "choropleth"
           }
          ],
          "contour": [
           {
            "colorbar": {
             "outlinewidth": 0,
             "ticks": ""
            },
            "colorscale": [
             [
              0,
              "#0d0887"
             ],
             [
              0.1111111111111111,
              "#46039f"
             ],
             [
              0.2222222222222222,
              "#7201a8"
             ],
             [
              0.3333333333333333,
              "#9c179e"
             ],
             [
              0.4444444444444444,
              "#bd3786"
             ],
             [
              0.5555555555555556,
              "#d8576b"
             ],
             [
              0.6666666666666666,
              "#ed7953"
             ],
             [
              0.7777777777777778,
              "#fb9f3a"
             ],
             [
              0.8888888888888888,
              "#fdca26"
             ],
             [
              1,
              "#f0f921"
             ]
            ],
            "type": "contour"
           }
          ],
          "contourcarpet": [
           {
            "colorbar": {
             "outlinewidth": 0,
             "ticks": ""
            },
            "type": "contourcarpet"
           }
          ],
          "heatmap": [
           {
            "colorbar": {
             "outlinewidth": 0,
             "ticks": ""
            },
            "colorscale": [
             [
              0,
              "#0d0887"
             ],
             [
              0.1111111111111111,
              "#46039f"
             ],
             [
              0.2222222222222222,
              "#7201a8"
             ],
             [
              0.3333333333333333,
              "#9c179e"
             ],
             [
              0.4444444444444444,
              "#bd3786"
             ],
             [
              0.5555555555555556,
              "#d8576b"
             ],
             [
              0.6666666666666666,
              "#ed7953"
             ],
             [
              0.7777777777777778,
              "#fb9f3a"
             ],
             [
              0.8888888888888888,
              "#fdca26"
             ],
             [
              1,
              "#f0f921"
             ]
            ],
            "type": "heatmap"
           }
          ],
          "heatmapgl": [
           {
            "colorbar": {
             "outlinewidth": 0,
             "ticks": ""
            },
            "colorscale": [
             [
              0,
              "#0d0887"
             ],
             [
              0.1111111111111111,
              "#46039f"
             ],
             [
              0.2222222222222222,
              "#7201a8"
             ],
             [
              0.3333333333333333,
              "#9c179e"
             ],
             [
              0.4444444444444444,
              "#bd3786"
             ],
             [
              0.5555555555555556,
              "#d8576b"
             ],
             [
              0.6666666666666666,
              "#ed7953"
             ],
             [
              0.7777777777777778,
              "#fb9f3a"
             ],
             [
              0.8888888888888888,
              "#fdca26"
             ],
             [
              1,
              "#f0f921"
             ]
            ],
            "type": "heatmapgl"
           }
          ],
          "histogram": [
           {
            "marker": {
             "pattern": {
              "fillmode": "overlay",
              "size": 10,
              "solidity": 0.2
             }
            },
            "type": "histogram"
           }
          ],
          "histogram2d": [
           {
            "colorbar": {
             "outlinewidth": 0,
             "ticks": ""
            },
            "colorscale": [
             [
              0,
              "#0d0887"
             ],
             [
              0.1111111111111111,
              "#46039f"
             ],
             [
              0.2222222222222222,
              "#7201a8"
             ],
             [
              0.3333333333333333,
              "#9c179e"
             ],
             [
              0.4444444444444444,
              "#bd3786"
             ],
             [
              0.5555555555555556,
              "#d8576b"
             ],
             [
              0.6666666666666666,
              "#ed7953"
             ],
             [
              0.7777777777777778,
              "#fb9f3a"
             ],
             [
              0.8888888888888888,
              "#fdca26"
             ],
             [
              1,
              "#f0f921"
             ]
            ],
            "type": "histogram2d"
           }
          ],
          "histogram2dcontour": [
           {
            "colorbar": {
             "outlinewidth": 0,
             "ticks": ""
            },
            "colorscale": [
             [
              0,
              "#0d0887"
             ],
             [
              0.1111111111111111,
              "#46039f"
             ],
             [
              0.2222222222222222,
              "#7201a8"
             ],
             [
              0.3333333333333333,
              "#9c179e"
             ],
             [
              0.4444444444444444,
              "#bd3786"
             ],
             [
              0.5555555555555556,
              "#d8576b"
             ],
             [
              0.6666666666666666,
              "#ed7953"
             ],
             [
              0.7777777777777778,
              "#fb9f3a"
             ],
             [
              0.8888888888888888,
              "#fdca26"
             ],
             [
              1,
              "#f0f921"
             ]
            ],
            "type": "histogram2dcontour"
           }
          ],
          "mesh3d": [
           {
            "colorbar": {
             "outlinewidth": 0,
             "ticks": ""
            },
            "type": "mesh3d"
           }
          ],
          "parcoords": [
           {
            "line": {
             "colorbar": {
              "outlinewidth": 0,
              "ticks": ""
             }
            },
            "type": "parcoords"
           }
          ],
          "pie": [
           {
            "automargin": true,
            "type": "pie"
           }
          ],
          "scatter": [
           {
            "fillpattern": {
             "fillmode": "overlay",
             "size": 10,
             "solidity": 0.2
            },
            "type": "scatter"
           }
          ],
          "scatter3d": [
           {
            "line": {
             "colorbar": {
              "outlinewidth": 0,
              "ticks": ""
             }
            },
            "marker": {
             "colorbar": {
              "outlinewidth": 0,
              "ticks": ""
             }
            },
            "type": "scatter3d"
           }
          ],
          "scattercarpet": [
           {
            "marker": {
             "colorbar": {
              "outlinewidth": 0,
              "ticks": ""
             }
            },
            "type": "scattercarpet"
           }
          ],
          "scattergeo": [
           {
            "marker": {
             "colorbar": {
              "outlinewidth": 0,
              "ticks": ""
             }
            },
            "type": "scattergeo"
           }
          ],
          "scattergl": [
           {
            "marker": {
             "colorbar": {
              "outlinewidth": 0,
              "ticks": ""
             }
            },
            "type": "scattergl"
           }
          ],
          "scattermapbox": [
           {
            "marker": {
             "colorbar": {
              "outlinewidth": 0,
              "ticks": ""
             }
            },
            "type": "scattermapbox"
           }
          ],
          "scatterpolar": [
           {
            "marker": {
             "colorbar": {
              "outlinewidth": 0,
              "ticks": ""
             }
            },
            "type": "scatterpolar"
           }
          ],
          "scatterpolargl": [
           {
            "marker": {
             "colorbar": {
              "outlinewidth": 0,
              "ticks": ""
             }
            },
            "type": "scatterpolargl"
           }
          ],
          "scatterternary": [
           {
            "marker": {
             "colorbar": {
              "outlinewidth": 0,
              "ticks": ""
             }
            },
            "type": "scatterternary"
           }
          ],
          "surface": [
           {
            "colorbar": {
             "outlinewidth": 0,
             "ticks": ""
            },
            "colorscale": [
             [
              0,
              "#0d0887"
             ],
             [
              0.1111111111111111,
              "#46039f"
             ],
             [
              0.2222222222222222,
              "#7201a8"
             ],
             [
              0.3333333333333333,
              "#9c179e"
             ],
             [
              0.4444444444444444,
              "#bd3786"
             ],
             [
              0.5555555555555556,
              "#d8576b"
             ],
             [
              0.6666666666666666,
              "#ed7953"
             ],
             [
              0.7777777777777778,
              "#fb9f3a"
             ],
             [
              0.8888888888888888,
              "#fdca26"
             ],
             [
              1,
              "#f0f921"
             ]
            ],
            "type": "surface"
           }
          ],
          "table": [
           {
            "cells": {
             "fill": {
              "color": "#EBF0F8"
             },
             "line": {
              "color": "white"
             }
            },
            "header": {
             "fill": {
              "color": "#C8D4E3"
             },
             "line": {
              "color": "white"
             }
            },
            "type": "table"
           }
          ]
         },
         "layout": {
          "annotationdefaults": {
           "arrowcolor": "#2a3f5f",
           "arrowhead": 0,
           "arrowwidth": 1
          },
          "autotypenumbers": "strict",
          "coloraxis": {
           "colorbar": {
            "outlinewidth": 0,
            "ticks": ""
           }
          },
          "colorscale": {
           "diverging": [
            [
             0,
             "#8e0152"
            ],
            [
             0.1,
             "#c51b7d"
            ],
            [
             0.2,
             "#de77ae"
            ],
            [
             0.3,
             "#f1b6da"
            ],
            [
             0.4,
             "#fde0ef"
            ],
            [
             0.5,
             "#f7f7f7"
            ],
            [
             0.6,
             "#e6f5d0"
            ],
            [
             0.7,
             "#b8e186"
            ],
            [
             0.8,
             "#7fbc41"
            ],
            [
             0.9,
             "#4d9221"
            ],
            [
             1,
             "#276419"
            ]
           ],
           "sequential": [
            [
             0,
             "#0d0887"
            ],
            [
             0.1111111111111111,
             "#46039f"
            ],
            [
             0.2222222222222222,
             "#7201a8"
            ],
            [
             0.3333333333333333,
             "#9c179e"
            ],
            [
             0.4444444444444444,
             "#bd3786"
            ],
            [
             0.5555555555555556,
             "#d8576b"
            ],
            [
             0.6666666666666666,
             "#ed7953"
            ],
            [
             0.7777777777777778,
             "#fb9f3a"
            ],
            [
             0.8888888888888888,
             "#fdca26"
            ],
            [
             1,
             "#f0f921"
            ]
           ],
           "sequentialminus": [
            [
             0,
             "#0d0887"
            ],
            [
             0.1111111111111111,
             "#46039f"
            ],
            [
             0.2222222222222222,
             "#7201a8"
            ],
            [
             0.3333333333333333,
             "#9c179e"
            ],
            [
             0.4444444444444444,
             "#bd3786"
            ],
            [
             0.5555555555555556,
             "#d8576b"
            ],
            [
             0.6666666666666666,
             "#ed7953"
            ],
            [
             0.7777777777777778,
             "#fb9f3a"
            ],
            [
             0.8888888888888888,
             "#fdca26"
            ],
            [
             1,
             "#f0f921"
            ]
           ]
          },
          "colorway": [
           "#636efa",
           "#EF553B",
           "#00cc96",
           "#ab63fa",
           "#FFA15A",
           "#19d3f3",
           "#FF6692",
           "#B6E880",
           "#FF97FF",
           "#FECB52"
          ],
          "font": {
           "color": "#2a3f5f"
          },
          "geo": {
           "bgcolor": "white",
           "lakecolor": "white",
           "landcolor": "#E5ECF6",
           "showlakes": true,
           "showland": true,
           "subunitcolor": "white"
          },
          "hoverlabel": {
           "align": "left"
          },
          "hovermode": "closest",
          "mapbox": {
           "style": "light"
          },
          "paper_bgcolor": "white",
          "plot_bgcolor": "#E5ECF6",
          "polar": {
           "angularaxis": {
            "gridcolor": "white",
            "linecolor": "white",
            "ticks": ""
           },
           "bgcolor": "#E5ECF6",
           "radialaxis": {
            "gridcolor": "white",
            "linecolor": "white",
            "ticks": ""
           }
          },
          "scene": {
           "xaxis": {
            "backgroundcolor": "#E5ECF6",
            "gridcolor": "white",
            "gridwidth": 2,
            "linecolor": "white",
            "showbackground": true,
            "ticks": "",
            "zerolinecolor": "white"
           },
           "yaxis": {
            "backgroundcolor": "#E5ECF6",
            "gridcolor": "white",
            "gridwidth": 2,
            "linecolor": "white",
            "showbackground": true,
            "ticks": "",
            "zerolinecolor": "white"
           },
           "zaxis": {
            "backgroundcolor": "#E5ECF6",
            "gridcolor": "white",
            "gridwidth": 2,
            "linecolor": "white",
            "showbackground": true,
            "ticks": "",
            "zerolinecolor": "white"
           }
          },
          "shapedefaults": {
           "line": {
            "color": "#2a3f5f"
           }
          },
          "ternary": {
           "aaxis": {
            "gridcolor": "white",
            "linecolor": "white",
            "ticks": ""
           },
           "baxis": {
            "gridcolor": "white",
            "linecolor": "white",
            "ticks": ""
           },
           "bgcolor": "#E5ECF6",
           "caxis": {
            "gridcolor": "white",
            "linecolor": "white",
            "ticks": ""
           }
          },
          "title": {
           "x": 0.05
          },
          "xaxis": {
           "automargin": true,
           "gridcolor": "white",
           "linecolor": "white",
           "ticks": "",
           "title": {
            "standoff": 15
           },
           "zerolinecolor": "white",
           "zerolinewidth": 2
          },
          "yaxis": {
           "automargin": true,
           "gridcolor": "white",
           "linecolor": "white",
           "ticks": "",
           "title": {
            "standoff": 15
           },
           "zerolinecolor": "white",
           "zerolinewidth": 2
          }
         }
        },
        "title": {
         "text": "Distribution of award"
        },
        "xaxis": {
         "anchor": "y",
         "domain": [
          0,
          1
         ],
         "title": {
          "text": "award"
         }
        },
        "yaxis": {
         "anchor": "x",
         "domain": [
          0,
          1
         ],
         "title": {
          "text": "count"
         }
        }
       }
      }
     },
     "metadata": {},
     "output_type": "display_data"
    },
    {
     "data": {
      "application/vnd.plotly.v1+json": {
       "config": {
        "plotlyServerURL": "https://plot.ly"
       },
       "data": [
        {
         "alignmentgroup": "True",
         "bingroup": "x",
         "hovertemplate": "current_value=%{x}<br>count=%{y}<extra></extra>",
         "legendgroup": "",
         "marker": {
          "color": "lightskyblue",
          "pattern": {
           "shape": ""
          }
         },
         "name": "",
         "offsetgroup": "",
         "orientation": "v",
         "showlegend": false,
         "type": "histogram",
         "x": [
          15000000,
          1500000,
          600000,
          8000000,
          1000000,
          8000000,
          2000000,
          600000,
          28000000,
          2000000,
          600000,
          400000,
          18000000,
          1800000,
          200000,
          18000000,
          2000000,
          200000,
          32000000,
          1000000,
          200000,
          25000000,
          1000000,
          200000,
          22000000,
          5000000,
          500000,
          22000000,
          2000000,
          1200000,
          4000000,
          1500000,
          250000,
          10000000,
          3500000,
          2500000,
          2000000,
          500000,
          25000000,
          4000000,
          500000,
          45000000,
          8000000,
          1000000,
          18000000,
          2500000,
          1500000,
          300000,
          45000000,
          6000000,
          250000,
          38000000,
          5000000,
          4000000,
          1500000,
          500000,
          300000,
          18000000,
          15000000,
          8000000,
          2000000,
          7000000,
          500000,
          400000,
          8000000,
          400000,
          200000,
          100000,
          4500000,
          300000,
          300000,
          250000,
          3500000,
          1000000,
          250000,
          1200000,
          1000000,
          300000,
          150000,
          1500000,
          1500000,
          200000,
          0,
          5000000,
          1000000,
          200000,
          5000000,
          1500000,
          100000,
          25000,
          4500000,
          400000,
          300000,
          900000,
          400000,
          225000,
          50000,
          1200000,
          500000,
          400000,
          100000,
          3000000,
          500000,
          300000,
          200000,
          150000,
          8500000,
          750000,
          200000,
          200000,
          7000000,
          3500000,
          500000,
          35000000,
          1500000,
          1000000,
          650000,
          2500000,
          1500000,
          1500000,
          250000,
          7000000,
          5000000,
          900000,
          300000,
          6000000,
          2000000,
          600000,
          200000,
          200000,
          0,
          25000000,
          300000,
          1500000,
          700000,
          15000000,
          1500000,
          1000000,
          25000000,
          5000000,
          100000,
          25000000,
          1000000,
          500000,
          200000,
          12000000,
          4000000,
          2000000,
          2000000,
          8000000,
          3000000,
          3000000,
          300000,
          300000,
          4000000,
          600000,
          300000,
          10000000,
          1500000,
          300000,
          2000000,
          300000,
          200000,
          1000000,
          1000000,
          8000000,
          700000,
          3000000,
          800000,
          2500000,
          2500000,
          400000,
          8000000,
          300000,
          300000,
          35000000,
          3500000,
          45000000,
          5000000,
          35000000,
          4000000,
          2000000,
          5000000,
          1800000,
          150000,
          12000000,
          8000000,
          150000,
          2000000,
          600000,
          300000,
          1500000,
          500000,
          100000,
          3500000,
          600000,
          300000,
          25000,
          5000000,
          300000,
          50000,
          3000000,
          500000,
          450000,
          200000,
          7000000,
          4000000,
          500000,
          100000,
          16000000,
          700000,
          200000,
          200000,
          5000000,
          200000,
          200000,
          75000,
          4500000,
          500000,
          100000,
          50000,
          4000000,
          200000,
          50000,
          6000000,
          300000,
          100000,
          13000000,
          250000,
          200000,
          100000,
          1200000,
          1000000,
          300000,
          14000000,
          1500000,
          100000,
          18000000,
          5000000,
          150000,
          50000,
          20000000,
          1000000,
          300000,
          35000000,
          600000,
          350000,
          300000,
          13000000,
          4000000,
          300000,
          10000000,
          1200000,
          200000,
          4000000,
          1500000,
          300000,
          200000,
          14000000,
          4000000,
          400000,
          2500000,
          2000000,
          150000,
          10000000,
          4000000,
          300000,
          200000,
          20000000,
          800000,
          200000,
          4000000,
          1500000,
          800000,
          300000,
          3500000,
          600000,
          300000,
          150000,
          2000000,
          400000,
          150000,
          2000000,
          1000000,
          250000,
          4000000,
          500000,
          200000,
          3000000,
          2500000,
          100000,
          100000,
          3500000,
          600000,
          150000,
          100000,
          1500000,
          600000,
          150000,
          600000,
          300000,
          200000,
          9000000,
          400000,
          200000,
          10000000,
          1500000,
          400000,
          5000000,
          700000,
          150000,
          100000,
          8000000,
          200000,
          100000,
          100000,
          50000000,
          4000000,
          400000,
          150000,
          4000000,
          650000,
          500000,
          300000,
          2500000,
          300000,
          75000,
          25000,
          2000000,
          600000,
          350000,
          300000,
          25000,
          800000,
          500000,
          25000,
          1500000,
          600000,
          50000,
          3000000,
          600000,
          75000,
          25000,
          2000000,
          225000,
          200000,
          100000,
          700000,
          350000,
          25000,
          850000,
          275000,
          125000,
          1000000,
          175000,
          50000,
          800000,
          300000,
          100000,
          25000,
          600000,
          500000,
          50000,
          25000,
          650000,
          300000,
          225000,
          50000,
          3000000,
          800000,
          200000,
          200000,
          5000000,
          450000,
          50000,
          10000000,
          250000,
          100000,
          12000000,
          3000000,
          300000,
          100000,
          13000000,
          1000000,
          500000,
          100000,
          7000000,
          1000000,
          300000,
          200000,
          4500000,
          1500000,
          100000,
          7000000,
          200000,
          100000,
          100000,
          3000000,
          1800000,
          200000,
          550000,
          200000,
          100000,
          1500000,
          1000000,
          300000,
          100000,
          1500000,
          700000,
          400000,
          3500000,
          2500000,
          1200000,
          100000,
          1200000,
          400000,
          100000,
          100000,
          350000,
          350000,
          200000,
          600000,
          400000,
          200000,
          2000000,
          150000,
          100000,
          250000,
          200000,
          100000,
          2000000,
          600000,
          150000,
          100000,
          2500000,
          250000,
          100000,
          700000,
          400000,
          350000,
          300000,
          250000,
          200000,
          150000,
          3000000,
          400000,
          300000,
          2500000,
          2000000,
          450000,
          2500000,
          1000000,
          1000000,
          6000000,
          2000000,
          800000,
          4000000,
          300000,
          0,
          4000000,
          500000,
          0,
          500000,
          200000,
          200000,
          100000,
          1500000,
          400000,
          200000,
          200000,
          100000,
          100000,
          600000,
          100000,
          100000,
          700000,
          700000,
          250000,
          100000,
          200000,
          100000,
          100000,
          300000,
          200000,
          125000,
          700000,
          200000,
          100000,
          800000,
          300000,
          100000,
          800000,
          100000,
          200000,
          200000,
          100000,
          2000000,
          1500000,
          200000,
          45000000,
          1500000,
          1500000,
          1500000,
          1000000,
          100000,
          16000000,
          2000000,
          2000000,
          5000000,
          500000,
          200000,
          1200000,
          500000,
          800000,
          400000,
          250000,
          1500000,
          800000,
          400000,
          300000,
          300000,
          1000000,
          800000,
          400000,
          500000,
          300000,
          50000,
          500000,
          200000,
          100000,
          800000,
          800000,
          200000,
          100000,
          3500000,
          400000,
          3000000,
          600000,
          200000,
          2000000,
          400000,
          100000,
          800000,
          800000,
          2200000,
          600000,
          100000,
          1000000,
          200000,
          1200000,
          400000,
          800000,
          800000,
          600000,
          1000000,
          200000,
          100000,
          600000,
          600000,
          250000,
          2500000,
          3000000,
          300000,
          200000,
          700000,
          300000,
          1500000,
          600000,
          150000,
          900000,
          300000,
          300000,
          500000,
          400000,
          50000,
          2000000,
          200000,
          100000,
          600000,
          400000,
          700000,
          600000,
          600000,
          200000,
          400000,
          700000,
          500000,
          300000,
          100000,
          800000,
          400000,
          3000000,
          1800000,
          100000,
          2000000,
          500000,
          16000000,
          1000000,
          900000,
          500000,
          400000,
          1500000,
          900000,
          250000,
          7000000,
          250000,
          1000000,
          1000000,
          400000,
          500000,
          6000000,
          250000,
          2000000,
          500000,
          200000,
          150000,
          1200000,
          250000,
          100000,
          500000,
          300000,
          900000,
          400000,
          600000,
          250000,
          200000,
          150000,
          800000,
          250000,
          500000,
          250000,
          100000,
          1200000,
          150000,
          1200000,
          900000,
          250000,
          250000,
          3000000,
          300000,
          200000,
          300000,
          150000,
          3500000,
          300000,
          150000,
          900000,
          300000,
          1500000,
          400000,
          200000,
          1000000,
          400000,
          300000,
          12000000,
          1000000,
          250000,
          2500000,
          2000000,
          200000,
          700000,
          500000,
          2200000,
          900000,
          150000,
          2500000,
          600000,
          150000,
          12000000,
          200000,
          75000,
          50000,
          5000000,
          1300000,
          150000,
          50000,
          1200000,
          350000,
          50000,
          50000,
          1300000,
          325000,
          300000,
          750000,
          125000,
          50000,
          1500000,
          75000,
          25000,
          50000,
          2000000,
          450000,
          100000,
          50000,
          50000,
          1200000,
          300000,
          50000,
          50000,
          1600000,
          200000,
          100000,
          75000,
          325000,
          100000,
          75000,
          50000,
          1700000,
          75000,
          50000,
          50000,
          450000,
          50000,
          50000,
          25000,
          400000,
          75000,
          50000,
          25000,
          400000,
          50000,
          50000,
          800000,
          100000,
          50000,
          1200000,
          600000,
          25000,
          50000,
          11000000,
          1900000,
          150000,
          1600000,
          850000,
          225000,
          2000000,
          400000,
          250000,
          250000,
          1000000,
          500000,
          100000,
          75000,
          300000,
          350000,
          150000,
          400000,
          200000,
          25000,
          600000,
          200000,
          250000,
          25000,
          400000,
          200000,
          100000,
          25000,
          300000,
          300000,
          50000,
          25000,
          1800000,
          350000,
          100000,
          1200000,
          200000,
          75000,
          700000,
          150000,
          75000,
          25000,
          350000,
          300000,
          125000,
          4500000,
          325000,
          300000,
          100000,
          2500000,
          150000,
          50000,
          500000,
          275000,
          150000,
          25000,
          1200000,
          300000,
          25000,
          2000000,
          175000,
          150000,
          800000,
          700000,
          200000,
          3500000,
          150000,
          125000,
          800000,
          500000,
          150000,
          600000,
          150000,
          150000,
          500000,
          150000,
          100000,
          600000,
          150000,
          125000,
          75000,
          1500000,
          400000,
          75000,
          25000,
          500000,
          250000,
          200000,
          1500000,
          650000,
          175000,
          1000000,
          500000,
          400000,
          100000,
          1500000,
          350000,
          200000,
          800000,
          600000,
          150000,
          25000,
          1500000,
          175000,
          150000,
          100000,
          200000,
          150000,
          50000,
          1500000,
          200000,
          50000,
          400000,
          200000,
          125000,
          300000,
          175000,
          75000,
          450000,
          150000,
          50000,
          2000000,
          900000,
          100000,
          400000,
          400000,
          50000,
          50000,
          200000,
          150000,
          100000,
          300000,
          200000,
          100000,
          800000,
          150000,
          50000,
          3000000,
          350000,
          225000,
          200000,
          1500000,
          150000,
          150000,
          1500000,
          325000,
          2200000,
          2000000,
          100000,
          3500000,
          400000,
          4000000,
          75000,
          700000,
          500000,
          25000,
          600000,
          250000,
          1500000,
          75000,
          1000000,
          150000,
          2000000,
          25000,
          800000,
          50000,
          500000,
          200000,
          300000,
          300000,
          1200000,
          550000,
          850000,
          500000,
          75000,
          25000,
          625000,
          100000,
          25000,
          25000,
          1500000,
          1000000,
          25000,
          1800000,
          225000,
          250000,
          150000,
          100000,
          50000,
          175000,
          75000,
          1800000,
          300000,
          750000,
          300000,
          25000,
          700000,
          650000,
          25000,
          1800000,
          25000,
          1000000,
          325000,
          300000,
          3000000,
          750000,
          50000,
          400000,
          200000,
          75000,
          4000000,
          350000,
          75000,
          2800000,
          200000,
          500000,
          225000,
          50000,
          50000,
          250000,
          200000,
          175000,
          100000,
          600000,
          300000,
          125000,
          50000,
          0,
          900000,
          350000,
          300000,
          50000,
          900000,
          200000,
          50000,
          0,
          0,
          600000,
          200000,
          50000,
          10000,
          350000,
          150000,
          50000,
          50000,
          50000,
          500000,
          125000,
          125000,
          100000,
          600000,
          150000,
          125000,
          50000,
          0,
          650000,
          200000,
          50000,
          0,
          0,
          800000,
          300000,
          75000,
          50000,
          0,
          700000,
          100000,
          75000,
          50000,
          1100000,
          100000,
          50000,
          50000,
          450000,
          225000,
          25000,
          25000,
          0,
          450000,
          125000,
          50000,
          0,
          1000000,
          350000,
          50000,
          0,
          300000,
          275000,
          250000,
          175000,
          850000,
          200000,
          100000,
          0,
          900000,
          150000,
          175000,
          75000,
          75000,
          100000,
          50000,
          0,
          0,
          3000000,
          100000,
          0,
          25000,
          1000000,
          150000,
          25000,
          600000,
          50000,
          0,
          25000,
          75000,
          700000,
          0,
          75000,
          0,
          100000,
          50000,
          25000,
          800000,
          25000,
          50000,
          25000,
          275000,
          200000,
          25000,
          50000,
          300000,
          125000,
          0,
          25000,
          450000,
          0,
          125000,
          25000,
          25000,
          200000,
          25000,
          50000,
          25000,
          500000,
          50000,
          25000,
          700000,
          50000,
          25000,
          550000,
          50000,
          75000,
          25000,
          6000000,
          3000000,
          600000,
          75000,
          25000,
          450000,
          100000,
          100000,
          75000,
          600000,
          200000,
          100000,
          75000,
          450000,
          325000,
          125000,
          75000,
          425000,
          225000,
          200000,
          50000,
          450000,
          225000,
          200000,
          50000,
          50000,
          425000,
          250000,
          75000,
          50000,
          400000,
          300000,
          100000,
          50000,
          50000,
          325000,
          275000,
          200000,
          50000,
          350000,
          250000,
          100000,
          75000,
          425000,
          200000,
          150000,
          75000,
          500000,
          200000,
          50000,
          50000,
          50000,
          1300000,
          175000,
          100000,
          100000,
          550000,
          75000,
          50000,
          425000,
          300000,
          50000,
          550000,
          550000,
          75000,
          200000,
          75000,
          25000,
          50000,
          200000,
          350000,
          175000,
          25000,
          25000,
          375000,
          150000,
          150000,
          150000,
          0,
          25000,
          750000,
          200000,
          50000,
          650000,
          125000,
          50000,
          25000,
          275000,
          50000,
          25000,
          175000,
          75000,
          50000,
          900000,
          400000,
          25000,
          25000,
          650000,
          200000,
          50000,
          25000,
          50000,
          100000,
          25000,
          25000,
          1300000,
          350000,
          50000,
          25000,
          450000,
          350000,
          75000,
          50000,
          300000,
          200000,
          50000,
          300000,
          200000,
          300000,
          150000,
          100000,
          250000,
          100000,
          0,
          500000,
          200000,
          25000,
          250000,
          150000,
          25000,
          0,
          150000,
          50000,
          700000,
          150000,
          750000,
          150000,
          25000,
          500000,
          150000,
          100000,
          450000,
          250000,
          50000,
          50000,
          500000,
          300000
         ],
         "xaxis": "x",
         "yaxis": "y"
        }
       ],
       "layout": {
        "bargap": 0.2,
        "barmode": "relative",
        "legend": {
         "tracegroupgap": 0
        },
        "template": {
         "data": {
          "bar": [
           {
            "error_x": {
             "color": "#2a3f5f"
            },
            "error_y": {
             "color": "#2a3f5f"
            },
            "marker": {
             "line": {
              "color": "#E5ECF6",
              "width": 0.5
             },
             "pattern": {
              "fillmode": "overlay",
              "size": 10,
              "solidity": 0.2
             }
            },
            "type": "bar"
           }
          ],
          "barpolar": [
           {
            "marker": {
             "line": {
              "color": "#E5ECF6",
              "width": 0.5
             },
             "pattern": {
              "fillmode": "overlay",
              "size": 10,
              "solidity": 0.2
             }
            },
            "type": "barpolar"
           }
          ],
          "carpet": [
           {
            "aaxis": {
             "endlinecolor": "#2a3f5f",
             "gridcolor": "white",
             "linecolor": "white",
             "minorgridcolor": "white",
             "startlinecolor": "#2a3f5f"
            },
            "baxis": {
             "endlinecolor": "#2a3f5f",
             "gridcolor": "white",
             "linecolor": "white",
             "minorgridcolor": "white",
             "startlinecolor": "#2a3f5f"
            },
            "type": "carpet"
           }
          ],
          "choropleth": [
           {
            "colorbar": {
             "outlinewidth": 0,
             "ticks": ""
            },
            "type": "choropleth"
           }
          ],
          "contour": [
           {
            "colorbar": {
             "outlinewidth": 0,
             "ticks": ""
            },
            "colorscale": [
             [
              0,
              "#0d0887"
             ],
             [
              0.1111111111111111,
              "#46039f"
             ],
             [
              0.2222222222222222,
              "#7201a8"
             ],
             [
              0.3333333333333333,
              "#9c179e"
             ],
             [
              0.4444444444444444,
              "#bd3786"
             ],
             [
              0.5555555555555556,
              "#d8576b"
             ],
             [
              0.6666666666666666,
              "#ed7953"
             ],
             [
              0.7777777777777778,
              "#fb9f3a"
             ],
             [
              0.8888888888888888,
              "#fdca26"
             ],
             [
              1,
              "#f0f921"
             ]
            ],
            "type": "contour"
           }
          ],
          "contourcarpet": [
           {
            "colorbar": {
             "outlinewidth": 0,
             "ticks": ""
            },
            "type": "contourcarpet"
           }
          ],
          "heatmap": [
           {
            "colorbar": {
             "outlinewidth": 0,
             "ticks": ""
            },
            "colorscale": [
             [
              0,
              "#0d0887"
             ],
             [
              0.1111111111111111,
              "#46039f"
             ],
             [
              0.2222222222222222,
              "#7201a8"
             ],
             [
              0.3333333333333333,
              "#9c179e"
             ],
             [
              0.4444444444444444,
              "#bd3786"
             ],
             [
              0.5555555555555556,
              "#d8576b"
             ],
             [
              0.6666666666666666,
              "#ed7953"
             ],
             [
              0.7777777777777778,
              "#fb9f3a"
             ],
             [
              0.8888888888888888,
              "#fdca26"
             ],
             [
              1,
              "#f0f921"
             ]
            ],
            "type": "heatmap"
           }
          ],
          "heatmapgl": [
           {
            "colorbar": {
             "outlinewidth": 0,
             "ticks": ""
            },
            "colorscale": [
             [
              0,
              "#0d0887"
             ],
             [
              0.1111111111111111,
              "#46039f"
             ],
             [
              0.2222222222222222,
              "#7201a8"
             ],
             [
              0.3333333333333333,
              "#9c179e"
             ],
             [
              0.4444444444444444,
              "#bd3786"
             ],
             [
              0.5555555555555556,
              "#d8576b"
             ],
             [
              0.6666666666666666,
              "#ed7953"
             ],
             [
              0.7777777777777778,
              "#fb9f3a"
             ],
             [
              0.8888888888888888,
              "#fdca26"
             ],
             [
              1,
              "#f0f921"
             ]
            ],
            "type": "heatmapgl"
           }
          ],
          "histogram": [
           {
            "marker": {
             "pattern": {
              "fillmode": "overlay",
              "size": 10,
              "solidity": 0.2
             }
            },
            "type": "histogram"
           }
          ],
          "histogram2d": [
           {
            "colorbar": {
             "outlinewidth": 0,
             "ticks": ""
            },
            "colorscale": [
             [
              0,
              "#0d0887"
             ],
             [
              0.1111111111111111,
              "#46039f"
             ],
             [
              0.2222222222222222,
              "#7201a8"
             ],
             [
              0.3333333333333333,
              "#9c179e"
             ],
             [
              0.4444444444444444,
              "#bd3786"
             ],
             [
              0.5555555555555556,
              "#d8576b"
             ],
             [
              0.6666666666666666,
              "#ed7953"
             ],
             [
              0.7777777777777778,
              "#fb9f3a"
             ],
             [
              0.8888888888888888,
              "#fdca26"
             ],
             [
              1,
              "#f0f921"
             ]
            ],
            "type": "histogram2d"
           }
          ],
          "histogram2dcontour": [
           {
            "colorbar": {
             "outlinewidth": 0,
             "ticks": ""
            },
            "colorscale": [
             [
              0,
              "#0d0887"
             ],
             [
              0.1111111111111111,
              "#46039f"
             ],
             [
              0.2222222222222222,
              "#7201a8"
             ],
             [
              0.3333333333333333,
              "#9c179e"
             ],
             [
              0.4444444444444444,
              "#bd3786"
             ],
             [
              0.5555555555555556,
              "#d8576b"
             ],
             [
              0.6666666666666666,
              "#ed7953"
             ],
             [
              0.7777777777777778,
              "#fb9f3a"
             ],
             [
              0.8888888888888888,
              "#fdca26"
             ],
             [
              1,
              "#f0f921"
             ]
            ],
            "type": "histogram2dcontour"
           }
          ],
          "mesh3d": [
           {
            "colorbar": {
             "outlinewidth": 0,
             "ticks": ""
            },
            "type": "mesh3d"
           }
          ],
          "parcoords": [
           {
            "line": {
             "colorbar": {
              "outlinewidth": 0,
              "ticks": ""
             }
            },
            "type": "parcoords"
           }
          ],
          "pie": [
           {
            "automargin": true,
            "type": "pie"
           }
          ],
          "scatter": [
           {
            "fillpattern": {
             "fillmode": "overlay",
             "size": 10,
             "solidity": 0.2
            },
            "type": "scatter"
           }
          ],
          "scatter3d": [
           {
            "line": {
             "colorbar": {
              "outlinewidth": 0,
              "ticks": ""
             }
            },
            "marker": {
             "colorbar": {
              "outlinewidth": 0,
              "ticks": ""
             }
            },
            "type": "scatter3d"
           }
          ],
          "scattercarpet": [
           {
            "marker": {
             "colorbar": {
              "outlinewidth": 0,
              "ticks": ""
             }
            },
            "type": "scattercarpet"
           }
          ],
          "scattergeo": [
           {
            "marker": {
             "colorbar": {
              "outlinewidth": 0,
              "ticks": ""
             }
            },
            "type": "scattergeo"
           }
          ],
          "scattergl": [
           {
            "marker": {
             "colorbar": {
              "outlinewidth": 0,
              "ticks": ""
             }
            },
            "type": "scattergl"
           }
          ],
          "scattermapbox": [
           {
            "marker": {
             "colorbar": {
              "outlinewidth": 0,
              "ticks": ""
             }
            },
            "type": "scattermapbox"
           }
          ],
          "scatterpolar": [
           {
            "marker": {
             "colorbar": {
              "outlinewidth": 0,
              "ticks": ""
             }
            },
            "type": "scatterpolar"
           }
          ],
          "scatterpolargl": [
           {
            "marker": {
             "colorbar": {
              "outlinewidth": 0,
              "ticks": ""
             }
            },
            "type": "scatterpolargl"
           }
          ],
          "scatterternary": [
           {
            "marker": {
             "colorbar": {
              "outlinewidth": 0,
              "ticks": ""
             }
            },
            "type": "scatterternary"
           }
          ],
          "surface": [
           {
            "colorbar": {
             "outlinewidth": 0,
             "ticks": ""
            },
            "colorscale": [
             [
              0,
              "#0d0887"
             ],
             [
              0.1111111111111111,
              "#46039f"
             ],
             [
              0.2222222222222222,
              "#7201a8"
             ],
             [
              0.3333333333333333,
              "#9c179e"
             ],
             [
              0.4444444444444444,
              "#bd3786"
             ],
             [
              0.5555555555555556,
              "#d8576b"
             ],
             [
              0.6666666666666666,
              "#ed7953"
             ],
             [
              0.7777777777777778,
              "#fb9f3a"
             ],
             [
              0.8888888888888888,
              "#fdca26"
             ],
             [
              1,
              "#f0f921"
             ]
            ],
            "type": "surface"
           }
          ],
          "table": [
           {
            "cells": {
             "fill": {
              "color": "#EBF0F8"
             },
             "line": {
              "color": "white"
             }
            },
            "header": {
             "fill": {
              "color": "#C8D4E3"
             },
             "line": {
              "color": "white"
             }
            },
            "type": "table"
           }
          ]
         },
         "layout": {
          "annotationdefaults": {
           "arrowcolor": "#2a3f5f",
           "arrowhead": 0,
           "arrowwidth": 1
          },
          "autotypenumbers": "strict",
          "coloraxis": {
           "colorbar": {
            "outlinewidth": 0,
            "ticks": ""
           }
          },
          "colorscale": {
           "diverging": [
            [
             0,
             "#8e0152"
            ],
            [
             0.1,
             "#c51b7d"
            ],
            [
             0.2,
             "#de77ae"
            ],
            [
             0.3,
             "#f1b6da"
            ],
            [
             0.4,
             "#fde0ef"
            ],
            [
             0.5,
             "#f7f7f7"
            ],
            [
             0.6,
             "#e6f5d0"
            ],
            [
             0.7,
             "#b8e186"
            ],
            [
             0.8,
             "#7fbc41"
            ],
            [
             0.9,
             "#4d9221"
            ],
            [
             1,
             "#276419"
            ]
           ],
           "sequential": [
            [
             0,
             "#0d0887"
            ],
            [
             0.1111111111111111,
             "#46039f"
            ],
            [
             0.2222222222222222,
             "#7201a8"
            ],
            [
             0.3333333333333333,
             "#9c179e"
            ],
            [
             0.4444444444444444,
             "#bd3786"
            ],
            [
             0.5555555555555556,
             "#d8576b"
            ],
            [
             0.6666666666666666,
             "#ed7953"
            ],
            [
             0.7777777777777778,
             "#fb9f3a"
            ],
            [
             0.8888888888888888,
             "#fdca26"
            ],
            [
             1,
             "#f0f921"
            ]
           ],
           "sequentialminus": [
            [
             0,
             "#0d0887"
            ],
            [
             0.1111111111111111,
             "#46039f"
            ],
            [
             0.2222222222222222,
             "#7201a8"
            ],
            [
             0.3333333333333333,
             "#9c179e"
            ],
            [
             0.4444444444444444,
             "#bd3786"
            ],
            [
             0.5555555555555556,
             "#d8576b"
            ],
            [
             0.6666666666666666,
             "#ed7953"
            ],
            [
             0.7777777777777778,
             "#fb9f3a"
            ],
            [
             0.8888888888888888,
             "#fdca26"
            ],
            [
             1,
             "#f0f921"
            ]
           ]
          },
          "colorway": [
           "#636efa",
           "#EF553B",
           "#00cc96",
           "#ab63fa",
           "#FFA15A",
           "#19d3f3",
           "#FF6692",
           "#B6E880",
           "#FF97FF",
           "#FECB52"
          ],
          "font": {
           "color": "#2a3f5f"
          },
          "geo": {
           "bgcolor": "white",
           "lakecolor": "white",
           "landcolor": "#E5ECF6",
           "showlakes": true,
           "showland": true,
           "subunitcolor": "white"
          },
          "hoverlabel": {
           "align": "left"
          },
          "hovermode": "closest",
          "mapbox": {
           "style": "light"
          },
          "paper_bgcolor": "white",
          "plot_bgcolor": "#E5ECF6",
          "polar": {
           "angularaxis": {
            "gridcolor": "white",
            "linecolor": "white",
            "ticks": ""
           },
           "bgcolor": "#E5ECF6",
           "radialaxis": {
            "gridcolor": "white",
            "linecolor": "white",
            "ticks": ""
           }
          },
          "scene": {
           "xaxis": {
            "backgroundcolor": "#E5ECF6",
            "gridcolor": "white",
            "gridwidth": 2,
            "linecolor": "white",
            "showbackground": true,
            "ticks": "",
            "zerolinecolor": "white"
           },
           "yaxis": {
            "backgroundcolor": "#E5ECF6",
            "gridcolor": "white",
            "gridwidth": 2,
            "linecolor": "white",
            "showbackground": true,
            "ticks": "",
            "zerolinecolor": "white"
           },
           "zaxis": {
            "backgroundcolor": "#E5ECF6",
            "gridcolor": "white",
            "gridwidth": 2,
            "linecolor": "white",
            "showbackground": true,
            "ticks": "",
            "zerolinecolor": "white"
           }
          },
          "shapedefaults": {
           "line": {
            "color": "#2a3f5f"
           }
          },
          "ternary": {
           "aaxis": {
            "gridcolor": "white",
            "linecolor": "white",
            "ticks": ""
           },
           "baxis": {
            "gridcolor": "white",
            "linecolor": "white",
            "ticks": ""
           },
           "bgcolor": "#E5ECF6",
           "caxis": {
            "gridcolor": "white",
            "linecolor": "white",
            "ticks": ""
           }
          },
          "title": {
           "x": 0.05
          },
          "xaxis": {
           "automargin": true,
           "gridcolor": "white",
           "linecolor": "white",
           "ticks": "",
           "title": {
            "standoff": 15
           },
           "zerolinecolor": "white",
           "zerolinewidth": 2
          },
          "yaxis": {
           "automargin": true,
           "gridcolor": "white",
           "linecolor": "white",
           "ticks": "",
           "title": {
            "standoff": 15
           },
           "zerolinecolor": "white",
           "zerolinewidth": 2
          }
         }
        },
        "title": {
         "text": "Distribution of current_value"
        },
        "xaxis": {
         "anchor": "y",
         "domain": [
          0,
          1
         ],
         "title": {
          "text": "current_value"
         }
        },
        "yaxis": {
         "anchor": "x",
         "domain": [
          0,
          1
         ],
         "title": {
          "text": "count"
         }
        }
       }
      }
     },
     "metadata": {},
     "output_type": "display_data"
    },
    {
     "data": {
      "application/vnd.plotly.v1+json": {
       "config": {
        "plotlyServerURL": "https://plot.ly"
       },
       "data": [
        {
         "alignmentgroup": "True",
         "bingroup": "x",
         "hovertemplate": "highest_value=%{x}<br>count=%{y}<extra></extra>",
         "legendgroup": "",
         "marker": {
          "color": "lightskyblue",
          "pattern": {
           "shape": ""
          }
         },
         "name": "",
         "offsetgroup": "",
         "orientation": "v",
         "showlegend": false,
         "type": "histogram",
         "x": [
          70000000,
          22000000,
          6000000,
          17500000,
          9000000,
          10000000,
          2000000,
          3500000,
          35000000,
          10000000,
          2000000,
          400000,
          18000000,
          4000000,
          200000,
          18000000,
          6500000,
          5000000,
          32000000,
          1500000,
          200000,
          40000000,
          13000000,
          700000,
          22000000,
          20000000,
          5500000,
          22000000,
          2000000,
          7500000,
          12000000,
          10000000,
          250000,
          35000000,
          6000000,
          18000000,
          2500000,
          4500000,
          25000000,
          25000000,
          500000,
          90000000,
          8000000,
          9000000,
          18000000,
          7500000,
          12000000,
          500000,
          70000000,
          6000000,
          6000000,
          38000000,
          5000000,
          30000000,
          15000000,
          1000000,
          300000,
          32000000,
          60000000,
          8000000,
          4000000,
          8000000,
          500000,
          3000000,
          14000000,
          800000,
          200000,
          100000,
          10000000,
          400000,
          300000,
          250000,
          3500000,
          1500000,
          800000,
          1500000,
          7000000,
          300000,
          300000,
          10000000,
          1500000,
          200000,
          0,
          5000000,
          2000000,
          200000,
          5000000,
          12000000,
          100000,
          100000,
          4500000,
          400000,
          2500000,
          9000000,
          13000000,
          250000,
          750000,
          1200000,
          900000,
          2000000,
          100000,
          12000000,
          800000,
          300000,
          300000,
          150000,
          12000000,
          750000,
          750000,
          250000,
          7000000,
          3500000,
          600000,
          35000000,
          1500000,
          1000000,
          1500000,
          12000000,
          2500000,
          10500000,
          400000,
          45000000,
          13000000,
          6000000,
          300000,
          13000000,
          2000000,
          3000000,
          200000,
          200000,
          0,
          25000000,
          300000,
          1500000,
          22000000,
          15000000,
          5000000,
          15000000,
          30000000,
          5000000,
          100000,
          25000000,
          7500000,
          4000000,
          300000,
          18000000,
          12000000,
          9000000,
          2500000,
          8000000,
          10000000,
          4000000,
          1000000,
          300000,
          4000000,
          600000,
          16000000,
          10000000,
          2000000,
          300000,
          2000000,
          2500000,
          250000,
          12000000,
          6000000,
          10000000,
          800000,
          4000000,
          1500000,
          18000000,
          4000000,
          400000,
          18000000,
          7500000,
          400000,
          100000000,
          7000000,
          75000000,
          8500000,
          90000000,
          4200000,
          2000000,
          20000000,
          2500000,
          150000,
          12000000,
          12000000,
          200000,
          2000000,
          21500000,
          700000,
          8000000,
          750000,
          2000000,
          4500000,
          7000000,
          300000,
          25000,
          10000000,
          2000000,
          50000,
          7000000,
          9000000,
          500000,
          200000,
          7000000,
          20000000,
          500000,
          2500000,
          16000000,
          1300000,
          3500000,
          200000,
          5000000,
          300000,
          500000,
          75000,
          16000000,
          12500000,
          100000,
          13000000,
          4500000,
          300000,
          200000,
          15000000,
          500000,
          500000,
          13000000,
          250000,
          275000,
          100000,
          8000000,
          6000000,
          800000,
          20000000,
          10000000,
          175000,
          40000000,
          17000000,
          150000,
          100000,
          45000000,
          24000000,
          1000000,
          35000000,
          5000000,
          400000,
          6000000,
          40000000,
          18000000,
          1000000,
          16000000,
          5000000,
          200000,
          4000000,
          17000000,
          2200000,
          200000,
          24000000,
          10000000,
          400000,
          12000000,
          2000000,
          150000,
          10000000,
          5000000,
          1300000,
          200000,
          20000000,
          1200000,
          1500000,
          17000000,
          1500000,
          2500000,
          300000,
          4500000,
          3000000,
          3500000,
          150000,
          2000000,
          400000,
          150000,
          2500000,
          1100000,
          1000000,
          7000000,
          500000,
          200000,
          10000000,
          2500000,
          100000,
          100000,
          15000000,
          1200000,
          200000,
          150000,
          1500000,
          1800000,
          150000,
          1250000,
          300000,
          200000,
          25000000,
          4000000,
          250000,
          10000000,
          8000000,
          1200000,
          5000000,
          700000,
          2800000,
          100000,
          8000000,
          3000000,
          150000,
          100000,
          65000000,
          20000000,
          1500000,
          150000,
          10000000,
          650000,
          500000,
          300000,
          3500000,
          5000000,
          100000,
          25000,
          2800000,
          2000000,
          350000,
          600000,
          25000,
          1500000,
          600000,
          25000,
          1500000,
          750000,
          50000,
          20000000,
          900000,
          75000,
          25000,
          2000000,
          225000,
          250000,
          100000,
          1000000,
          3000000,
          25000,
          850000,
          300000,
          175000,
          1000000,
          175000,
          50000,
          800000,
          1000000,
          150000,
          25000,
          850000,
          750000,
          50000,
          25000,
          650000,
          3000000,
          550000,
          50000,
          5000000,
          900000,
          250000,
          200000,
          5000000,
          800000,
          75000,
          14000000,
          1250000,
          11000000,
          14000000,
          4500000,
          300000,
          3000000,
          13000000,
          1300000,
          500000,
          100000,
          7000000,
          1000000,
          300000,
          200000,
          5500000,
          1500000,
          100000,
          7000000,
          800000,
          100000,
          100000,
          4000000,
          2500000,
          200000,
          550000,
          3500000,
          100000,
          1500000,
          1000000,
          300000,
          100000,
          2000000,
          1000000,
          3000000,
          6000000,
          7000000,
          1200000,
          100000,
          2800000,
          600000,
          100000,
          100000,
          900000,
          600000,
          1250000,
          4000000,
          400000,
          250000,
          2000000,
          600000,
          100000,
          1500000,
          1000000,
          100000,
          2000000,
          3000000,
          150000,
          100000,
          3500000,
          250000,
          100000,
          2000000,
          1250000,
          750000,
          300000,
          1000000,
          200000,
          150000,
          6000000,
          400000,
          3250000,
          3500000,
          4000000,
          450000,
          2500000,
          5000000,
          1000000,
          6000000,
          2000000,
          4000000,
          4000000,
          1500000,
          0,
          8000000,
          500000,
          0,
          1000000,
          300000,
          500000,
          2000000,
          1500000,
          650000,
          200000,
          900000,
          2900000,
          100000,
          1500000,
          100000,
          100000,
          1500000,
          2000000,
          250000,
          100000,
          200000,
          100000,
          1000000,
          300000,
          200000,
          2500000,
          700000,
          300000,
          350000,
          800000,
          700000,
          100000,
          1000000,
          100000,
          400000,
          275000,
          100000,
          2000000,
          5000000,
          200000,
          45000000,
          2000000,
          1500000,
          8000000,
          1000000,
          100000,
          18000000,
          2000000,
          2000000,
          5000000,
          1500000,
          200000,
          2800000,
          1500000,
          2000000,
          1800000,
          300000,
          2000000,
          3000000,
          400000,
          4000000,
          500000,
          2500000,
          2500000,
          500000,
          900000,
          400000,
          50000,
          1000000,
          200000,
          100000,
          2000000,
          1800000,
          300000,
          400000,
          3500000,
          800000,
          10000000,
          600000,
          200000,
          2500000,
          1000000,
          100000,
          800000,
          2500000,
          4000000,
          1500000,
          100000,
          3000000,
          200000,
          1200000,
          450000,
          2500000,
          3500000,
          700000,
          7000000,
          200000,
          100000,
          6500000,
          800000,
          300000,
          2500000,
          3000000,
          8000000,
          250000,
          1500000,
          1500000,
          2000000,
          600000,
          900000,
          1000000,
          3500000,
          1200000,
          850000,
          400000,
          50000,
          2000000,
          350000,
          100000,
          800000,
          400000,
          700000,
          600000,
          1200000,
          600000,
          800000,
          2250000,
          1500000,
          600000,
          800000,
          800000,
          400000,
          5800000,
          13000000,
          250000,
          20000000,
          500000,
          16000000,
          1000000,
          1200000,
          2000000,
          700000,
          1500000,
          900000,
          2000000,
          7000000,
          250000,
          4500000,
          1000000,
          600000,
          800000,
          10000000,
          500000,
          2000000,
          500000,
          1000000,
          150000,
          1500000,
          500000,
          100000,
          8000000,
          5000000,
          900000,
          450000,
          750000,
          2000000,
          250000,
          150000,
          1000000,
          400000,
          800000,
          500000,
          100000,
          1200000,
          150000,
          18000000,
          900000,
          300000,
          250000,
          3000000,
          400000,
          200000,
          1000000,
          200000,
          10000000,
          300000,
          400000,
          900000,
          500000,
          2000000,
          600000,
          300000,
          1000000,
          400000,
          300000,
          12000000,
          1500000,
          250000,
          3000000,
          3500000,
          750000,
          700000,
          750000,
          3000000,
          1000000,
          150000,
          10000000,
          9000000,
          500000,
          19000000,
          300000,
          125000,
          75000,
          10000000,
          5000000,
          175000,
          800000,
          1200000,
          8000000,
          50000,
          50000,
          7000000,
          600000,
          650000,
          750000,
          1000000,
          100000,
          4500000,
          100000,
          50000,
          75000,
          2800000,
          450000,
          2800000,
          50000,
          50000,
          1500000,
          750000,
          50000,
          50000,
          3200000,
          300000,
          100000,
          75000,
          800000,
          1500000,
          75000,
          175000,
          1700000,
          75000,
          5000000,
          50000,
          800000,
          800000,
          50000,
          25000,
          2500000,
          200000,
          50000,
          50000,
          550000,
          50000,
          300000,
          800000,
          12000000,
          75000,
          3500000,
          600000,
          1800000,
          50000,
          16000000,
          3500000,
          150000,
          18000000,
          1300000,
          225000,
          2000000,
          1500000,
          250000,
          250000,
          4500000,
          500000,
          175000,
          1000000,
          400000,
          500000,
          200000,
          400000,
          300000,
          25000,
          700000,
          4000000,
          250000,
          25000,
          400000,
          350000,
          200000,
          25000,
          400000,
          400000,
          50000,
          25000,
          1800000,
          500000,
          150000,
          1200000,
          300000,
          200000,
          700000,
          600000,
          75000,
          25000,
          400000,
          450000,
          125000,
          4500000,
          325000,
          300000,
          1500000,
          3000000,
          850000,
          50000,
          500000,
          275000,
          450000,
          25000,
          1500000,
          500000,
          25000,
          3000000,
          175000,
          150000,
          800000,
          700000,
          300000,
          3500000,
          150000,
          200000,
          1300000,
          1500000,
          150000,
          600000,
          300000,
          150000,
          500000,
          600000,
          100000,
          4500000,
          700000,
          125000,
          75000,
          1800000,
          800000,
          75000,
          25000,
          500000,
          1000000,
          250000,
          1600000,
          2000000,
          175000,
          1000000,
          500000,
          400000,
          100000,
          1500000,
          350000,
          800000,
          800000,
          2500000,
          150000,
          25000,
          1500000,
          175000,
          600000,
          100000,
          900000,
          500000,
          50000,
          14000000,
          200000,
          50000,
          400000,
          200000,
          175000,
          675000,
          200000,
          75000,
          550000,
          150000,
          50000,
          4000000,
          1000000,
          100000,
          1000000,
          400000,
          50000,
          50000,
          500000,
          600000,
          5000000,
          300000,
          200000,
          275000,
          800000,
          200000,
          50000,
          3000000,
          350000,
          225000,
          1500000,
          1800000,
          300000,
          150000,
          2000000,
          1100000,
          2200000,
          3000000,
          100000,
          3500000,
          500000,
          4000000,
          1300000,
          4500000,
          750000,
          25000,
          1000000,
          250000,
          1500000,
          850000,
          1000000,
          1300000,
          2000000,
          25000,
          800000,
          75000,
          500000,
          800000,
          300000,
          2800000,
          1200000,
          750000,
          850000,
          500000,
          600000,
          25000,
          3000000,
          150000,
          300000,
          25000,
          1500000,
          1500000,
          25000,
          1800000,
          250000,
          250000,
          150000,
          100000,
          125000,
          250000,
          75000,
          3000000,
          1500000,
          750000,
          450000,
          25000,
          1500000,
          650000,
          25000,
          1800000,
          25000,
          1000000,
          350000,
          300000,
          7500000,
          750000,
          100000,
          7000000,
          200000,
          900000,
          4000000,
          400000,
          75000,
          5000000,
          200000,
          700000,
          1650000,
          400000,
          50000,
          600000,
          300000,
          175000,
          750000,
          1200000,
          1250000,
          500000,
          50000,
          0,
          2500000,
          550000,
          500000,
          50000,
          900000,
          200000,
          400000,
          0,
          0,
          2500000,
          200000,
          200000,
          50000,
          350000,
          600000,
          50000,
          50000,
          50000,
          500000,
          300000,
          1000000,
          100000,
          600000,
          150000,
          125000,
          50000,
          0,
          750000,
          200000,
          50000,
          0,
          400000,
          800000,
          400000,
          75000,
          175000,
          0,
          1400000,
          500000,
          200000,
          1200000,
          1100000,
          200000,
          50000,
          50000,
          450000,
          350000,
          50000,
          25000,
          0,
          650000,
          125000,
          1000000,
          25000,
          1000000,
          350000,
          100000,
          1000000,
          2000000,
          300000,
          350000,
          200000,
          850000,
          1450000,
          100000,
          0,
          1250000,
          550000,
          850000,
          550000,
          250000,
          4500000,
          250000,
          0,
          25000,
          3000000,
          100000,
          75000,
          25000,
          1600000,
          150000,
          150000,
          875000,
          75000,
          0,
          25000,
          75000,
          700000,
          50000,
          75000,
          0,
          450000,
          2000000,
          600000,
          800000,
          250000,
          175000,
          475000,
          1750000,
          200000,
          25000,
          50000,
          2500000,
          400000,
          25000,
          25000,
          5000000,
          25000,
          125000,
          25000,
          25000,
          500000,
          175000,
          75000,
          150000,
          5000000,
          725000,
          25000,
          1000000,
          50000,
          575000,
          2800000,
          750000,
          450000,
          25000,
          7000000,
          8000000,
          600000,
          175000,
          775000,
          500000,
          150000,
          100000,
          75000,
          600000,
          400000,
          250000,
          75000,
          450000,
          450000,
          125000,
          75000,
          800000,
          350000,
          300000,
          50000,
          750000,
          250000,
          600000,
          50000,
          50000,
          425000,
          275000,
          75000,
          50000,
          650000,
          450000,
          200000,
          50000,
          50000,
          600000,
          450000,
          600000,
          50000,
          550000,
          300000,
          150000,
          75000,
          425000,
          200000,
          300000,
          75000,
          500000,
          200000,
          50000,
          50000,
          50000,
          1650000,
          300000,
          100000,
          100000,
          550000,
          500000,
          50000,
          425000,
          400000,
          50000,
          550000,
          550000,
          450000,
          450000,
          175000,
          25000,
          50000,
          750000,
          350000,
          175000,
          275000,
          25000,
          375000,
          150000,
          150000,
          150000,
          0,
          75000,
          750000,
          200000,
          175000,
          650000,
          200000,
          125000,
          25000,
          275000,
          375000,
          50000,
          1200000,
          200000,
          50000,
          1000000,
          400000,
          50000,
          300000,
          650000,
          550000,
          150000,
          25000,
          50000,
          100000,
          25000,
          150000,
          1500000,
          1000000,
          400000,
          550000,
          450000,
          350000,
          1250000,
          50000,
          500000,
          250000,
          50000,
          500000,
          250000,
          700000,
          150000,
          200000,
          250000,
          2000000,
          150000,
          800000,
          250000,
          25000,
          250000,
          150000,
          25000,
          0,
          1200000,
          50000,
          700000,
          150000,
          800000,
          150000,
          25000,
          800000,
          200000,
          100000,
          450000,
          350000,
          50000,
          50000,
          1000000,
          400000
         ],
         "xaxis": "x",
         "yaxis": "y"
        }
       ],
       "layout": {
        "bargap": 0.2,
        "barmode": "relative",
        "legend": {
         "tracegroupgap": 0
        },
        "template": {
         "data": {
          "bar": [
           {
            "error_x": {
             "color": "#2a3f5f"
            },
            "error_y": {
             "color": "#2a3f5f"
            },
            "marker": {
             "line": {
              "color": "#E5ECF6",
              "width": 0.5
             },
             "pattern": {
              "fillmode": "overlay",
              "size": 10,
              "solidity": 0.2
             }
            },
            "type": "bar"
           }
          ],
          "barpolar": [
           {
            "marker": {
             "line": {
              "color": "#E5ECF6",
              "width": 0.5
             },
             "pattern": {
              "fillmode": "overlay",
              "size": 10,
              "solidity": 0.2
             }
            },
            "type": "barpolar"
           }
          ],
          "carpet": [
           {
            "aaxis": {
             "endlinecolor": "#2a3f5f",
             "gridcolor": "white",
             "linecolor": "white",
             "minorgridcolor": "white",
             "startlinecolor": "#2a3f5f"
            },
            "baxis": {
             "endlinecolor": "#2a3f5f",
             "gridcolor": "white",
             "linecolor": "white",
             "minorgridcolor": "white",
             "startlinecolor": "#2a3f5f"
            },
            "type": "carpet"
           }
          ],
          "choropleth": [
           {
            "colorbar": {
             "outlinewidth": 0,
             "ticks": ""
            },
            "type": "choropleth"
           }
          ],
          "contour": [
           {
            "colorbar": {
             "outlinewidth": 0,
             "ticks": ""
            },
            "colorscale": [
             [
              0,
              "#0d0887"
             ],
             [
              0.1111111111111111,
              "#46039f"
             ],
             [
              0.2222222222222222,
              "#7201a8"
             ],
             [
              0.3333333333333333,
              "#9c179e"
             ],
             [
              0.4444444444444444,
              "#bd3786"
             ],
             [
              0.5555555555555556,
              "#d8576b"
             ],
             [
              0.6666666666666666,
              "#ed7953"
             ],
             [
              0.7777777777777778,
              "#fb9f3a"
             ],
             [
              0.8888888888888888,
              "#fdca26"
             ],
             [
              1,
              "#f0f921"
             ]
            ],
            "type": "contour"
           }
          ],
          "contourcarpet": [
           {
            "colorbar": {
             "outlinewidth": 0,
             "ticks": ""
            },
            "type": "contourcarpet"
           }
          ],
          "heatmap": [
           {
            "colorbar": {
             "outlinewidth": 0,
             "ticks": ""
            },
            "colorscale": [
             [
              0,
              "#0d0887"
             ],
             [
              0.1111111111111111,
              "#46039f"
             ],
             [
              0.2222222222222222,
              "#7201a8"
             ],
             [
              0.3333333333333333,
              "#9c179e"
             ],
             [
              0.4444444444444444,
              "#bd3786"
             ],
             [
              0.5555555555555556,
              "#d8576b"
             ],
             [
              0.6666666666666666,
              "#ed7953"
             ],
             [
              0.7777777777777778,
              "#fb9f3a"
             ],
             [
              0.8888888888888888,
              "#fdca26"
             ],
             [
              1,
              "#f0f921"
             ]
            ],
            "type": "heatmap"
           }
          ],
          "heatmapgl": [
           {
            "colorbar": {
             "outlinewidth": 0,
             "ticks": ""
            },
            "colorscale": [
             [
              0,
              "#0d0887"
             ],
             [
              0.1111111111111111,
              "#46039f"
             ],
             [
              0.2222222222222222,
              "#7201a8"
             ],
             [
              0.3333333333333333,
              "#9c179e"
             ],
             [
              0.4444444444444444,
              "#bd3786"
             ],
             [
              0.5555555555555556,
              "#d8576b"
             ],
             [
              0.6666666666666666,
              "#ed7953"
             ],
             [
              0.7777777777777778,
              "#fb9f3a"
             ],
             [
              0.8888888888888888,
              "#fdca26"
             ],
             [
              1,
              "#f0f921"
             ]
            ],
            "type": "heatmapgl"
           }
          ],
          "histogram": [
           {
            "marker": {
             "pattern": {
              "fillmode": "overlay",
              "size": 10,
              "solidity": 0.2
             }
            },
            "type": "histogram"
           }
          ],
          "histogram2d": [
           {
            "colorbar": {
             "outlinewidth": 0,
             "ticks": ""
            },
            "colorscale": [
             [
              0,
              "#0d0887"
             ],
             [
              0.1111111111111111,
              "#46039f"
             ],
             [
              0.2222222222222222,
              "#7201a8"
             ],
             [
              0.3333333333333333,
              "#9c179e"
             ],
             [
              0.4444444444444444,
              "#bd3786"
             ],
             [
              0.5555555555555556,
              "#d8576b"
             ],
             [
              0.6666666666666666,
              "#ed7953"
             ],
             [
              0.7777777777777778,
              "#fb9f3a"
             ],
             [
              0.8888888888888888,
              "#fdca26"
             ],
             [
              1,
              "#f0f921"
             ]
            ],
            "type": "histogram2d"
           }
          ],
          "histogram2dcontour": [
           {
            "colorbar": {
             "outlinewidth": 0,
             "ticks": ""
            },
            "colorscale": [
             [
              0,
              "#0d0887"
             ],
             [
              0.1111111111111111,
              "#46039f"
             ],
             [
              0.2222222222222222,
              "#7201a8"
             ],
             [
              0.3333333333333333,
              "#9c179e"
             ],
             [
              0.4444444444444444,
              "#bd3786"
             ],
             [
              0.5555555555555556,
              "#d8576b"
             ],
             [
              0.6666666666666666,
              "#ed7953"
             ],
             [
              0.7777777777777778,
              "#fb9f3a"
             ],
             [
              0.8888888888888888,
              "#fdca26"
             ],
             [
              1,
              "#f0f921"
             ]
            ],
            "type": "histogram2dcontour"
           }
          ],
          "mesh3d": [
           {
            "colorbar": {
             "outlinewidth": 0,
             "ticks": ""
            },
            "type": "mesh3d"
           }
          ],
          "parcoords": [
           {
            "line": {
             "colorbar": {
              "outlinewidth": 0,
              "ticks": ""
             }
            },
            "type": "parcoords"
           }
          ],
          "pie": [
           {
            "automargin": true,
            "type": "pie"
           }
          ],
          "scatter": [
           {
            "fillpattern": {
             "fillmode": "overlay",
             "size": 10,
             "solidity": 0.2
            },
            "type": "scatter"
           }
          ],
          "scatter3d": [
           {
            "line": {
             "colorbar": {
              "outlinewidth": 0,
              "ticks": ""
             }
            },
            "marker": {
             "colorbar": {
              "outlinewidth": 0,
              "ticks": ""
             }
            },
            "type": "scatter3d"
           }
          ],
          "scattercarpet": [
           {
            "marker": {
             "colorbar": {
              "outlinewidth": 0,
              "ticks": ""
             }
            },
            "type": "scattercarpet"
           }
          ],
          "scattergeo": [
           {
            "marker": {
             "colorbar": {
              "outlinewidth": 0,
              "ticks": ""
             }
            },
            "type": "scattergeo"
           }
          ],
          "scattergl": [
           {
            "marker": {
             "colorbar": {
              "outlinewidth": 0,
              "ticks": ""
             }
            },
            "type": "scattergl"
           }
          ],
          "scattermapbox": [
           {
            "marker": {
             "colorbar": {
              "outlinewidth": 0,
              "ticks": ""
             }
            },
            "type": "scattermapbox"
           }
          ],
          "scatterpolar": [
           {
            "marker": {
             "colorbar": {
              "outlinewidth": 0,
              "ticks": ""
             }
            },
            "type": "scatterpolar"
           }
          ],
          "scatterpolargl": [
           {
            "marker": {
             "colorbar": {
              "outlinewidth": 0,
              "ticks": ""
             }
            },
            "type": "scatterpolargl"
           }
          ],
          "scatterternary": [
           {
            "marker": {
             "colorbar": {
              "outlinewidth": 0,
              "ticks": ""
             }
            },
            "type": "scatterternary"
           }
          ],
          "surface": [
           {
            "colorbar": {
             "outlinewidth": 0,
             "ticks": ""
            },
            "colorscale": [
             [
              0,
              "#0d0887"
             ],
             [
              0.1111111111111111,
              "#46039f"
             ],
             [
              0.2222222222222222,
              "#7201a8"
             ],
             [
              0.3333333333333333,
              "#9c179e"
             ],
             [
              0.4444444444444444,
              "#bd3786"
             ],
             [
              0.5555555555555556,
              "#d8576b"
             ],
             [
              0.6666666666666666,
              "#ed7953"
             ],
             [
              0.7777777777777778,
              "#fb9f3a"
             ],
             [
              0.8888888888888888,
              "#fdca26"
             ],
             [
              1,
              "#f0f921"
             ]
            ],
            "type": "surface"
           }
          ],
          "table": [
           {
            "cells": {
             "fill": {
              "color": "#EBF0F8"
             },
             "line": {
              "color": "white"
             }
            },
            "header": {
             "fill": {
              "color": "#C8D4E3"
             },
             "line": {
              "color": "white"
             }
            },
            "type": "table"
           }
          ]
         },
         "layout": {
          "annotationdefaults": {
           "arrowcolor": "#2a3f5f",
           "arrowhead": 0,
           "arrowwidth": 1
          },
          "autotypenumbers": "strict",
          "coloraxis": {
           "colorbar": {
            "outlinewidth": 0,
            "ticks": ""
           }
          },
          "colorscale": {
           "diverging": [
            [
             0,
             "#8e0152"
            ],
            [
             0.1,
             "#c51b7d"
            ],
            [
             0.2,
             "#de77ae"
            ],
            [
             0.3,
             "#f1b6da"
            ],
            [
             0.4,
             "#fde0ef"
            ],
            [
             0.5,
             "#f7f7f7"
            ],
            [
             0.6,
             "#e6f5d0"
            ],
            [
             0.7,
             "#b8e186"
            ],
            [
             0.8,
             "#7fbc41"
            ],
            [
             0.9,
             "#4d9221"
            ],
            [
             1,
             "#276419"
            ]
           ],
           "sequential": [
            [
             0,
             "#0d0887"
            ],
            [
             0.1111111111111111,
             "#46039f"
            ],
            [
             0.2222222222222222,
             "#7201a8"
            ],
            [
             0.3333333333333333,
             "#9c179e"
            ],
            [
             0.4444444444444444,
             "#bd3786"
            ],
            [
             0.5555555555555556,
             "#d8576b"
            ],
            [
             0.6666666666666666,
             "#ed7953"
            ],
            [
             0.7777777777777778,
             "#fb9f3a"
            ],
            [
             0.8888888888888888,
             "#fdca26"
            ],
            [
             1,
             "#f0f921"
            ]
           ],
           "sequentialminus": [
            [
             0,
             "#0d0887"
            ],
            [
             0.1111111111111111,
             "#46039f"
            ],
            [
             0.2222222222222222,
             "#7201a8"
            ],
            [
             0.3333333333333333,
             "#9c179e"
            ],
            [
             0.4444444444444444,
             "#bd3786"
            ],
            [
             0.5555555555555556,
             "#d8576b"
            ],
            [
             0.6666666666666666,
             "#ed7953"
            ],
            [
             0.7777777777777778,
             "#fb9f3a"
            ],
            [
             0.8888888888888888,
             "#fdca26"
            ],
            [
             1,
             "#f0f921"
            ]
           ]
          },
          "colorway": [
           "#636efa",
           "#EF553B",
           "#00cc96",
           "#ab63fa",
           "#FFA15A",
           "#19d3f3",
           "#FF6692",
           "#B6E880",
           "#FF97FF",
           "#FECB52"
          ],
          "font": {
           "color": "#2a3f5f"
          },
          "geo": {
           "bgcolor": "white",
           "lakecolor": "white",
           "landcolor": "#E5ECF6",
           "showlakes": true,
           "showland": true,
           "subunitcolor": "white"
          },
          "hoverlabel": {
           "align": "left"
          },
          "hovermode": "closest",
          "mapbox": {
           "style": "light"
          },
          "paper_bgcolor": "white",
          "plot_bgcolor": "#E5ECF6",
          "polar": {
           "angularaxis": {
            "gridcolor": "white",
            "linecolor": "white",
            "ticks": ""
           },
           "bgcolor": "#E5ECF6",
           "radialaxis": {
            "gridcolor": "white",
            "linecolor": "white",
            "ticks": ""
           }
          },
          "scene": {
           "xaxis": {
            "backgroundcolor": "#E5ECF6",
            "gridcolor": "white",
            "gridwidth": 2,
            "linecolor": "white",
            "showbackground": true,
            "ticks": "",
            "zerolinecolor": "white"
           },
           "yaxis": {
            "backgroundcolor": "#E5ECF6",
            "gridcolor": "white",
            "gridwidth": 2,
            "linecolor": "white",
            "showbackground": true,
            "ticks": "",
            "zerolinecolor": "white"
           },
           "zaxis": {
            "backgroundcolor": "#E5ECF6",
            "gridcolor": "white",
            "gridwidth": 2,
            "linecolor": "white",
            "showbackground": true,
            "ticks": "",
            "zerolinecolor": "white"
           }
          },
          "shapedefaults": {
           "line": {
            "color": "#2a3f5f"
           }
          },
          "ternary": {
           "aaxis": {
            "gridcolor": "white",
            "linecolor": "white",
            "ticks": ""
           },
           "baxis": {
            "gridcolor": "white",
            "linecolor": "white",
            "ticks": ""
           },
           "bgcolor": "#E5ECF6",
           "caxis": {
            "gridcolor": "white",
            "linecolor": "white",
            "ticks": ""
           }
          },
          "title": {
           "x": 0.05
          },
          "xaxis": {
           "automargin": true,
           "gridcolor": "white",
           "linecolor": "white",
           "ticks": "",
           "title": {
            "standoff": 15
           },
           "zerolinecolor": "white",
           "zerolinewidth": 2
          },
          "yaxis": {
           "automargin": true,
           "gridcolor": "white",
           "linecolor": "white",
           "ticks": "",
           "title": {
            "standoff": 15
           },
           "zerolinecolor": "white",
           "zerolinewidth": 2
          }
         }
        },
        "title": {
         "text": "Distribution of highest_value"
        },
        "xaxis": {
         "anchor": "y",
         "domain": [
          0,
          1
         ],
         "title": {
          "text": "highest_value"
         }
        },
        "yaxis": {
         "anchor": "x",
         "domain": [
          0,
          1
         ],
         "title": {
          "text": "count"
         }
        }
       }
      }
     },
     "metadata": {},
     "output_type": "display_data"
    }
   ],
   "source": [
    "cols = ['height', 'age', 'appearance', 'goals conceded',\n",
    "       'clean sheets', 'minutes played', 'days_injured', 'games_injured',\n",
    "       'award', 'current_value', 'highest_value']\n",
    "\n",
    "plot_hist(df_gk, cols)"
   ]
  },
  {
   "cell_type": "code",
   "execution_count": 93,
   "metadata": {},
   "outputs": [
    {
     "data": {
      "text/html": [
       "<div>\n",
       "<style scoped>\n",
       "    .dataframe tbody tr th:only-of-type {\n",
       "        vertical-align: middle;\n",
       "    }\n",
       "\n",
       "    .dataframe tbody tr th {\n",
       "        vertical-align: top;\n",
       "    }\n",
       "\n",
       "    .dataframe thead th {\n",
       "        text-align: right;\n",
       "    }\n",
       "</style>\n",
       "<table border=\"1\" class=\"dataframe\">\n",
       "  <thead>\n",
       "    <tr style=\"text-align: right;\">\n",
       "      <th></th>\n",
       "      <th>team</th>\n",
       "      <th>position</th>\n",
       "      <th>height</th>\n",
       "      <th>age</th>\n",
       "      <th>appearance</th>\n",
       "      <th>goals conceded</th>\n",
       "      <th>clean sheets</th>\n",
       "      <th>minutes played</th>\n",
       "      <th>days_injured</th>\n",
       "      <th>games_injured</th>\n",
       "      <th>award</th>\n",
       "      <th>current_value</th>\n",
       "      <th>highest_value</th>\n",
       "      <th>position_encoded</th>\n",
       "      <th>winger</th>\n",
       "    </tr>\n",
       "  </thead>\n",
       "  <tbody>\n",
       "    <tr>\n",
       "      <th>0</th>\n",
       "      <td>Manchester United</td>\n",
       "      <td>Goalkeeper</td>\n",
       "      <td>189.0</td>\n",
       "      <td>32</td>\n",
       "      <td>104</td>\n",
       "      <td>1.217252</td>\n",
       "      <td>0.335463</td>\n",
       "      <td>9390</td>\n",
       "      <td>42</td>\n",
       "      <td>5</td>\n",
       "      <td>13</td>\n",
       "      <td>15000000</td>\n",
       "      <td>70000000</td>\n",
       "      <td>1</td>\n",
       "      <td>0</td>\n",
       "    </tr>\n",
       "    <tr>\n",
       "      <th>32</th>\n",
       "      <td>West Ham United</td>\n",
       "      <td>Goalkeeper</td>\n",
       "      <td>195.0</td>\n",
       "      <td>30</td>\n",
       "      <td>41</td>\n",
       "      <td>0.898502</td>\n",
       "      <td>0.449251</td>\n",
       "      <td>3606</td>\n",
       "      <td>34</td>\n",
       "      <td>4</td>\n",
       "      <td>16</td>\n",
       "      <td>8000000</td>\n",
       "      <td>17500000</td>\n",
       "      <td>1</td>\n",
       "      <td>0</td>\n",
       "    </tr>\n",
       "    <tr>\n",
       "      <th>33</th>\n",
       "      <td>West Ham United</td>\n",
       "      <td>Goalkeeper</td>\n",
       "      <td>190.0</td>\n",
       "      <td>38</td>\n",
       "      <td>75</td>\n",
       "      <td>1.331723</td>\n",
       "      <td>0.271780</td>\n",
       "      <td>6623</td>\n",
       "      <td>554</td>\n",
       "      <td>99</td>\n",
       "      <td>4</td>\n",
       "      <td>1000000</td>\n",
       "      <td>9000000</td>\n",
       "      <td>1</td>\n",
       "      <td>0</td>\n",
       "    </tr>\n",
       "    <tr>\n",
       "      <th>54</th>\n",
       "      <td>Leicester City</td>\n",
       "      <td>Goalkeeper</td>\n",
       "      <td>191.0</td>\n",
       "      <td>29</td>\n",
       "      <td>33</td>\n",
       "      <td>1.696970</td>\n",
       "      <td>0.242424</td>\n",
       "      <td>2970</td>\n",
       "      <td>127</td>\n",
       "      <td>29</td>\n",
       "      <td>2</td>\n",
       "      <td>8000000</td>\n",
       "      <td>10000000</td>\n",
       "      <td>1</td>\n",
       "      <td>0</td>\n",
       "    </tr>\n",
       "    <tr>\n",
       "      <th>55</th>\n",
       "      <td>Leicester City</td>\n",
       "      <td>Goalkeeper</td>\n",
       "      <td>191.0</td>\n",
       "      <td>25</td>\n",
       "      <td>65</td>\n",
       "      <td>1.257883</td>\n",
       "      <td>0.291461</td>\n",
       "      <td>5867</td>\n",
       "      <td>0</td>\n",
       "      <td>0</td>\n",
       "      <td>0</td>\n",
       "      <td>2000000</td>\n",
       "      <td>2000000</td>\n",
       "      <td>1</td>\n",
       "      <td>0</td>\n",
       "    </tr>\n",
       "    <tr>\n",
       "      <th>...</th>\n",
       "      <td>...</td>\n",
       "      <td>...</td>\n",
       "      <td>...</td>\n",
       "      <td>...</td>\n",
       "      <td>...</td>\n",
       "      <td>...</td>\n",
       "      <td>...</td>\n",
       "      <td>...</td>\n",
       "      <td>...</td>\n",
       "      <td>...</td>\n",
       "      <td>...</td>\n",
       "      <td>...</td>\n",
       "      <td>...</td>\n",
       "      <td>...</td>\n",
       "      <td>...</td>\n",
       "    </tr>\n",
       "    <tr>\n",
       "      <th>10625</th>\n",
       "      <td>Wellington Phoenix</td>\n",
       "      <td>Goalkeeper</td>\n",
       "      <td>197.0</td>\n",
       "      <td>27</td>\n",
       "      <td>55</td>\n",
       "      <td>1.675875</td>\n",
       "      <td>0.202578</td>\n",
       "      <td>4887</td>\n",
       "      <td>46</td>\n",
       "      <td>4</td>\n",
       "      <td>3</td>\n",
       "      <td>700000</td>\n",
       "      <td>700000</td>\n",
       "      <td>1</td>\n",
       "      <td>0</td>\n",
       "    </tr>\n",
       "    <tr>\n",
       "      <th>10648</th>\n",
       "      <td>Melbourne City FC</td>\n",
       "      <td>Goalkeeper</td>\n",
       "      <td>196.0</td>\n",
       "      <td>25</td>\n",
       "      <td>64</td>\n",
       "      <td>1.212435</td>\n",
       "      <td>0.264249</td>\n",
       "      <td>5790</td>\n",
       "      <td>0</td>\n",
       "      <td>0</td>\n",
       "      <td>2</td>\n",
       "      <td>750000</td>\n",
       "      <td>800000</td>\n",
       "      <td>1</td>\n",
       "      <td>0</td>\n",
       "    </tr>\n",
       "    <tr>\n",
       "      <th>10674</th>\n",
       "      <td>Sydney FC</td>\n",
       "      <td>Goalkeeper</td>\n",
       "      <td>194.0</td>\n",
       "      <td>34</td>\n",
       "      <td>55</td>\n",
       "      <td>1.481928</td>\n",
       "      <td>0.198795</td>\n",
       "      <td>4980</td>\n",
       "      <td>0</td>\n",
       "      <td>0</td>\n",
       "      <td>6</td>\n",
       "      <td>500000</td>\n",
       "      <td>800000</td>\n",
       "      <td>1</td>\n",
       "      <td>0</td>\n",
       "    </tr>\n",
       "    <tr>\n",
       "      <th>10697</th>\n",
       "      <td>Adelaide United</td>\n",
       "      <td>Goalkeeper</td>\n",
       "      <td>194.0</td>\n",
       "      <td>22</td>\n",
       "      <td>54</td>\n",
       "      <td>1.445337</td>\n",
       "      <td>0.203830</td>\n",
       "      <td>4857</td>\n",
       "      <td>0</td>\n",
       "      <td>0</td>\n",
       "      <td>0</td>\n",
       "      <td>450000</td>\n",
       "      <td>450000</td>\n",
       "      <td>1</td>\n",
       "      <td>0</td>\n",
       "    </tr>\n",
       "    <tr>\n",
       "      <th>10727</th>\n",
       "      <td>Western Sydney Wanderers</td>\n",
       "      <td>Goalkeeper</td>\n",
       "      <td>191.0</td>\n",
       "      <td>31</td>\n",
       "      <td>51</td>\n",
       "      <td>1.431373</td>\n",
       "      <td>0.254902</td>\n",
       "      <td>4590</td>\n",
       "      <td>0</td>\n",
       "      <td>0</td>\n",
       "      <td>2</td>\n",
       "      <td>500000</td>\n",
       "      <td>1000000</td>\n",
       "      <td>1</td>\n",
       "      <td>0</td>\n",
       "    </tr>\n",
       "  </tbody>\n",
       "</table>\n",
       "<p>551 rows × 15 columns</p>\n",
       "</div>"
      ],
      "text/plain": [
       "                           team    position  height  age  appearance  \\\n",
       "0             Manchester United  Goalkeeper   189.0   32         104   \n",
       "32              West Ham United  Goalkeeper   195.0   30          41   \n",
       "33              West Ham United  Goalkeeper   190.0   38          75   \n",
       "54               Leicester City  Goalkeeper   191.0   29          33   \n",
       "55               Leicester City  Goalkeeper   191.0   25          65   \n",
       "...                         ...         ...     ...  ...         ...   \n",
       "10625        Wellington Phoenix  Goalkeeper   197.0   27          55   \n",
       "10648         Melbourne City FC  Goalkeeper   196.0   25          64   \n",
       "10674                 Sydney FC  Goalkeeper   194.0   34          55   \n",
       "10697           Adelaide United  Goalkeeper   194.0   22          54   \n",
       "10727  Western Sydney Wanderers  Goalkeeper   191.0   31          51   \n",
       "\n",
       "       goals conceded  clean sheets  minutes played  days_injured  \\\n",
       "0            1.217252      0.335463            9390            42   \n",
       "32           0.898502      0.449251            3606            34   \n",
       "33           1.331723      0.271780            6623           554   \n",
       "54           1.696970      0.242424            2970           127   \n",
       "55           1.257883      0.291461            5867             0   \n",
       "...               ...           ...             ...           ...   \n",
       "10625        1.675875      0.202578            4887            46   \n",
       "10648        1.212435      0.264249            5790             0   \n",
       "10674        1.481928      0.198795            4980             0   \n",
       "10697        1.445337      0.203830            4857             0   \n",
       "10727        1.431373      0.254902            4590             0   \n",
       "\n",
       "       games_injured  award  current_value  highest_value  position_encoded  \\\n",
       "0                  5     13       15000000       70000000                 1   \n",
       "32                 4     16        8000000       17500000                 1   \n",
       "33                99      4        1000000        9000000                 1   \n",
       "54                29      2        8000000       10000000                 1   \n",
       "55                 0      0        2000000        2000000                 1   \n",
       "...              ...    ...            ...            ...               ...   \n",
       "10625              4      3         700000         700000                 1   \n",
       "10648              0      2         750000         800000                 1   \n",
       "10674              0      6         500000         800000                 1   \n",
       "10697              0      0         450000         450000                 1   \n",
       "10727              0      2         500000        1000000                 1   \n",
       "\n",
       "       winger  \n",
       "0           0  \n",
       "32          0  \n",
       "33          0  \n",
       "54          0  \n",
       "55          0  \n",
       "...       ...  \n",
       "10625       0  \n",
       "10648       0  \n",
       "10674       0  \n",
       "10697       0  \n",
       "10727       0  \n",
       "\n",
       "[551 rows x 15 columns]"
      ]
     },
     "execution_count": 93,
     "metadata": {},
     "output_type": "execute_result"
    }
   ],
   "source": [
    "df_gk[df_gk['appearance'] >= 20]\n"
   ]
  },
  {
   "cell_type": "code",
   "execution_count": 94,
   "metadata": {},
   "outputs": [
    {
     "data": {
      "text/html": [
       "<div>\n",
       "<style scoped>\n",
       "    .dataframe tbody tr th:only-of-type {\n",
       "        vertical-align: middle;\n",
       "    }\n",
       "\n",
       "    .dataframe tbody tr th {\n",
       "        vertical-align: top;\n",
       "    }\n",
       "\n",
       "    .dataframe thead th {\n",
       "        text-align: right;\n",
       "    }\n",
       "</style>\n",
       "<table border=\"1\" class=\"dataframe\">\n",
       "  <thead>\n",
       "    <tr style=\"text-align: right;\">\n",
       "      <th></th>\n",
       "      <th>team</th>\n",
       "      <th>position</th>\n",
       "      <th>height</th>\n",
       "      <th>age</th>\n",
       "      <th>appearance</th>\n",
       "      <th>goals conceded</th>\n",
       "      <th>clean sheets</th>\n",
       "      <th>minutes played</th>\n",
       "      <th>days_injured</th>\n",
       "      <th>games_injured</th>\n",
       "      <th>award</th>\n",
       "      <th>current_value</th>\n",
       "      <th>highest_value</th>\n",
       "      <th>position_encoded</th>\n",
       "      <th>winger</th>\n",
       "    </tr>\n",
       "  </thead>\n",
       "  <tbody>\n",
       "    <tr>\n",
       "      <th>680</th>\n",
       "      <td>VfB Stuttgart</td>\n",
       "      <td>Goalkeeper</td>\n",
       "      <td>192.000000</td>\n",
       "      <td>17</td>\n",
       "      <td>42</td>\n",
       "      <td>0.910786</td>\n",
       "      <td>0.383489</td>\n",
       "      <td>3755</td>\n",
       "      <td>5</td>\n",
       "      <td>1</td>\n",
       "      <td>1</td>\n",
       "      <td>0</td>\n",
       "      <td>0</td>\n",
       "      <td>1</td>\n",
       "      <td>0</td>\n",
       "    </tr>\n",
       "    <tr>\n",
       "      <th>1032</th>\n",
       "      <td>RB Leipzig</td>\n",
       "      <td>Goalkeeper</td>\n",
       "      <td>187.000000</td>\n",
       "      <td>19</td>\n",
       "      <td>0</td>\n",
       "      <td>0.000000</td>\n",
       "      <td>0.000000</td>\n",
       "      <td>0</td>\n",
       "      <td>0</td>\n",
       "      <td>0</td>\n",
       "      <td>0</td>\n",
       "      <td>0</td>\n",
       "      <td>0</td>\n",
       "      <td>1</td>\n",
       "      <td>0</td>\n",
       "    </tr>\n",
       "    <tr>\n",
       "      <th>3827</th>\n",
       "      <td>FC Famalicão</td>\n",
       "      <td>Goalkeeper</td>\n",
       "      <td>199.000000</td>\n",
       "      <td>18</td>\n",
       "      <td>4</td>\n",
       "      <td>1.000000</td>\n",
       "      <td>0.250000</td>\n",
       "      <td>360</td>\n",
       "      <td>0</td>\n",
       "      <td>0</td>\n",
       "      <td>0</td>\n",
       "      <td>0</td>\n",
       "      <td>0</td>\n",
       "      <td>1</td>\n",
       "      <td>0</td>\n",
       "    </tr>\n",
       "    <tr>\n",
       "      <th>3857</th>\n",
       "      <td>Vitória Guimarães SC</td>\n",
       "      <td>Goalkeeper</td>\n",
       "      <td>193.000000</td>\n",
       "      <td>19</td>\n",
       "      <td>12</td>\n",
       "      <td>1.416667</td>\n",
       "      <td>0.083333</td>\n",
       "      <td>1080</td>\n",
       "      <td>0</td>\n",
       "      <td>0</td>\n",
       "      <td>0</td>\n",
       "      <td>0</td>\n",
       "      <td>0</td>\n",
       "      <td>1</td>\n",
       "      <td>0</td>\n",
       "    </tr>\n",
       "    <tr>\n",
       "      <th>8370</th>\n",
       "      <td>Cerezo Osaka</td>\n",
       "      <td>Goalkeeper</td>\n",
       "      <td>190.000000</td>\n",
       "      <td>17</td>\n",
       "      <td>4</td>\n",
       "      <td>4.205607</td>\n",
       "      <td>1.682243</td>\n",
       "      <td>107</td>\n",
       "      <td>0</td>\n",
       "      <td>0</td>\n",
       "      <td>0</td>\n",
       "      <td>0</td>\n",
       "      <td>0</td>\n",
       "      <td>1</td>\n",
       "      <td>0</td>\n",
       "    </tr>\n",
       "    <tr>\n",
       "      <th>8443</th>\n",
       "      <td>FC Tokyo</td>\n",
       "      <td>Goalkeeper</td>\n",
       "      <td>190.000000</td>\n",
       "      <td>17</td>\n",
       "      <td>8</td>\n",
       "      <td>1.750000</td>\n",
       "      <td>0.250000</td>\n",
       "      <td>720</td>\n",
       "      <td>0</td>\n",
       "      <td>0</td>\n",
       "      <td>0</td>\n",
       "      <td>0</td>\n",
       "      <td>0</td>\n",
       "      <td>1</td>\n",
       "      <td>0</td>\n",
       "    </tr>\n",
       "    <tr>\n",
       "      <th>8444</th>\n",
       "      <td>FC Tokyo</td>\n",
       "      <td>Goalkeeper</td>\n",
       "      <td>191.000000</td>\n",
       "      <td>17</td>\n",
       "      <td>0</td>\n",
       "      <td>0.000000</td>\n",
       "      <td>0.000000</td>\n",
       "      <td>0</td>\n",
       "      <td>0</td>\n",
       "      <td>0</td>\n",
       "      <td>0</td>\n",
       "      <td>0</td>\n",
       "      <td>0</td>\n",
       "      <td>1</td>\n",
       "      <td>0</td>\n",
       "    </tr>\n",
       "    <tr>\n",
       "      <th>8590</th>\n",
       "      <td>Avispa Fukuoka</td>\n",
       "      <td>Goalkeeper</td>\n",
       "      <td>186.000000</td>\n",
       "      <td>21</td>\n",
       "      <td>1</td>\n",
       "      <td>2.250000</td>\n",
       "      <td>0.000000</td>\n",
       "      <td>120</td>\n",
       "      <td>0</td>\n",
       "      <td>0</td>\n",
       "      <td>0</td>\n",
       "      <td>0</td>\n",
       "      <td>0</td>\n",
       "      <td>1</td>\n",
       "      <td>0</td>\n",
       "    </tr>\n",
       "    <tr>\n",
       "      <th>8621</th>\n",
       "      <td>Sagan Tosu</td>\n",
       "      <td>Goalkeeper</td>\n",
       "      <td>191.000000</td>\n",
       "      <td>21</td>\n",
       "      <td>0</td>\n",
       "      <td>0.000000</td>\n",
       "      <td>0.000000</td>\n",
       "      <td>0</td>\n",
       "      <td>0</td>\n",
       "      <td>0</td>\n",
       "      <td>0</td>\n",
       "      <td>0</td>\n",
       "      <td>0</td>\n",
       "      <td>1</td>\n",
       "      <td>0</td>\n",
       "    </tr>\n",
       "    <tr>\n",
       "      <th>8662</th>\n",
       "      <td>Vissel Kobe</td>\n",
       "      <td>Goalkeeper</td>\n",
       "      <td>183.000000</td>\n",
       "      <td>15</td>\n",
       "      <td>5</td>\n",
       "      <td>1.000000</td>\n",
       "      <td>0.400000</td>\n",
       "      <td>450</td>\n",
       "      <td>0</td>\n",
       "      <td>0</td>\n",
       "      <td>0</td>\n",
       "      <td>0</td>\n",
       "      <td>0</td>\n",
       "      <td>1</td>\n",
       "      <td>0</td>\n",
       "    </tr>\n",
       "    <tr>\n",
       "      <th>8768</th>\n",
       "      <td>Albirex Niigata</td>\n",
       "      <td>Goalkeeper</td>\n",
       "      <td>189.000000</td>\n",
       "      <td>16</td>\n",
       "      <td>1</td>\n",
       "      <td>2.045455</td>\n",
       "      <td>0.000000</td>\n",
       "      <td>44</td>\n",
       "      <td>0</td>\n",
       "      <td>0</td>\n",
       "      <td>0</td>\n",
       "      <td>0</td>\n",
       "      <td>0</td>\n",
       "      <td>1</td>\n",
       "      <td>0</td>\n",
       "    </tr>\n",
       "    <tr>\n",
       "      <th>8895</th>\n",
       "      <td>Gamba Osaka</td>\n",
       "      <td>Goalkeeper</td>\n",
       "      <td>194.000000</td>\n",
       "      <td>18</td>\n",
       "      <td>6</td>\n",
       "      <td>1.333333</td>\n",
       "      <td>0.333333</td>\n",
       "      <td>540</td>\n",
       "      <td>0</td>\n",
       "      <td>0</td>\n",
       "      <td>0</td>\n",
       "      <td>0</td>\n",
       "      <td>0</td>\n",
       "      <td>1</td>\n",
       "      <td>0</td>\n",
       "    </tr>\n",
       "    <tr>\n",
       "      <th>8963</th>\n",
       "      <td>Ettifaq FC</td>\n",
       "      <td>Goalkeeper</td>\n",
       "      <td>186.000000</td>\n",
       "      <td>27</td>\n",
       "      <td>0</td>\n",
       "      <td>0.000000</td>\n",
       "      <td>0.000000</td>\n",
       "      <td>0</td>\n",
       "      <td>0</td>\n",
       "      <td>0</td>\n",
       "      <td>0</td>\n",
       "      <td>0</td>\n",
       "      <td>0</td>\n",
       "      <td>1</td>\n",
       "      <td>0</td>\n",
       "    </tr>\n",
       "    <tr>\n",
       "      <th>9064</th>\n",
       "      <td>Damac FC</td>\n",
       "      <td>Goalkeeper</td>\n",
       "      <td>178.000000</td>\n",
       "      <td>25</td>\n",
       "      <td>0</td>\n",
       "      <td>0.000000</td>\n",
       "      <td>0.000000</td>\n",
       "      <td>0</td>\n",
       "      <td>0</td>\n",
       "      <td>0</td>\n",
       "      <td>7</td>\n",
       "      <td>0</td>\n",
       "      <td>0</td>\n",
       "      <td>1</td>\n",
       "      <td>0</td>\n",
       "    </tr>\n",
       "    <tr>\n",
       "      <th>9095</th>\n",
       "      <td>Al-Tai</td>\n",
       "      <td>Goalkeeper</td>\n",
       "      <td>181.240353</td>\n",
       "      <td>21</td>\n",
       "      <td>0</td>\n",
       "      <td>0.000000</td>\n",
       "      <td>0.000000</td>\n",
       "      <td>0</td>\n",
       "      <td>0</td>\n",
       "      <td>0</td>\n",
       "      <td>0</td>\n",
       "      <td>0</td>\n",
       "      <td>0</td>\n",
       "      <td>1</td>\n",
       "      <td>0</td>\n",
       "    </tr>\n",
       "    <tr>\n",
       "      <th>10099</th>\n",
       "      <td>Royal AM FC</td>\n",
       "      <td>Goalkeeper</td>\n",
       "      <td>183.000000</td>\n",
       "      <td>37</td>\n",
       "      <td>45</td>\n",
       "      <td>0.994475</td>\n",
       "      <td>0.384229</td>\n",
       "      <td>3982</td>\n",
       "      <td>84</td>\n",
       "      <td>8</td>\n",
       "      <td>0</td>\n",
       "      <td>0</td>\n",
       "      <td>0</td>\n",
       "      <td>1</td>\n",
       "      <td>0</td>\n",
       "    </tr>\n",
       "    <tr>\n",
       "      <th>10574</th>\n",
       "      <td>Brisbane Roar</td>\n",
       "      <td>Goalkeeper</td>\n",
       "      <td>181.240353</td>\n",
       "      <td>26</td>\n",
       "      <td>0</td>\n",
       "      <td>0.000000</td>\n",
       "      <td>0.000000</td>\n",
       "      <td>0</td>\n",
       "      <td>0</td>\n",
       "      <td>0</td>\n",
       "      <td>0</td>\n",
       "      <td>0</td>\n",
       "      <td>0</td>\n",
       "      <td>1</td>\n",
       "      <td>0</td>\n",
       "    </tr>\n",
       "  </tbody>\n",
       "</table>\n",
       "</div>"
      ],
      "text/plain": [
       "                       team    position      height  age  appearance  \\\n",
       "680           VfB Stuttgart  Goalkeeper  192.000000   17          42   \n",
       "1032             RB Leipzig  Goalkeeper  187.000000   19           0   \n",
       "3827           FC Famalicão  Goalkeeper  199.000000   18           4   \n",
       "3857   Vitória Guimarães SC  Goalkeeper  193.000000   19          12   \n",
       "8370           Cerezo Osaka  Goalkeeper  190.000000   17           4   \n",
       "8443               FC Tokyo  Goalkeeper  190.000000   17           8   \n",
       "8444               FC Tokyo  Goalkeeper  191.000000   17           0   \n",
       "8590         Avispa Fukuoka  Goalkeeper  186.000000   21           1   \n",
       "8621             Sagan Tosu  Goalkeeper  191.000000   21           0   \n",
       "8662            Vissel Kobe  Goalkeeper  183.000000   15           5   \n",
       "8768        Albirex Niigata  Goalkeeper  189.000000   16           1   \n",
       "8895            Gamba Osaka  Goalkeeper  194.000000   18           6   \n",
       "8963             Ettifaq FC  Goalkeeper  186.000000   27           0   \n",
       "9064               Damac FC  Goalkeeper  178.000000   25           0   \n",
       "9095                 Al-Tai  Goalkeeper  181.240353   21           0   \n",
       "10099           Royal AM FC  Goalkeeper  183.000000   37          45   \n",
       "10574         Brisbane Roar  Goalkeeper  181.240353   26           0   \n",
       "\n",
       "       goals conceded  clean sheets  minutes played  days_injured  \\\n",
       "680          0.910786      0.383489            3755             5   \n",
       "1032         0.000000      0.000000               0             0   \n",
       "3827         1.000000      0.250000             360             0   \n",
       "3857         1.416667      0.083333            1080             0   \n",
       "8370         4.205607      1.682243             107             0   \n",
       "8443         1.750000      0.250000             720             0   \n",
       "8444         0.000000      0.000000               0             0   \n",
       "8590         2.250000      0.000000             120             0   \n",
       "8621         0.000000      0.000000               0             0   \n",
       "8662         1.000000      0.400000             450             0   \n",
       "8768         2.045455      0.000000              44             0   \n",
       "8895         1.333333      0.333333             540             0   \n",
       "8963         0.000000      0.000000               0             0   \n",
       "9064         0.000000      0.000000               0             0   \n",
       "9095         0.000000      0.000000               0             0   \n",
       "10099        0.994475      0.384229            3982            84   \n",
       "10574        0.000000      0.000000               0             0   \n",
       "\n",
       "       games_injured  award  current_value  highest_value  position_encoded  \\\n",
       "680                1      1              0              0                 1   \n",
       "1032               0      0              0              0                 1   \n",
       "3827               0      0              0              0                 1   \n",
       "3857               0      0              0              0                 1   \n",
       "8370               0      0              0              0                 1   \n",
       "8443               0      0              0              0                 1   \n",
       "8444               0      0              0              0                 1   \n",
       "8590               0      0              0              0                 1   \n",
       "8621               0      0              0              0                 1   \n",
       "8662               0      0              0              0                 1   \n",
       "8768               0      0              0              0                 1   \n",
       "8895               0      0              0              0                 1   \n",
       "8963               0      0              0              0                 1   \n",
       "9064               0      7              0              0                 1   \n",
       "9095               0      0              0              0                 1   \n",
       "10099              8      0              0              0                 1   \n",
       "10574              0      0              0              0                 1   \n",
       "\n",
       "       winger  \n",
       "680         0  \n",
       "1032        0  \n",
       "3827        0  \n",
       "3857        0  \n",
       "8370        0  \n",
       "8443        0  \n",
       "8444        0  \n",
       "8590        0  \n",
       "8621        0  \n",
       "8662        0  \n",
       "8768        0  \n",
       "8895        0  \n",
       "8963        0  \n",
       "9064        0  \n",
       "9095        0  \n",
       "10099       0  \n",
       "10574       0  "
      ]
     },
     "execution_count": 94,
     "metadata": {},
     "output_type": "execute_result"
    }
   ],
   "source": [
    "# Filter goalkeepers with current/highest value = 0\n",
    "df_gk[(df_gk['current_value'] == 0 ) & (df_gk['highest_value'] == 0)]"
   ]
  },
  {
   "cell_type": "code",
   "execution_count": 95,
   "metadata": {},
   "outputs": [],
   "source": [
    "df_gk.drop(df_gk[df_gk['current_value'] == 0 ].index , inplace=True) #drop where current = 0"
   ]
  },
  {
   "cell_type": "code",
   "execution_count": 96,
   "metadata": {},
   "outputs": [
    {
     "data": {
      "text/plain": [
       "(1173, 15)"
      ]
     },
     "execution_count": 96,
     "metadata": {},
     "output_type": "execute_result"
    }
   ],
   "source": [
    "df_gk[df_gk['award'] <= 10].shape\n"
   ]
  },
  {
   "cell_type": "code",
   "execution_count": 97,
   "metadata": {},
   "outputs": [],
   "source": [
    "df_gk = df_gk[df_gk['award'] <= 10] #filter outliers; keep rows where award <= 10 "
   ]
  },
  {
   "cell_type": "code",
   "execution_count": 98,
   "metadata": {},
   "outputs": [
    {
     "data": {
      "text/html": [
       "<div>\n",
       "<style scoped>\n",
       "    .dataframe tbody tr th:only-of-type {\n",
       "        vertical-align: middle;\n",
       "    }\n",
       "\n",
       "    .dataframe tbody tr th {\n",
       "        vertical-align: top;\n",
       "    }\n",
       "\n",
       "    .dataframe thead th {\n",
       "        text-align: right;\n",
       "    }\n",
       "</style>\n",
       "<table border=\"1\" class=\"dataframe\">\n",
       "  <thead>\n",
       "    <tr style=\"text-align: right;\">\n",
       "      <th></th>\n",
       "      <th>team</th>\n",
       "      <th>position</th>\n",
       "      <th>height</th>\n",
       "      <th>age</th>\n",
       "      <th>appearance</th>\n",
       "      <th>goals conceded</th>\n",
       "      <th>clean sheets</th>\n",
       "      <th>minutes played</th>\n",
       "      <th>days_injured</th>\n",
       "      <th>games_injured</th>\n",
       "      <th>award</th>\n",
       "      <th>current_value</th>\n",
       "      <th>highest_value</th>\n",
       "      <th>position_encoded</th>\n",
       "      <th>winger</th>\n",
       "    </tr>\n",
       "  </thead>\n",
       "  <tbody>\n",
       "    <tr>\n",
       "      <th>1</th>\n",
       "      <td>Manchester United</td>\n",
       "      <td>Goalkeeper</td>\n",
       "      <td>196.0</td>\n",
       "      <td>30</td>\n",
       "      <td>15</td>\n",
       "      <td>1.242331</td>\n",
       "      <td>0.207055</td>\n",
       "      <td>1304</td>\n",
       "      <td>510</td>\n",
       "      <td>58</td>\n",
       "      <td>1</td>\n",
       "      <td>1500000</td>\n",
       "      <td>22000000</td>\n",
       "      <td>1</td>\n",
       "      <td>0</td>\n",
       "    </tr>\n",
       "    <tr>\n",
       "      <th>2</th>\n",
       "      <td>Manchester United</td>\n",
       "      <td>Goalkeeper</td>\n",
       "      <td>188.0</td>\n",
       "      <td>37</td>\n",
       "      <td>4</td>\n",
       "      <td>0.616438</td>\n",
       "      <td>0.924658</td>\n",
       "      <td>292</td>\n",
       "      <td>697</td>\n",
       "      <td>84</td>\n",
       "      <td>4</td>\n",
       "      <td>600000</td>\n",
       "      <td>6000000</td>\n",
       "      <td>1</td>\n",
       "      <td>0</td>\n",
       "    </tr>\n",
       "    <tr>\n",
       "      <th>33</th>\n",
       "      <td>West Ham United</td>\n",
       "      <td>Goalkeeper</td>\n",
       "      <td>190.0</td>\n",
       "      <td>38</td>\n",
       "      <td>75</td>\n",
       "      <td>1.331723</td>\n",
       "      <td>0.271780</td>\n",
       "      <td>6623</td>\n",
       "      <td>554</td>\n",
       "      <td>99</td>\n",
       "      <td>4</td>\n",
       "      <td>1000000</td>\n",
       "      <td>9000000</td>\n",
       "      <td>1</td>\n",
       "      <td>0</td>\n",
       "    </tr>\n",
       "    <tr>\n",
       "      <th>83</th>\n",
       "      <td>Aston Villa</td>\n",
       "      <td>Goalkeeper</td>\n",
       "      <td>183.0</td>\n",
       "      <td>30</td>\n",
       "      <td>8</td>\n",
       "      <td>0.698758</td>\n",
       "      <td>0.698758</td>\n",
       "      <td>644</td>\n",
       "      <td>718</td>\n",
       "      <td>84</td>\n",
       "      <td>1</td>\n",
       "      <td>600000</td>\n",
       "      <td>2000000</td>\n",
       "      <td>1</td>\n",
       "      <td>0</td>\n",
       "    </tr>\n",
       "    <tr>\n",
       "      <th>133</th>\n",
       "      <td>Southampton FC</td>\n",
       "      <td>Goalkeeper</td>\n",
       "      <td>193.0</td>\n",
       "      <td>33</td>\n",
       "      <td>29</td>\n",
       "      <td>1.704545</td>\n",
       "      <td>0.238636</td>\n",
       "      <td>2640</td>\n",
       "      <td>647</td>\n",
       "      <td>96</td>\n",
       "      <td>1</td>\n",
       "      <td>2000000</td>\n",
       "      <td>6500000</td>\n",
       "      <td>1</td>\n",
       "      <td>0</td>\n",
       "    </tr>\n",
       "    <tr>\n",
       "      <th>...</th>\n",
       "      <td>...</td>\n",
       "      <td>...</td>\n",
       "      <td>...</td>\n",
       "      <td>...</td>\n",
       "      <td>...</td>\n",
       "      <td>...</td>\n",
       "      <td>...</td>\n",
       "      <td>...</td>\n",
       "      <td>...</td>\n",
       "      <td>...</td>\n",
       "      <td>...</td>\n",
       "      <td>...</td>\n",
       "      <td>...</td>\n",
       "      <td>...</td>\n",
       "      <td>...</td>\n",
       "    </tr>\n",
       "    <tr>\n",
       "      <th>9997</th>\n",
       "      <td>Stellenbosch FC</td>\n",
       "      <td>Goalkeeper</td>\n",
       "      <td>181.0</td>\n",
       "      <td>25</td>\n",
       "      <td>0</td>\n",
       "      <td>0.000000</td>\n",
       "      <td>0.000000</td>\n",
       "      <td>0</td>\n",
       "      <td>650</td>\n",
       "      <td>66</td>\n",
       "      <td>0</td>\n",
       "      <td>25000</td>\n",
       "      <td>25000</td>\n",
       "      <td>1</td>\n",
       "      <td>0</td>\n",
       "    </tr>\n",
       "    <tr>\n",
       "      <th>10265</th>\n",
       "      <td>Orlando Pirates</td>\n",
       "      <td>Goalkeeper</td>\n",
       "      <td>190.0</td>\n",
       "      <td>29</td>\n",
       "      <td>32</td>\n",
       "      <td>0.626087</td>\n",
       "      <td>0.438261</td>\n",
       "      <td>2875</td>\n",
       "      <td>314</td>\n",
       "      <td>48</td>\n",
       "      <td>1</td>\n",
       "      <td>900000</td>\n",
       "      <td>1000000</td>\n",
       "      <td>1</td>\n",
       "      <td>0</td>\n",
       "    </tr>\n",
       "    <tr>\n",
       "      <th>10403</th>\n",
       "      <td>Kaizer Chiefs</td>\n",
       "      <td>Goalkeeper</td>\n",
       "      <td>185.0</td>\n",
       "      <td>28</td>\n",
       "      <td>27</td>\n",
       "      <td>0.940635</td>\n",
       "      <td>0.451505</td>\n",
       "      <td>2392</td>\n",
       "      <td>443</td>\n",
       "      <td>41</td>\n",
       "      <td>0</td>\n",
       "      <td>450000</td>\n",
       "      <td>450000</td>\n",
       "      <td>1</td>\n",
       "      <td>0</td>\n",
       "    </tr>\n",
       "    <tr>\n",
       "      <th>10405</th>\n",
       "      <td>Kaizer Chiefs</td>\n",
       "      <td>Goalkeeper</td>\n",
       "      <td>181.0</td>\n",
       "      <td>35</td>\n",
       "      <td>14</td>\n",
       "      <td>1.206625</td>\n",
       "      <td>0.141956</td>\n",
       "      <td>1268</td>\n",
       "      <td>674</td>\n",
       "      <td>86</td>\n",
       "      <td>8</td>\n",
       "      <td>75000</td>\n",
       "      <td>1250000</td>\n",
       "      <td>1</td>\n",
       "      <td>0</td>\n",
       "    </tr>\n",
       "    <tr>\n",
       "      <th>10512</th>\n",
       "      <td>Perth Glory</td>\n",
       "      <td>Goalkeeper</td>\n",
       "      <td>194.0</td>\n",
       "      <td>41</td>\n",
       "      <td>5</td>\n",
       "      <td>1.600000</td>\n",
       "      <td>0.200000</td>\n",
       "      <td>450</td>\n",
       "      <td>751</td>\n",
       "      <td>91</td>\n",
       "      <td>9</td>\n",
       "      <td>100000</td>\n",
       "      <td>2000000</td>\n",
       "      <td>1</td>\n",
       "      <td>0</td>\n",
       "    </tr>\n",
       "  </tbody>\n",
       "</table>\n",
       "<p>98 rows × 15 columns</p>\n",
       "</div>"
      ],
      "text/plain": [
       "                    team    position  height  age  appearance  goals conceded  \\\n",
       "1      Manchester United  Goalkeeper   196.0   30          15        1.242331   \n",
       "2      Manchester United  Goalkeeper   188.0   37           4        0.616438   \n",
       "33       West Ham United  Goalkeeper   190.0   38          75        1.331723   \n",
       "83           Aston Villa  Goalkeeper   183.0   30           8        0.698758   \n",
       "133       Southampton FC  Goalkeeper   193.0   33          29        1.704545   \n",
       "...                  ...         ...     ...  ...         ...             ...   \n",
       "9997     Stellenbosch FC  Goalkeeper   181.0   25           0        0.000000   \n",
       "10265    Orlando Pirates  Goalkeeper   190.0   29          32        0.626087   \n",
       "10403      Kaizer Chiefs  Goalkeeper   185.0   28          27        0.940635   \n",
       "10405      Kaizer Chiefs  Goalkeeper   181.0   35          14        1.206625   \n",
       "10512        Perth Glory  Goalkeeper   194.0   41           5        1.600000   \n",
       "\n",
       "       clean sheets  minutes played  days_injured  games_injured  award  \\\n",
       "1          0.207055            1304           510             58      1   \n",
       "2          0.924658             292           697             84      4   \n",
       "33         0.271780            6623           554             99      4   \n",
       "83         0.698758             644           718             84      1   \n",
       "133        0.238636            2640           647             96      1   \n",
       "...             ...             ...           ...            ...    ...   \n",
       "9997       0.000000               0           650             66      0   \n",
       "10265      0.438261            2875           314             48      1   \n",
       "10403      0.451505            2392           443             41      0   \n",
       "10405      0.141956            1268           674             86      8   \n",
       "10512      0.200000             450           751             91      9   \n",
       "\n",
       "       current_value  highest_value  position_encoded  winger  \n",
       "1            1500000       22000000                 1       0  \n",
       "2             600000        6000000                 1       0  \n",
       "33           1000000        9000000                 1       0  \n",
       "83            600000        2000000                 1       0  \n",
       "133          2000000        6500000                 1       0  \n",
       "...              ...            ...               ...     ...  \n",
       "9997           25000          25000                 1       0  \n",
       "10265         900000        1000000                 1       0  \n",
       "10403         450000         450000                 1       0  \n",
       "10405          75000        1250000                 1       0  \n",
       "10512         100000        2000000                 1       0  \n",
       "\n",
       "[98 rows x 15 columns]"
      ]
     },
     "execution_count": 98,
     "metadata": {},
     "output_type": "execute_result"
    }
   ],
   "source": [
    "df_gk[df_gk['games_injured'] > 40]"
   ]
  },
  {
   "cell_type": "code",
   "execution_count": 99,
   "metadata": {},
   "outputs": [],
   "source": [
    "df_gk = df_gk[df_gk['games_injured'] <= 40] #filter where games injirud <= 40"
   ]
  },
  {
   "cell_type": "code",
   "execution_count": 100,
   "metadata": {},
   "outputs": [],
   "source": [
    "df_gk = df_gk[df_gk['days_injured'] <= 375 ] #filter where days injured <= 375"
   ]
  },
  {
   "cell_type": "code",
   "execution_count": 101,
   "metadata": {},
   "outputs": [
    {
     "data": {
      "text/plain": [
       "(1072, 15)"
      ]
     },
     "execution_count": 101,
     "metadata": {},
     "output_type": "execute_result"
    }
   ],
   "source": [
    "df_gk.shape"
   ]
  },
  {
   "cell_type": "code",
   "execution_count": 102,
   "metadata": {},
   "outputs": [],
   "source": [
    "df_gk['goals conceded'] = df_gk['goals conceded'].round(decimals = 0) #round "
   ]
  },
  {
   "cell_type": "code",
   "execution_count": 103,
   "metadata": {},
   "outputs": [],
   "source": [
    "df_gk = df_gk[df_gk['goals conceded'] <= 3 ] #filter where goals concded <= 3"
   ]
  },
  {
   "cell_type": "code",
   "execution_count": 104,
   "metadata": {},
   "outputs": [
    {
     "data": {
      "text/html": [
       "<div>\n",
       "<style scoped>\n",
       "    .dataframe tbody tr th:only-of-type {\n",
       "        vertical-align: middle;\n",
       "    }\n",
       "\n",
       "    .dataframe tbody tr th {\n",
       "        vertical-align: top;\n",
       "    }\n",
       "\n",
       "    .dataframe thead th {\n",
       "        text-align: right;\n",
       "    }\n",
       "</style>\n",
       "<table border=\"1\" class=\"dataframe\">\n",
       "  <thead>\n",
       "    <tr style=\"text-align: right;\">\n",
       "      <th></th>\n",
       "      <th>team</th>\n",
       "      <th>position</th>\n",
       "      <th>height</th>\n",
       "      <th>age</th>\n",
       "      <th>appearance</th>\n",
       "      <th>goals conceded</th>\n",
       "      <th>clean sheets</th>\n",
       "      <th>minutes played</th>\n",
       "      <th>days_injured</th>\n",
       "      <th>games_injured</th>\n",
       "      <th>award</th>\n",
       "      <th>current_value</th>\n",
       "      <th>highest_value</th>\n",
       "      <th>position_encoded</th>\n",
       "      <th>winger</th>\n",
       "    </tr>\n",
       "  </thead>\n",
       "  <tbody>\n",
       "    <tr>\n",
       "      <th>1459</th>\n",
       "      <td>Getafe CF</td>\n",
       "      <td>Goalkeeper</td>\n",
       "      <td>188.0</td>\n",
       "      <td>24</td>\n",
       "      <td>1</td>\n",
       "      <td>0.0</td>\n",
       "      <td>18.000000</td>\n",
       "      <td>5</td>\n",
       "      <td>0</td>\n",
       "      <td>0</td>\n",
       "      <td>0</td>\n",
       "      <td>300000</td>\n",
       "      <td>400000</td>\n",
       "      <td>1</td>\n",
       "      <td>0</td>\n",
       "    </tr>\n",
       "    <tr>\n",
       "      <th>2001</th>\n",
       "      <td>SSC Napoli</td>\n",
       "      <td>Goalkeeper</td>\n",
       "      <td>192.0</td>\n",
       "      <td>23</td>\n",
       "      <td>1</td>\n",
       "      <td>0.0</td>\n",
       "      <td>9.000000</td>\n",
       "      <td>10</td>\n",
       "      <td>6</td>\n",
       "      <td>1</td>\n",
       "      <td>1</td>\n",
       "      <td>50000</td>\n",
       "      <td>100000</td>\n",
       "      <td>1</td>\n",
       "      <td>0</td>\n",
       "    </tr>\n",
       "    <tr>\n",
       "      <th>4248</th>\n",
       "      <td>Sporting CP</td>\n",
       "      <td>Goalkeeper</td>\n",
       "      <td>188.0</td>\n",
       "      <td>26</td>\n",
       "      <td>1</td>\n",
       "      <td>0.0</td>\n",
       "      <td>8.181818</td>\n",
       "      <td>11</td>\n",
       "      <td>0</td>\n",
       "      <td>0</td>\n",
       "      <td>3</td>\n",
       "      <td>100000</td>\n",
       "      <td>100000</td>\n",
       "      <td>1</td>\n",
       "      <td>0</td>\n",
       "    </tr>\n",
       "    <tr>\n",
       "      <th>7897</th>\n",
       "      <td>Instituto AC Córdoba</td>\n",
       "      <td>Goalkeeper</td>\n",
       "      <td>185.0</td>\n",
       "      <td>23</td>\n",
       "      <td>1</td>\n",
       "      <td>0.0</td>\n",
       "      <td>18.000000</td>\n",
       "      <td>5</td>\n",
       "      <td>0</td>\n",
       "      <td>0</td>\n",
       "      <td>0</td>\n",
       "      <td>25000</td>\n",
       "      <td>25000</td>\n",
       "      <td>1</td>\n",
       "      <td>0</td>\n",
       "    </tr>\n",
       "  </tbody>\n",
       "</table>\n",
       "</div>"
      ],
      "text/plain": [
       "                      team    position  height  age  appearance  \\\n",
       "1459             Getafe CF  Goalkeeper   188.0   24           1   \n",
       "2001            SSC Napoli  Goalkeeper   192.0   23           1   \n",
       "4248           Sporting CP  Goalkeeper   188.0   26           1   \n",
       "7897  Instituto AC Córdoba  Goalkeeper   185.0   23           1   \n",
       "\n",
       "      goals conceded  clean sheets  minutes played  days_injured  \\\n",
       "1459             0.0     18.000000               5             0   \n",
       "2001             0.0      9.000000              10             6   \n",
       "4248             0.0      8.181818              11             0   \n",
       "7897             0.0     18.000000               5             0   \n",
       "\n",
       "      games_injured  award  current_value  highest_value  position_encoded  \\\n",
       "1459              0      0         300000         400000                 1   \n",
       "2001              1      1          50000         100000                 1   \n",
       "4248              0      3         100000         100000                 1   \n",
       "7897              0      0          25000          25000                 1   \n",
       "\n",
       "      winger  \n",
       "1459       0  \n",
       "2001       0  \n",
       "4248       0  \n",
       "7897       0  "
      ]
     },
     "execution_count": 104,
     "metadata": {},
     "output_type": "execute_result"
    }
   ],
   "source": [
    "df_gk[df_gk['clean sheets'] >6] # seems like this is out of the pattern (between 0-5)"
   ]
  },
  {
   "cell_type": "code",
   "execution_count": 105,
   "metadata": {},
   "outputs": [],
   "source": [
    "df_gk = df_gk[df_gk['clean sheets'] < 6] #filter outliers"
   ]
  },
  {
   "cell_type": "code",
   "execution_count": 106,
   "metadata": {},
   "outputs": [
    {
     "data": {
      "text/plain": [
       "Index(['team', 'position', 'height', 'age', 'appearance', 'goals conceded',\n",
       "       'clean sheets', 'minutes played', 'days_injured', 'games_injured',\n",
       "       'award', 'current_value', 'highest_value', 'position_encoded',\n",
       "       'winger'],\n",
       "      dtype='object')"
      ]
     },
     "execution_count": 106,
     "metadata": {},
     "output_type": "execute_result"
    }
   ],
   "source": [
    "df_gk.columns"
   ]
  },
  {
   "cell_type": "code",
   "execution_count": 110,
   "metadata": {},
   "outputs": [],
   "source": [
    "# Convert categorical variables using OneHotEncoding\n",
    "df_gk.drop(['position', 'position_encoded','winger'], axis=1, inplace=True)\n",
    "categorical_features = ['team']\n",
    "numeric_features = ['height', 'age', 'appearance', 'goals conceded',\n",
    "      'clean sheets', 'minutes played', 'days_injured', 'games_injured',\n",
    "      'award','highest_value']"
   ]
  },
  {
   "cell_type": "markdown",
   "metadata": {},
   "source": [
    "#### Feature Enginering for GK dataset"
   ]
  },
  {
   "cell_type": "code",
   "execution_count": 111,
   "metadata": {},
   "outputs": [],
   "source": [
    "df_gk = pd.get_dummies(df_gk, columns=categorical_features)"
   ]
  },
  {
   "cell_type": "code",
   "execution_count": 112,
   "metadata": {},
   "outputs": [
    {
     "name": "stdout",
     "output_type": "stream",
     "text": [
      "current_value                  1.000000\n",
      "highest_value                  0.870517\n",
      "minutes played                 0.464945\n",
      "appearance                     0.464145\n",
      "award                          0.211957\n",
      "                                 ...   \n",
      "team_Daejeon Hana Citizen     -0.020761\n",
      "team_Daegu FC                 -0.020996\n",
      "team_Jeonbuk Hyundai Motors   -0.021153\n",
      "team_Swallows FC              -0.021388\n",
      "team_Kashiwa Reysol           -0.021780\n",
      "Name: current_value, Length: 381, dtype: float64\n"
     ]
    }
   ],
   "source": [
    "correlation = df_gk.corr()\n",
    "print(correlation['current_value'].sort_values(ascending=False))"
   ]
  },
  {
   "cell_type": "code",
   "execution_count": 114,
   "metadata": {},
   "outputs": [
    {
     "data": {
      "text/plain": [
       "Index(['appearance', 'minutes played', 'award', 'current_value',\n",
       "       'highest_value', 'team_Paris Saint-Germain'],\n",
       "      dtype='object')"
      ]
     },
     "execution_count": 114,
     "metadata": {},
     "output_type": "execute_result"
    }
   ],
   "source": [
    "# Set the correlation threshold\n",
    "threshold = 0.2  # You can change this value based on your requirement\n",
    "\n",
    "# Filter the correlations\n",
    "# We use `abs()` for absolute value to consider both strong positive and negative correlations\n",
    "selected_features = correlation[abs(correlation['current_value']) > threshold]['current_value'].index\n",
    "selected_features"
   ]
  },
  {
   "cell_type": "code",
   "execution_count": null,
   "metadata": {},
   "outputs": [],
   "source": [
    "selected_features = ['appearance', 'minutes played', 'award', \n",
    "       'highest_value'] #selected feature for modeling"
   ]
  },
  {
   "cell_type": "code",
   "execution_count": 116,
   "metadata": {},
   "outputs": [],
   "source": [
    "# Prepare data\n",
    "X = df_gk.drop(['current_value'], axis=1)\n",
    "y = df_gk['current_value']\n",
    "\n",
    "# Split data into training and testing sets\n",
    "X_train, X_test, y_train, y_test = train_test_split(X, y,\n",
    "                                                    test_size=0.2,\n",
    "                                                    shuffle=True,\n",
    "                                                    random_state=42)\n",
    "\n",
    "# sacle the data\n",
    "scaler = StandardScaler()\n",
    "scaler.fit(X_train)\n",
    "X_train_scaled = scaler.transform(X_train)\n",
    "X_test_scaled = scaler.transform(X_test)"
   ]
  },
  {
   "cell_type": "code",
   "execution_count": 117,
   "metadata": {},
   "outputs": [],
   "source": [
    "model = LinearRegression() #bulding the model"
   ]
  },
  {
   "cell_type": "code",
   "execution_count": 118,
   "metadata": {},
   "outputs": [
    {
     "data": {
      "text/plain": [
       "LinearRegression()"
      ]
     },
     "execution_count": 118,
     "metadata": {},
     "output_type": "execute_result"
    }
   ],
   "source": [
    "# Fit the model on the training data\n",
    "model.fit(X_train_scaled, y_train)"
   ]
  },
  {
   "cell_type": "code",
   "execution_count": 119,
   "metadata": {},
   "outputs": [],
   "source": [
    "# Predict and evaluate the model\n",
    "y_pred = model.predict(X_test_scaled)    # Linear regression model"
   ]
  },
  {
   "cell_type": "code",
   "execution_count": 121,
   "metadata": {},
   "outputs": [
    {
     "data": {
      "text/html": [
       "<div>\n",
       "<style scoped>\n",
       "    .dataframe tbody tr th:only-of-type {\n",
       "        vertical-align: middle;\n",
       "    }\n",
       "\n",
       "    .dataframe tbody tr th {\n",
       "        vertical-align: top;\n",
       "    }\n",
       "\n",
       "    .dataframe thead th {\n",
       "        text-align: right;\n",
       "    }\n",
       "</style>\n",
       "<table border=\"1\" class=\"dataframe\">\n",
       "  <thead>\n",
       "    <tr style=\"text-align: right;\">\n",
       "      <th></th>\n",
       "      <th>Coefficient</th>\n",
       "    </tr>\n",
       "  </thead>\n",
       "  <tbody>\n",
       "    <tr>\n",
       "      <th>height</th>\n",
       "      <td>1.049115e+05</td>\n",
       "    </tr>\n",
       "    <tr>\n",
       "      <th>age</th>\n",
       "      <td>-2.956981e+05</td>\n",
       "    </tr>\n",
       "    <tr>\n",
       "      <th>appearance</th>\n",
       "      <td>-6.904191e+06</td>\n",
       "    </tr>\n",
       "    <tr>\n",
       "      <th>goals conceded</th>\n",
       "      <td>-2.511244e+04</td>\n",
       "    </tr>\n",
       "    <tr>\n",
       "      <th>clean sheets</th>\n",
       "      <td>9.564794e+04</td>\n",
       "    </tr>\n",
       "    <tr>\n",
       "      <th>...</th>\n",
       "      <td>...</td>\n",
       "    </tr>\n",
       "    <tr>\n",
       "      <th>team_Wolverhampton Wanderers</th>\n",
       "      <td>-5.782234e+17</td>\n",
       "    </tr>\n",
       "    <tr>\n",
       "      <th>team_Yokohama F. Marinos</th>\n",
       "      <td>-5.782234e+17</td>\n",
       "    </tr>\n",
       "    <tr>\n",
       "      <th>team_Yokohama FC</th>\n",
       "      <td>-3.342323e+17</td>\n",
       "    </tr>\n",
       "    <tr>\n",
       "      <th>team_Zenit St. Petersburg</th>\n",
       "      <td>-4.723967e+17</td>\n",
       "    </tr>\n",
       "    <tr>\n",
       "      <th>team_Ümraniyespor</th>\n",
       "      <td>-5.782234e+17</td>\n",
       "    </tr>\n",
       "  </tbody>\n",
       "</table>\n",
       "<p>380 rows × 1 columns</p>\n",
       "</div>"
      ],
      "text/plain": [
       "                               Coefficient\n",
       "height                        1.049115e+05\n",
       "age                          -2.956981e+05\n",
       "appearance                   -6.904191e+06\n",
       "goals conceded               -2.511244e+04\n",
       "clean sheets                  9.564794e+04\n",
       "...                                    ...\n",
       "team_Wolverhampton Wanderers -5.782234e+17\n",
       "team_Yokohama F. Marinos     -5.782234e+17\n",
       "team_Yokohama FC             -3.342323e+17\n",
       "team_Zenit St. Petersburg    -4.723967e+17\n",
       "team_Ümraniyespor            -5.782234e+17\n",
       "\n",
       "[380 rows x 1 columns]"
      ]
     },
     "execution_count": 121,
     "metadata": {},
     "output_type": "execute_result"
    }
   ],
   "source": [
    "coeff_df = pd.DataFrame(model.coef_,X.columns,columns=['Coefficient'])                  # Linear model cofficients\n",
    "coeff_df\n"
   ]
  },
  {
   "cell_type": "code",
   "execution_count": 122,
   "metadata": {},
   "outputs": [
    {
     "name": "stdout",
     "output_type": "stream",
     "text": [
      " Linear regression intercept: 1594475.0273062473\n"
     ]
    }
   ],
   "source": [
    "print(f\" Linear regression intercept: {model.intercept_}\") \n"
   ]
  },
  {
   "cell_type": "code",
   "execution_count": 123,
   "metadata": {},
   "outputs": [],
   "source": [
    "#Evaluating the Model\n",
    "y_base = [y_train.mean()] * len(y_test)\n"
   ]
  },
  {
   "cell_type": "code",
   "execution_count": 124,
   "metadata": {},
   "outputs": [
    {
     "name": "stdout",
     "output_type": "stream",
     "text": [
      "Mean Squared Error of base model: 9.874577e+12\n"
     ]
    }
   ],
   "source": [
    " #our benchmark model\n",
    "mse_base = mean_squared_error(y_test, y_base )\n",
    "print(f'Mean Squared Error of base model: {mse_base:2e}')"
   ]
  },
  {
   "cell_type": "code",
   "execution_count": 125,
   "metadata": {},
   "outputs": [],
   "source": [
    "predictions = model.predict(X_test_scaled)\n",
    "#predictions"
   ]
  },
  {
   "cell_type": "code",
   "execution_count": 126,
   "metadata": {},
   "outputs": [],
   "source": [
    "Real_Values = np.array(y_test)\n",
    "# Real_Values"
   ]
  },
  {
   "cell_type": "code",
   "execution_count": 127,
   "metadata": {},
   "outputs": [
    {
     "data": {
      "image/png": "[encoded data removed]",
      "text/plain": [
       "<Figure size 640x480 with 1 Axes>"
      ]
     },
     "metadata": {},
     "output_type": "display_data"
    }
   ],
   "source": [
    "plt.scatter(Real_Values,predictions); \n"
   ]
  },
  {
   "cell_type": "code",
   "execution_count": null,
   "metadata": {},
   "outputs": [],
   "source": [
    "sns.distplot((y_test-predictions),bins=50); # it's good if we get normal distribution\n"
   ]
  },
  {
   "cell_type": "code",
   "execution_count": null,
   "metadata": {},
   "outputs": [],
   "source": []
  },
  {
   "cell_type": "code",
   "execution_count": null,
   "metadata": {},
   "outputs": [],
   "source": []
  },
  {
   "cell_type": "code",
   "execution_count": null,
   "metadata": {},
   "outputs": [],
   "source": []
  },
  {
   "cell_type": "code",
   "execution_count": null,
   "metadata": {},
   "outputs": [],
   "source": []
  },
  {
   "cell_type": "code",
   "execution_count": null,
   "metadata": {},
   "outputs": [],
   "source": []
  },
  {
   "cell_type": "markdown",
   "metadata": {},
   "source": []
  },
  {
   "cell_type": "code",
   "execution_count": null,
   "metadata": {},
   "outputs": [],
   "source": []
  },
  {
   "cell_type": "code",
   "execution_count": null,
   "metadata": {},
   "outputs": [],
   "source": []
  }
 ],
 "metadata": {
  "kernelspec": {
   "display_name": "base",
   "language": "python",
   "name": "python3"
  },
  "language_info": {
   "codemirror_mode": {
    "name": "ipython",
    "version": 3
   },
   "file_extension": ".py",
   "mimetype": "text/x-python",
   "name": "python",
   "nbconvert_exporter": "python",
   "pygments_lexer": "ipython3",
   "version": "3.9.13"
  }
 },
 "nbformat": 4,
 "nbformat_minor": 2
}
