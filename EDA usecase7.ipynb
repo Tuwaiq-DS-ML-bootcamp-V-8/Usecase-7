{
 "cells": [
  {
   "cell_type": "code",
   "execution_count": null,
   "id": "e69c4ba1-85f3-4a02-ae37-c64347a01803",
   "metadata": {},
   "outputs": [],
   "source": [
    "#Import all relevant libraries\n",
    "import numpy as np\n",
    "import pandas as pd\n",
    "import matplotlib.pyplot as plt\n",
    "import seaborn as sns\n",
    "from scipy.stats import zscore\n",
    "\n",
    "from sklearn.model_selection import train_test_split\n",
    "from sklearn.metrics import mean_squared_error, r2_score, mean_absolute_error\n",
    "from sklearn.preprocessing import StandardScaler\n",
    "from sklearn.linear_model import LinearRegression, Ridge, Lasso\n",
    "from sklearn.model_selection import GridSearchCV\n",
    "from sklearn import metrics\n",
    "\n",
    "## This statement allows the visuals to render within your Jupyter Notebook.\n",
    "%matplotlib inline"
   ]
  },
  {
   "cell_type": "markdown",
   "id": "e395e8bf-b530-4720-8d0f-26811e927d6e",
   "metadata": {},
   "source": [
    "## Loading the data\n",
    "We can now load the dataset into pandas using the read_csv() function. This converts the CSV file into a Pandas dataframe."
   ]
  },
  {
   "cell_type": "code",
   "execution_count": 92,
   "id": "cf4030b0-aa7f-4bd7-8e9c-c1b7f4d202d0",
   "metadata": {},
   "outputs": [],
   "source": [
    "df = pd.read_csv(r\"C:\\Users\\saalf\\OneDrive\\المستندات\\final_data.csv\")"
   ]
  },
  {
   "cell_type": "markdown",
   "id": "ca5ed983-0f72-43eb-8168-6fafd48c562e",
   "metadata": {},
   "source": [
    "### Viewing the dataframe\n",
    "We can get a quick sense of the size of our dataset by using the shape method. This returns a tuple with the number of rows and columns in the dataset."
   ]
  },
  {
   "cell_type": "markdown",
   "id": "bd2b5bc4-db37-4432-b666-0714afd0c4ca",
   "metadata": {},
   "source": [
    "## 1. Data Profiling:\n",
    "Data profiling is a comprehensive process of examining the data available in an existing dataset and collecting statistics and information about that data. "
   ]
  },
  {
   "cell_type": "code",
   "execution_count": 22,
   "id": "672f2081-5a2c-4908-8cbd-29519fb3cac5",
   "metadata": {},
   "outputs": [
    {
     "data": {
      "text/plain": [
       "(10754, 22)"
      ]
     },
     "execution_count": 22,
     "metadata": {},
     "output_type": "execute_result"
    }
   ],
   "source": [
    "df.shape"
   ]
  },
  {
   "cell_type": "code",
   "execution_count": 23,
   "id": "84caf2b0-cf04-4d98-9a57-71feef1c22d7",
   "metadata": {},
   "outputs": [
    {
     "data": {
      "text/html": [
       "<div>\n",
       "<style scoped>\n",
       "    .dataframe tbody tr th:only-of-type {\n",
       "        vertical-align: middle;\n",
       "    }\n",
       "\n",
       "    .dataframe tbody tr th {\n",
       "        vertical-align: top;\n",
       "    }\n",
       "\n",
       "    .dataframe thead th {\n",
       "        text-align: right;\n",
       "    }\n",
       "</style>\n",
       "<table border=\"1\" class=\"dataframe\">\n",
       "  <thead>\n",
       "    <tr style=\"text-align: right;\">\n",
       "      <th></th>\n",
       "      <th>player</th>\n",
       "      <th>team</th>\n",
       "      <th>name</th>\n",
       "      <th>position</th>\n",
       "      <th>height</th>\n",
       "      <th>age</th>\n",
       "      <th>appearance</th>\n",
       "      <th>goals</th>\n",
       "      <th>assists</th>\n",
       "      <th>yellow cards</th>\n",
       "      <th>...</th>\n",
       "      <th>goals conceded</th>\n",
       "      <th>clean sheets</th>\n",
       "      <th>minutes played</th>\n",
       "      <th>days_injured</th>\n",
       "      <th>games_injured</th>\n",
       "      <th>award</th>\n",
       "      <th>current_value</th>\n",
       "      <th>highest_value</th>\n",
       "      <th>position_encoded</th>\n",
       "      <th>winger</th>\n",
       "    </tr>\n",
       "  </thead>\n",
       "  <tbody>\n",
       "    <tr>\n",
       "      <th>0</th>\n",
       "      <td>/david-de-gea/profil/spieler/59377</td>\n",
       "      <td>Manchester United</td>\n",
       "      <td>David de Gea</td>\n",
       "      <td>Goalkeeper</td>\n",
       "      <td>189.0</td>\n",
       "      <td>32.0</td>\n",
       "      <td>104</td>\n",
       "      <td>0.000000</td>\n",
       "      <td>0.000000</td>\n",
       "      <td>0.009585</td>\n",
       "      <td>...</td>\n",
       "      <td>1.217252</td>\n",
       "      <td>0.335463</td>\n",
       "      <td>9390</td>\n",
       "      <td>42</td>\n",
       "      <td>5</td>\n",
       "      <td>13</td>\n",
       "      <td>15000000</td>\n",
       "      <td>70000000</td>\n",
       "      <td>1</td>\n",
       "      <td>0</td>\n",
       "    </tr>\n",
       "    <tr>\n",
       "      <th>1</th>\n",
       "      <td>/jack-butland/profil/spieler/128899</td>\n",
       "      <td>Manchester United</td>\n",
       "      <td>Jack Butland</td>\n",
       "      <td>Goalkeeper</td>\n",
       "      <td>196.0</td>\n",
       "      <td>30.0</td>\n",
       "      <td>15</td>\n",
       "      <td>0.000000</td>\n",
       "      <td>0.000000</td>\n",
       "      <td>0.069018</td>\n",
       "      <td>...</td>\n",
       "      <td>1.242331</td>\n",
       "      <td>0.207055</td>\n",
       "      <td>1304</td>\n",
       "      <td>510</td>\n",
       "      <td>58</td>\n",
       "      <td>1</td>\n",
       "      <td>1500000</td>\n",
       "      <td>22000000</td>\n",
       "      <td>1</td>\n",
       "      <td>0</td>\n",
       "    </tr>\n",
       "    <tr>\n",
       "      <th>2</th>\n",
       "      <td>/tom-heaton/profil/spieler/34130</td>\n",
       "      <td>Manchester United</td>\n",
       "      <td>Tom Heaton</td>\n",
       "      <td>Goalkeeper</td>\n",
       "      <td>188.0</td>\n",
       "      <td>37.0</td>\n",
       "      <td>4</td>\n",
       "      <td>0.000000</td>\n",
       "      <td>0.000000</td>\n",
       "      <td>0.000000</td>\n",
       "      <td>...</td>\n",
       "      <td>0.616438</td>\n",
       "      <td>0.924658</td>\n",
       "      <td>292</td>\n",
       "      <td>697</td>\n",
       "      <td>84</td>\n",
       "      <td>4</td>\n",
       "      <td>600000</td>\n",
       "      <td>6000000</td>\n",
       "      <td>1</td>\n",
       "      <td>0</td>\n",
       "    </tr>\n",
       "    <tr>\n",
       "      <th>3</th>\n",
       "      <td>/lisandro-martinez/profil/spieler/480762</td>\n",
       "      <td>Manchester United</td>\n",
       "      <td>Lisandro Martínez</td>\n",
       "      <td>Defender Centre-Back</td>\n",
       "      <td>175.0</td>\n",
       "      <td>25.0</td>\n",
       "      <td>82</td>\n",
       "      <td>0.028090</td>\n",
       "      <td>0.056180</td>\n",
       "      <td>0.224719</td>\n",
       "      <td>...</td>\n",
       "      <td>0.000000</td>\n",
       "      <td>0.000000</td>\n",
       "      <td>6408</td>\n",
       "      <td>175</td>\n",
       "      <td>22</td>\n",
       "      <td>9</td>\n",
       "      <td>50000000</td>\n",
       "      <td>50000000</td>\n",
       "      <td>2</td>\n",
       "      <td>0</td>\n",
       "    </tr>\n",
       "    <tr>\n",
       "      <th>4</th>\n",
       "      <td>/raphael-varane/profil/spieler/164770</td>\n",
       "      <td>Manchester United</td>\n",
       "      <td>Raphaël Varane</td>\n",
       "      <td>Defender Centre-Back</td>\n",
       "      <td>191.0</td>\n",
       "      <td>30.0</td>\n",
       "      <td>63</td>\n",
       "      <td>0.017889</td>\n",
       "      <td>0.017889</td>\n",
       "      <td>0.053667</td>\n",
       "      <td>...</td>\n",
       "      <td>0.000000</td>\n",
       "      <td>0.000000</td>\n",
       "      <td>5031</td>\n",
       "      <td>238</td>\n",
       "      <td>51</td>\n",
       "      <td>21</td>\n",
       "      <td>40000000</td>\n",
       "      <td>80000000</td>\n",
       "      <td>2</td>\n",
       "      <td>0</td>\n",
       "    </tr>\n",
       "  </tbody>\n",
       "</table>\n",
       "<p>5 rows × 22 columns</p>\n",
       "</div>"
      ],
      "text/plain": [
       "                                     player               team  \\\n",
       "0        /david-de-gea/profil/spieler/59377  Manchester United   \n",
       "1       /jack-butland/profil/spieler/128899  Manchester United   \n",
       "2          /tom-heaton/profil/spieler/34130  Manchester United   \n",
       "3  /lisandro-martinez/profil/spieler/480762  Manchester United   \n",
       "4     /raphael-varane/profil/spieler/164770  Manchester United   \n",
       "\n",
       "                name              position  height   age  appearance  \\\n",
       "0       David de Gea            Goalkeeper   189.0  32.0         104   \n",
       "1       Jack Butland            Goalkeeper   196.0  30.0          15   \n",
       "2         Tom Heaton            Goalkeeper   188.0  37.0           4   \n",
       "3  Lisandro Martínez  Defender Centre-Back   175.0  25.0          82   \n",
       "4     Raphaël Varane  Defender Centre-Back   191.0  30.0          63   \n",
       "\n",
       "      goals   assists  yellow cards  ...  goals conceded  clean sheets  \\\n",
       "0  0.000000  0.000000      0.009585  ...        1.217252      0.335463   \n",
       "1  0.000000  0.000000      0.069018  ...        1.242331      0.207055   \n",
       "2  0.000000  0.000000      0.000000  ...        0.616438      0.924658   \n",
       "3  0.028090  0.056180      0.224719  ...        0.000000      0.000000   \n",
       "4  0.017889  0.017889      0.053667  ...        0.000000      0.000000   \n",
       "\n",
       "   minutes played  days_injured  games_injured  award  current_value  \\\n",
       "0            9390            42              5     13       15000000   \n",
       "1            1304           510             58      1        1500000   \n",
       "2             292           697             84      4         600000   \n",
       "3            6408           175             22      9       50000000   \n",
       "4            5031           238             51     21       40000000   \n",
       "\n",
       "   highest_value  position_encoded  winger  \n",
       "0       70000000                 1       0  \n",
       "1       22000000                 1       0  \n",
       "2        6000000                 1       0  \n",
       "3       50000000                 2       0  \n",
       "4       80000000                 2       0  \n",
       "\n",
       "[5 rows x 22 columns]"
      ]
     },
     "execution_count": 23,
     "metadata": {},
     "output_type": "execute_result"
    }
   ],
   "source": [
    "df.head()"
   ]
  },
  {
   "cell_type": "markdown",
   "id": "834929aa-fd6a-4ec5-84d4-77c4b3c1a506",
   "metadata": {},
   "source": [
    "The process of profiling differs slightly for categorical and numerical variables due to their inherent differences.\n",
    "\n",
    "**The two main types of data are:**\n",
    "- Quantitative (numerical) data\n",
    "- Qualitative (categorical) data"
   ]
  },
  {
   "cell_type": "markdown",
   "id": "3a9954f5-6fbc-45b4-ad86-3e21b6e0ca2d",
   "metadata": {},
   "source": [
    "### Data Quality Checks\n",
    "Data quality checks involve the process of ensuring that the data is accurate, complete, consistent, relevant, and reliable. \n",
    "\n",
    "\n",
    "**Here are typical steps involved in checking data quality:**"
   ]
  },
  {
   "cell_type": "markdown",
   "id": "4818c876-173d-4e56-9e7d-b4334d2def25",
   "metadata": {},
   "source": [
    "#### 1. Reliability:\n",
    "Evaluate the data's source and collection process to determine its trustworthiness."
   ]
  },
  {
   "cell_type": "code",
   "execution_count": 58,
   "id": "9034ae7b-dc1d-4cba-8f9e-bb499d021cde",
   "metadata": {},
   "outputs": [],
   "source": []
  },
  {
   "cell_type": "markdown",
   "id": "2ce0cc59-8c92-4acc-8d07-c40764e1a86b",
   "metadata": {},
   "source": [
    "#### 2. Timeliness: \n",
    "Ensure the data is up-to-date and reflective of the current situation or the period of interest for the analysis."
   ]
  },
  {
   "cell_type": "code",
   "execution_count": null,
   "id": "4b78ae35-7226-4cb6-b8b2-a46c2ed17cf9",
   "metadata": {},
   "outputs": [],
   "source": []
  },
  {
   "cell_type": "markdown",
   "id": "7fab0fe2-6624-4615-b9d8-3c3669056bf8",
   "metadata": {},
   "source": [
    "#### 3. Consistency: \n",
    "\n",
    "Confirm that the data is consistent within the dataset and across multiple data sources. For example, the same data point should not have different values in different places.\n"
   ]
  },
  {
   "cell_type": "code",
   "execution_count": 59,
   "id": "7fecc573-959f-4800-8ddd-a67985c68b18",
   "metadata": {},
   "outputs": [],
   "source": [
    "# only one dataset is used, consistency is not applied"
   ]
  },
  {
   "cell_type": "markdown",
   "id": "bec3d183-bba0-4b12-b963-487daab1e876",
   "metadata": {},
   "source": [
    "#### 4. Relevance: \n",
    "Assess whether the data is appropriate and applicable for the intended analysis. Data that is not relevant can skew results and lead to incorrect conclusions.\n",
    "\n",
    "**Key considerations for relevance include:**\n",
    "\n",
    "> 1. Sample Appropriateness: Confirm that your data sample aligns with your analysis objectives. For instance, utilizing data from the Northern region will not yield accurate insights for the Western region of the Kingdom.\n",
    ">\n",
    "> 2. Variable Selection: Any column will not be relevant for our analysis, we can get rid of these using the drop() method. We will set the “axis” argument to 1 since we’re dealing with columns, and set the “inplace” argument to True to make the change permanent.\n"
   ]
  },
  {
   "cell_type": "code",
   "execution_count": null,
   "id": "ae6deb2b-bad3-4fe8-abf4-b977c48e459a",
   "metadata": {},
   "outputs": [],
   "source": [
    "# all columns are relevant "
   ]
  },
  {
   "cell_type": "markdown",
   "id": "0f5e3a2a-bbb7-4d06-8220-c93277b70146",
   "metadata": {},
   "source": [
    "#### 5. Uniqueness: \n",
    "Check for and remove duplicate records to prevent skewed analysis results.\n"
   ]
  },
  {
   "cell_type": "code",
   "execution_count": 33,
   "id": "04c62559-3b48-48cf-a4e9-857e2e0ff416",
   "metadata": {},
   "outputs": [
    {
     "data": {
      "text/plain": [
       "0"
      ]
     },
     "execution_count": 33,
     "metadata": {},
     "output_type": "execute_result"
    }
   ],
   "source": [
    "# go to delete duplicates columns\n",
    "df.duplicated().sum()"
   ]
  },
  {
   "cell_type": "markdown",
   "id": "c7724ac2-4ea2-4cf4-a9e0-e64368f87b92",
   "metadata": {},
   "source": [
    "#### 6. Completeness: \n",
    "Ensure that no critical data is missing. This might mean checking for null values or required fields that are empty.\n",
    "\n",
    "We will start by checking the dataset for missing or null values. For this, we can use the isna() method which returns a dataframe of boolean values indicating if a field is null or not. To group all missing values by column, we can include the sum() method."
   ]
  },
  {
   "cell_type": "code",
   "execution_count": 34,
   "id": "48a4de54-a344-4b94-9908-9528c15c13f7",
   "metadata": {},
   "outputs": [
    {
     "data": {
      "text/plain": [
       "player                 0\n",
       "team                   0\n",
       "name                   0\n",
       "position               0\n",
       "height                 0\n",
       "age                    0\n",
       "appearance             0\n",
       "goals                  0\n",
       "assists                0\n",
       "yellow cards           0\n",
       "second yellow cards    0\n",
       "red cards              0\n",
       "goals conceded         0\n",
       "clean sheets           0\n",
       "minutes played         0\n",
       "days_injured           0\n",
       "games_injured          0\n",
       "award                  0\n",
       "current_value          0\n",
       "highest_value          0\n",
       "position_encoded       0\n",
       "winger                 0\n",
       "dtype: int64"
      ]
     },
     "execution_count": 34,
     "metadata": {},
     "output_type": "execute_result"
    }
   ],
   "source": [
    "df.isnull().sum()"
   ]
  },
  {
   "cell_type": "markdown",
   "id": "b40de63c-5a1d-49ed-a87e-c5229ee08bbe",
   "metadata": {},
   "source": [
    "#### 7. Check Accuracy:\n",
    "\n",
    "Verify that the data is correct and precise. This could involve comparing data samples with known sources or using validation rules.\n",
    "\n",
    "**The process includes:**\n",
    "1. Validating the appropriateness of data types for the dataset.\n",
    "2. Identifying outliers  using established validation  rule"
   ]
  },
  {
   "cell_type": "code",
   "execution_count": 35,
   "id": "68be5334-ae10-4abd-8097-3259fe5e72c8",
   "metadata": {},
   "outputs": [
    {
     "data": {
      "text/plain": [
       "player                  object\n",
       "team                    object\n",
       "name                    object\n",
       "position                object\n",
       "height                 float64\n",
       "age                    float64\n",
       "appearance               int64\n",
       "goals                  float64\n",
       "assists                float64\n",
       "yellow cards           float64\n",
       "second yellow cards    float64\n",
       "red cards              float64\n",
       "goals conceded         float64\n",
       "clean sheets           float64\n",
       "minutes played           int64\n",
       "days_injured             int64\n",
       "games_injured            int64\n",
       "award                    int64\n",
       "current_value            int64\n",
       "highest_value            int64\n",
       "position_encoded         int64\n",
       "winger                   int64\n",
       "dtype: object"
      ]
     },
     "execution_count": 35,
     "metadata": {},
     "output_type": "execute_result"
    }
   ],
   "source": [
    "# check columns types \n",
    "df.dtypes"
   ]
  },
  {
   "cell_type": "code",
   "execution_count": 36,
   "id": "2ee790ba-dcc0-45f1-b6f8-0133e913e149",
   "metadata": {},
   "outputs": [],
   "source": [
    "# go to clean them \n",
    "categorical_features = ['player', 'team', 'name', 'position']\n",
    "numeric_features = ['height', 'age', 'appearance', 'goals', 'assists', 'yellow cards', 'second yellow cards', 'red cards', 'goals conceded', 'clean sheets', 'minutes played', 'minutes played', 'days_injured', 'games_injured', 'award', 'current_value', 'highest_value', 'position_encoded', 'winger']"
   ]
  },
  {
   "cell_type": "code",
   "execution_count": 111,
   "id": "fba61682-68a8-41c0-97e8-30be9b81d2fd",
   "metadata": {},
   "outputs": [
    {
     "data": {
      "text/html": [
       "<div>\n",
       "<style scoped>\n",
       "    .dataframe tbody tr th:only-of-type {\n",
       "        vertical-align: middle;\n",
       "    }\n",
       "\n",
       "    .dataframe tbody tr th {\n",
       "        vertical-align: top;\n",
       "    }\n",
       "\n",
       "    .dataframe thead th {\n",
       "        text-align: right;\n",
       "    }\n",
       "</style>\n",
       "<table border=\"1\" class=\"dataframe\">\n",
       "  <thead>\n",
       "    <tr style=\"text-align: right;\">\n",
       "      <th></th>\n",
       "      <th>player</th>\n",
       "      <th>team</th>\n",
       "      <th>name</th>\n",
       "      <th>position</th>\n",
       "      <th>height</th>\n",
       "      <th>age</th>\n",
       "      <th>appearance</th>\n",
       "      <th>goals</th>\n",
       "      <th>assists</th>\n",
       "      <th>yellow cards</th>\n",
       "      <th>...</th>\n",
       "      <th>goals conceded</th>\n",
       "      <th>clean sheets</th>\n",
       "      <th>minutes played</th>\n",
       "      <th>days_injured</th>\n",
       "      <th>games_injured</th>\n",
       "      <th>award</th>\n",
       "      <th>current_value</th>\n",
       "      <th>highest_value</th>\n",
       "      <th>position_encoded</th>\n",
       "      <th>winger</th>\n",
       "    </tr>\n",
       "  </thead>\n",
       "  <tbody>\n",
       "    <tr>\n",
       "      <th>21</th>\n",
       "      <td>/kobbie-mainoo/profil/spieler/820374</td>\n",
       "      <td>Manchester United</td>\n",
       "      <td>Kobbie Mainoo</td>\n",
       "      <td>midfield-CentralMidfield</td>\n",
       "      <td>175.0</td>\n",
       "      <td>18.0</td>\n",
       "      <td>51</td>\n",
       "      <td>0.153759</td>\n",
       "      <td>0.102506</td>\n",
       "      <td>0.000000</td>\n",
       "      <td>...</td>\n",
       "      <td>0.0</td>\n",
       "      <td>0.0</td>\n",
       "      <td>3512</td>\n",
       "      <td>0</td>\n",
       "      <td>0</td>\n",
       "      <td>1</td>\n",
       "      <td>800000</td>\n",
       "      <td>800000</td>\n",
       "      <td>3</td>\n",
       "      <td>0</td>\n",
       "    </tr>\n",
       "    <tr>\n",
       "      <th>26</th>\n",
       "      <td>/alejandro-garnacho/profil/spieler/811779</td>\n",
       "      <td>Manchester United</td>\n",
       "      <td>Alejandro Garnacho</td>\n",
       "      <td>Attack-LeftWinger</td>\n",
       "      <td>180.0</td>\n",
       "      <td>18.0</td>\n",
       "      <td>72</td>\n",
       "      <td>0.525730</td>\n",
       "      <td>0.300417</td>\n",
       "      <td>0.225313</td>\n",
       "      <td>...</td>\n",
       "      <td>0.0</td>\n",
       "      <td>0.0</td>\n",
       "      <td>3595</td>\n",
       "      <td>50</td>\n",
       "      <td>11</td>\n",
       "      <td>2</td>\n",
       "      <td>25000000</td>\n",
       "      <td>25000000</td>\n",
       "      <td>4</td>\n",
       "      <td>1</td>\n",
       "    </tr>\n",
       "    <tr>\n",
       "      <th>178</th>\n",
       "      <td>/facundo-buonanotte/profil/spieler/983989</td>\n",
       "      <td>Brighton &amp;amp; Hove Albion</td>\n",
       "      <td>Facundo Buonanotte</td>\n",
       "      <td>midfield-AttackingMidfield</td>\n",
       "      <td>174.0</td>\n",
       "      <td>18.0</td>\n",
       "      <td>14</td>\n",
       "      <td>0.142857</td>\n",
       "      <td>0.142857</td>\n",
       "      <td>0.285714</td>\n",
       "      <td>...</td>\n",
       "      <td>0.0</td>\n",
       "      <td>0.0</td>\n",
       "      <td>630</td>\n",
       "      <td>10</td>\n",
       "      <td>1</td>\n",
       "      <td>0</td>\n",
       "      <td>9000000</td>\n",
       "      <td>9000000</td>\n",
       "      <td>3</td>\n",
       "      <td>0</td>\n",
       "    </tr>\n",
       "    <tr>\n",
       "      <th>184</th>\n",
       "      <td>/evan-ferguson/profil/spieler/648046</td>\n",
       "      <td>Brighton &amp;amp; Hove Albion</td>\n",
       "      <td>Evan Ferguson</td>\n",
       "      <td>Attack Centre-Forward</td>\n",
       "      <td>183.0</td>\n",
       "      <td>18.0</td>\n",
       "      <td>58</td>\n",
       "      <td>0.666477</td>\n",
       "      <td>0.153802</td>\n",
       "      <td>0.051267</td>\n",
       "      <td>...</td>\n",
       "      <td>0.0</td>\n",
       "      <td>0.0</td>\n",
       "      <td>3511</td>\n",
       "      <td>0</td>\n",
       "      <td>0</td>\n",
       "      <td>0</td>\n",
       "      <td>10000000</td>\n",
       "      <td>10000000</td>\n",
       "      <td>4</td>\n",
       "      <td>0</td>\n",
       "    </tr>\n",
       "    <tr>\n",
       "      <th>386</th>\n",
       "      <td>/stefan-bajcetic/profil/spieler/864799</td>\n",
       "      <td>Liverpool FC</td>\n",
       "      <td>Stefan Bajcetic</td>\n",
       "      <td>midfield-DefensiveMidfield</td>\n",
       "      <td>185.0</td>\n",
       "      <td>18.0</td>\n",
       "      <td>48</td>\n",
       "      <td>0.111352</td>\n",
       "      <td>0.055676</td>\n",
       "      <td>0.222703</td>\n",
       "      <td>...</td>\n",
       "      <td>0.0</td>\n",
       "      <td>0.0</td>\n",
       "      <td>3233</td>\n",
       "      <td>237</td>\n",
       "      <td>27</td>\n",
       "      <td>0</td>\n",
       "      <td>13000000</td>\n",
       "      <td>13000000</td>\n",
       "      <td>3</td>\n",
       "      <td>0</td>\n",
       "    </tr>\n",
       "    <tr>\n",
       "      <th>...</th>\n",
       "      <td>...</td>\n",
       "      <td>...</td>\n",
       "      <td>...</td>\n",
       "      <td>...</td>\n",
       "      <td>...</td>\n",
       "      <td>...</td>\n",
       "      <td>...</td>\n",
       "      <td>...</td>\n",
       "      <td>...</td>\n",
       "      <td>...</td>\n",
       "      <td>...</td>\n",
       "      <td>...</td>\n",
       "      <td>...</td>\n",
       "      <td>...</td>\n",
       "      <td>...</td>\n",
       "      <td>...</td>\n",
       "      <td>...</td>\n",
       "      <td>...</td>\n",
       "      <td>...</td>\n",
       "      <td>...</td>\n",
       "      <td>...</td>\n",
       "    </tr>\n",
       "    <tr>\n",
       "      <th>10709</th>\n",
       "      <td>/panashe-madanha/profil/spieler/1038443</td>\n",
       "      <td>Adelaide United</td>\n",
       "      <td>Panashe Madanha</td>\n",
       "      <td>Defender Right-Back</td>\n",
       "      <td>183.0</td>\n",
       "      <td>18.0</td>\n",
       "      <td>13</td>\n",
       "      <td>0.000000</td>\n",
       "      <td>0.000000</td>\n",
       "      <td>0.000000</td>\n",
       "      <td>...</td>\n",
       "      <td>0.0</td>\n",
       "      <td>0.0</td>\n",
       "      <td>345</td>\n",
       "      <td>0</td>\n",
       "      <td>0</td>\n",
       "      <td>0</td>\n",
       "      <td>75000</td>\n",
       "      <td>75000</td>\n",
       "      <td>2</td>\n",
       "      <td>1</td>\n",
       "    </tr>\n",
       "    <tr>\n",
       "      <th>10714</th>\n",
       "      <td>/jonny-yull/profil/spieler/857060</td>\n",
       "      <td>Adelaide United</td>\n",
       "      <td>Jonny Yull</td>\n",
       "      <td>midfield-CentralMidfield</td>\n",
       "      <td>174.0</td>\n",
       "      <td>18.0</td>\n",
       "      <td>7</td>\n",
       "      <td>0.000000</td>\n",
       "      <td>0.000000</td>\n",
       "      <td>0.772532</td>\n",
       "      <td>...</td>\n",
       "      <td>0.0</td>\n",
       "      <td>0.0</td>\n",
       "      <td>233</td>\n",
       "      <td>31</td>\n",
       "      <td>3</td>\n",
       "      <td>0</td>\n",
       "      <td>150000</td>\n",
       "      <td>150000</td>\n",
       "      <td>3</td>\n",
       "      <td>0</td>\n",
       "    </tr>\n",
       "    <tr>\n",
       "      <th>10720</th>\n",
       "      <td>/nestory-irankunda/profil/spieler/956920</td>\n",
       "      <td>Adelaide United</td>\n",
       "      <td>Nestory Irankunda</td>\n",
       "      <td>Attack-RightWinger</td>\n",
       "      <td>175.0</td>\n",
       "      <td>17.0</td>\n",
       "      <td>35</td>\n",
       "      <td>0.924262</td>\n",
       "      <td>0.231065</td>\n",
       "      <td>1.039795</td>\n",
       "      <td>...</td>\n",
       "      <td>0.0</td>\n",
       "      <td>0.0</td>\n",
       "      <td>779</td>\n",
       "      <td>0</td>\n",
       "      <td>0</td>\n",
       "      <td>0</td>\n",
       "      <td>350000</td>\n",
       "      <td>350000</td>\n",
       "      <td>4</td>\n",
       "      <td>1</td>\n",
       "    </tr>\n",
       "    <tr>\n",
       "      <th>10725</th>\n",
       "      <td>/luka-jovanovic/profil/spieler/1038441</td>\n",
       "      <td>Adelaide United</td>\n",
       "      <td>Luka Jovanovic</td>\n",
       "      <td>Attack Centre-Forward</td>\n",
       "      <td>179.0</td>\n",
       "      <td>18.0</td>\n",
       "      <td>9</td>\n",
       "      <td>0.862620</td>\n",
       "      <td>0.000000</td>\n",
       "      <td>0.000000</td>\n",
       "      <td>...</td>\n",
       "      <td>0.0</td>\n",
       "      <td>0.0</td>\n",
       "      <td>313</td>\n",
       "      <td>0</td>\n",
       "      <td>0</td>\n",
       "      <td>0</td>\n",
       "      <td>75000</td>\n",
       "      <td>75000</td>\n",
       "      <td>4</td>\n",
       "      <td>0</td>\n",
       "    </tr>\n",
       "    <tr>\n",
       "      <th>10753</th>\n",
       "      <td>/alexander-badolato/profil/spieler/957230</td>\n",
       "      <td>Western Sydney Wanderers</td>\n",
       "      <td>Alexander Badolato</td>\n",
       "      <td>Attack Centre-Forward</td>\n",
       "      <td>170.0</td>\n",
       "      <td>18.0</td>\n",
       "      <td>21</td>\n",
       "      <td>0.000000</td>\n",
       "      <td>0.000000</td>\n",
       "      <td>0.086042</td>\n",
       "      <td>...</td>\n",
       "      <td>0.0</td>\n",
       "      <td>0.0</td>\n",
       "      <td>1046</td>\n",
       "      <td>0</td>\n",
       "      <td>0</td>\n",
       "      <td>0</td>\n",
       "      <td>25000</td>\n",
       "      <td>25000</td>\n",
       "      <td>4</td>\n",
       "      <td>0</td>\n",
       "    </tr>\n",
       "  </tbody>\n",
       "</table>\n",
       "<p>329 rows × 22 columns</p>\n",
       "</div>"
      ],
      "text/plain": [
       "                                          player                        team  \\\n",
       "21          /kobbie-mainoo/profil/spieler/820374           Manchester United   \n",
       "26     /alejandro-garnacho/profil/spieler/811779           Manchester United   \n",
       "178    /facundo-buonanotte/profil/spieler/983989  Brighton &amp; Hove Albion   \n",
       "184         /evan-ferguson/profil/spieler/648046  Brighton &amp; Hove Albion   \n",
       "386       /stefan-bajcetic/profil/spieler/864799                Liverpool FC   \n",
       "...                                          ...                         ...   \n",
       "10709    /panashe-madanha/profil/spieler/1038443             Adelaide United   \n",
       "10714          /jonny-yull/profil/spieler/857060             Adelaide United   \n",
       "10720   /nestory-irankunda/profil/spieler/956920             Adelaide United   \n",
       "10725     /luka-jovanovic/profil/spieler/1038441             Adelaide United   \n",
       "10753  /alexander-badolato/profil/spieler/957230    Western Sydney Wanderers   \n",
       "\n",
       "                     name                    position  height   age  \\\n",
       "21          Kobbie Mainoo    midfield-CentralMidfield   175.0  18.0   \n",
       "26     Alejandro Garnacho           Attack-LeftWinger   180.0  18.0   \n",
       "178    Facundo Buonanotte  midfield-AttackingMidfield   174.0  18.0   \n",
       "184         Evan Ferguson       Attack Centre-Forward   183.0  18.0   \n",
       "386       Stefan Bajcetic  midfield-DefensiveMidfield   185.0  18.0   \n",
       "...                   ...                         ...     ...   ...   \n",
       "10709     Panashe Madanha         Defender Right-Back   183.0  18.0   \n",
       "10714          Jonny Yull    midfield-CentralMidfield   174.0  18.0   \n",
       "10720   Nestory Irankunda          Attack-RightWinger   175.0  17.0   \n",
       "10725      Luka Jovanovic       Attack Centre-Forward   179.0  18.0   \n",
       "10753  Alexander Badolato       Attack Centre-Forward   170.0  18.0   \n",
       "\n",
       "       appearance     goals   assists  yellow cards  ...  goals conceded  \\\n",
       "21             51  0.153759  0.102506      0.000000  ...             0.0   \n",
       "26             72  0.525730  0.300417      0.225313  ...             0.0   \n",
       "178            14  0.142857  0.142857      0.285714  ...             0.0   \n",
       "184            58  0.666477  0.153802      0.051267  ...             0.0   \n",
       "386            48  0.111352  0.055676      0.222703  ...             0.0   \n",
       "...           ...       ...       ...           ...  ...             ...   \n",
       "10709          13  0.000000  0.000000      0.000000  ...             0.0   \n",
       "10714           7  0.000000  0.000000      0.772532  ...             0.0   \n",
       "10720          35  0.924262  0.231065      1.039795  ...             0.0   \n",
       "10725           9  0.862620  0.000000      0.000000  ...             0.0   \n",
       "10753          21  0.000000  0.000000      0.086042  ...             0.0   \n",
       "\n",
       "       clean sheets  minutes played  days_injured  games_injured  award  \\\n",
       "21              0.0            3512             0              0      1   \n",
       "26              0.0            3595            50             11      2   \n",
       "178             0.0             630            10              1      0   \n",
       "184             0.0            3511             0              0      0   \n",
       "386             0.0            3233           237             27      0   \n",
       "...             ...             ...           ...            ...    ...   \n",
       "10709           0.0             345             0              0      0   \n",
       "10714           0.0             233            31              3      0   \n",
       "10720           0.0             779             0              0      0   \n",
       "10725           0.0             313             0              0      0   \n",
       "10753           0.0            1046             0              0      0   \n",
       "\n",
       "       current_value  highest_value  position_encoded  winger  \n",
       "21            800000         800000                 3       0  \n",
       "26          25000000       25000000                 4       1  \n",
       "178          9000000        9000000                 3       0  \n",
       "184         10000000       10000000                 4       0  \n",
       "386         13000000       13000000                 3       0  \n",
       "...              ...            ...               ...     ...  \n",
       "10709          75000          75000                 2       1  \n",
       "10714         150000         150000                 3       0  \n",
       "10720         350000         350000                 4       1  \n",
       "10725          75000          75000                 4       0  \n",
       "10753          25000          25000                 4       0  \n",
       "\n",
       "[329 rows x 22 columns]"
      ]
     },
     "execution_count": 111,
     "metadata": {},
     "output_type": "execute_result"
    }
   ],
   "source": [
    "age = df[df['age']<= 18 ]\n",
    "age"
   ]
  },
  {
   "cell_type": "code",
   "execution_count": 48,
   "id": "7dbadab0-5463-4c24-86bc-3d11401563fb",
   "metadata": {},
   "outputs": [
    {
     "data": {
      "image/png": "[encoded data removed]",
      "text/plain": [
       "<Figure size 640x480 with 1 Axes>"
      ]
     },
     "metadata": {},
     "output_type": "display_data"
    }
   ],
   "source": [
    "sns.histplot(df['age'], bins=10)\n",
    "plt.xlabel('Age')\n",
    "plt.ylabel('Frequency')\n",
    "plt.show()"
   ]
  },
  {
   "cell_type": "code",
   "execution_count": 51,
   "id": "fb828bd6-fab2-4f61-b64f-2acab0fdb9ac",
   "metadata": {},
   "outputs": [
    {
     "data": {
      "image/png": "[encoded data removed]",
      "text/plain": [
       "<Figure size 640x480 with 1 Axes>"
      ]
     },
     "metadata": {},
     "output_type": "display_data"
    }
   ],
   "source": [
    "sns.histplot(df['appearance'], bins=20)\n",
    "plt.xlabel('Appearances')\n",
    "plt.ylabel('Frequency')\n",
    "plt.show()\n",
    "\n"
   ]
  },
  {
   "cell_type": "code",
   "execution_count": 130,
   "id": "ecb85975-7e80-4e8e-8255-8bea15b7c2b5",
   "metadata": {},
   "outputs": [],
   "source": [
    "df = df.drop(columns= ['player', 'name'])"
   ]
  },
  {
   "cell_type": "code",
   "execution_count": 131,
   "id": "e7b9e859-d2d4-4587-89bd-c67f8b97438b",
   "metadata": {},
   "outputs": [
    {
     "data": {
      "text/html": [
       "<div>\n",
       "<style scoped>\n",
       "    .dataframe tbody tr th:only-of-type {\n",
       "        vertical-align: middle;\n",
       "    }\n",
       "\n",
       "    .dataframe tbody tr th {\n",
       "        vertical-align: top;\n",
       "    }\n",
       "\n",
       "    .dataframe thead th {\n",
       "        text-align: right;\n",
       "    }\n",
       "</style>\n",
       "<table border=\"1\" class=\"dataframe\">\n",
       "  <thead>\n",
       "    <tr style=\"text-align: right;\">\n",
       "      <th></th>\n",
       "      <th>team</th>\n",
       "      <th>position</th>\n",
       "      <th>height</th>\n",
       "      <th>age</th>\n",
       "      <th>appearance</th>\n",
       "      <th>goals</th>\n",
       "      <th>assists</th>\n",
       "      <th>yellow cards</th>\n",
       "      <th>second yellow cards</th>\n",
       "      <th>red cards</th>\n",
       "      <th>goals conceded</th>\n",
       "      <th>clean sheets</th>\n",
       "      <th>minutes played</th>\n",
       "      <th>days_injured</th>\n",
       "      <th>games_injured</th>\n",
       "      <th>award</th>\n",
       "      <th>current_value</th>\n",
       "      <th>highest_value</th>\n",
       "      <th>position_encoded</th>\n",
       "      <th>winger</th>\n",
       "    </tr>\n",
       "  </thead>\n",
       "  <tbody>\n",
       "    <tr>\n",
       "      <th>0</th>\n",
       "      <td>Manchester United</td>\n",
       "      <td>Goalkeeper</td>\n",
       "      <td>189.0</td>\n",
       "      <td>32.0</td>\n",
       "      <td>104</td>\n",
       "      <td>0.0</td>\n",
       "      <td>0.0</td>\n",
       "      <td>0.009585</td>\n",
       "      <td>0.0</td>\n",
       "      <td>0.0</td>\n",
       "      <td>1.217252</td>\n",
       "      <td>0.335463</td>\n",
       "      <td>9390</td>\n",
       "      <td>42</td>\n",
       "      <td>5</td>\n",
       "      <td>13</td>\n",
       "      <td>15000000</td>\n",
       "      <td>70000000</td>\n",
       "      <td>1</td>\n",
       "      <td>0</td>\n",
       "    </tr>\n",
       "    <tr>\n",
       "      <th>1</th>\n",
       "      <td>Manchester United</td>\n",
       "      <td>Goalkeeper</td>\n",
       "      <td>196.0</td>\n",
       "      <td>30.0</td>\n",
       "      <td>15</td>\n",
       "      <td>0.0</td>\n",
       "      <td>0.0</td>\n",
       "      <td>0.069018</td>\n",
       "      <td>0.0</td>\n",
       "      <td>0.0</td>\n",
       "      <td>1.242331</td>\n",
       "      <td>0.207055</td>\n",
       "      <td>1304</td>\n",
       "      <td>510</td>\n",
       "      <td>58</td>\n",
       "      <td>1</td>\n",
       "      <td>1500000</td>\n",
       "      <td>22000000</td>\n",
       "      <td>1</td>\n",
       "      <td>0</td>\n",
       "    </tr>\n",
       "  </tbody>\n",
       "</table>\n",
       "</div>"
      ],
      "text/plain": [
       "                team    position  height   age  appearance  goals  assists  \\\n",
       "0  Manchester United  Goalkeeper   189.0  32.0         104    0.0      0.0   \n",
       "1  Manchester United  Goalkeeper   196.0  30.0          15    0.0      0.0   \n",
       "\n",
       "   yellow cards  second yellow cards  red cards  goals conceded  clean sheets  \\\n",
       "0      0.009585                  0.0        0.0        1.217252      0.335463   \n",
       "1      0.069018                  0.0        0.0        1.242331      0.207055   \n",
       "\n",
       "   minutes played  days_injured  games_injured  award  current_value  \\\n",
       "0            9390            42              5     13       15000000   \n",
       "1            1304           510             58      1        1500000   \n",
       "\n",
       "   highest_value  position_encoded  winger  \n",
       "0       70000000                 1       0  \n",
       "1       22000000                 1       0  "
      ]
     },
     "execution_count": 131,
     "metadata": {},
     "output_type": "execute_result"
    }
   ],
   "source": [
    "df.head(2)"
   ]
  },
  {
   "cell_type": "code",
   "execution_count": null,
   "id": "daf039c5-548a-4613-b65b-78ee0f2ff3b9",
   "metadata": {},
   "outputs": [],
   "source": []
  },
  {
   "cell_type": "code",
   "execution_count": 132,
   "id": "f209973a-53aa-4341-92e2-a8c416e8dc24",
   "metadata": {},
   "outputs": [
    {
     "data": {
      "image/png": "[encoded data removed]",
      "text/plain": [
       "<Figure size 640x480 with 2 Axes>"
      ]
     },
     "metadata": {},
     "output_type": "display_data"
    }
   ],
   "source": [
    "matrix = df.corr(numeric_only=True)\n",
    "plt.imshow(matrix, cmap='coolwarm')\n",
    "plt.colorbar()\n",
    "\n",
    "variables = matrix.columns.tolist()\n",
    "plt.xticks(range(len(matrix)), variables, rotation=45, ha='right')\n",
    "plt.yticks(range(len(matrix)), variables)\n",
    "plt.show()"
   ]
  },
  {
   "cell_type": "code",
   "execution_count": null,
   "id": "ce67502a-0601-4362-a4ae-48c958e5da6b",
   "metadata": {},
   "outputs": [],
   "source": []
  },
  {
   "cell_type": "code",
   "execution_count": 117,
   "id": "c69b303a-5459-45f9-a28e-fcee45c21c05",
   "metadata": {},
   "outputs": [
    {
     "data": {
      "text/plain": [
       "pandas.core.frame.DataFrame"
      ]
     },
     "execution_count": 117,
     "metadata": {},
     "output_type": "execute_result"
    }
   ],
   "source": [
    "# check outliers \n",
    "type(df)"
   ]
  },
  {
   "cell_type": "markdown",
   "id": "4aca9d42-add6-45db-92cf-1f6dae5f277b",
   "metadata": {},
   "source": [
    "**What is an Outlier?** \n",
    "Outlier is an row/observation that appears far away and diverges from an overall pattern in a sample.\n",
    "\n",
    "**What are the types of Outliers?**\n",
    "1. Univariate: These outliers can be found when we look at distribution of a single variable\n",
    "2. Multivariate: are outliers in an n-dimensional space. In order to find them, you have to look at distributions in multi-dimensions. example (hight=100, weight=100) for a person\n",
    "\n",
    "**What causes Outliers?**\n",
    "Whenever we come across outliers, the ideal way to tackle them is to find out the reason of having these outliers. The method to deal with them would then depend on the reason of their occurrence.\n",
    "\n",
    "Let’s understand various types of outliers:\n",
    "\n",
    "1. Data Entry Errors:- Human errors such as errors caused during data collection, recording, or entry can cause outliers in data.\n",
    "2. Measurement Error: It is the most common source of outliers. This is caused when the measurement instrument used turns out to be faulty.\n",
    "3. Data Processing Error: Whenever we perform data mining, we extract data from multiple sources. It is possible that some manipulation or extraction errors may lead to outliers in the dataset.\n",
    "4. Sampling error: For instance, we have to measure the height of athletes. By mistake, we include a few basketball players in the sample. This inclusion is likely to cause outliers in the dataset.\n",
    "5. Natural Outlier: When an outlier is not artificial (due to error), it is a natural outlier. For instance: In my last assignment with one of the renowned insurance company, I noticed that the performance of top 50 financial advisors was far higher than rest of the population. Surprisingly, it was not due to any error. Hence, whenever we perform any data mining activity with advisors, we used to treat this segment separately.\n",
    "\n",
    "\n",
    "**What is the impact of Outliers on a dataset?**\n",
    "\n",
    "\n",
    "![image.png](https://www.analyticsvidhya.com/wp-content/uploads/2015/02/Outlier_31.png)\n",
    "\n",
    "\n",
    "\n",
    "**How to detect Outliers?**\n",
    "\n",
    "1. Most commonly used method to detect outliers is visualization (Univariate Graphical Analysis).\n",
    "\n",
    "We use 3 common visualization methods:\n",
    ">- Box-plot: A box plot is a method for graphically depicting groups of numerical data through their quartiles. The box extends from the Q1 to Q3 quartile values of the data, with a line at the median (Q2). The whiskers extend from the edges of the box to show the range of the data. Outlier points are those past the end of the whiskers. Box plots show robust measures of location and spread as well as providing information about symmetry and outliers.\n",
    ">\n",
    ">  \n",
    ">![image.png](https://miro.medium.com/v2/resize:fit:698/format:webp/1*VK5iHA2AB28HSZwWwUbNYg.png)\n",
    ">\n",
    ">\n",
    ">- Histogram\n",
    ">- Scatter Plot: A scatter plot is a mathematical diagram using Cartesian coordinates to display values for two variables for a set of data. The data are displayed as a collection of points, each having the value of one variable determining the position on the horizontal axis and the value of the other variable determining the position on the vertical axis. The points that are far from the population can be termed as an outlier.\n",
    ">\n",
    ">  \n",
    ">![image.png](https://miro.medium.com/v2/resize:fit:4800/format:webp/1*Ov6aH-8yIwNoUxtMFwgx4g.png)\n",
    ">\n",
    ">\n",
    "\n",
    "2. Using statistical method (Univariate Non-Graphical analysis):\n",
    ">- Any value, which is beyond the range of -1.5 x IQR to 1.5 x IQR\n",
    " \n",
    "![image.png](https://www.whatissixsigma.net/wp-content/uploads/2015/07/Box-Plot-Diagram-to-identify-Outliers-figure-1.png)\n",
    "\n",
    ">- Use capping methods. Any value which out of range of 5th and 95th percentile can be considered as outlier\n",
    ">- Data points, three or more standard deviation away from mean are considered outlier: The Z-score is the signed number of standard deviations by which the value of an observation or data point is above the mean value of what is being observed or measured. While calculating the Z-score we re-scale and center the data and look for data points that are too far from zero. These data points which are way too far from zero will be treated as the outliers. In most of the cases, a threshold of 3 or -3 is used i.e if the Z-score value is greater than or less than 3 or -3 respectively, that data point will be identified as outliers.\n",
    "> - Outlier detection is merely a special case of the examination of data for influential data points and it also depends on the business understanding\n"
   ]
  },
  {
   "cell_type": "code",
   "execution_count": 23,
   "id": "74ea6194-cc01-45d8-be38-c4543eb1714e",
   "metadata": {},
   "outputs": [],
   "source": [
    "# go to univariate graphical analysis\n",
    "# go to lesson : data visualisation 1 - chart type section\n",
    "# then go to univariate graphical analysis\n",
    "# detect outliers using graphs varbaly"
   ]
  },
  {
   "cell_type": "code",
   "execution_count": 24,
   "id": "48ecf77b-480c-4f64-9485-95be805bc357",
   "metadata": {},
   "outputs": [],
   "source": [
    "# go to lesson: statistics 1 then statistics 3\n",
    "# then go to univariate Non graphical analysis\n",
    "# detect outliers using numerical statistics "
   ]
  },
  {
   "cell_type": "code",
   "execution_count": null,
   "id": "ee200da8-62b0-492d-b118-f4d665a1fb16",
   "metadata": {},
   "outputs": [],
   "source": []
  },
  {
   "cell_type": "code",
   "execution_count": 25,
   "id": "4e66d611-6958-4860-8522-9ada7fce40b0",
   "metadata": {},
   "outputs": [],
   "source": [
    "# go to delete ouliers"
   ]
  },
  {
   "attachments": {},
   "cell_type": "markdown",
   "id": "4e886ec7-388c-414b-ada7-803c2fb1f2cb",
   "metadata": {},
   "source": [
    "## 2. Data Cleaning: \n",
    "\n",
    "Preliminary findings from data profiling can lead to cleaning the data by:\n",
    "- Handling missing values\n",
    "- Correcting errors.\n",
    "- Dealing with outliers.\n",
    "\n",
    "-------------------\n",
    "\n"
   ]
  },
  {
   "cell_type": "code",
   "execution_count": null,
   "id": "57e741fb-71c1-46ad-a526-d8f0b1564dc3",
   "metadata": {},
   "outputs": [],
   "source": []
  },
  {
   "cell_type": "code",
   "execution_count": 80,
   "id": "01287962-8077-4c01-8d1d-5f8aed6cb37a",
   "metadata": {},
   "outputs": [],
   "source": [
    "# go back to 6th dimention --> Completeness"
   ]
  },
  {
   "cell_type": "markdown",
   "id": "5ecc7dbb-6867-44cf-8f99-1b969a80be40",
   "metadata": {},
   "source": [
    "### Dealing with outliers:"
   ]
  },
  {
   "attachments": {},
   "cell_type": "markdown",
   "id": "88347887-4bdf-48af-9486-cb8fe80c97af",
   "metadata": {},
   "source": [
    "**How to remove Outliers?**\n",
    "Most of the ways to deal with outliers are similar to the methods of missing values like deleting rows, transforming them, binning them, treat them as a separate group, imputing values and other statistical methods. Here, we will discuss the common techniques used to deal with outliers:\n",
    "\n",
    "1. Deleting rows: We delete outlier values if it is due to data entry error, data processing error or outlier rows are very small in numbers. We can also use trimming at both ends to remove outliers.\n",
    "\n",
    "2. Imputing: Like imputation of missing values, we can also impute outliers. We can use mean, median, mode imputation methods. Before imputing values, we should analyse if it is natural outlier or artificial. If it is artificial, we can go with imputing values. We can also use statistical model to predict values of outlier rows and after that we can impute it with predicted values.\n",
    "\n",
    "3. Treat separately: If there are significant number of outliers, we should treat them separately in the statistical model. One of the approach is to treat both groups as two different groups and build individual model for both groups and then combine the output.\n"
   ]
  },
  {
   "cell_type": "markdown",
   "id": "53105e27-c929-49b2-831f-6fa5be28d28e",
   "metadata": {},
   "source": [
    "## Buliding the Model"
   ]
  },
  {
   "cell_type": "code",
   "execution_count": 135,
   "id": "f82517ee-1232-4c12-9bff-44285ed31816",
   "metadata": {},
   "outputs": [],
   "source": [
    "X = df.drop(columns=['current_value'])\n",
    "y = df['current_value']\n",
    "\n",
    "X = pd.get_dummies(X, drop_first=True)\n",
    "\n",
    "X_train, X_test, y_train, y_test = train_test_split(X, y, test_size=0.2, random_state=42)"
   ]
  },
  {
   "cell_type": "code",
   "execution_count": 136,
   "id": "d51d4d9e-a13a-48df-8f52-087e64b34a72",
   "metadata": {},
   "outputs": [],
   "source": [
    "linear_model = LinearRegression()\n",
    "linear_model.fit(X_train, y_train)\n",
    "\n",
    "linear_predictions = linear_model.predict(X_test)\n",
    "\n",
    "linear_mse = mean_squared_error(y_test, linear_predictions)"
   ]
  },
  {
   "cell_type": "code",
   "execution_count": null,
   "id": "1f8ca4ce-aaae-4afb-aec6-48b01a18fb08",
   "metadata": {},
   "outputs": [],
   "source": []
  },
  {
   "cell_type": "code",
   "execution_count": 137,
   "id": "816a8b00-7441-4e4e-bf58-908d110ba1e7",
   "metadata": {},
   "outputs": [
    {
     "name": "stdout",
     "output_type": "stream",
     "text": [
      "Fitting 5 folds for each of 8 candidates, totalling 40 fits\n"
     ]
    },
    {
     "name": "stderr",
     "output_type": "stream",
     "text": [
      "C:\\Users\\saalf\\anaconda3\\Lib\\site-packages\\sklearn\\linear_model\\_ridge.py:204: LinAlgWarning: Ill-conditioned matrix (rcond=1.94069e-31): result may not be accurate.\n",
      "  return linalg.solve(A, Xy, assume_a=\"pos\", overwrite_a=True).T\n",
      "C:\\Users\\saalf\\anaconda3\\Lib\\site-packages\\sklearn\\linear_model\\_ridge.py:204: LinAlgWarning: Ill-conditioned matrix (rcond=1.68081e-25): result may not be accurate.\n",
      "  return linalg.solve(A, Xy, assume_a=\"pos\", overwrite_a=True).T\n",
      "C:\\Users\\saalf\\anaconda3\\Lib\\site-packages\\sklearn\\linear_model\\_ridge.py:204: LinAlgWarning: Ill-conditioned matrix (rcond=1.64742e-25): result may not be accurate.\n",
      "  return linalg.solve(A, Xy, assume_a=\"pos\", overwrite_a=True).T\n",
      "C:\\Users\\saalf\\anaconda3\\Lib\\site-packages\\sklearn\\linear_model\\_ridge.py:204: LinAlgWarning: Ill-conditioned matrix (rcond=1.56139e-25): result may not be accurate.\n",
      "  return linalg.solve(A, Xy, assume_a=\"pos\", overwrite_a=True).T\n",
      "C:\\Users\\saalf\\anaconda3\\Lib\\site-packages\\sklearn\\linear_model\\_ridge.py:204: LinAlgWarning: Ill-conditioned matrix (rcond=1.60172e-25): result may not be accurate.\n",
      "  return linalg.solve(A, Xy, assume_a=\"pos\", overwrite_a=True).T\n",
      "C:\\Users\\saalf\\anaconda3\\Lib\\site-packages\\sklearn\\linear_model\\_ridge.py:204: LinAlgWarning: Ill-conditioned matrix (rcond=1.60968e-25): result may not be accurate.\n",
      "  return linalg.solve(A, Xy, assume_a=\"pos\", overwrite_a=True).T\n",
      "C:\\Users\\saalf\\anaconda3\\Lib\\site-packages\\sklearn\\linear_model\\_ridge.py:204: LinAlgWarning: Ill-conditioned matrix (rcond=1.12053e-22): result may not be accurate.\n",
      "  return linalg.solve(A, Xy, assume_a=\"pos\", overwrite_a=True).T\n",
      "C:\\Users\\saalf\\anaconda3\\Lib\\site-packages\\sklearn\\linear_model\\_ridge.py:204: LinAlgWarning: Ill-conditioned matrix (rcond=1.09827e-22): result may not be accurate.\n",
      "  return linalg.solve(A, Xy, assume_a=\"pos\", overwrite_a=True).T\n",
      "C:\\Users\\saalf\\anaconda3\\Lib\\site-packages\\sklearn\\linear_model\\_ridge.py:204: LinAlgWarning: Ill-conditioned matrix (rcond=1.04092e-22): result may not be accurate.\n",
      "  return linalg.solve(A, Xy, assume_a=\"pos\", overwrite_a=True).T\n",
      "C:\\Users\\saalf\\anaconda3\\Lib\\site-packages\\sklearn\\linear_model\\_ridge.py:204: LinAlgWarning: Ill-conditioned matrix (rcond=1.06781e-22): result may not be accurate.\n",
      "  return linalg.solve(A, Xy, assume_a=\"pos\", overwrite_a=True).T\n",
      "C:\\Users\\saalf\\anaconda3\\Lib\\site-packages\\sklearn\\linear_model\\_ridge.py:204: LinAlgWarning: Ill-conditioned matrix (rcond=1.07311e-22): result may not be accurate.\n",
      "  return linalg.solve(A, Xy, assume_a=\"pos\", overwrite_a=True).T\n",
      "C:\\Users\\saalf\\anaconda3\\Lib\\site-packages\\sklearn\\linear_model\\_ridge.py:204: LinAlgWarning: Ill-conditioned matrix (rcond=5.60247e-22): result may not be accurate.\n",
      "  return linalg.solve(A, Xy, assume_a=\"pos\", overwrite_a=True).T\n",
      "C:\\Users\\saalf\\anaconda3\\Lib\\site-packages\\sklearn\\linear_model\\_ridge.py:204: LinAlgWarning: Ill-conditioned matrix (rcond=5.49122e-22): result may not be accurate.\n",
      "  return linalg.solve(A, Xy, assume_a=\"pos\", overwrite_a=True).T\n",
      "C:\\Users\\saalf\\anaconda3\\Lib\\site-packages\\sklearn\\linear_model\\_ridge.py:204: LinAlgWarning: Ill-conditioned matrix (rcond=5.20444e-22): result may not be accurate.\n",
      "  return linalg.solve(A, Xy, assume_a=\"pos\", overwrite_a=True).T\n",
      "C:\\Users\\saalf\\anaconda3\\Lib\\site-packages\\sklearn\\linear_model\\_ridge.py:204: LinAlgWarning: Ill-conditioned matrix (rcond=5.33887e-22): result may not be accurate.\n",
      "  return linalg.solve(A, Xy, assume_a=\"pos\", overwrite_a=True).T\n",
      "C:\\Users\\saalf\\anaconda3\\Lib\\site-packages\\sklearn\\linear_model\\_ridge.py:204: LinAlgWarning: Ill-conditioned matrix (rcond=5.36541e-22): result may not be accurate.\n",
      "  return linalg.solve(A, Xy, assume_a=\"pos\", overwrite_a=True).T\n",
      "C:\\Users\\saalf\\anaconda3\\Lib\\site-packages\\sklearn\\linear_model\\_ridge.py:204: LinAlgWarning: Ill-conditioned matrix (rcond=5.60048e-21): result may not be accurate.\n",
      "  return linalg.solve(A, Xy, assume_a=\"pos\", overwrite_a=True).T\n",
      "C:\\Users\\saalf\\anaconda3\\Lib\\site-packages\\sklearn\\linear_model\\_ridge.py:204: LinAlgWarning: Ill-conditioned matrix (rcond=5.4896e-21): result may not be accurate.\n",
      "  return linalg.solve(A, Xy, assume_a=\"pos\", overwrite_a=True).T\n",
      "C:\\Users\\saalf\\anaconda3\\Lib\\site-packages\\sklearn\\linear_model\\_ridge.py:204: LinAlgWarning: Ill-conditioned matrix (rcond=5.20281e-21): result may not be accurate.\n",
      "  return linalg.solve(A, Xy, assume_a=\"pos\", overwrite_a=True).T\n",
      "C:\\Users\\saalf\\anaconda3\\Lib\\site-packages\\sklearn\\linear_model\\_ridge.py:204: LinAlgWarning: Ill-conditioned matrix (rcond=5.33711e-21): result may not be accurate.\n",
      "  return linalg.solve(A, Xy, assume_a=\"pos\", overwrite_a=True).T\n",
      "C:\\Users\\saalf\\anaconda3\\Lib\\site-packages\\sklearn\\linear_model\\_ridge.py:204: LinAlgWarning: Ill-conditioned matrix (rcond=5.36383e-21): result may not be accurate.\n",
      "  return linalg.solve(A, Xy, assume_a=\"pos\", overwrite_a=True).T\n",
      "C:\\Users\\saalf\\anaconda3\\Lib\\site-packages\\sklearn\\linear_model\\_ridge.py:204: LinAlgWarning: Ill-conditioned matrix (rcond=2.75395e-19): result may not be accurate.\n",
      "  return linalg.solve(A, Xy, assume_a=\"pos\", overwrite_a=True).T\n",
      "C:\\Users\\saalf\\anaconda3\\Lib\\site-packages\\sklearn\\linear_model\\_ridge.py:204: LinAlgWarning: Ill-conditioned matrix (rcond=2.70614e-19): result may not be accurate.\n",
      "  return linalg.solve(A, Xy, assume_a=\"pos\", overwrite_a=True).T\n",
      "C:\\Users\\saalf\\anaconda3\\Lib\\site-packages\\sklearn\\linear_model\\_ridge.py:204: LinAlgWarning: Ill-conditioned matrix (rcond=2.56152e-19): result may not be accurate.\n",
      "  return linalg.solve(A, Xy, assume_a=\"pos\", overwrite_a=True).T\n",
      "C:\\Users\\saalf\\anaconda3\\Lib\\site-packages\\sklearn\\linear_model\\_ridge.py:204: LinAlgWarning: Ill-conditioned matrix (rcond=2.62456e-19): result may not be accurate.\n",
      "  return linalg.solve(A, Xy, assume_a=\"pos\", overwrite_a=True).T\n",
      "C:\\Users\\saalf\\anaconda3\\Lib\\site-packages\\sklearn\\linear_model\\_ridge.py:204: LinAlgWarning: Ill-conditioned matrix (rcond=2.6424e-19): result may not be accurate.\n",
      "  return linalg.solve(A, Xy, assume_a=\"pos\", overwrite_a=True).T\n",
      "C:\\Users\\saalf\\anaconda3\\Lib\\site-packages\\sklearn\\linear_model\\_ridge.py:204: LinAlgWarning: Ill-conditioned matrix (rcond=5.42849e-19): result may not be accurate.\n",
      "  return linalg.solve(A, Xy, assume_a=\"pos\", overwrite_a=True).T\n",
      "C:\\Users\\saalf\\anaconda3\\Lib\\site-packages\\sklearn\\linear_model\\_ridge.py:204: LinAlgWarning: Ill-conditioned matrix (rcond=5.34408e-19): result may not be accurate.\n",
      "  return linalg.solve(A, Xy, assume_a=\"pos\", overwrite_a=True).T\n",
      "C:\\Users\\saalf\\anaconda3\\Lib\\site-packages\\sklearn\\linear_model\\_ridge.py:204: LinAlgWarning: Ill-conditioned matrix (rcond=5.05318e-19): result may not be accurate.\n",
      "  return linalg.solve(A, Xy, assume_a=\"pos\", overwrite_a=True).T\n",
      "C:\\Users\\saalf\\anaconda3\\Lib\\site-packages\\sklearn\\linear_model\\_ridge.py:204: LinAlgWarning: Ill-conditioned matrix (rcond=5.17252e-19): result may not be accurate.\n",
      "  return linalg.solve(A, Xy, assume_a=\"pos\", overwrite_a=True).T\n",
      "C:\\Users\\saalf\\anaconda3\\Lib\\site-packages\\sklearn\\linear_model\\_ridge.py:204: LinAlgWarning: Ill-conditioned matrix (rcond=5.2161e-19): result may not be accurate.\n",
      "  return linalg.solve(A, Xy, assume_a=\"pos\", overwrite_a=True).T\n",
      "C:\\Users\\saalf\\anaconda3\\Lib\\site-packages\\sklearn\\linear_model\\_ridge.py:204: LinAlgWarning: Ill-conditioned matrix (rcond=2.52744e-18): result may not be accurate.\n",
      "  return linalg.solve(A, Xy, assume_a=\"pos\", overwrite_a=True).T\n",
      "C:\\Users\\saalf\\anaconda3\\Lib\\site-packages\\sklearn\\linear_model\\_ridge.py:204: LinAlgWarning: Ill-conditioned matrix (rcond=2.50335e-18): result may not be accurate.\n",
      "  return linalg.solve(A, Xy, assume_a=\"pos\", overwrite_a=True).T\n",
      "C:\\Users\\saalf\\anaconda3\\Lib\\site-packages\\sklearn\\linear_model\\_ridge.py:204: LinAlgWarning: Ill-conditioned matrix (rcond=2.35526e-18): result may not be accurate.\n",
      "  return linalg.solve(A, Xy, assume_a=\"pos\", overwrite_a=True).T\n",
      "C:\\Users\\saalf\\anaconda3\\Lib\\site-packages\\sklearn\\linear_model\\_ridge.py:204: LinAlgWarning: Ill-conditioned matrix (rcond=2.40196e-18): result may not be accurate.\n",
      "  return linalg.solve(A, Xy, assume_a=\"pos\", overwrite_a=True).T\n",
      "C:\\Users\\saalf\\anaconda3\\Lib\\site-packages\\sklearn\\linear_model\\_ridge.py:204: LinAlgWarning: Ill-conditioned matrix (rcond=2.43006e-18): result may not be accurate.\n",
      "  return linalg.solve(A, Xy, assume_a=\"pos\", overwrite_a=True).T\n",
      "C:\\Users\\saalf\\anaconda3\\Lib\\site-packages\\sklearn\\linear_model\\_ridge.py:204: LinAlgWarning: Ill-conditioned matrix (rcond=2.00911e-18): result may not be accurate.\n",
      "  return linalg.solve(A, Xy, assume_a=\"pos\", overwrite_a=True).T\n"
     ]
    }
   ],
   "source": [
    "ridge_model = Ridge()\n",
    "param_grid = {'alpha': [0, 0.0000003, 0.0002, 0.001, 0.01, 0.5, 1, 5]}\n",
    "\n",
    "grid_search_ridge = GridSearchCV(estimator=ridge_model, param_grid=param_grid, cv=5, scoring='neg_mean_squared_error', verbose=1)\n",
    "grid_search_ridge.fit(X_train, y_train)\n",
    "\n",
    "ridge_best_alpha = grid_search_ridge.best_params_['alpha']\n",
    "ridge_best_model = grid_search_ridge.best_estimator_\n",
    "\n",
    "ridge_predictions = ridge_best_model.predict(X_test)\n",
    "\n",
    "ridge_mse = mean_squared_error(y_test, ridge_predictions)"
   ]
  },
  {
   "cell_type": "code",
   "execution_count": null,
   "id": "65f5f3d5-59f4-47d8-beaf-e0fe564e07cf",
   "metadata": {},
   "outputs": [],
   "source": [
    "lasso_model = Lasso()\n",
    "\n",
    "grid_search_lasso = GridSearchCV(estimator=lasso_model, param_grid=param_grid, cv=5, scoring='neg_mean_squared_error', verbose=1)\n",
    "grid_search_lasso.fit(X_train, y_train)\n",
    "\n",
    "lasso_best_alpha = grid_search_lasso.best_params_['alpha']\n",
    "lasso_best_model = grid_search_lasso.best_estimator_\n",
    "\n",
    "lasso_predictions = lasso_best_model.predict(X_test)\n",
    "\n",
    "lasso_mse = mean_squared_error(y_test, lasso_predictions)"
   ]
  },
  {
   "cell_type": "code",
   "execution_count": null,
   "id": "4455d13c-576d-47b8-a273-eaef37fdac34",
   "metadata": {},
   "outputs": [],
   "source": [
    "\n",
    "print(\"Linear Regression MSE:\", linear_mse)\n",
    "print(\"Best Ridge alpha:\", ridge_best_alpha, \"with MSE:\", ridge_mse)\n",
    "print(\"Best Lasso alpha:\", lasso_best_alpha, \"with MSE:\", lasso_mse)"
   ]
  },
  {
   "cell_type": "markdown",
   "id": "eae5f379-8910-423e-ba04-0e8fa65f2d17",
   "metadata": {
    "jp-MarkdownHeadingCollapsed": true
   },
   "source": [
    "## Train the Model"
   ]
  },
  {
   "cell_type": "code",
   "execution_count": null,
   "id": "76c40a2d-e7ff-4e62-9cde-f7e9f6d77fb1",
   "metadata": {},
   "outputs": [
    {
     "name": "stderr",
     "output_type": "stream",
     "text": [
      "C:\\Users\\saalf\\anaconda3\\Lib\\site-packages\\sklearn\\linear_model\\_coordinate_descent.py:678: ConvergenceWarning: Objective did not converge. You might want to increase the number of iterations, check the scale of the features or consider increasing regularisation. Duality gap: 5.817e+16, tolerance: 5.793e+13\n",
      "  model = cd_fast.enet_coordinate_descent(\n",
      "C:\\Users\\saalf\\anaconda3\\Lib\\site-packages\\sklearn\\linear_model\\_coordinate_descent.py:678: ConvergenceWarning: Objective did not converge. You might want to increase the number of iterations, check the scale of the features or consider increasing regularisation. Duality gap: 5.894e+16, tolerance: 5.522e+13\n",
      "  model = cd_fast.enet_coordinate_descent(\n",
      "C:\\Users\\saalf\\anaconda3\\Lib\\site-packages\\sklearn\\linear_model\\_coordinate_descent.py:678: ConvergenceWarning: Objective did not converge. You might want to increase the number of iterations, check the scale of the features or consider increasing regularisation. Duality gap: 5.652e+16, tolerance: 5.512e+13\n",
      "  model = cd_fast.enet_coordinate_descent(\n",
      "C:\\Users\\saalf\\anaconda3\\Lib\\site-packages\\sklearn\\linear_model\\_coordinate_descent.py:678: ConvergenceWarning: Objective did not converge. You might want to increase the number of iterations, check the scale of the features or consider increasing regularisation. Duality gap: 5.781e+16, tolerance: 5.175e+13\n",
      "  model = cd_fast.enet_coordinate_descent(\n",
      "C:\\Users\\saalf\\anaconda3\\Lib\\site-packages\\sklearn\\linear_model\\_coordinate_descent.py:678: ConvergenceWarning: Objective did not converge. You might want to increase the number of iterations, check the scale of the features or consider increasing regularisation. Duality gap: 6.385e+16, tolerance: 5.798e+13\n",
      "  model = cd_fast.enet_coordinate_descent(\n",
      "C:\\Users\\saalf\\anaconda3\\Lib\\site-packages\\sklearn\\linear_model\\_coordinate_descent.py:678: ConvergenceWarning: Objective did not converge. You might want to increase the number of iterations, check the scale of the features or consider increasing regularisation. Duality gap: 5.817e+16, tolerance: 5.793e+13\n",
      "  model = cd_fast.enet_coordinate_descent(\n",
      "C:\\Users\\saalf\\anaconda3\\Lib\\site-packages\\sklearn\\linear_model\\_coordinate_descent.py:678: ConvergenceWarning: Objective did not converge. You might want to increase the number of iterations, check the scale of the features or consider increasing regularisation. Duality gap: 5.894e+16, tolerance: 5.522e+13\n",
      "  model = cd_fast.enet_coordinate_descent(\n",
      "C:\\Users\\saalf\\anaconda3\\Lib\\site-packages\\sklearn\\linear_model\\_coordinate_descent.py:678: ConvergenceWarning: Objective did not converge. You might want to increase the number of iterations, check the scale of the features or consider increasing regularisation. Duality gap: 5.652e+16, tolerance: 5.512e+13\n",
      "  model = cd_fast.enet_coordinate_descent(\n",
      "C:\\Users\\saalf\\anaconda3\\Lib\\site-packages\\sklearn\\linear_model\\_coordinate_descent.py:678: ConvergenceWarning: Objective did not converge. You might want to increase the number of iterations, check the scale of the features or consider increasing regularisation. Duality gap: 5.781e+16, tolerance: 5.175e+13\n",
      "  model = cd_fast.enet_coordinate_descent(\n",
      "C:\\Users\\saalf\\anaconda3\\Lib\\site-packages\\sklearn\\linear_model\\_coordinate_descent.py:678: ConvergenceWarning: Objective did not converge. You might want to increase the number of iterations, check the scale of the features or consider increasing regularisation. Duality gap: 6.385e+16, tolerance: 5.798e+13\n",
      "  model = cd_fast.enet_coordinate_descent(\n",
      "C:\\Users\\saalf\\anaconda3\\Lib\\site-packages\\sklearn\\linear_model\\_coordinate_descent.py:678: ConvergenceWarning: Objective did not converge. You might want to increase the number of iterations, check the scale of the features or consider increasing regularisation. Duality gap: 5.817e+16, tolerance: 5.793e+13\n",
      "  model = cd_fast.enet_coordinate_descent(\n",
      "C:\\Users\\saalf\\anaconda3\\Lib\\site-packages\\sklearn\\linear_model\\_coordinate_descent.py:678: ConvergenceWarning: Objective did not converge. You might want to increase the number of iterations, check the scale of the features or consider increasing regularisation. Duality gap: 5.894e+16, tolerance: 5.522e+13\n",
      "  model = cd_fast.enet_coordinate_descent(\n",
      "C:\\Users\\saalf\\anaconda3\\Lib\\site-packages\\sklearn\\linear_model\\_coordinate_descent.py:678: ConvergenceWarning: Objective did not converge. You might want to increase the number of iterations, check the scale of the features or consider increasing regularisation. Duality gap: 5.652e+16, tolerance: 5.512e+13\n",
      "  model = cd_fast.enet_coordinate_descent(\n",
      "C:\\Users\\saalf\\anaconda3\\Lib\\site-packages\\sklearn\\linear_model\\_coordinate_descent.py:678: ConvergenceWarning: Objective did not converge. You might want to increase the number of iterations, check the scale of the features or consider increasing regularisation. Duality gap: 5.781e+16, tolerance: 5.175e+13\n",
      "  model = cd_fast.enet_coordinate_descent(\n",
      "C:\\Users\\saalf\\anaconda3\\Lib\\site-packages\\sklearn\\linear_model\\_coordinate_descent.py:678: ConvergenceWarning: Objective did not converge. You might want to increase the number of iterations, check the scale of the features or consider increasing regularisation. Duality gap: 6.385e+16, tolerance: 5.798e+13\n",
      "  model = cd_fast.enet_coordinate_descent(\n",
      "C:\\Users\\saalf\\anaconda3\\Lib\\site-packages\\sklearn\\linear_model\\_coordinate_descent.py:678: ConvergenceWarning: Objective did not converge. You might want to increase the number of iterations, check the scale of the features or consider increasing regularisation. Duality gap: 5.817e+16, tolerance: 5.793e+13\n",
      "  model = cd_fast.enet_coordinate_descent(\n"
     ]
    }
   ],
   "source": []
  },
  {
   "cell_type": "code",
   "execution_count": null,
   "id": "29906705-5604-42aa-aaac-1d72964f75e1",
   "metadata": {},
   "outputs": [],
   "source": []
  },
  {
   "cell_type": "code",
   "execution_count": null,
   "id": "270fe04e-2327-489c-a5e6-0a2eb7708574",
   "metadata": {},
   "outputs": [],
   "source": []
  },
  {
   "cell_type": "markdown",
   "id": "058092fb-10c2-4df1-aa6f-1c9c3f4f7cbb",
   "metadata": {
    "jp-MarkdownHeadingCollapsed": true
   },
   "source": [
    "## Test the Model"
   ]
  },
  {
   "cell_type": "code",
   "execution_count": null,
   "id": "75df5f1c-49f4-4919-88c9-ef50d6007906",
   "metadata": {},
   "outputs": [],
   "source": []
  },
  {
   "cell_type": "code",
   "execution_count": null,
   "id": "28ecf3d8-7759-4b93-9178-590bb67c3063",
   "metadata": {},
   "outputs": [],
   "source": []
  },
  {
   "cell_type": "code",
   "execution_count": null,
   "id": "f8449590-8166-401b-855a-7ba6358dc100",
   "metadata": {},
   "outputs": [],
   "source": []
  },
  {
   "cell_type": "markdown",
   "id": "33d24e4f-70c6-4ac4-9f80-29d8b32446d8",
   "metadata": {
    "jp-MarkdownHeadingCollapsed": true
   },
   "source": [
    "## Interpretation of the Model"
   ]
  },
  {
   "cell_type": "code",
   "execution_count": null,
   "id": "17033b41-329b-47f4-be48-4cceefb3e324",
   "metadata": {},
   "outputs": [],
   "source": []
  },
  {
   "cell_type": "code",
   "execution_count": null,
   "id": "bfd5bf71-b194-49c1-9fc4-f6308741762e",
   "metadata": {},
   "outputs": [],
   "source": []
  },
  {
   "cell_type": "markdown",
   "id": "cb06ccdc-20e9-4e18-a9d7-654345a4672e",
   "metadata": {
    "jp-MarkdownHeadingCollapsed": true
   },
   "source": [
    "## Evaluating the Model "
   ]
  },
  {
   "cell_type": "code",
   "execution_count": null,
   "id": "0ade042a-f4df-4d26-82b4-dd584c03a718",
   "metadata": {},
   "outputs": [],
   "source": []
  }
 ],
 "metadata": {
  "kernelspec": {
   "display_name": "Python 3 (ipykernel)",
   "language": "python",
   "name": "python3"
  },
  "language_info": {
   "codemirror_mode": {
    "name": "ipython",
    "version": 3
   },
   "file_extension": ".py",
   "mimetype": "text/x-python",
   "name": "python",
   "nbconvert_exporter": "python",
   "pygments_lexer": "ipython3",
   "version": "3.12.4"
  }
 },
 "nbformat": 4,
 "nbformat_minor": 5
}
